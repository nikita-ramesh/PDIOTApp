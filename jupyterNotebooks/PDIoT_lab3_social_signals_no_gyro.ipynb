{
  "cells": [
    {
      "cell_type": "markdown",
      "metadata": {
        "id": "view-in-github",
        "colab_type": "text"
      },
      "source": [
        "<a href=\"https://colab.research.google.com/github/nikita-ramesh/PDIOTApp/blob/main/jupyterNotebooks/PDIoT_lab3_social_signals_no_gyro.ipynb\" target=\"_parent\"><img src=\"https://colab.research.google.com/assets/colab-badge.svg\" alt=\"Open In Colab\"/></a>"
      ]
    },
    {
      "cell_type": "markdown",
      "metadata": {
        "id": "Rzd9Z9OZxNvd"
      },
      "source": [
        "# **Lab 3 - Activity Recognition with Machine Learning**\n",
        "\n",
        "This notebook implements a machine learning workflow to recognize different physical activities from Respeck sensor data. The dataset includes multiple 30-second recordings of various physical activities (e.g., ascending stairs, shuffle walking, sitting-standing) stored in separate CSV files for each activity.\n",
        "\n",
        "You will then use the model you develop here and deploy it inside your Android app for live classification.\n",
        "\n",
        "In this week, you will not have access to the full dataset as of yet. However, you can complete this lab by combining the data that you and your group mates have collected in Coursework 1 as proof-of-concept first for when you eventually receive the full dataset.\n"
      ]
    },
    {
      "cell_type": "markdown",
      "metadata": {
        "id": "fXyHZD1A0X7J"
      },
      "source": [
        "# Imports"
      ]
    },
    {
      "cell_type": "code",
      "execution_count": 1,
      "metadata": {
        "id": "ZXLb6aseWnhg"
      },
      "outputs": [],
      "source": [
        "import sklearn"
      ]
    },
    {
      "cell_type": "code",
      "execution_count": 2,
      "metadata": {
        "id": "s2B8Hymdj1Sg"
      },
      "outputs": [],
      "source": [
        "# Importing libraries that will be used\n",
        "import pandas as pd\n",
        "import numpy as np\n",
        "import glob\n",
        "import os\n",
        "from sklearn.model_selection import train_test_split\n",
        "from sklearn.preprocessing import OneHotEncoder\n",
        "import tensorflow as tf\n",
        "from tensorflow.keras.models import Sequential\n",
        "from tensorflow.keras.layers import Conv1D, MaxPooling1D, Flatten, Dense, Dropout\n",
        "from sklearn.metrics import classification_report"
      ]
    },
    {
      "cell_type": "markdown",
      "metadata": {
        "id": "icbrBf1Kl6vp"
      },
      "source": [
        "# Reading Files\n",
        "Reading files from your dataset"
      ]
    },
    {
      "cell_type": "code",
      "source": [
        "from google.colab import drive\n",
        "drive.mount('/content/drive')"
      ],
      "metadata": {
        "id": "57NMFLVSZxUk",
        "outputId": "1211c714-f0f5-4ad5-9782-d5d1346939f2",
        "colab": {
          "base_uri": "https://localhost:8080/"
        }
      },
      "execution_count": 14,
      "outputs": [
        {
          "output_type": "stream",
          "name": "stdout",
          "text": [
            "Mounted at /content/drive\n"
          ]
        }
      ]
    },
    {
      "cell_type": "code",
      "execution_count": 15,
      "metadata": {
        "id": "pTsJd33Kl44J"
      },
      "outputs": [],
      "source": [
        "# Put in the path of your dataset here\n",
        "your_dataset_path = \"C:/Users/luise/OneDrive - University of Edinburgh/uni/pdiot/cw3 data/Respeck/Respiratory/\"\n",
        "your_dataset_path = \"C:/Users/luise/OneDrive - University of Edinburgh/uni/pdiot/cw3 data/Respeck all/Respiratory/\"\n",
        "your_dataset_path = \"/content/drive/My Drive/Colab Notebooks/cw3 data/Respeck all/Respiratory/\""
      ]
    },
    {
      "cell_type": "markdown",
      "metadata": {
        "id": "gOTe3o9Il4ST"
      },
      "source": [
        "This line uses the glob module to find all file paths that match a specified pattern. The 'glob.glob()' function returns a list of file paths that match the given pattern. `your_dataset_path` should be the directory where your dataset files are located.\n",
        "\n",
        "The `*` is a wildcard character that matches any string of characters,  so this pattern retrieves all folders in the 'your_dataset_path' directory.\n",
        "\n",
        "Below is just an example of what your dataset folder can look like. You should refer to the Coursework 3 instructions on what classes your model(s) are expected to be able to classify. Within your dataset directory, there should be subfolders, each representing a class of activity."
      ]
    },
    {
      "cell_type": "code",
      "execution_count": 16,
      "metadata": {
        "colab": {
          "base_uri": "https://localhost:8080/"
        },
        "id": "-4izGxKkllz6",
        "outputId": "bf0a42dc-f574-484b-ed64-bf581768c3b6"
      },
      "outputs": [
        {
          "output_type": "execute_result",
          "data": {
            "text/plain": [
              "['/content/drive/My Drive/Colab Notebooks/cw3 data/Respeck all/Respiratory/breathingNormally',\n",
              " '/content/drive/My Drive/Colab Notebooks/cw3 data/Respeck all/Respiratory/hyperventilation',\n",
              " '/content/drive/My Drive/Colab Notebooks/cw3 data/Respeck all/Respiratory/other',\n",
              " '/content/drive/My Drive/Colab Notebooks/cw3 data/Respeck all/Respiratory/coughing']"
            ]
          },
          "metadata": {},
          "execution_count": 16
        }
      ],
      "source": [
        "glob.glob(your_dataset_path + \"*\")"
      ]
    },
    {
      "cell_type": "markdown",
      "metadata": {
        "id": "Z3zJiRjym7LU"
      },
      "source": [
        "To see the files in each subfolder you can similarly do:"
      ]
    },
    {
      "cell_type": "code",
      "execution_count": 17,
      "metadata": {
        "colab": {
          "base_uri": "https://localhost:8080/"
        },
        "id": "TCS4lQgwnO9X",
        "outputId": "0ba98259-ec6c-4885-b4eb-6c82cd3b70e7"
      },
      "outputs": [
        {
          "output_type": "execute_result",
          "data": {
            "text/plain": [
              "['/content/drive/My Drive/Colab Notebooks/cw3 data/Respeck all/Respiratory//other/s77_respeck_lyingRight_talking.csv',\n",
              " '/content/drive/My Drive/Colab Notebooks/cw3 data/Respeck all/Respiratory//other/s77_respeck_sitting_eating.csv',\n",
              " '/content/drive/My Drive/Colab Notebooks/cw3 data/Respeck all/Respiratory//other/s77_respeck_lyingLeft_laughing.csv',\n",
              " '/content/drive/My Drive/Colab Notebooks/cw3 data/Respeck all/Respiratory//other/s77_respeck_lyingStomach_talking.csv',\n",
              " '/content/drive/My Drive/Colab Notebooks/cw3 data/Respeck all/Respiratory//other/s77_respeck_lyingStomach_singing.csv',\n",
              " '/content/drive/My Drive/Colab Notebooks/cw3 data/Respeck all/Respiratory//other/s77_respeck_lyingLeft_singing.csv',\n",
              " '/content/drive/My Drive/Colab Notebooks/cw3 data/Respeck all/Respiratory//other/s77_respeck_lyingBack_talking.csv',\n",
              " '/content/drive/My Drive/Colab Notebooks/cw3 data/Respeck all/Respiratory//other/s77_respeck_standing_singing.csv',\n",
              " '/content/drive/My Drive/Colab Notebooks/cw3 data/Respeck all/Respiratory//other/s77_respeck_standing_eating.csv',\n",
              " '/content/drive/My Drive/Colab Notebooks/cw3 data/Respeck all/Respiratory//other/s77_respeck_standing_laughing.csv',\n",
              " '/content/drive/My Drive/Colab Notebooks/cw3 data/Respeck all/Respiratory//other/s79_respeck_standing_eating.csv',\n",
              " '/content/drive/My Drive/Colab Notebooks/cw3 data/Respeck all/Respiratory//other/s79_respeck_lyingLeft_laughing.csv',\n",
              " '/content/drive/My Drive/Colab Notebooks/cw3 data/Respeck all/Respiratory//other/s79_respeck_lyingStomach_talking.csv',\n",
              " '/content/drive/My Drive/Colab Notebooks/cw3 data/Respeck all/Respiratory//other/s79_respeck_sitting_singing.csv',\n",
              " '/content/drive/My Drive/Colab Notebooks/cw3 data/Respeck all/Respiratory//other/s79_respeck_lyingLeft_talking.csv',\n",
              " '/content/drive/My Drive/Colab Notebooks/cw3 data/Respeck all/Respiratory//other/s77_respeck_standing_talking.csv',\n",
              " '/content/drive/My Drive/Colab Notebooks/cw3 data/Respeck all/Respiratory//other/s79_respeck_lyingRight_laughing.csv',\n",
              " '/content/drive/My Drive/Colab Notebooks/cw3 data/Respeck all/Respiratory//other/s79_respeck_lyingStomach_singing.csv',\n",
              " '/content/drive/My Drive/Colab Notebooks/cw3 data/Respeck all/Respiratory//other/s79_respeck_lyingBack_talking.csv',\n",
              " '/content/drive/My Drive/Colab Notebooks/cw3 data/Respeck all/Respiratory//other/s79_respeck_lyingBack_singing.csv',\n",
              " '/content/drive/My Drive/Colab Notebooks/cw3 data/Respeck all/Respiratory//other/s79_respeck_lyingLeft_singing.csv',\n",
              " '/content/drive/My Drive/Colab Notebooks/cw3 data/Respeck all/Respiratory//other/s79_respeck_lyingBack_laughing.csv',\n",
              " '/content/drive/My Drive/Colab Notebooks/cw3 data/Respeck all/Respiratory//other/s79_respeck_sitting_eating.csv',\n",
              " '/content/drive/My Drive/Colab Notebooks/cw3 data/Respeck all/Respiratory//other/s79_respeck_sitting_laughing.csv',\n",
              " '/content/drive/My Drive/Colab Notebooks/cw3 data/Respeck all/Respiratory//other/s79_respeck_lyingRight_singing.csv',\n",
              " '/content/drive/My Drive/Colab Notebooks/cw3 data/Respeck all/Respiratory//other/s79_respeck_lyingStomach_laughing.csv',\n",
              " '/content/drive/My Drive/Colab Notebooks/cw3 data/Respeck all/Respiratory//other/s79_respeck_sitting_talking.csv',\n",
              " '/content/drive/My Drive/Colab Notebooks/cw3 data/Respeck all/Respiratory//other/s79_respeck_lyingRight_talking.csv',\n",
              " '/content/drive/My Drive/Colab Notebooks/cw3 data/Respeck all/Respiratory//other/s7_respeck_lyingLeft_talking.csv',\n",
              " '/content/drive/My Drive/Colab Notebooks/cw3 data/Respeck all/Respiratory//other/s7_respeck_lyingBack_singing.csv',\n",
              " '/content/drive/My Drive/Colab Notebooks/cw3 data/Respeck all/Respiratory//other/s7_respeck_lyingRight_talking.csv',\n",
              " '/content/drive/My Drive/Colab Notebooks/cw3 data/Respeck all/Respiratory//other/s7_respeck_sitting_eating.csv',\n",
              " '/content/drive/My Drive/Colab Notebooks/cw3 data/Respeck all/Respiratory//other/s79_respeck_standing_singing.csv',\n",
              " '/content/drive/My Drive/Colab Notebooks/cw3 data/Respeck all/Respiratory//other/s7_respeck_sitting_laughing.csv',\n",
              " '/content/drive/My Drive/Colab Notebooks/cw3 data/Respeck all/Respiratory//other/s7_respeck_lyingStomach_talking.csv',\n",
              " '/content/drive/My Drive/Colab Notebooks/cw3 data/Respeck all/Respiratory//other/s7_respeck_lyingBack_talking.csv',\n",
              " '/content/drive/My Drive/Colab Notebooks/cw3 data/Respeck all/Respiratory//other/s79_respeck_standing_laughing.csv',\n",
              " '/content/drive/My Drive/Colab Notebooks/cw3 data/Respeck all/Respiratory//other/s7_respeck_lyingRight_laughing.csv',\n",
              " '/content/drive/My Drive/Colab Notebooks/cw3 data/Respeck all/Respiratory//other/s7_respeck_lyingStomach_laughing.csv',\n",
              " '/content/drive/My Drive/Colab Notebooks/cw3 data/Respeck all/Respiratory//other/s7_respeck_lyingBack_laughing.csv',\n",
              " '/content/drive/My Drive/Colab Notebooks/cw3 data/Respeck all/Respiratory//other/s79_respeck_standing_talking.csv',\n",
              " '/content/drive/My Drive/Colab Notebooks/cw3 data/Respeck all/Respiratory//other/s7_respeck_lyingLeft_laughing.csv',\n",
              " '/content/drive/My Drive/Colab Notebooks/cw3 data/Respeck all/Respiratory//other/s7_respeck_lyingLeft_singing.csv',\n",
              " '/content/drive/My Drive/Colab Notebooks/cw3 data/Respeck all/Respiratory//other/s7_respeck_lyingRight_singing.csv',\n",
              " '/content/drive/My Drive/Colab Notebooks/cw3 data/Respeck all/Respiratory//other/s7_respeck_lyingStomach_singing.csv',\n",
              " '/content/drive/My Drive/Colab Notebooks/cw3 data/Respeck all/Respiratory//other/s80_respeck_lyingBack_singing.csv',\n",
              " '/content/drive/My Drive/Colab Notebooks/cw3 data/Respeck all/Respiratory//other/s7_respeck_sitting_singing.csv',\n",
              " '/content/drive/My Drive/Colab Notebooks/cw3 data/Respeck all/Respiratory//other/s7_respeck_standing_talking.csv',\n",
              " '/content/drive/My Drive/Colab Notebooks/cw3 data/Respeck all/Respiratory//other/s7_respeck_standing_eating.csv',\n",
              " '/content/drive/My Drive/Colab Notebooks/cw3 data/Respeck all/Respiratory//other/s80_respeck_lyingLeft_talking.csv',\n",
              " '/content/drive/My Drive/Colab Notebooks/cw3 data/Respeck all/Respiratory//other/s7_respeck_sitting_talking.csv',\n",
              " '/content/drive/My Drive/Colab Notebooks/cw3 data/Respeck all/Respiratory//other/s80_respeck_lyingLeft_laughing.csv',\n",
              " '/content/drive/My Drive/Colab Notebooks/cw3 data/Respeck all/Respiratory//other/s80_respeck_lyingBack_talking.csv',\n",
              " '/content/drive/My Drive/Colab Notebooks/cw3 data/Respeck all/Respiratory//other/s80_respeck_lyingLeft_singing.csv',\n",
              " '/content/drive/My Drive/Colab Notebooks/cw3 data/Respeck all/Respiratory//other/s7_respeck_standing_singing.csv',\n",
              " '/content/drive/My Drive/Colab Notebooks/cw3 data/Respeck all/Respiratory//other/s7_respeck_standing_laughing.csv',\n",
              " '/content/drive/My Drive/Colab Notebooks/cw3 data/Respeck all/Respiratory//other/s80_respeck_lyingBack_laughing.csv',\n",
              " '/content/drive/My Drive/Colab Notebooks/cw3 data/Respeck all/Respiratory//other/s80_respeck_lyingStomach_singing.csv',\n",
              " '/content/drive/My Drive/Colab Notebooks/cw3 data/Respeck all/Respiratory//other/s80_respeck_lyingRight_singing.csv',\n",
              " '/content/drive/My Drive/Colab Notebooks/cw3 data/Respeck all/Respiratory//other/s80_respeck_sitting_talking.csv',\n",
              " '/content/drive/My Drive/Colab Notebooks/cw3 data/Respeck all/Respiratory//other/s80_respeck_sitting_eating.csv',\n",
              " '/content/drive/My Drive/Colab Notebooks/cw3 data/Respeck all/Respiratory//other/s80_respeck_lyingRight_talking.csv',\n",
              " '/content/drive/My Drive/Colab Notebooks/cw3 data/Respeck all/Respiratory//other/s80_respeck_lyingStomach_laughing.csv',\n",
              " '/content/drive/My Drive/Colab Notebooks/cw3 data/Respeck all/Respiratory//other/s80_respeck_sitting_singing.csv',\n",
              " '/content/drive/My Drive/Colab Notebooks/cw3 data/Respeck all/Respiratory//other/s80_respeck_standing_eating.csv',\n",
              " '/content/drive/My Drive/Colab Notebooks/cw3 data/Respeck all/Respiratory//other/s80_respeck_sitting_laughing.csv',\n",
              " '/content/drive/My Drive/Colab Notebooks/cw3 data/Respeck all/Respiratory//other/s80_respeck_lyingStomach_talking.csv',\n",
              " '/content/drive/My Drive/Colab Notebooks/cw3 data/Respeck all/Respiratory//other/s80_respeck_lyingRight_laughing.csv',\n",
              " '/content/drive/My Drive/Colab Notebooks/cw3 data/Respeck all/Respiratory//other/s81_respeck_lyingRight_talking.csv',\n",
              " '/content/drive/My Drive/Colab Notebooks/cw3 data/Respeck all/Respiratory//other/s80_respeck_standing_singing.csv',\n",
              " '/content/drive/My Drive/Colab Notebooks/cw3 data/Respeck all/Respiratory//other/s81_respeck_lyingLeft_talking.csv',\n",
              " '/content/drive/My Drive/Colab Notebooks/cw3 data/Respeck all/Respiratory//other/s81_respeck_lyingStomach_laughing.csv',\n",
              " '/content/drive/My Drive/Colab Notebooks/cw3 data/Respeck all/Respiratory//other/s81_respeck_lyingBack_singing.csv',\n",
              " '/content/drive/My Drive/Colab Notebooks/cw3 data/Respeck all/Respiratory//other/s81_respeck_lyingLeft_laughing.csv',\n",
              " '/content/drive/My Drive/Colab Notebooks/cw3 data/Respeck all/Respiratory//other/s81_respeck_lyingBack_laughing.csv',\n",
              " '/content/drive/My Drive/Colab Notebooks/cw3 data/Respeck all/Respiratory//other/s81_respeck_lyingRight_laughing.csv',\n",
              " '/content/drive/My Drive/Colab Notebooks/cw3 data/Respeck all/Respiratory//other/s81_respeck_standing_singing.csv',\n",
              " '/content/drive/My Drive/Colab Notebooks/cw3 data/Respeck all/Respiratory//other/s80_respeck_standing_talking.csv',\n",
              " '/content/drive/My Drive/Colab Notebooks/cw3 data/Respeck all/Respiratory//other/s81_respeck_lyingBack_talking.csv',\n",
              " '/content/drive/My Drive/Colab Notebooks/cw3 data/Respeck all/Respiratory//other/s81_respeck_sitting_eating.csv',\n",
              " '/content/drive/My Drive/Colab Notebooks/cw3 data/Respeck all/Respiratory//other/s81_respeck_sitting_talking.csv',\n",
              " '/content/drive/My Drive/Colab Notebooks/cw3 data/Respeck all/Respiratory//other/s81_respeck_lyingRight_singing.csv',\n",
              " '/content/drive/My Drive/Colab Notebooks/cw3 data/Respeck all/Respiratory//other/s81_respeck_lyingStomach_singing.csv',\n",
              " '/content/drive/My Drive/Colab Notebooks/cw3 data/Respeck all/Respiratory//other/s81_respeck_lyingLeft_singing.csv',\n",
              " '/content/drive/My Drive/Colab Notebooks/cw3 data/Respeck all/Respiratory//other/s81_respeck_lyingStomach_talking.csv',\n",
              " '/content/drive/My Drive/Colab Notebooks/cw3 data/Respeck all/Respiratory//other/s81_respeck_standing_eating.csv',\n",
              " '/content/drive/My Drive/Colab Notebooks/cw3 data/Respeck all/Respiratory//other/s81_respeck_sitting_laughing.csv',\n",
              " '/content/drive/My Drive/Colab Notebooks/cw3 data/Respeck all/Respiratory//other/s81_respeck_standing_laughing.csv',\n",
              " '/content/drive/My Drive/Colab Notebooks/cw3 data/Respeck all/Respiratory//other/s80_respeck_standing_laughing.csv',\n",
              " '/content/drive/My Drive/Colab Notebooks/cw3 data/Respeck all/Respiratory//other/s81_respeck_sitting_singing.csv',\n",
              " '/content/drive/My Drive/Colab Notebooks/cw3 data/Respeck all/Respiratory//other/s82_respeck_sitting_talking.csv',\n",
              " '/content/drive/My Drive/Colab Notebooks/cw3 data/Respeck all/Respiratory//other/s82_respeck_lyingLeft_talking.csv',\n",
              " '/content/drive/My Drive/Colab Notebooks/cw3 data/Respeck all/Respiratory//other/s82_respeck_lyingRight_laughing.csv',\n",
              " '/content/drive/My Drive/Colab Notebooks/cw3 data/Respeck all/Respiratory//other/s82_respeck_standing_laughing.csv',\n",
              " '/content/drive/My Drive/Colab Notebooks/cw3 data/Respeck all/Respiratory//other/s82_respeck_lyingBack_laughing.csv',\n",
              " '/content/drive/My Drive/Colab Notebooks/cw3 data/Respeck all/Respiratory//other/s82_respeck_lyingStomach_laughing.csv',\n",
              " '/content/drive/My Drive/Colab Notebooks/cw3 data/Respeck all/Respiratory//other/s81_respeck_standing_talking.csv',\n",
              " '/content/drive/My Drive/Colab Notebooks/cw3 data/Respeck all/Respiratory//other/s82_respeck_sitting_eating.csv',\n",
              " '/content/drive/My Drive/Colab Notebooks/cw3 data/Respeck all/Respiratory//other/s82_respeck_sitting_laughing.csv',\n",
              " '/content/drive/My Drive/Colab Notebooks/cw3 data/Respeck all/Respiratory//other/s82_respeck_sitting_singing.csv',\n",
              " '/content/drive/My Drive/Colab Notebooks/cw3 data/Respeck all/Respiratory//other/s82_respeck_lyingStomach_talking.csv',\n",
              " '/content/drive/My Drive/Colab Notebooks/cw3 data/Respeck all/Respiratory//other/s82_respeck_lyingRight_singing.csv',\n",
              " '/content/drive/My Drive/Colab Notebooks/cw3 data/Respeck all/Respiratory//other/s82_respeck_lyingRight_talking.csv',\n",
              " '/content/drive/My Drive/Colab Notebooks/cw3 data/Respeck all/Respiratory//other/s82_respeck_standing_talking.csv',\n",
              " '/content/drive/My Drive/Colab Notebooks/cw3 data/Respeck all/Respiratory//other/s82_respeck_standing_eating.csv',\n",
              " '/content/drive/My Drive/Colab Notebooks/cw3 data/Respeck all/Respiratory//other/s82_respeck_lyingStomach_singing.csv',\n",
              " '/content/drive/My Drive/Colab Notebooks/cw3 data/Respeck all/Respiratory//other/s82_respeck_standing_singing.csv',\n",
              " '/content/drive/My Drive/Colab Notebooks/cw3 data/Respeck all/Respiratory//other/s82_respeck_lyingLeft_singing.csv',\n",
              " '/content/drive/My Drive/Colab Notebooks/cw3 data/Respeck all/Respiratory//other/s82_respeck_lyingLeft_laughing.csv',\n",
              " '/content/drive/My Drive/Colab Notebooks/cw3 data/Respeck all/Respiratory//other/s82_respeck_lyingBack_talking.csv',\n",
              " '/content/drive/My Drive/Colab Notebooks/cw3 data/Respeck all/Respiratory//other/s82_respeck_lyingBack_singing.csv',\n",
              " '/content/drive/My Drive/Colab Notebooks/cw3 data/Respeck all/Respiratory//other/s83_respeck_lyingLeft_laughing.csv',\n",
              " '/content/drive/My Drive/Colab Notebooks/cw3 data/Respeck all/Respiratory//other/s83_respeck_lyingStomach_talking.csv',\n",
              " '/content/drive/My Drive/Colab Notebooks/cw3 data/Respeck all/Respiratory//other/s83_respeck_standing_eating.csv',\n",
              " '/content/drive/My Drive/Colab Notebooks/cw3 data/Respeck all/Respiratory//other/s83_respeck_sitting_talking.csv',\n",
              " '/content/drive/My Drive/Colab Notebooks/cw3 data/Respeck all/Respiratory//other/s83_respeck_lyingRight_talking.csv',\n",
              " '/content/drive/My Drive/Colab Notebooks/cw3 data/Respeck all/Respiratory//other/s83_respeck_lyingBack_singing.csv',\n",
              " '/content/drive/My Drive/Colab Notebooks/cw3 data/Respeck all/Respiratory//other/s83_respeck_lyingStomach_laughing.csv',\n",
              " '/content/drive/My Drive/Colab Notebooks/cw3 data/Respeck all/Respiratory//other/s83_respeck_lyingRight_singing.csv',\n",
              " '/content/drive/My Drive/Colab Notebooks/cw3 data/Respeck all/Respiratory//other/s83_respeck_lyingBack_talking.csv',\n",
              " '/content/drive/My Drive/Colab Notebooks/cw3 data/Respeck all/Respiratory//other/s83_respeck_sitting_singing.csv',\n",
              " '/content/drive/My Drive/Colab Notebooks/cw3 data/Respeck all/Respiratory//other/s83_respeck_sitting_eating.csv',\n",
              " '/content/drive/My Drive/Colab Notebooks/cw3 data/Respeck all/Respiratory//other/s83_respeck_sitting_laughing.csv',\n",
              " '/content/drive/My Drive/Colab Notebooks/cw3 data/Respeck all/Respiratory//other/s83_respeck_lyingBack_laughing.csv',\n",
              " '/content/drive/My Drive/Colab Notebooks/cw3 data/Respeck all/Respiratory//other/s83_respeck_lyingStomach_singing.csv',\n",
              " '/content/drive/My Drive/Colab Notebooks/cw3 data/Respeck all/Respiratory//other/s83_respeck_lyingRight_laughing.csv',\n",
              " '/content/drive/My Drive/Colab Notebooks/cw3 data/Respeck all/Respiratory//other/s83_respeck_lyingLeft_singing.csv',\n",
              " '/content/drive/My Drive/Colab Notebooks/cw3 data/Respeck all/Respiratory//other/s83_respeck_lyingLeft_talking.csv',\n",
              " '/content/drive/My Drive/Colab Notebooks/cw3 data/Respeck all/Respiratory//other/s83_respeck_standing_talking.csv',\n",
              " '/content/drive/My Drive/Colab Notebooks/cw3 data/Respeck all/Respiratory//other/s84_respeck_lyingBack_laughing.csv',\n",
              " '/content/drive/My Drive/Colab Notebooks/cw3 data/Respeck all/Respiratory//other/s84_respeck_lyingBack_singing.csv',\n",
              " '/content/drive/My Drive/Colab Notebooks/cw3 data/Respeck all/Respiratory//other/s84_respeck_lyingBack_talking.csv',\n",
              " '/content/drive/My Drive/Colab Notebooks/cw3 data/Respeck all/Respiratory//other/s84_respeck_lyingStomach_singing.csv',\n",
              " '/content/drive/My Drive/Colab Notebooks/cw3 data/Respeck all/Respiratory//other/s83_respeck_standing_laughing.csv',\n",
              " '/content/drive/My Drive/Colab Notebooks/cw3 data/Respeck all/Respiratory//other/s84_respeck_lyingRight_singing.csv',\n",
              " '/content/drive/My Drive/Colab Notebooks/cw3 data/Respeck all/Respiratory//other/s84_respeck_lyingLeft_singing.csv',\n",
              " '/content/drive/My Drive/Colab Notebooks/cw3 data/Respeck all/Respiratory//other/s84_respeck_lyingLeft_talking.csv',\n",
              " '/content/drive/My Drive/Colab Notebooks/cw3 data/Respeck all/Respiratory//other/s84_respeck_sitting_eating.csv',\n",
              " '/content/drive/My Drive/Colab Notebooks/cw3 data/Respeck all/Respiratory//other/s84_respeck_lyingLeft_laughing.csv',\n",
              " '/content/drive/My Drive/Colab Notebooks/cw3 data/Respeck all/Respiratory//other/s84_respeck_lyingStomach_laughing.csv',\n",
              " '/content/drive/My Drive/Colab Notebooks/cw3 data/Respeck all/Respiratory//other/s83_respeck_standing_singing.csv',\n",
              " '/content/drive/My Drive/Colab Notebooks/cw3 data/Respeck all/Respiratory//other/s84_respeck_lyingRight_laughing.csv',\n",
              " '/content/drive/My Drive/Colab Notebooks/cw3 data/Respeck all/Respiratory//other/s84_respeck_lyingStomach_talking.csv',\n",
              " '/content/drive/My Drive/Colab Notebooks/cw3 data/Respeck all/Respiratory//other/s84_respeck_lyingRight_talking.csv',\n",
              " '/content/drive/My Drive/Colab Notebooks/cw3 data/Respeck all/Respiratory//other/s85_respeck_lyingStomach_laughing.csv',\n",
              " '/content/drive/My Drive/Colab Notebooks/cw3 data/Respeck all/Respiratory//other/s85_respeck_lyingLeft_talking.csv',\n",
              " '/content/drive/My Drive/Colab Notebooks/cw3 data/Respeck all/Respiratory//other/s85_respeck_lyingRight_laughing.csv',\n",
              " '/content/drive/My Drive/Colab Notebooks/cw3 data/Respeck all/Respiratory//other/s84_respeck_standing_singing.csv',\n",
              " '/content/drive/My Drive/Colab Notebooks/cw3 data/Respeck all/Respiratory//other/s84_respeck_standing_laughing.csv',\n",
              " '/content/drive/My Drive/Colab Notebooks/cw3 data/Respeck all/Respiratory//other/s84_respeck_standing_talking.csv',\n",
              " '/content/drive/My Drive/Colab Notebooks/cw3 data/Respeck all/Respiratory//other/s84_respeck_sitting_talking.csv',\n",
              " '/content/drive/My Drive/Colab Notebooks/cw3 data/Respeck all/Respiratory//other/s85_respeck_lyingRight_singing.csv',\n",
              " '/content/drive/My Drive/Colab Notebooks/cw3 data/Respeck all/Respiratory//other/s85_respeck_lyingBack_talking.csv',\n",
              " '/content/drive/My Drive/Colab Notebooks/cw3 data/Respeck all/Respiratory//other/s85_respeck_lyingStomach_talking.csv',\n",
              " '/content/drive/My Drive/Colab Notebooks/cw3 data/Respeck all/Respiratory//other/s85_respeck_lyingLeft_laughing.csv',\n",
              " '/content/drive/My Drive/Colab Notebooks/cw3 data/Respeck all/Respiratory//other/s85_respeck_lyingStomach_singing.csv',\n",
              " '/content/drive/My Drive/Colab Notebooks/cw3 data/Respeck all/Respiratory//other/s85_respeck_lyingBack_laughing.csv',\n",
              " '/content/drive/My Drive/Colab Notebooks/cw3 data/Respeck all/Respiratory//other/s85_respeck_lyingRight_talking.csv',\n",
              " '/content/drive/My Drive/Colab Notebooks/cw3 data/Respeck all/Respiratory//other/s85_respeck_sitting_eating.csv',\n",
              " '/content/drive/My Drive/Colab Notebooks/cw3 data/Respeck all/Respiratory//other/s85_respeck_lyingLeft_singing.csv',\n",
              " '/content/drive/My Drive/Colab Notebooks/cw3 data/Respeck all/Respiratory//other/s84_respeck_sitting_singing.csv',\n",
              " '/content/drive/My Drive/Colab Notebooks/cw3 data/Respeck all/Respiratory//other/s85_respeck_lyingBack_singing.csv',\n",
              " '/content/drive/My Drive/Colab Notebooks/cw3 data/Respeck all/Respiratory//other/s84_respeck_standing_eating.csv',\n",
              " '/content/drive/My Drive/Colab Notebooks/cw3 data/Respeck all/Respiratory//other/s84_respeck_sitting_laughing.csv',\n",
              " '/content/drive/My Drive/Colab Notebooks/cw3 data/Respeck all/Respiratory//other/s85_respeck_standing_singing.csv',\n",
              " '/content/drive/My Drive/Colab Notebooks/cw3 data/Respeck all/Respiratory//other/s86_respeck_lyingLeft_laughing.csv',\n",
              " '/content/drive/My Drive/Colab Notebooks/cw3 data/Respeck all/Respiratory//other/s85_respeck_sitting_singing.csv',\n",
              " '/content/drive/My Drive/Colab Notebooks/cw3 data/Respeck all/Respiratory//other/s86_respeck_lyingStomach_laughing.csv',\n",
              " '/content/drive/My Drive/Colab Notebooks/cw3 data/Respeck all/Respiratory//other/s86_respeck_lyingRight_laughing.csv',\n",
              " '/content/drive/My Drive/Colab Notebooks/cw3 data/Respeck all/Respiratory//other/s85_respeck_standing_eating.csv',\n",
              " '/content/drive/My Drive/Colab Notebooks/cw3 data/Respeck all/Respiratory//other/s86_respeck_lyingRight_talking.csv',\n",
              " '/content/drive/My Drive/Colab Notebooks/cw3 data/Respeck all/Respiratory//other/s86_respeck_lyingBack_talking.csv',\n",
              " '/content/drive/My Drive/Colab Notebooks/cw3 data/Respeck all/Respiratory//other/s86_respeck_lyingBack_singing.csv',\n",
              " '/content/drive/My Drive/Colab Notebooks/cw3 data/Respeck all/Respiratory//other/s86_respeck_lyingStomach_talking.csv',\n",
              " '/content/drive/My Drive/Colab Notebooks/cw3 data/Respeck all/Respiratory//other/s85_respeck_sitting_talking.csv',\n",
              " '/content/drive/My Drive/Colab Notebooks/cw3 data/Respeck all/Respiratory//other/s85_respeck_standing_talking.csv',\n",
              " '/content/drive/My Drive/Colab Notebooks/cw3 data/Respeck all/Respiratory//other/s85_respeck_sitting_laughing.csv',\n",
              " '/content/drive/My Drive/Colab Notebooks/cw3 data/Respeck all/Respiratory//other/s86_respeck_lyingRight_singing.csv',\n",
              " '/content/drive/My Drive/Colab Notebooks/cw3 data/Respeck all/Respiratory//other/s86_respeck_lyingStomach_singing.csv',\n",
              " '/content/drive/My Drive/Colab Notebooks/cw3 data/Respeck all/Respiratory//other/s86_respeck_lyingLeft_singing.csv',\n",
              " '/content/drive/My Drive/Colab Notebooks/cw3 data/Respeck all/Respiratory//other/s86_respeck_lyingLeft_talking.csv',\n",
              " '/content/drive/My Drive/Colab Notebooks/cw3 data/Respeck all/Respiratory//other/s85_respeck_standing_laughing.csv',\n",
              " '/content/drive/My Drive/Colab Notebooks/cw3 data/Respeck all/Respiratory//other/s86_respeck_lyingBack_laughing.csv',\n",
              " '/content/drive/My Drive/Colab Notebooks/cw3 data/Respeck all/Respiratory//other/s87_respeck_lyingStomach_singing.csv',\n",
              " '/content/drive/My Drive/Colab Notebooks/cw3 data/Respeck all/Respiratory//other/s86_respeck_sitting_talking.csv',\n",
              " '/content/drive/My Drive/Colab Notebooks/cw3 data/Respeck all/Respiratory//other/s86_respeck_standing_laughing.csv',\n",
              " '/content/drive/My Drive/Colab Notebooks/cw3 data/Respeck all/Respiratory//other/s86_respeck_standing_talking.csv',\n",
              " '/content/drive/My Drive/Colab Notebooks/cw3 data/Respeck all/Respiratory//other/s87_respeck_lyingBack_singing.csv',\n",
              " '/content/drive/My Drive/Colab Notebooks/cw3 data/Respeck all/Respiratory//other/s87_respeck_lyingLeft_singing.csv',\n",
              " '/content/drive/My Drive/Colab Notebooks/cw3 data/Respeck all/Respiratory//other/s87_respeck_lyingBack_talking.csv',\n",
              " '/content/drive/My Drive/Colab Notebooks/cw3 data/Respeck all/Respiratory//other/s86_respeck_sitting_laughing.csv',\n",
              " '/content/drive/My Drive/Colab Notebooks/cw3 data/Respeck all/Respiratory//other/s87_respeck_lyingLeft_talking.csv',\n",
              " '/content/drive/My Drive/Colab Notebooks/cw3 data/Respeck all/Respiratory//other/s86_respeck_sitting_singing.csv',\n",
              " '/content/drive/My Drive/Colab Notebooks/cw3 data/Respeck all/Respiratory//other/s86_respeck_standing_singing.csv',\n",
              " '/content/drive/My Drive/Colab Notebooks/cw3 data/Respeck all/Respiratory//other/s87_respeck_lyingRight_laughing.csv',\n",
              " '/content/drive/My Drive/Colab Notebooks/cw3 data/Respeck all/Respiratory//other/s87_respeck_lyingRight_singing.csv',\n",
              " '/content/drive/My Drive/Colab Notebooks/cw3 data/Respeck all/Respiratory//other/s87_respeck_lyingLeft_laughing.csv',\n",
              " '/content/drive/My Drive/Colab Notebooks/cw3 data/Respeck all/Respiratory//other/s86_respeck_sitting_eating.csv',\n",
              " '/content/drive/My Drive/Colab Notebooks/cw3 data/Respeck all/Respiratory//other/s86_respeck_standing_eating.csv',\n",
              " '/content/drive/My Drive/Colab Notebooks/cw3 data/Respeck all/Respiratory//other/s87_respeck_lyingBack_laughing.csv',\n",
              " '/content/drive/My Drive/Colab Notebooks/cw3 data/Respeck all/Respiratory//other/s87_respeck_lyingStomach_laughing.csv',\n",
              " '/content/drive/My Drive/Colab Notebooks/cw3 data/Respeck all/Respiratory//other/s87_respeck_sitting_eating.csv',\n",
              " '/content/drive/My Drive/Colab Notebooks/cw3 data/Respeck all/Respiratory//other/s87_respeck_lyingStomach_talking.csv',\n",
              " '/content/drive/My Drive/Colab Notebooks/cw3 data/Respeck all/Respiratory//other/s87_respeck_lyingRight_talking.csv',\n",
              " '/content/drive/My Drive/Colab Notebooks/cw3 data/Respeck all/Respiratory//other/s88_respeck_lyingBack_singing.csv',\n",
              " '/content/drive/My Drive/Colab Notebooks/cw3 data/Respeck all/Respiratory//other/s88_respeck_lyingBack_laughing.csv',\n",
              " '/content/drive/My Drive/Colab Notebooks/cw3 data/Respeck all/Respiratory//other/s88_respeck_lyingRight_talking.csv',\n",
              " '/content/drive/My Drive/Colab Notebooks/cw3 data/Respeck all/Respiratory//other/s88_respeck_lyingLeft_laughing.csv',\n",
              " '/content/drive/My Drive/Colab Notebooks/cw3 data/Respeck all/Respiratory//other/s88_respeck_lyingStomach_laughing.csv',\n",
              " '/content/drive/My Drive/Colab Notebooks/cw3 data/Respeck all/Respiratory//other/s87_respeck_standing_laughing.csv',\n",
              " '/content/drive/My Drive/Colab Notebooks/cw3 data/Respeck all/Respiratory//other/s88_respeck_lyingStomach_singing.csv',\n",
              " '/content/drive/My Drive/Colab Notebooks/cw3 data/Respeck all/Respiratory//other/s87_respeck_standing_talking.csv',\n",
              " '/content/drive/My Drive/Colab Notebooks/cw3 data/Respeck all/Respiratory//other/s88_respeck_lyingRight_laughing.csv',\n",
              " '/content/drive/My Drive/Colab Notebooks/cw3 data/Respeck all/Respiratory//other/s87_respeck_standing_singing.csv',\n",
              " '/content/drive/My Drive/Colab Notebooks/cw3 data/Respeck all/Respiratory//other/s87_respeck_sitting_laughing.csv',\n",
              " '/content/drive/My Drive/Colab Notebooks/cw3 data/Respeck all/Respiratory//other/s88_respeck_lyingBack_talking.csv',\n",
              " '/content/drive/My Drive/Colab Notebooks/cw3 data/Respeck all/Respiratory//other/s88_respeck_lyingLeft_talking.csv',\n",
              " '/content/drive/My Drive/Colab Notebooks/cw3 data/Respeck all/Respiratory//other/s88_respeck_lyingRight_singing.csv',\n",
              " '/content/drive/My Drive/Colab Notebooks/cw3 data/Respeck all/Respiratory//other/s87_respeck_sitting_talking.csv',\n",
              " '/content/drive/My Drive/Colab Notebooks/cw3 data/Respeck all/Respiratory//other/s87_respeck_sitting_singing.csv',\n",
              " '/content/drive/My Drive/Colab Notebooks/cw3 data/Respeck all/Respiratory//other/s88_respeck_lyingLeft_singing.csv',\n",
              " '/content/drive/My Drive/Colab Notebooks/cw3 data/Respeck all/Respiratory//other/s87_respeck_standing_eating.csv',\n",
              " '/content/drive/My Drive/Colab Notebooks/cw3 data/Respeck all/Respiratory//other/s88_respeck_standing_eating.csv',\n",
              " '/content/drive/My Drive/Colab Notebooks/cw3 data/Respeck all/Respiratory//other/s88_respeck_standing_laughing.csv',\n",
              " '/content/drive/My Drive/Colab Notebooks/cw3 data/Respeck all/Respiratory//other/s88_respeck_lyingStomach_talking.csv',\n",
              " '/content/drive/My Drive/Colab Notebooks/cw3 data/Respeck all/Respiratory//other/s88_respeck_sitting_talking.csv',\n",
              " '/content/drive/My Drive/Colab Notebooks/cw3 data/Respeck all/Respiratory//other/s8_respeck_lyingLeft_singing.csv',\n",
              " '/content/drive/My Drive/Colab Notebooks/cw3 data/Respeck all/Respiratory//other/s8_respeck_lyingBack_laughing.csv',\n",
              " '/content/drive/My Drive/Colab Notebooks/cw3 data/Respeck all/Respiratory//other/s8_respeck_lyingBack_singing.csv',\n",
              " '/content/drive/My Drive/Colab Notebooks/cw3 data/Respeck all/Respiratory//other/s88_respeck_sitting_eating.csv',\n",
              " '/content/drive/My Drive/Colab Notebooks/cw3 data/Respeck all/Respiratory//other/s8_respeck_lyingLeft_talking.csv',\n",
              " '/content/drive/My Drive/Colab Notebooks/cw3 data/Respeck all/Respiratory//other/s8_respeck_lyingRight_singing.csv',\n",
              " '/content/drive/My Drive/Colab Notebooks/cw3 data/Respeck all/Respiratory//other/s8_respeck_lyingLeft_laughing.csv',\n",
              " '/content/drive/My Drive/Colab Notebooks/cw3 data/Respeck all/Respiratory//other/s88_respeck_sitting_singing.csv',\n",
              " '/content/drive/My Drive/Colab Notebooks/cw3 data/Respeck all/Respiratory//other/s88_respeck_standing_talking.csv',\n",
              " '/content/drive/My Drive/Colab Notebooks/cw3 data/Respeck all/Respiratory//other/s8_respeck_lyingRight_laughing.csv',\n",
              " '/content/drive/My Drive/Colab Notebooks/cw3 data/Respeck all/Respiratory//other/s88_respeck_sitting_laughing.csv',\n",
              " '/content/drive/My Drive/Colab Notebooks/cw3 data/Respeck all/Respiratory//other/s8_respeck_lyingBack_talking.csv',\n",
              " '/content/drive/My Drive/Colab Notebooks/cw3 data/Respeck all/Respiratory//other/s88_respeck_standing_singing.csv',\n",
              " '/content/drive/My Drive/Colab Notebooks/cw3 data/Respeck all/Respiratory//other/s8_respeck_lyingRight_talking.csv',\n",
              " '/content/drive/My Drive/Colab Notebooks/cw3 data/Respeck all/Respiratory//other/s8_respeck_standing_eating.csv',\n",
              " '/content/drive/My Drive/Colab Notebooks/cw3 data/Respeck all/Respiratory//other/s8_respeck_lyingStomach_talking.csv',\n",
              " '/content/drive/My Drive/Colab Notebooks/cw3 data/Respeck all/Respiratory//other/s8_respeck_sitting_eating.csv',\n",
              " '/content/drive/My Drive/Colab Notebooks/cw3 data/Respeck all/Respiratory//other/s8_respeck_sitting_singing.csv',\n",
              " '/content/drive/My Drive/Colab Notebooks/cw3 data/Respeck all/Respiratory//other/s8_respeck_lyingStomach_singing.csv',\n",
              " '/content/drive/My Drive/Colab Notebooks/cw3 data/Respeck all/Respiratory//other/s91_respeck_lyingBack_talking.csv',\n",
              " '/content/drive/My Drive/Colab Notebooks/cw3 data/Respeck all/Respiratory//other/s8_respeck_standing_laughing.csv',\n",
              " '/content/drive/My Drive/Colab Notebooks/cw3 data/Respeck all/Respiratory//other/s8_respeck_sitting_laughing.csv',\n",
              " '/content/drive/My Drive/Colab Notebooks/cw3 data/Respeck all/Respiratory//other/s8_respeck_sitting_talking.csv',\n",
              " '/content/drive/My Drive/Colab Notebooks/cw3 data/Respeck all/Respiratory//other/s8_respeck_lyingStomach_laughing.csv',\n",
              " '/content/drive/My Drive/Colab Notebooks/cw3 data/Respeck all/Respiratory//other/s8_respeck_standing_talking.csv',\n",
              " '/content/drive/My Drive/Colab Notebooks/cw3 data/Respeck all/Respiratory//other/s91_respeck_lyingBack_singing.csv',\n",
              " '/content/drive/My Drive/Colab Notebooks/cw3 data/Respeck all/Respiratory//other/s91_respeck_lyingLeft_singing.csv',\n",
              " '/content/drive/My Drive/Colab Notebooks/cw3 data/Respeck all/Respiratory//other/s8_respeck_standing_singing.csv',\n",
              " '/content/drive/My Drive/Colab Notebooks/cw3 data/Respeck all/Respiratory//other/s91_respeck_lyingLeft_talking.csv',\n",
              " '/content/drive/My Drive/Colab Notebooks/cw3 data/Respeck all/Respiratory//other/s91_respeck_lyingRight_singing.csv',\n",
              " '/content/drive/My Drive/Colab Notebooks/cw3 data/Respeck all/Respiratory//other/s91_respeck_lyingStomach_talking.csv',\n",
              " '/content/drive/My Drive/Colab Notebooks/cw3 data/Respeck all/Respiratory//other/s91_respeck_standing_talking.csv',\n",
              " '/content/drive/My Drive/Colab Notebooks/cw3 data/Respeck all/Respiratory//other/s92_respeck_lyingRight_laughing.csv',\n",
              " '/content/drive/My Drive/Colab Notebooks/cw3 data/Respeck all/Respiratory//other/s92_respeck_lyingBack_singing.csv',\n",
              " '/content/drive/My Drive/Colab Notebooks/cw3 data/Respeck all/Respiratory//other/s91_respeck_sitting_singing.csv',\n",
              " '/content/drive/My Drive/Colab Notebooks/cw3 data/Respeck all/Respiratory//other/s92_respeck_lyingBack_talking.csv',\n",
              " '/content/drive/My Drive/Colab Notebooks/cw3 data/Respeck all/Respiratory//other/s92_respeck_lyingBack_laughing.csv',\n",
              " '/content/drive/My Drive/Colab Notebooks/cw3 data/Respeck all/Respiratory//other/s92_respeck_lyingLeft_singing.csv',\n",
              " '/content/drive/My Drive/Colab Notebooks/cw3 data/Respeck all/Respiratory//other/s91_respeck_sitting_talking.csv',\n",
              " '/content/drive/My Drive/Colab Notebooks/cw3 data/Respeck all/Respiratory//other/s92_respeck_lyingLeft_laughing.csv',\n",
              " '/content/drive/My Drive/Colab Notebooks/cw3 data/Respeck all/Respiratory//other/s91_respeck_sitting_eating.csv',\n",
              " '/content/drive/My Drive/Colab Notebooks/cw3 data/Respeck all/Respiratory//other/s91_respeck_sitting_laughing.csv',\n",
              " '/content/drive/My Drive/Colab Notebooks/cw3 data/Respeck all/Respiratory//other/s91_respeck_lyingRight_talking.csv',\n",
              " '/content/drive/My Drive/Colab Notebooks/cw3 data/Respeck all/Respiratory//other/s91_respeck_standing_laughing.csv',\n",
              " '/content/drive/My Drive/Colab Notebooks/cw3 data/Respeck all/Respiratory//other/s92_respeck_lyingRight_singing.csv',\n",
              " '/content/drive/My Drive/Colab Notebooks/cw3 data/Respeck all/Respiratory//other/s91_respeck_standing_eating.csv',\n",
              " '/content/drive/My Drive/Colab Notebooks/cw3 data/Respeck all/Respiratory//other/s91_respeck_standing_singing.csv',\n",
              " '/content/drive/My Drive/Colab Notebooks/cw3 data/Respeck all/Respiratory//other/s92_respeck_lyingLeft_talking.csv',\n",
              " '/content/drive/My Drive/Colab Notebooks/cw3 data/Respeck all/Respiratory//other/s91_respeck_lyingStomach_singing.csv',\n",
              " '/content/drive/My Drive/Colab Notebooks/cw3 data/Respeck all/Respiratory//other/s93_respeck_lyingBack_laughing.csv',\n",
              " '/content/drive/My Drive/Colab Notebooks/cw3 data/Respeck all/Respiratory//other/s93_respeck_lyingBack_singing.csv',\n",
              " '/content/drive/My Drive/Colab Notebooks/cw3 data/Respeck all/Respiratory//other/s92_respeck_sitting_talking.csv',\n",
              " '/content/drive/My Drive/Colab Notebooks/cw3 data/Respeck all/Respiratory//other/s92_respeck_standing_laughing.csv',\n",
              " '/content/drive/My Drive/Colab Notebooks/cw3 data/Respeck all/Respiratory//other/s93_respeck_lyingLeft_laughing.csv',\n",
              " '/content/drive/My Drive/Colab Notebooks/cw3 data/Respeck all/Respiratory//other/s92_respeck_lyingStomach_laughing.csv',\n",
              " '/content/drive/My Drive/Colab Notebooks/cw3 data/Respeck all/Respiratory//other/s92_respeck_lyingStomach_singing.csv',\n",
              " '/content/drive/My Drive/Colab Notebooks/cw3 data/Respeck all/Respiratory//other/s92_respeck_standing_talking.csv',\n",
              " '/content/drive/My Drive/Colab Notebooks/cw3 data/Respeck all/Respiratory//other/s92_respeck_sitting_laughing.csv',\n",
              " '/content/drive/My Drive/Colab Notebooks/cw3 data/Respeck all/Respiratory//other/s93_respeck_lyingBack_talking.csv',\n",
              " '/content/drive/My Drive/Colab Notebooks/cw3 data/Respeck all/Respiratory//other/s93_respeck_lyingLeft_singing.csv',\n",
              " '/content/drive/My Drive/Colab Notebooks/cw3 data/Respeck all/Respiratory//other/s92_respeck_sitting_singing.csv',\n",
              " '/content/drive/My Drive/Colab Notebooks/cw3 data/Respeck all/Respiratory//other/s92_respeck_standing_singing.csv',\n",
              " '/content/drive/My Drive/Colab Notebooks/cw3 data/Respeck all/Respiratory//other/s92_respeck_sitting_eating.csv',\n",
              " '/content/drive/My Drive/Colab Notebooks/cw3 data/Respeck all/Respiratory//other/s92_respeck_lyingStomach_talking.csv',\n",
              " '/content/drive/My Drive/Colab Notebooks/cw3 data/Respeck all/Respiratory//other/s92_respeck_lyingRight_talking.csv',\n",
              " '/content/drive/My Drive/Colab Notebooks/cw3 data/Respeck all/Respiratory//other/s92_respeck_standing_eating.csv',\n",
              " '/content/drive/My Drive/Colab Notebooks/cw3 data/Respeck all/Respiratory//other/s93_respeck_lyingRight_singing.csv',\n",
              " '/content/drive/My Drive/Colab Notebooks/cw3 data/Respeck all/Respiratory//other/s94_respeck_lyingBack_singing.csv',\n",
              " '/content/drive/My Drive/Colab Notebooks/cw3 data/Respeck all/Respiratory//other/s93_respeck_sitting_talking.csv',\n",
              " '/content/drive/My Drive/Colab Notebooks/cw3 data/Respeck all/Respiratory//other/s93_respeck_lyingStomach_laughing.csv',\n",
              " '/content/drive/My Drive/Colab Notebooks/cw3 data/Respeck all/Respiratory//other/s93_respeck_sitting_eating.csv',\n",
              " '/content/drive/My Drive/Colab Notebooks/cw3 data/Respeck all/Respiratory//other/s93_respeck_lyingRight_laughing.csv',\n",
              " '/content/drive/My Drive/Colab Notebooks/cw3 data/Respeck all/Respiratory//other/s93_respeck_standing_laughing.csv',\n",
              " '/content/drive/My Drive/Colab Notebooks/cw3 data/Respeck all/Respiratory//other/s94_respeck_lyingBack_talking.csv',\n",
              " '/content/drive/My Drive/Colab Notebooks/cw3 data/Respeck all/Respiratory//other/s94_respeck_lyingLeft_laughing.csv',\n",
              " '/content/drive/My Drive/Colab Notebooks/cw3 data/Respeck all/Respiratory//other/s93_respeck_lyingLeft_talking.csv',\n",
              " '/content/drive/My Drive/Colab Notebooks/cw3 data/Respeck all/Respiratory//other/s93_respeck_standing_singing.csv',\n",
              " '/content/drive/My Drive/Colab Notebooks/cw3 data/Respeck all/Respiratory//other/s94_respeck_lyingLeft_talking.csv',\n",
              " '/content/drive/My Drive/Colab Notebooks/cw3 data/Respeck all/Respiratory//other/s93_respeck_sitting_singing.csv',\n",
              " '/content/drive/My Drive/Colab Notebooks/cw3 data/Respeck all/Respiratory//other/s93_respeck_lyingStomach_talking.csv',\n",
              " '/content/drive/My Drive/Colab Notebooks/cw3 data/Respeck all/Respiratory//other/s93_respeck_sitting_laughing.csv',\n",
              " '/content/drive/My Drive/Colab Notebooks/cw3 data/Respeck all/Respiratory//other/s94_respeck_lyingLeft_singing.csv',\n",
              " '/content/drive/My Drive/Colab Notebooks/cw3 data/Respeck all/Respiratory//other/s93_respeck_standing_talking.csv',\n",
              " '/content/drive/My Drive/Colab Notebooks/cw3 data/Respeck all/Respiratory//other/s93_respeck_standing_eating.csv',\n",
              " '/content/drive/My Drive/Colab Notebooks/cw3 data/Respeck all/Respiratory//other/s93_respeck_lyingStomach_singing.csv',\n",
              " '/content/drive/My Drive/Colab Notebooks/cw3 data/Respeck all/Respiratory//other/s93_respeck_lyingRight_talking.csv',\n",
              " '/content/drive/My Drive/Colab Notebooks/cw3 data/Respeck all/Respiratory//other/s94_respeck_lyingBack_laughing.csv',\n",
              " '/content/drive/My Drive/Colab Notebooks/cw3 data/Respeck all/Respiratory//other/s95_respeck_lyingLeft_talking.csv',\n",
              " '/content/drive/My Drive/Colab Notebooks/cw3 data/Respeck all/Respiratory//other/s94_respeck_standing_singing.csv',\n",
              " '/content/drive/My Drive/Colab Notebooks/cw3 data/Respeck all/Respiratory//other/s94_respeck_standing_laughing.csv',\n",
              " '/content/drive/My Drive/Colab Notebooks/cw3 data/Respeck all/Respiratory//other/s94_respeck_lyingStomach_laughing.csv',\n",
              " '/content/drive/My Drive/Colab Notebooks/cw3 data/Respeck all/Respiratory//other/s94_respeck_sitting_laughing.csv',\n",
              " '/content/drive/My Drive/Colab Notebooks/cw3 data/Respeck all/Respiratory//other/s94_respeck_standing_eating.csv',\n",
              " '/content/drive/My Drive/Colab Notebooks/cw3 data/Respeck all/Respiratory//other/s95_respeck_lyingRight_laughing.csv',\n",
              " '/content/drive/My Drive/Colab Notebooks/cw3 data/Respeck all/Respiratory//other/s94_respeck_sitting_eating.csv',\n",
              " '/content/drive/My Drive/Colab Notebooks/cw3 data/Respeck all/Respiratory//other/s94_respeck_lyingStomach_talking.csv',\n",
              " '/content/drive/My Drive/Colab Notebooks/cw3 data/Respeck all/Respiratory//other/s94_respeck_standing_talking.csv',\n",
              " '/content/drive/My Drive/Colab Notebooks/cw3 data/Respeck all/Respiratory//other/s94_respeck_sitting_talking.csv',\n",
              " '/content/drive/My Drive/Colab Notebooks/cw3 data/Respeck all/Respiratory//other/s94_respeck_lyingRight_singing.csv',\n",
              " '/content/drive/My Drive/Colab Notebooks/cw3 data/Respeck all/Respiratory//other/s94_respeck_lyingStomach_singing.csv',\n",
              " '/content/drive/My Drive/Colab Notebooks/cw3 data/Respeck all/Respiratory//other/s95_respeck_lyingLeft_laughing.csv',\n",
              " '/content/drive/My Drive/Colab Notebooks/cw3 data/Respeck all/Respiratory//other/s95_respeck_lyingBack_talking.csv',\n",
              " '/content/drive/My Drive/Colab Notebooks/cw3 data/Respeck all/Respiratory//other/s95_respeck_lyingBack_singing.csv',\n",
              " '/content/drive/My Drive/Colab Notebooks/cw3 data/Respeck all/Respiratory//other/s95_respeck_lyingLeft_singing.csv',\n",
              " '/content/drive/My Drive/Colab Notebooks/cw3 data/Respeck all/Respiratory//other/s95_respeck_lyingRight_singing.csv',\n",
              " '/content/drive/My Drive/Colab Notebooks/cw3 data/Respeck all/Respiratory//other/s94_respeck_sitting_singing.csv',\n",
              " '/content/drive/My Drive/Colab Notebooks/cw3 data/Respeck all/Respiratory//other/s94_respeck_lyingRight_talking.csv',\n",
              " '/content/drive/My Drive/Colab Notebooks/cw3 data/Respeck all/Respiratory//other/s95_respeck_lyingBack_laughing.csv',\n",
              " '/content/drive/My Drive/Colab Notebooks/cw3 data/Respeck all/Respiratory//other/s94_respeck_lyingRight_laughing.csv',\n",
              " '/content/drive/My Drive/Colab Notebooks/cw3 data/Respeck all/Respiratory//other/s95_respeck_standing_singing.csv',\n",
              " '/content/drive/My Drive/Colab Notebooks/cw3 data/Respeck all/Respiratory//other/s95_respeck_lyingStomach_talking.csv',\n",
              " '/content/drive/My Drive/Colab Notebooks/cw3 data/Respeck all/Respiratory//other/s95_respeck_lyingStomach_singing.csv',\n",
              " '/content/drive/My Drive/Colab Notebooks/cw3 data/Respeck all/Respiratory//other/s95_respeck_standing_laughing.csv',\n",
              " '/content/drive/My Drive/Colab Notebooks/cw3 data/Respeck all/Respiratory//other/s95_respeck_sitting_talking.csv',\n",
              " '/content/drive/My Drive/Colab Notebooks/cw3 data/Respeck all/Respiratory//other/s95_respeck_standing_talking.csv',\n",
              " '/content/drive/My Drive/Colab Notebooks/cw3 data/Respeck all/Respiratory//other/s96_respeck_lyingBack_laughing.csv',\n",
              " '/content/drive/My Drive/Colab Notebooks/cw3 data/Respeck all/Respiratory//other/s95_respeck_lyingStomach_laughing.csv',\n",
              " '/content/drive/My Drive/Colab Notebooks/cw3 data/Respeck all/Respiratory//other/s95_respeck_lyingRight_talking.csv',\n",
              " '/content/drive/My Drive/Colab Notebooks/cw3 data/Respeck all/Respiratory//other/s96_respeck_lyingBack_singing.csv',\n",
              " '/content/drive/My Drive/Colab Notebooks/cw3 data/Respeck all/Respiratory//other/s95_respeck_sitting_laughing.csv',\n",
              " '/content/drive/My Drive/Colab Notebooks/cw3 data/Respeck all/Respiratory//other/s95_respeck_sitting_eating.csv',\n",
              " '/content/drive/My Drive/Colab Notebooks/cw3 data/Respeck all/Respiratory//other/s95_respeck_standing_eating.csv',\n",
              " '/content/drive/My Drive/Colab Notebooks/cw3 data/Respeck all/Respiratory//other/s95_respeck_sitting_singing.csv',\n",
              " '/content/drive/My Drive/Colab Notebooks/cw3 data/Respeck all/Respiratory//other/s96_respeck_lyingRight_talking.csv',\n",
              " '/content/drive/My Drive/Colab Notebooks/cw3 data/Respeck all/Respiratory//other/s96_respeck_standing_eating.csv',\n",
              " '/content/drive/My Drive/Colab Notebooks/cw3 data/Respeck all/Respiratory//other/s96_respeck_sitting_eating.csv',\n",
              " '/content/drive/My Drive/Colab Notebooks/cw3 data/Respeck all/Respiratory//other/s96_respeck_lyingStomach_laughing.csv',\n",
              " '/content/drive/My Drive/Colab Notebooks/cw3 data/Respeck all/Respiratory//other/s96_respeck_standing_singing.csv',\n",
              " '/content/drive/My Drive/Colab Notebooks/cw3 data/Respeck all/Respiratory//other/s96_respeck_lyingLeft_talking.csv',\n",
              " '/content/drive/My Drive/Colab Notebooks/cw3 data/Respeck all/Respiratory//other/s96_respeck_sitting_singing.csv',\n",
              " '/content/drive/My Drive/Colab Notebooks/cw3 data/Respeck all/Respiratory//other/s96_respeck_lyingLeft_singing.csv',\n",
              " '/content/drive/My Drive/Colab Notebooks/cw3 data/Respeck all/Respiratory//other/s96_respeck_standing_talking.csv',\n",
              " '/content/drive/My Drive/Colab Notebooks/cw3 data/Respeck all/Respiratory//other/s96_respeck_standing_laughing.csv',\n",
              " '/content/drive/My Drive/Colab Notebooks/cw3 data/Respeck all/Respiratory//other/s97_respeck_lyingBack_singing.csv',\n",
              " '/content/drive/My Drive/Colab Notebooks/cw3 data/Respeck all/Respiratory//other/s96_respeck_lyingStomach_talking.csv',\n",
              " '/content/drive/My Drive/Colab Notebooks/cw3 data/Respeck all/Respiratory//other/s96_respeck_lyingRight_laughing.csv',\n",
              " '/content/drive/My Drive/Colab Notebooks/cw3 data/Respeck all/Respiratory//other/s96_respeck_sitting_laughing.csv',\n",
              " '/content/drive/My Drive/Colab Notebooks/cw3 data/Respeck all/Respiratory//other/s96_respeck_lyingRight_singing.csv',\n",
              " '/content/drive/My Drive/Colab Notebooks/cw3 data/Respeck all/Respiratory//other/s97_respeck_lyingBack_laughing.csv',\n",
              " '/content/drive/My Drive/Colab Notebooks/cw3 data/Respeck all/Respiratory//other/s96_respeck_lyingStomach_singing.csv',\n",
              " '/content/drive/My Drive/Colab Notebooks/cw3 data/Respeck all/Respiratory//other/s96_respeck_lyingLeft_laughing.csv',\n",
              " '/content/drive/My Drive/Colab Notebooks/cw3 data/Respeck all/Respiratory//other/s96_respeck_sitting_talking.csv',\n",
              " '/content/drive/My Drive/Colab Notebooks/cw3 data/Respeck all/Respiratory//other/s96_respeck_lyingBack_talking.csv',\n",
              " '/content/drive/My Drive/Colab Notebooks/cw3 data/Respeck all/Respiratory//other/s97_respeck_lyingRight_singing.csv',\n",
              " '/content/drive/My Drive/Colab Notebooks/cw3 data/Respeck all/Respiratory//other/s97_respeck_standing_laughing.csv',\n",
              " '/content/drive/My Drive/Colab Notebooks/cw3 data/Respeck all/Respiratory//other/s97_respeck_lyingStomach_laughing.csv',\n",
              " '/content/drive/My Drive/Colab Notebooks/cw3 data/Respeck all/Respiratory//other/s97_respeck_lyingRight_laughing.csv',\n",
              " '/content/drive/My Drive/Colab Notebooks/cw3 data/Respeck all/Respiratory//other/s97_respeck_sitting_laughing.csv',\n",
              " '/content/drive/My Drive/Colab Notebooks/cw3 data/Respeck all/Respiratory//other/s97_respeck_sitting_talking.csv',\n",
              " '/content/drive/My Drive/Colab Notebooks/cw3 data/Respeck all/Respiratory//other/s97_respeck_lyingRight_talking.csv',\n",
              " '/content/drive/My Drive/Colab Notebooks/cw3 data/Respeck all/Respiratory//other/s97_respeck_standing_talking.csv',\n",
              " '/content/drive/My Drive/Colab Notebooks/cw3 data/Respeck all/Respiratory//other/s97_respeck_lyingBack_talking.csv',\n",
              " '/content/drive/My Drive/Colab Notebooks/cw3 data/Respeck all/Respiratory//other/s97_respeck_sitting_singing.csv',\n",
              " '/content/drive/My Drive/Colab Notebooks/cw3 data/Respeck all/Respiratory//other/s97_respeck_lyingLeft_singing.csv',\n",
              " '/content/drive/My Drive/Colab Notebooks/cw3 data/Respeck all/Respiratory//other/s97_respeck_lyingStomach_talking.csv',\n",
              " '/content/drive/My Drive/Colab Notebooks/cw3 data/Respeck all/Respiratory//other/s97_respeck_lyingStomach_singing.csv',\n",
              " '/content/drive/My Drive/Colab Notebooks/cw3 data/Respeck all/Respiratory//other/s97_respeck_lyingLeft_laughing.csv',\n",
              " '/content/drive/My Drive/Colab Notebooks/cw3 data/Respeck all/Respiratory//other/s97_respeck_lyingLeft_talking.csv',\n",
              " '/content/drive/My Drive/Colab Notebooks/cw3 data/Respeck all/Respiratory//other/s98_respeck_lyingBack_singing.csv',\n",
              " '/content/drive/My Drive/Colab Notebooks/cw3 data/Respeck all/Respiratory//other/s98_respeck_lyingBack_laughing.csv',\n",
              " '/content/drive/My Drive/Colab Notebooks/cw3 data/Respeck all/Respiratory//other/s97_respeck_standing_singing.csv',\n",
              " '/content/drive/My Drive/Colab Notebooks/cw3 data/Respeck all/Respiratory//other/s98_respeck_lyingBack_talking.csv',\n",
              " '/content/drive/My Drive/Colab Notebooks/cw3 data/Respeck all/Respiratory//other/s97_respeck_standing_eating.csv',\n",
              " '/content/drive/My Drive/Colab Notebooks/cw3 data/Respeck all/Respiratory//other/s97_respeck_sitting_eating.csv',\n",
              " '/content/drive/My Drive/Colab Notebooks/cw3 data/Respeck all/Respiratory//other/s99_respeck_lyingBack_laughing.csv',\n",
              " '/content/drive/My Drive/Colab Notebooks/cw3 data/Respeck all/Respiratory//other/s98_respeck_lyingStomach_talking.csv',\n",
              " '/content/drive/My Drive/Colab Notebooks/cw3 data/Respeck all/Respiratory//other/s98_respeck_lyingStomach_laughing.csv',\n",
              " '/content/drive/My Drive/Colab Notebooks/cw3 data/Respeck all/Respiratory//other/s98_respeck_lyingLeft_laughing.csv',\n",
              " '/content/drive/My Drive/Colab Notebooks/cw3 data/Respeck all/Respiratory//other/s98_respeck_lyingStomach_singing.csv',\n",
              " '/content/drive/My Drive/Colab Notebooks/cw3 data/Respeck all/Respiratory//other/s98_respeck_sitting_talking.csv',\n",
              " '/content/drive/My Drive/Colab Notebooks/cw3 data/Respeck all/Respiratory//other/s98_respeck_lyingRight_talking.csv',\n",
              " '/content/drive/My Drive/Colab Notebooks/cw3 data/Respeck all/Respiratory//other/s98_respeck_lyingRight_singing.csv',\n",
              " '/content/drive/My Drive/Colab Notebooks/cw3 data/Respeck all/Respiratory//other/s98_respeck_lyingLeft_talking.csv',\n",
              " '/content/drive/My Drive/Colab Notebooks/cw3 data/Respeck all/Respiratory//other/s98_respeck_standing_singing.csv',\n",
              " '/content/drive/My Drive/Colab Notebooks/cw3 data/Respeck all/Respiratory//other/s98_respeck_standing_laughing.csv',\n",
              " '/content/drive/My Drive/Colab Notebooks/cw3 data/Respeck all/Respiratory//other/s98_respeck_lyingRight_laughing.csv',\n",
              " '/content/drive/My Drive/Colab Notebooks/cw3 data/Respeck all/Respiratory//other/s98_respeck_sitting_laughing.csv',\n",
              " '/content/drive/My Drive/Colab Notebooks/cw3 data/Respeck all/Respiratory//other/s98_respeck_standing_eating.csv',\n",
              " '/content/drive/My Drive/Colab Notebooks/cw3 data/Respeck all/Respiratory//other/s98_respeck_standing_talking.csv',\n",
              " '/content/drive/My Drive/Colab Notebooks/cw3 data/Respeck all/Respiratory//other/s99_respeck_lyingBack_singing.csv',\n",
              " '/content/drive/My Drive/Colab Notebooks/cw3 data/Respeck all/Respiratory//other/s98_respeck_sitting_singing.csv',\n",
              " '/content/drive/My Drive/Colab Notebooks/cw3 data/Respeck all/Respiratory//other/s98_respeck_sitting_eating.csv',\n",
              " '/content/drive/My Drive/Colab Notebooks/cw3 data/Respeck all/Respiratory//other/s98_respeck_lyingLeft_singing.csv',\n",
              " '/content/drive/My Drive/Colab Notebooks/cw3 data/Respeck all/Respiratory//other/s99_respeck_lyingBack_talking.csv',\n",
              " '/content/drive/My Drive/Colab Notebooks/cw3 data/Respeck all/Respiratory//other/s99_respeck_lyingRight_talking.csv',\n",
              " '/content/drive/My Drive/Colab Notebooks/cw3 data/Respeck all/Respiratory//other/s9_respeck_lyingBack_singing.csv',\n",
              " '/content/drive/My Drive/Colab Notebooks/cw3 data/Respeck all/Respiratory//other/s99_respeck_standing_singing.csv',\n",
              " '/content/drive/My Drive/Colab Notebooks/cw3 data/Respeck all/Respiratory//other/s99_respeck_standing_talking.csv',\n",
              " '/content/drive/My Drive/Colab Notebooks/cw3 data/Respeck all/Respiratory//other/s9_respeck_lyingBack_talking.csv',\n",
              " '/content/drive/My Drive/Colab Notebooks/cw3 data/Respeck all/Respiratory//other/s99_respeck_lyingRight_laughing.csv',\n",
              " '/content/drive/My Drive/Colab Notebooks/cw3 data/Respeck all/Respiratory//other/s99_respeck_standing_eating.csv',\n",
              " '/content/drive/My Drive/Colab Notebooks/cw3 data/Respeck all/Respiratory//other/s9_respeck_lyingLeft_laughing.csv',\n",
              " '/content/drive/My Drive/Colab Notebooks/cw3 data/Respeck all/Respiratory//other/s99_respeck_lyingStomach_talking.csv',\n",
              " '/content/drive/My Drive/Colab Notebooks/cw3 data/Respeck all/Respiratory//other/s9_respeck_lyingBack_laughing.csv',\n",
              " '/content/drive/My Drive/Colab Notebooks/cw3 data/Respeck all/Respiratory//other/s99_respeck_lyingLeft_talking.csv',\n",
              " '/content/drive/My Drive/Colab Notebooks/cw3 data/Respeck all/Respiratory//other/s99_respeck_sitting_laughing.csv',\n",
              " '/content/drive/My Drive/Colab Notebooks/cw3 data/Respeck all/Respiratory//other/s99_respeck_lyingLeft_laughing.csv',\n",
              " '/content/drive/My Drive/Colab Notebooks/cw3 data/Respeck all/Respiratory//other/s99_respeck_lyingStomach_laughing.csv',\n",
              " '/content/drive/My Drive/Colab Notebooks/cw3 data/Respeck all/Respiratory//other/s99_respeck_sitting_eating.csv',\n",
              " '/content/drive/My Drive/Colab Notebooks/cw3 data/Respeck all/Respiratory//other/s99_respeck_lyingLeft_singing.csv',\n",
              " '/content/drive/My Drive/Colab Notebooks/cw3 data/Respeck all/Respiratory//other/s99_respeck_lyingStomach_singing.csv',\n",
              " '/content/drive/My Drive/Colab Notebooks/cw3 data/Respeck all/Respiratory//other/s99_respeck_sitting_talking.csv',\n",
              " '/content/drive/My Drive/Colab Notebooks/cw3 data/Respeck all/Respiratory//other/s99_respeck_lyingRight_singing.csv',\n",
              " '/content/drive/My Drive/Colab Notebooks/cw3 data/Respeck all/Respiratory//other/s9_respeck_lyingLeft_singing.csv',\n",
              " '/content/drive/My Drive/Colab Notebooks/cw3 data/Respeck all/Respiratory//other/s99_respeck_standing_laughing.csv',\n",
              " '/content/drive/My Drive/Colab Notebooks/cw3 data/Respeck all/Respiratory//other/s99_respeck_sitting_singing.csv',\n",
              " '/content/drive/My Drive/Colab Notebooks/cw3 data/Respeck all/Respiratory//other/s9_respeck_sitting_eating.csv',\n",
              " '/content/drive/My Drive/Colab Notebooks/cw3 data/Respeck all/Respiratory//other/s9_respeck_standing_singing.csv',\n",
              " '/content/drive/My Drive/Colab Notebooks/cw3 data/Respeck all/Respiratory//other/s9_respeck_lyingLeft_talking.csv',\n",
              " '/content/drive/My Drive/Colab Notebooks/cw3 data/Respeck all/Respiratory//other/s9_respeck_standing_eating.csv',\n",
              " '/content/drive/My Drive/Colab Notebooks/cw3 data/Respeck all/Respiratory//other/s9_respeck_lyingRight_talking.csv',\n",
              " '/content/drive/My Drive/Colab Notebooks/cw3 data/Respeck all/Respiratory//other/s9_respeck_lyingRight_singing.csv',\n",
              " '/content/drive/My Drive/Colab Notebooks/cw3 data/Respeck all/Respiratory//other/s9_respeck_sitting_singing.csv',\n",
              " '/content/drive/My Drive/Colab Notebooks/cw3 data/Respeck all/Respiratory//other/s9_respeck_sitting_laughing.csv',\n",
              " '/content/drive/My Drive/Colab Notebooks/cw3 data/Respeck all/Respiratory//other/s9_respeck_lyingStomach_singing.csv',\n",
              " '/content/drive/My Drive/Colab Notebooks/cw3 data/Respeck all/Respiratory//other/s9_respeck_standing_talking.csv',\n",
              " '/content/drive/My Drive/Colab Notebooks/cw3 data/Respeck all/Respiratory//other/s9_respeck_lyingRight_laughing.csv',\n",
              " '/content/drive/My Drive/Colab Notebooks/cw3 data/Respeck all/Respiratory//other/s9_respeck_lyingStomach_laughing.csv',\n",
              " '/content/drive/My Drive/Colab Notebooks/cw3 data/Respeck all/Respiratory//other/s9_respeck_standing_laughing.csv',\n",
              " '/content/drive/My Drive/Colab Notebooks/cw3 data/Respeck all/Respiratory//other/s9_respeck_sitting_talking.csv',\n",
              " '/content/drive/My Drive/Colab Notebooks/cw3 data/Respeck all/Respiratory//other/s9_respeck_lyingStomach_talking.csv',\n",
              " '/content/drive/My Drive/Colab Notebooks/cw3 data/Respeck all/Respiratory//other/00_Respeck_Sitting_Talking.csv',\n",
              " '/content/drive/My Drive/Colab Notebooks/cw3 data/Respeck all/Respiratory//other/00_Respeck_Sitting_Laughing.csv',\n",
              " '/content/drive/My Drive/Colab Notebooks/cw3 data/Respeck all/Respiratory//other/00_Respeck_Lying down on left_Singing.csv',\n",
              " '/content/drive/My Drive/Colab Notebooks/cw3 data/Respeck all/Respiratory//other/00_Respeck_Lying down right_Singing.csv',\n",
              " '/content/drive/My Drive/Colab Notebooks/cw3 data/Respeck all/Respiratory//other/00_Respeck_Lying down right_Talking.csv',\n",
              " '/content/drive/My Drive/Colab Notebooks/cw3 data/Respeck all/Respiratory//other/00_Respeck_Standing_Talking.csv',\n",
              " '/content/drive/My Drive/Colab Notebooks/cw3 data/Respeck all/Respiratory//other/00_Respeck_Sitting_Eating.csv',\n",
              " '/content/drive/My Drive/Colab Notebooks/cw3 data/Respeck all/Respiratory//other/00_Respeck_Standing_Laughing.csv',\n",
              " '/content/drive/My Drive/Colab Notebooks/cw3 data/Respeck all/Respiratory//other/00_Respeck_Standing_Eating.csv',\n",
              " '/content/drive/My Drive/Colab Notebooks/cw3 data/Respeck all/Respiratory//other/00_Respeck_Sitting_Singing.csv',\n",
              " '/content/drive/My Drive/Colab Notebooks/cw3 data/Respeck all/Respiratory//other/00_Respeck_Lying down on stomach_Laughing.csv',\n",
              " '/content/drive/My Drive/Colab Notebooks/cw3 data/Respeck all/Respiratory//other/00_Respeck_Lying down on stomach_Singing.csv',\n",
              " '/content/drive/My Drive/Colab Notebooks/cw3 data/Respeck all/Respiratory//other/00_Respeck_Lying down back_Talking.csv',\n",
              " '/content/drive/My Drive/Colab Notebooks/cw3 data/Respeck all/Respiratory//other/00_Respeck_Lying down right_Laughing.csv',\n",
              " '/content/drive/My Drive/Colab Notebooks/cw3 data/Respeck all/Respiratory//other/00_Respeck_Lying down on left_Laughing.csv',\n",
              " '/content/drive/My Drive/Colab Notebooks/cw3 data/Respeck all/Respiratory//other/00_Respeck_Lying down back_Singing.csv',\n",
              " '/content/drive/My Drive/Colab Notebooks/cw3 data/Respeck all/Respiratory//other/00_Respeck_Lying down back_Laughing.csv',\n",
              " '/content/drive/My Drive/Colab Notebooks/cw3 data/Respeck all/Respiratory//other/00_Respeck_Lying down on stomach_Talking.csv',\n",
              " '/content/drive/My Drive/Colab Notebooks/cw3 data/Respeck all/Respiratory//other/00_Respeck_Lying down on left_Talking.csv',\n",
              " '/content/drive/My Drive/Colab Notebooks/cw3 data/Respeck all/Respiratory//other/00_Respeck_Standing_Singing.csv',\n",
              " '/content/drive/My Drive/Colab Notebooks/cw3 data/Respeck all/Respiratory//other/02_Respeck_Standing_Talking.csv',\n",
              " '/content/drive/My Drive/Colab Notebooks/cw3 data/Respeck all/Respiratory//other/02_Respeck_Lying down on left_Talking.csv',\n",
              " '/content/drive/My Drive/Colab Notebooks/cw3 data/Respeck all/Respiratory//other/02_Respeck_Sitting_Talking.csv',\n",
              " '/content/drive/My Drive/Colab Notebooks/cw3 data/Respeck all/Respiratory//other/02_Respeck_Lying down back_Talking.csv',\n",
              " '/content/drive/My Drive/Colab Notebooks/cw3 data/Respeck all/Respiratory//other/02_Respeck_Sitting_Singing.csv',\n",
              " '/content/drive/My Drive/Colab Notebooks/cw3 data/Respeck all/Respiratory//other/02_Respeck_Lying down on stomach_Talking.csv',\n",
              " '/content/drive/My Drive/Colab Notebooks/cw3 data/Respeck all/Respiratory//other/02_Respeck_Standing_Singing.csv',\n",
              " '/content/drive/My Drive/Colab Notebooks/cw3 data/Respeck all/Respiratory//other/02_Respeck_Standing_Eating.csv',\n",
              " '/content/drive/My Drive/Colab Notebooks/cw3 data/Respeck all/Respiratory//other/02_Respeck_Lying down right_Talking.csv',\n",
              " '/content/drive/My Drive/Colab Notebooks/cw3 data/Respeck all/Respiratory//other/02_Respeck_Sitting_Eating.csv',\n",
              " '/content/drive/My Drive/Colab Notebooks/cw3 data/Respeck all/Respiratory//other/02_Respeck_Lying down on stomach_Singing.csv',\n",
              " '/content/drive/My Drive/Colab Notebooks/cw3 data/Respeck all/Respiratory//other/02_Respeck_Lying down back_Laughing.csv',\n",
              " '/content/drive/My Drive/Colab Notebooks/cw3 data/Respeck all/Respiratory//other/02_Respeck_Lying down on left_Laughing.csv',\n",
              " '/content/drive/My Drive/Colab Notebooks/cw3 data/Respeck all/Respiratory//other/02_Respeck_Lying down back_Singing.csv',\n",
              " '/content/drive/My Drive/Colab Notebooks/cw3 data/Respeck all/Respiratory//other/02_Respeck_Lying down on left_Singing.csv',\n",
              " '/content/drive/My Drive/Colab Notebooks/cw3 data/Respeck all/Respiratory//other/02_Respeck_Sitting_Laughing.csv',\n",
              " '/content/drive/My Drive/Colab Notebooks/cw3 data/Respeck all/Respiratory//other/02_Respeck_Lying down right_Laughing.csv',\n",
              " '/content/drive/My Drive/Colab Notebooks/cw3 data/Respeck all/Respiratory//other/02_Respeck_Lying down right_Singing.csv',\n",
              " '/content/drive/My Drive/Colab Notebooks/cw3 data/Respeck all/Respiratory//other/02_Respeck_Lying down on stomach_Laughing.csv',\n",
              " '/content/drive/My Drive/Colab Notebooks/cw3 data/Respeck all/Respiratory//other/02_Respeck_Standing_Laughing.csv',\n",
              " '/content/drive/My Drive/Colab Notebooks/cw3 data/Respeck all/Respiratory//other/03_Respeck_Standing_Laughing.csv',\n",
              " '/content/drive/My Drive/Colab Notebooks/cw3 data/Respeck all/Respiratory//other/03_Respeck_Lying down on stomach_Talking.csv',\n",
              " '/content/drive/My Drive/Colab Notebooks/cw3 data/Respeck all/Respiratory//other/03_Respeck_Sitting_Eating.csv',\n",
              " '/content/drive/My Drive/Colab Notebooks/cw3 data/Respeck all/Respiratory//other/03_Respeck_Standing_Talking.csv',\n",
              " '/content/drive/My Drive/Colab Notebooks/cw3 data/Respeck all/Respiratory//other/03_Respeck_Lying down on stomach_Laughing.csv',\n",
              " '/content/drive/My Drive/Colab Notebooks/cw3 data/Respeck all/Respiratory//other/03_Respeck_Lying down right_Talking.csv',\n",
              " '/content/drive/My Drive/Colab Notebooks/cw3 data/Respeck all/Respiratory//other/03_Respeck_Lying down right_Singing.csv',\n",
              " '/content/drive/My Drive/Colab Notebooks/cw3 data/Respeck all/Respiratory//other/03_Respeck_Lying down back_Laughing.csv',\n",
              " '/content/drive/My Drive/Colab Notebooks/cw3 data/Respeck all/Respiratory//other/03_Respeck_Sitting_Talking.csv',\n",
              " '/content/drive/My Drive/Colab Notebooks/cw3 data/Respeck all/Respiratory//other/03_Respeck_Lying down on stomach_Singing.csv',\n",
              " '/content/drive/My Drive/Colab Notebooks/cw3 data/Respeck all/Respiratory//other/03_Respeck_Lying down right_Laughing.csv',\n",
              " '/content/drive/My Drive/Colab Notebooks/cw3 data/Respeck all/Respiratory//other/03_Respeck_Lying down back_Talking.csv',\n",
              " '/content/drive/My Drive/Colab Notebooks/cw3 data/Respeck all/Respiratory//other/03_Respeck_Lying down back_Singing.csv',\n",
              " '/content/drive/My Drive/Colab Notebooks/cw3 data/Respeck all/Respiratory//other/03_Respeck_Lying down on left_Talking.csv',\n",
              " '/content/drive/My Drive/Colab Notebooks/cw3 data/Respeck all/Respiratory//other/03_Respeck_Sitting_Laughing.csv',\n",
              " '/content/drive/My Drive/Colab Notebooks/cw3 data/Respeck all/Respiratory//other/03_Respeck_Sitting_Singing.csv',\n",
              " '/content/drive/My Drive/Colab Notebooks/cw3 data/Respeck all/Respiratory//other/03_Respeck_Standing_Eating.csv',\n",
              " '/content/drive/My Drive/Colab Notebooks/cw3 data/Respeck all/Respiratory//other/03_Respeck_Standing_Singing.csv',\n",
              " '/content/drive/My Drive/Colab Notebooks/cw3 data/Respeck all/Respiratory//other/03_Respeck_Lying down on left_Laughing.csv',\n",
              " '/content/drive/My Drive/Colab Notebooks/cw3 data/Respeck all/Respiratory//other/03_Respeck_Lying down on left_Singing.csv',\n",
              " '/content/drive/My Drive/Colab Notebooks/cw3 data/Respeck all/Respiratory//other/04_Respeck_Lying down back_Singing.csv',\n",
              " '/content/drive/My Drive/Colab Notebooks/cw3 data/Respeck all/Respiratory//other/04_Respeck_Lying down on stomach_Talking.csv',\n",
              " '/content/drive/My Drive/Colab Notebooks/cw3 data/Respeck all/Respiratory//other/04_Respeck_Sitting_Eating.csv',\n",
              " '/content/drive/My Drive/Colab Notebooks/cw3 data/Respeck all/Respiratory//other/04_Respeck_Standing_Eating.csv',\n",
              " '/content/drive/My Drive/Colab Notebooks/cw3 data/Respeck all/Respiratory//other/04_Respeck_Lying down on left_Talking.csv',\n",
              " '/content/drive/My Drive/Colab Notebooks/cw3 data/Respeck all/Respiratory//other/04_Respeck_Sitting_Laughing.csv',\n",
              " '/content/drive/My Drive/Colab Notebooks/cw3 data/Respeck all/Respiratory//other/04_Respeck_Lying down back_Talking.csv',\n",
              " '/content/drive/My Drive/Colab Notebooks/cw3 data/Respeck all/Respiratory//other/04_Respeck_Standing_Talking.csv',\n",
              " '/content/drive/My Drive/Colab Notebooks/cw3 data/Respeck all/Respiratory//other/04_Respeck_Lying down right_Singing.csv',\n",
              " '/content/drive/My Drive/Colab Notebooks/cw3 data/Respeck all/Respiratory//other/04_Respeck_Lying down on left_Singing.csv',\n",
              " '/content/drive/My Drive/Colab Notebooks/cw3 data/Respeck all/Respiratory//other/04_Respeck_Standing_Singing.csv',\n",
              " '/content/drive/My Drive/Colab Notebooks/cw3 data/Respeck all/Respiratory//other/05_Respeck_Sitting_Talking.csv',\n",
              " '/content/drive/My Drive/Colab Notebooks/cw3 data/Respeck all/Respiratory//other/05_Respeck_Standing_Eating.csv',\n",
              " '/content/drive/My Drive/Colab Notebooks/cw3 data/Respeck all/Respiratory//other/05_Respeck_Standing_Singing.csv',\n",
              " '/content/drive/My Drive/Colab Notebooks/cw3 data/Respeck all/Respiratory//other/07_Respeck_Sitting_Eating.csv',\n",
              " '/content/drive/My Drive/Colab Notebooks/cw3 data/Respeck all/Respiratory//other/07_Respeck_Standing_Eating.csv',\n",
              " '/content/drive/My Drive/Colab Notebooks/cw3 data/Respeck all/Respiratory//other/07_Respeck_Standing_Singing.csv',\n",
              " '/content/drive/My Drive/Colab Notebooks/cw3 data/Respeck all/Respiratory//other/08_Respeck_Lying down on stomach_Talking.csv',\n",
              " '/content/drive/My Drive/Colab Notebooks/cw3 data/Respeck all/Respiratory//other/09_Respeck_Sitting_Singing.csv',\n",
              " '/content/drive/My Drive/Colab Notebooks/cw3 data/Respeck all/Respiratory//other/09_Respeck_Lying down back_Laughing.csv',\n",
              " '/content/drive/My Drive/Colab Notebooks/cw3 data/Respeck all/Respiratory//other/09_Respeck_Standing_Talking.csv',\n",
              " '/content/drive/My Drive/Colab Notebooks/cw3 data/Respeck all/Respiratory//other/09_Respeck_Lying down right_Singing.csv',\n",
              " '/content/drive/My Drive/Colab Notebooks/cw3 data/Respeck all/Respiratory//other/09_Respeck_Lying down on left_Singing.csv',\n",
              " '/content/drive/My Drive/Colab Notebooks/cw3 data/Respeck all/Respiratory//other/09_Respeck_Standing_Laughing.csv',\n",
              " '/content/drive/My Drive/Colab Notebooks/cw3 data/Respeck all/Respiratory//other/09_Respeck_Lying down on left_Laughing.csv',\n",
              " '/content/drive/My Drive/Colab Notebooks/cw3 data/Respeck all/Respiratory//other/09_Respeck_Standing_Singing.csv',\n",
              " '/content/drive/My Drive/Colab Notebooks/cw3 data/Respeck all/Respiratory//other/09_Respeck_Lying down back_Talking.csv',\n",
              " '/content/drive/My Drive/Colab Notebooks/cw3 data/Respeck all/Respiratory//other/09_Respeck_Standing_Eating.csv',\n",
              " '/content/drive/My Drive/Colab Notebooks/cw3 data/Respeck all/Respiratory//other/09_Respeck_Sitting_Laughing.csv',\n",
              " '/content/drive/My Drive/Colab Notebooks/cw3 data/Respeck all/Respiratory//other/09_Respeck_Lying down back_Singing.csv',\n",
              " '/content/drive/My Drive/Colab Notebooks/cw3 data/Respeck all/Respiratory//other/09_Respeck_Lying down on stomach_Talking.csv',\n",
              " '/content/drive/My Drive/Colab Notebooks/cw3 data/Respeck all/Respiratory//other/09_Respeck_Lying down on stomach_Laughing.csv',\n",
              " '/content/drive/My Drive/Colab Notebooks/cw3 data/Respeck all/Respiratory//other/09_Respeck_Lying down on left_Talking.csv',\n",
              " '/content/drive/My Drive/Colab Notebooks/cw3 data/Respeck all/Respiratory//other/09_Respeck_Lying down right_Laughing.csv',\n",
              " '/content/drive/My Drive/Colab Notebooks/cw3 data/Respeck all/Respiratory//other/09_Respeck_Lying down right_Talking.csv',\n",
              " '/content/drive/My Drive/Colab Notebooks/cw3 data/Respeck all/Respiratory//other/09_Respeck_Sitting_Talking.csv',\n",
              " '/content/drive/My Drive/Colab Notebooks/cw3 data/Respeck all/Respiratory//other/09_Respeck_Sitting_Eating.csv',\n",
              " '/content/drive/My Drive/Colab Notebooks/cw3 data/Respeck all/Respiratory//other/09_Respeck_Lying down on stomach_Singing.csv',\n",
              " '/content/drive/My Drive/Colab Notebooks/cw3 data/Respeck all/Respiratory//other/10_Respeck_Sitting_Talking.csv',\n",
              " '/content/drive/My Drive/Colab Notebooks/cw3 data/Respeck all/Respiratory//other/10_Respeck_Lying down on stomach_Talking.csv',\n",
              " '/content/drive/My Drive/Colab Notebooks/cw3 data/Respeck all/Respiratory//other/10_Respeck_Sitting_Eating.csv',\n",
              " '/content/drive/My Drive/Colab Notebooks/cw3 data/Respeck all/Respiratory//other/10_Respeck_Lying down back_Talking.csv',\n",
              " '/content/drive/My Drive/Colab Notebooks/cw3 data/Respeck all/Respiratory//other/10_Respeck_Standing_Eating.csv',\n",
              " '/content/drive/My Drive/Colab Notebooks/cw3 data/Respeck all/Respiratory//other/10_Respeck_Standing_Talking.csv',\n",
              " '/content/drive/My Drive/Colab Notebooks/cw3 data/Respeck all/Respiratory//other/10_Respeck_Lying down right_Talking.csv',\n",
              " '/content/drive/My Drive/Colab Notebooks/cw3 data/Respeck all/Respiratory//other/10_Respeck_Lying down on left_Talking.csv',\n",
              " '/content/drive/My Drive/Colab Notebooks/cw3 data/Respeck all/Respiratory//other/10_Respeck_Lying down back_Singing.csv',\n",
              " '/content/drive/My Drive/Colab Notebooks/cw3 data/Respeck all/Respiratory//other/10_Respeck_Lying down on left_Singing.csv',\n",
              " '/content/drive/My Drive/Colab Notebooks/cw3 data/Respeck all/Respiratory//other/10_Respeck_Lying down on stomach_Laughing.csv',\n",
              " '/content/drive/My Drive/Colab Notebooks/cw3 data/Respeck all/Respiratory//other/10_Respeck_Sitting_Singing.csv',\n",
              " '/content/drive/My Drive/Colab Notebooks/cw3 data/Respeck all/Respiratory//other/10_Respeck_Lying down right_Laughing.csv',\n",
              " '/content/drive/My Drive/Colab Notebooks/cw3 data/Respeck all/Respiratory//other/10_Respeck_Lying down right_Singing.csv',\n",
              " '/content/drive/My Drive/Colab Notebooks/cw3 data/Respeck all/Respiratory//other/10_Respeck_Standing_Singing.csv',\n",
              " '/content/drive/My Drive/Colab Notebooks/cw3 data/Respeck all/Respiratory//other/10_Respeck_Lying down on stomach_Singing.csv',\n",
              " '/content/drive/My Drive/Colab Notebooks/cw3 data/Respeck all/Respiratory//other/10_Respeck_Lying down on left_Laughing.csv',\n",
              " '/content/drive/My Drive/Colab Notebooks/cw3 data/Respeck all/Respiratory//other/10_Respeck_Lying down back_Laughing.csv',\n",
              " '/content/drive/My Drive/Colab Notebooks/cw3 data/Respeck all/Respiratory//other/10_Respeck_Sitting_Laughing.csv',\n",
              " '/content/drive/My Drive/Colab Notebooks/cw3 data/Respeck all/Respiratory//other/10_Respeck_Standing_Laughing.csv',\n",
              " '/content/drive/My Drive/Colab Notebooks/cw3 data/Respeck all/Respiratory//other/11_Respeck_Lying down right_Singing.csv',\n",
              " '/content/drive/My Drive/Colab Notebooks/cw3 data/Respeck all/Respiratory//other/12_Respeck_Standing_Laughing.csv',\n",
              " '/content/drive/My Drive/Colab Notebooks/cw3 data/Respeck all/Respiratory//other/12_Respeck_Lying down on left_Singing.csv',\n",
              " '/content/drive/My Drive/Colab Notebooks/cw3 data/Respeck all/Respiratory//other/12_Respeck_Lying down on left_Talking.csv',\n",
              " '/content/drive/My Drive/Colab Notebooks/cw3 data/Respeck all/Respiratory//other/12_Respeck_Lying down back_Singing.csv',\n",
              " '/content/drive/My Drive/Colab Notebooks/cw3 data/Respeck all/Respiratory//other/12_Respeck_Sitting_Laughing.csv',\n",
              " '/content/drive/My Drive/Colab Notebooks/cw3 data/Respeck all/Respiratory//other/12_Respeck_Lying down back_Talking.csv',\n",
              " '/content/drive/My Drive/Colab Notebooks/cw3 data/Respeck all/Respiratory//other/12_Respeck_Lying down back_Laughing.csv',\n",
              " '/content/drive/My Drive/Colab Notebooks/cw3 data/Respeck all/Respiratory//other/12_Respeck_Standing_Talking.csv',\n",
              " '/content/drive/My Drive/Colab Notebooks/cw3 data/Respeck all/Respiratory//other/12_Respeck_Sitting_Talking.csv',\n",
              " '/content/drive/My Drive/Colab Notebooks/cw3 data/Respeck all/Respiratory//other/12_Respeck_Standing_Eating.csv',\n",
              " '/content/drive/My Drive/Colab Notebooks/cw3 data/Respeck all/Respiratory//other/12_Respeck_Lying down right_Laughing.csv',\n",
              " '/content/drive/My Drive/Colab Notebooks/cw3 data/Respeck all/Respiratory//other/12_Respeck_Standing_Singing.csv',\n",
              " '/content/drive/My Drive/Colab Notebooks/cw3 data/Respeck all/Respiratory//other/12_Respeck_Sitting_Singing.csv',\n",
              " '/content/drive/My Drive/Colab Notebooks/cw3 data/Respeck all/Respiratory//other/12_Respeck_Sitting_Eating.csv',\n",
              " '/content/drive/My Drive/Colab Notebooks/cw3 data/Respeck all/Respiratory//other/12_Respeck_Lying down right_Singing.csv',\n",
              " '/content/drive/My Drive/Colab Notebooks/cw3 data/Respeck all/Respiratory//other/12_Respeck_Lying down on left_Laughing.csv',\n",
              " '/content/drive/My Drive/Colab Notebooks/cw3 data/Respeck all/Respiratory//other/12_Respeck_Lying down on stomach_Singing.csv',\n",
              " '/content/drive/My Drive/Colab Notebooks/cw3 data/Respeck all/Respiratory//other/12_Respeck_Lying down right_Talking.csv',\n",
              " '/content/drive/My Drive/Colab Notebooks/cw3 data/Respeck all/Respiratory//other/12_Respeck_Lying down on stomach_Talking.csv',\n",
              " '/content/drive/My Drive/Colab Notebooks/cw3 data/Respeck all/Respiratory//other/12_Respeck_Lying down on stomach_Laughing.csv',\n",
              " '/content/drive/My Drive/Colab Notebooks/cw3 data/Respeck all/Respiratory//other/13_Respeck_Lying down back_Laughing.csv',\n",
              " '/content/drive/My Drive/Colab Notebooks/cw3 data/Respeck all/Respiratory//other/13_Respeck_Lying down on left_Talking.csv',\n",
              " '/content/drive/My Drive/Colab Notebooks/cw3 data/Respeck all/Respiratory//other/13_Respeck_Sitting_Laughing.csv',\n",
              " '/content/drive/My Drive/Colab Notebooks/cw3 data/Respeck all/Respiratory//other/13_Respeck_Lying down on stomach_Singing.csv',\n",
              " '/content/drive/My Drive/Colab Notebooks/cw3 data/Respeck all/Respiratory//other/13_Respeck_Standing_Talking.csv',\n",
              " '/content/drive/My Drive/Colab Notebooks/cw3 data/Respeck all/Respiratory//other/13_Respeck_Sitting_Talking.csv',\n",
              " '/content/drive/My Drive/Colab Notebooks/cw3 data/Respeck all/Respiratory//other/13_Respeck_Lying down on left_Singing.csv',\n",
              " '/content/drive/My Drive/Colab Notebooks/cw3 data/Respeck all/Respiratory//other/13_Respeck_Lying down on stomach_Talking.csv',\n",
              " '/content/drive/My Drive/Colab Notebooks/cw3 data/Respeck all/Respiratory//other/13_Respeck_Lying down back_Singing.csv',\n",
              " '/content/drive/My Drive/Colab Notebooks/cw3 data/Respeck all/Respiratory//other/13_Respeck_Standing_Eating.csv',\n",
              " '/content/drive/My Drive/Colab Notebooks/cw3 data/Respeck all/Respiratory//other/13_Respeck_Lying down right_Laughing.csv',\n",
              " '/content/drive/My Drive/Colab Notebooks/cw3 data/Respeck all/Respiratory//other/13_Respeck_Sitting_Eating.csv',\n",
              " '/content/drive/My Drive/Colab Notebooks/cw3 data/Respeck all/Respiratory//other/13_Respeck_Lying down on stomach_Laughing.csv',\n",
              " '/content/drive/My Drive/Colab Notebooks/cw3 data/Respeck all/Respiratory//other/13_Respeck_Standing_Laughing.csv',\n",
              " '/content/drive/My Drive/Colab Notebooks/cw3 data/Respeck all/Respiratory//other/13_Respeck_Lying down right_Singing.csv',\n",
              " '/content/drive/My Drive/Colab Notebooks/cw3 data/Respeck all/Respiratory//other/13_Respeck_Lying down right_Talking.csv',\n",
              " '/content/drive/My Drive/Colab Notebooks/cw3 data/Respeck all/Respiratory//other/13_Respeck_Lying down back_Talking.csv',\n",
              " '/content/drive/My Drive/Colab Notebooks/cw3 data/Respeck all/Respiratory//other/13_Respeck_Lying down on left_Laughing.csv',\n",
              " '/content/drive/My Drive/Colab Notebooks/cw3 data/Respeck all/Respiratory//other/13_Respeck_Standing_Singing.csv',\n",
              " '/content/drive/My Drive/Colab Notebooks/cw3 data/Respeck all/Respiratory//other/13_Respeck_Sitting_Singing.csv',\n",
              " '/content/drive/My Drive/Colab Notebooks/cw3 data/Respeck all/Respiratory//other/14_Respeck_Lying down on stomach_Singing.csv',\n",
              " '/content/drive/My Drive/Colab Notebooks/cw3 data/Respeck all/Respiratory//other/14_Respeck_Lying down back_Singing.csv',\n",
              " '/content/drive/My Drive/Colab Notebooks/cw3 data/Respeck all/Respiratory//other/14_Respeck_Lying down back_Laughing.csv',\n",
              " '/content/drive/My Drive/Colab Notebooks/cw3 data/Respeck all/Respiratory//other/14_Respeck_Sitting_Talking.csv',\n",
              " '/content/drive/My Drive/Colab Notebooks/cw3 data/Respeck all/Respiratory//other/14_Respeck_Lying down right_Laughing.csv',\n",
              " '/content/drive/My Drive/Colab Notebooks/cw3 data/Respeck all/Respiratory//other/14_Respeck_Lying down on left_Singing.csv',\n",
              " '/content/drive/My Drive/Colab Notebooks/cw3 data/Respeck all/Respiratory//other/14_Respeck_Lying down on stomach_Laughing.csv',\n",
              " '/content/drive/My Drive/Colab Notebooks/cw3 data/Respeck all/Respiratory//other/14_Respeck_Sitting_Singing.csv',\n",
              " '/content/drive/My Drive/Colab Notebooks/cw3 data/Respeck all/Respiratory//other/14_Respeck_Standing_Talking.csv',\n",
              " '/content/drive/My Drive/Colab Notebooks/cw3 data/Respeck all/Respiratory//other/14_Respeck_Lying down on left_Laughing.csv',\n",
              " '/content/drive/My Drive/Colab Notebooks/cw3 data/Respeck all/Respiratory//other/14_Respeck_Lying down back_Talking.csv',\n",
              " '/content/drive/My Drive/Colab Notebooks/cw3 data/Respeck all/Respiratory//other/14_Respeck_Lying down on stomach_Talking.csv',\n",
              " '/content/drive/My Drive/Colab Notebooks/cw3 data/Respeck all/Respiratory//other/14_Respeck_Lying down right_Singing.csv',\n",
              " '/content/drive/My Drive/Colab Notebooks/cw3 data/Respeck all/Respiratory//other/14_Respeck_Lying down right_Talking.csv',\n",
              " '/content/drive/My Drive/Colab Notebooks/cw3 data/Respeck all/Respiratory//other/14_Respeck_Standing_Eating.csv',\n",
              " '/content/drive/My Drive/Colab Notebooks/cw3 data/Respeck all/Respiratory//other/14_Respeck_Standing_Laughing.csv',\n",
              " '/content/drive/My Drive/Colab Notebooks/cw3 data/Respeck all/Respiratory//other/14_Respeck_Sitting_Laughing.csv',\n",
              " '/content/drive/My Drive/Colab Notebooks/cw3 data/Respeck all/Respiratory//other/14_Respeck_Standing_Singing.csv',\n",
              " '/content/drive/My Drive/Colab Notebooks/cw3 data/Respeck all/Respiratory//other/14_Respeck_Lying down on left_Talking.csv',\n",
              " '/content/drive/My Drive/Colab Notebooks/cw3 data/Respeck all/Respiratory//other/14_Respeck_Sitting_Eating.csv',\n",
              " '/content/drive/My Drive/Colab Notebooks/cw3 data/Respeck all/Respiratory//other/16_Respeck_Standing_Laughing.csv',\n",
              " '/content/drive/My Drive/Colab Notebooks/cw3 data/Respeck all/Respiratory//other/16_Respeck_Standing_Singing.csv',\n",
              " '/content/drive/My Drive/Colab Notebooks/cw3 data/Respeck all/Respiratory//other/16_Respeck_Sitting_Eating.csv',\n",
              " '/content/drive/My Drive/Colab Notebooks/cw3 data/Respeck all/Respiratory//other/16_Respeck_Lying down back_Talking.csv',\n",
              " '/content/drive/My Drive/Colab Notebooks/cw3 data/Respeck all/Respiratory//other/16_Respeck_Lying down back_Singing.csv',\n",
              " '/content/drive/My Drive/Colab Notebooks/cw3 data/Respeck all/Respiratory//other/16_Respeck_Lying down on stomach_Laughing.csv',\n",
              " '/content/drive/My Drive/Colab Notebooks/cw3 data/Respeck all/Respiratory//other/16_Respeck_Lying down back_Laughing.csv',\n",
              " '/content/drive/My Drive/Colab Notebooks/cw3 data/Respeck all/Respiratory//other/16_Respeck_Lying down on left_Laughing.csv',\n",
              " '/content/drive/My Drive/Colab Notebooks/cw3 data/Respeck all/Respiratory//other/16_Respeck_Lying down on left_Talking.csv',\n",
              " '/content/drive/My Drive/Colab Notebooks/cw3 data/Respeck all/Respiratory//other/16_Respeck_Sitting_Talking.csv',\n",
              " '/content/drive/My Drive/Colab Notebooks/cw3 data/Respeck all/Respiratory//other/16_Respeck_Standing_Eating.csv',\n",
              " '/content/drive/My Drive/Colab Notebooks/cw3 data/Respeck all/Respiratory//other/16_Respeck_Lying down right_Singing.csv',\n",
              " '/content/drive/My Drive/Colab Notebooks/cw3 data/Respeck all/Respiratory//other/16_Respeck_Lying down on stomach_Singing.csv',\n",
              " '/content/drive/My Drive/Colab Notebooks/cw3 data/Respeck all/Respiratory//other/16_Respeck_Lying down on stomach_Talking.csv',\n",
              " '/content/drive/My Drive/Colab Notebooks/cw3 data/Respeck all/Respiratory//other/16_Respeck_Sitting_Singing.csv',\n",
              " '/content/drive/My Drive/Colab Notebooks/cw3 data/Respeck all/Respiratory//other/16_Respeck_Lying down right_Laughing.csv',\n",
              " '/content/drive/My Drive/Colab Notebooks/cw3 data/Respeck all/Respiratory//other/16_Respeck_Lying down right_Talking.csv',\n",
              " '/content/drive/My Drive/Colab Notebooks/cw3 data/Respeck all/Respiratory//other/16_Respeck_Sitting_Laughing.csv',\n",
              " '/content/drive/My Drive/Colab Notebooks/cw3 data/Respeck all/Respiratory//other/16_Respeck_Standing_Talking.csv',\n",
              " '/content/drive/My Drive/Colab Notebooks/cw3 data/Respeck all/Respiratory//other/16_Respeck_Lying down on left_Singing.csv',\n",
              " '/content/drive/My Drive/Colab Notebooks/cw3 data/Respeck all/Respiratory//other/17_Respeck_Sitting_Singing.csv',\n",
              " '/content/drive/My Drive/Colab Notebooks/cw3 data/Respeck all/Respiratory//other/17_Respeck_Standing_Eating.csv',\n",
              " '/content/drive/My Drive/Colab Notebooks/cw3 data/Respeck all/Respiratory//other/18_Respeck_Standing_Laughing.csv',\n",
              " '/content/drive/My Drive/Colab Notebooks/cw3 data/Respeck all/Respiratory//other/18_Respeck_Sitting_Eating.csv',\n",
              " '/content/drive/My Drive/Colab Notebooks/cw3 data/Respeck all/Respiratory//other/18_Respeck_Standing_Eating.csv',\n",
              " '/content/drive/My Drive/Colab Notebooks/cw3 data/Respeck all/Respiratory//other/18_Respeck_Sitting_Singing.csv',\n",
              " '/content/drive/My Drive/Colab Notebooks/cw3 data/Respeck all/Respiratory//other/18_Respeck_Lying down on stomach_Singing.csv',\n",
              " '/content/drive/My Drive/Colab Notebooks/cw3 data/Respeck all/Respiratory//other/18_Respeck_Lying down right_Talking.csv',\n",
              " '/content/drive/My Drive/Colab Notebooks/cw3 data/Respeck all/Respiratory//other/18_Respeck_Lying down back_Laughing.csv',\n",
              " '/content/drive/My Drive/Colab Notebooks/cw3 data/Respeck all/Respiratory//other/18_Respeck_Lying down on left_Singing.csv',\n",
              " '/content/drive/My Drive/Colab Notebooks/cw3 data/Respeck all/Respiratory//other/18_Respeck_Lying down right_Laughing.csv',\n",
              " '/content/drive/My Drive/Colab Notebooks/cw3 data/Respeck all/Respiratory//other/18_Respeck_Standing_Singing.csv',\n",
              " '/content/drive/My Drive/Colab Notebooks/cw3 data/Respeck all/Respiratory//other/18_Respeck_Lying down on left_Laughing.csv',\n",
              " '/content/drive/My Drive/Colab Notebooks/cw3 data/Respeck all/Respiratory//other/18_Respeck_Lying down on stomach_Talking.csv',\n",
              " '/content/drive/My Drive/Colab Notebooks/cw3 data/Respeck all/Respiratory//other/18_Respeck_Lying down on stomach_Laughing.csv',\n",
              " '/content/drive/My Drive/Colab Notebooks/cw3 data/Respeck all/Respiratory//other/18_Respeck_Sitting_Laughing.csv',\n",
              " '/content/drive/My Drive/Colab Notebooks/cw3 data/Respeck all/Respiratory//other/18_Respeck_Lying down back_Talking.csv',\n",
              " '/content/drive/My Drive/Colab Notebooks/cw3 data/Respeck all/Respiratory//other/18_Respeck_Sitting_Talking.csv',\n",
              " '/content/drive/My Drive/Colab Notebooks/cw3 data/Respeck all/Respiratory//other/18_Respeck_Lying down on left_Talking.csv',\n",
              " '/content/drive/My Drive/Colab Notebooks/cw3 data/Respeck all/Respiratory//other/18_Respeck_Lying down right_Singing.csv',\n",
              " '/content/drive/My Drive/Colab Notebooks/cw3 data/Respeck all/Respiratory//other/18_Respeck_Standing_Talking.csv',\n",
              " '/content/drive/My Drive/Colab Notebooks/cw3 data/Respeck all/Respiratory//other/18_Respeck_Lying down back_Singing.csv',\n",
              " '/content/drive/My Drive/Colab Notebooks/cw3 data/Respeck all/Respiratory//other/19_Respeck_Standing_Eating.csv',\n",
              " '/content/drive/My Drive/Colab Notebooks/cw3 data/Respeck all/Respiratory//other/19_Respeck_Lying down back_Laughing.csv',\n",
              " '/content/drive/My Drive/Colab Notebooks/cw3 data/Respeck all/Respiratory//other/19_Respeck_Lying down right_Talking.csv',\n",
              " '/content/drive/My Drive/Colab Notebooks/cw3 data/Respeck all/Respiratory//other/20_Respeck_Sitting_Singing.csv',\n",
              " '/content/drive/My Drive/Colab Notebooks/cw3 data/Respeck all/Respiratory//other/20_Respeck_Lying down right_Singing.csv',\n",
              " '/content/drive/My Drive/Colab Notebooks/cw3 data/Respeck all/Respiratory//other/20_Respeck_Lying down back_Laughing.csv',\n",
              " '/content/drive/My Drive/Colab Notebooks/cw3 data/Respeck all/Respiratory//other/21_Respeck_Sitting_Talking.csv',\n",
              " '/content/drive/My Drive/Colab Notebooks/cw3 data/Respeck all/Respiratory//other/21_Respeck_Standing_Eating.csv',\n",
              " '/content/drive/My Drive/Colab Notebooks/cw3 data/Respeck all/Respiratory//other/22_Respeck_Sitting_Eating.csv',\n",
              " '/content/drive/My Drive/Colab Notebooks/cw3 data/Respeck all/Respiratory//other/25_Respeck_Sitting_Talking.csv',\n",
              " '/content/drive/My Drive/Colab Notebooks/cw3 data/Respeck all/Respiratory//other/25_Respeck_Lying down on left_Talking.csv',\n",
              " '/content/drive/My Drive/Colab Notebooks/cw3 data/Respeck all/Respiratory//other/25_Respeck_Lying down on stomach_Talking.csv',\n",
              " '/content/drive/My Drive/Colab Notebooks/cw3 data/Respeck all/Respiratory//other/25_Respeck_Lying down back_Talking.csv',\n",
              " '/content/drive/My Drive/Colab Notebooks/cw3 data/Respeck all/Respiratory//other/25_Respeck_Standing_Talking.csv',\n",
              " '/content/drive/My Drive/Colab Notebooks/cw3 data/Respeck all/Respiratory//other/25_Respeck_Sitting_Laughing.csv',\n",
              " '/content/drive/My Drive/Colab Notebooks/cw3 data/Respeck all/Respiratory//other/25_Respeck_Standing_Laughing.csv',\n",
              " '/content/drive/My Drive/Colab Notebooks/cw3 data/Respeck all/Respiratory//other/25_Respeck_Lying down on left_Laughing.csv',\n",
              " '/content/drive/My Drive/Colab Notebooks/cw3 data/Respeck all/Respiratory//other/25_Respeck_Lying down right_Talking.csv',\n",
              " '/content/drive/My Drive/Colab Notebooks/cw3 data/Respeck all/Respiratory//other/25_Respeck_Lying down on stomach_Singing.csv',\n",
              " '/content/drive/My Drive/Colab Notebooks/cw3 data/Respeck all/Respiratory//other/25_Respeck_Lying down back_Singing.csv',\n",
              " '/content/drive/My Drive/Colab Notebooks/cw3 data/Respeck all/Respiratory//other/25_Respeck_Sitting_Eating.csv',\n",
              " '/content/drive/My Drive/Colab Notebooks/cw3 data/Respeck all/Respiratory//other/25_Respeck_Lying down right_Singing.csv',\n",
              " '/content/drive/My Drive/Colab Notebooks/cw3 data/Respeck all/Respiratory//other/25_Respeck_Lying down back_Laughing.csv',\n",
              " '/content/drive/My Drive/Colab Notebooks/cw3 data/Respeck all/Respiratory//other/25_Respeck_Lying down on left_Singing.csv',\n",
              " '/content/drive/My Drive/Colab Notebooks/cw3 data/Respeck all/Respiratory//other/25_Respeck_Lying down on stomach_Laughing.csv',\n",
              " '/content/drive/My Drive/Colab Notebooks/cw3 data/Respeck all/Respiratory//other/25_Respeck_Standing_Singing.csv',\n",
              " '/content/drive/My Drive/Colab Notebooks/cw3 data/Respeck all/Respiratory//other/25_Respeck_Lying down right_Laughing.csv',\n",
              " '/content/drive/My Drive/Colab Notebooks/cw3 data/Respeck all/Respiratory//other/25_Respeck_Sitting_Singing.csv',\n",
              " '/content/drive/My Drive/Colab Notebooks/cw3 data/Respeck all/Respiratory//other/25_Respeck_Standing_Eating.csv',\n",
              " '/content/drive/My Drive/Colab Notebooks/cw3 data/Respeck all/Respiratory//other/27_Respeck_Lying down on left_Singing.csv',\n",
              " '/content/drive/My Drive/Colab Notebooks/cw3 data/Respeck all/Respiratory//other/27_Respeck_Lying down back_Singing.csv',\n",
              " '/content/drive/My Drive/Colab Notebooks/cw3 data/Respeck all/Respiratory//other/27_Respeck_Lying down right_Talking.csv',\n",
              " '/content/drive/My Drive/Colab Notebooks/cw3 data/Respeck all/Respiratory//other/27_Respeck_Lying down back_Talking.csv',\n",
              " '/content/drive/My Drive/Colab Notebooks/cw3 data/Respeck all/Respiratory//other/27_Respeck_Lying down back_Laughing.csv',\n",
              " '/content/drive/My Drive/Colab Notebooks/cw3 data/Respeck all/Respiratory//other/27_Respeck_Lying down on left_Laughing.csv',\n",
              " '/content/drive/My Drive/Colab Notebooks/cw3 data/Respeck all/Respiratory//other/27_Respeck_Standing_Singing.csv',\n",
              " '/content/drive/My Drive/Colab Notebooks/cw3 data/Respeck all/Respiratory//other/27_Respeck_Lying down on left_Talking.csv',\n",
              " '/content/drive/My Drive/Colab Notebooks/cw3 data/Respeck all/Respiratory//other/27_Respeck_Lying down on stomach_Laughing.csv',\n",
              " '/content/drive/My Drive/Colab Notebooks/cw3 data/Respeck all/Respiratory//other/29_Respeck_Standing_Singing.csv',\n",
              " '/content/drive/My Drive/Colab Notebooks/cw3 data/Respeck all/Respiratory//other/29_Respeck_Sitting_Talking.csv',\n",
              " '/content/drive/My Drive/Colab Notebooks/cw3 data/Respeck all/Respiratory//other/29_Respeck_Lying down back_Laughing.csv',\n",
              " '/content/drive/My Drive/Colab Notebooks/cw3 data/Respeck all/Respiratory//other/29_Respeck_Lying down on stomach_Singing.csv',\n",
              " '/content/drive/My Drive/Colab Notebooks/cw3 data/Respeck all/Respiratory//other/29_Respeck_Lying down on stomach_Laughing.csv',\n",
              " '/content/drive/My Drive/Colab Notebooks/cw3 data/Respeck all/Respiratory//other/29_Respeck_Sitting_Singing.csv',\n",
              " '/content/drive/My Drive/Colab Notebooks/cw3 data/Respeck all/Respiratory//other/29_Respeck_Lying down right_Laughing.csv',\n",
              " '/content/drive/My Drive/Colab Notebooks/cw3 data/Respeck all/Respiratory//other/29_Respeck_Lying down on left_Talking.csv',\n",
              " '/content/drive/My Drive/Colab Notebooks/cw3 data/Respeck all/Respiratory//other/29_Respeck_Standing_Laughing.csv',\n",
              " '/content/drive/My Drive/Colab Notebooks/cw3 data/Respeck all/Respiratory//other/29_Respeck_Lying down back_Talking.csv',\n",
              " '/content/drive/My Drive/Colab Notebooks/cw3 data/Respeck all/Respiratory//other/29_Respeck_Lying down right_Singing.csv',\n",
              " '/content/drive/My Drive/Colab Notebooks/cw3 data/Respeck all/Respiratory//other/29_Respeck_Standing_Eating.csv',\n",
              " '/content/drive/My Drive/Colab Notebooks/cw3 data/Respeck all/Respiratory//other/29_Respeck_Standing_Talking.csv',\n",
              " '/content/drive/My Drive/Colab Notebooks/cw3 data/Respeck all/Respiratory//other/29_Respeck_Sitting_Eating.csv',\n",
              " '/content/drive/My Drive/Colab Notebooks/cw3 data/Respeck all/Respiratory//other/29_Respeck_Lying down on stomach_Talking.csv',\n",
              " '/content/drive/My Drive/Colab Notebooks/cw3 data/Respeck all/Respiratory//other/29_Respeck_Sitting_Laughing.csv',\n",
              " '/content/drive/My Drive/Colab Notebooks/cw3 data/Respeck all/Respiratory//other/29_Respeck_Lying down right_Talking.csv',\n",
              " '/content/drive/My Drive/Colab Notebooks/cw3 data/Respeck all/Respiratory//other/29_Respeck_Lying down on left_Singing.csv',\n",
              " '/content/drive/My Drive/Colab Notebooks/cw3 data/Respeck all/Respiratory//other/29_Respeck_Lying down on left_Laughing.csv',\n",
              " '/content/drive/My Drive/Colab Notebooks/cw3 data/Respeck all/Respiratory//other/29_Respeck_Lying down back_Singing.csv',\n",
              " '/content/drive/My Drive/Colab Notebooks/cw3 data/Respeck all/Respiratory//other/30_Respeck_Sitting_Talking.csv',\n",
              " '/content/drive/My Drive/Colab Notebooks/cw3 data/Respeck all/Respiratory//other/30_Respeck_Lying down back_Singing.csv',\n",
              " '/content/drive/My Drive/Colab Notebooks/cw3 data/Respeck all/Respiratory//other/30_Respeck_Lying down back_Laughing.csv',\n",
              " '/content/drive/My Drive/Colab Notebooks/cw3 data/Respeck all/Respiratory//other/30_Respeck_Sitting_Eating.csv',\n",
              " '/content/drive/My Drive/Colab Notebooks/cw3 data/Respeck all/Respiratory//other/30_Respeck_Sitting_Laughing.csv',\n",
              " '/content/drive/My Drive/Colab Notebooks/cw3 data/Respeck all/Respiratory//other/30_Respeck_Lying down on stomach_Singing.csv',\n",
              " '/content/drive/My Drive/Colab Notebooks/cw3 data/Respeck all/Respiratory//other/30_Respeck_Lying down right_Laughing.csv',\n",
              " '/content/drive/My Drive/Colab Notebooks/cw3 data/Respeck all/Respiratory//other/30_Respeck_Lying down on stomach_Talking.csv',\n",
              " '/content/drive/My Drive/Colab Notebooks/cw3 data/Respeck all/Respiratory//other/30_Respeck_Lying down on stomach_Laughing.csv',\n",
              " '/content/drive/My Drive/Colab Notebooks/cw3 data/Respeck all/Respiratory//other/30_Respeck_Lying down on left_Laughing.csv',\n",
              " '/content/drive/My Drive/Colab Notebooks/cw3 data/Respeck all/Respiratory//other/30_Respeck_Lying down back_Talking.csv',\n",
              " '/content/drive/My Drive/Colab Notebooks/cw3 data/Respeck all/Respiratory//other/30_Respeck_Lying down on left_Talking.csv',\n",
              " '/content/drive/My Drive/Colab Notebooks/cw3 data/Respeck all/Respiratory//other/30_Respeck_Lying down right_Singing.csv',\n",
              " '/content/drive/My Drive/Colab Notebooks/cw3 data/Respeck all/Respiratory//other/30_Respeck_Standing_Singing.csv',\n",
              " '/content/drive/My Drive/Colab Notebooks/cw3 data/Respeck all/Respiratory//other/30_Respeck_Lying down right_Talking.csv',\n",
              " '/content/drive/My Drive/Colab Notebooks/cw3 data/Respeck all/Respiratory//other/30_Respeck_Standing_Talking.csv',\n",
              " '/content/drive/My Drive/Colab Notebooks/cw3 data/Respeck all/Respiratory//other/30_Respeck_Standing_Eating.csv',\n",
              " '/content/drive/My Drive/Colab Notebooks/cw3 data/Respeck all/Respiratory//other/30_Respeck_Standing_Laughing.csv',\n",
              " '/content/drive/My Drive/Colab Notebooks/cw3 data/Respeck all/Respiratory//other/30_Respeck_Lying down on left_Singing.csv',\n",
              " '/content/drive/My Drive/Colab Notebooks/cw3 data/Respeck all/Respiratory//other/30_Respeck_Sitting_Singing.csv',\n",
              " '/content/drive/My Drive/Colab Notebooks/cw3 data/Respeck all/Respiratory//other/31_Respeck_Lying down on stomach_Laughing.csv',\n",
              " '/content/drive/My Drive/Colab Notebooks/cw3 data/Respeck all/Respiratory//other/31_Respeck_Lying down right_Laughing.csv',\n",
              " '/content/drive/My Drive/Colab Notebooks/cw3 data/Respeck all/Respiratory//other/31_Respeck_Lying down right_Talking.csv',\n",
              " '/content/drive/My Drive/Colab Notebooks/cw3 data/Respeck all/Respiratory//other/31_Respeck_Sitting_Laughing.csv',\n",
              " '/content/drive/My Drive/Colab Notebooks/cw3 data/Respeck all/Respiratory//other/31_Respeck_Lying down back_Talking.csv',\n",
              " '/content/drive/My Drive/Colab Notebooks/cw3 data/Respeck all/Respiratory//other/31_Respeck_Sitting_Talking.csv',\n",
              " '/content/drive/My Drive/Colab Notebooks/cw3 data/Respeck all/Respiratory//other/31_Respeck_Standing_Singing.csv',\n",
              " '/content/drive/My Drive/Colab Notebooks/cw3 data/Respeck all/Respiratory//other/31_Respeck_Standing_Laughing.csv',\n",
              " '/content/drive/My Drive/Colab Notebooks/cw3 data/Respeck all/Respiratory//other/31_Respeck_Sitting_Singing.csv',\n",
              " '/content/drive/My Drive/Colab Notebooks/cw3 data/Respeck all/Respiratory//other/31_Respeck_Lying down on left_Singing.csv',\n",
              " '/content/drive/My Drive/Colab Notebooks/cw3 data/Respeck all/Respiratory//other/31_Respeck_Lying down on left_Talking.csv',\n",
              " '/content/drive/My Drive/Colab Notebooks/cw3 data/Respeck all/Respiratory//other/31_Respeck_Lying down on stomach_Talking.csv',\n",
              " '/content/drive/My Drive/Colab Notebooks/cw3 data/Respeck all/Respiratory//other/31_Respeck_Lying down right_Singing.csv',\n",
              " '/content/drive/My Drive/Colab Notebooks/cw3 data/Respeck all/Respiratory//other/31_Respeck_Lying down on stomach_Singing.csv',\n",
              " '/content/drive/My Drive/Colab Notebooks/cw3 data/Respeck all/Respiratory//other/31_Respeck_Lying down back_Singing.csv',\n",
              " '/content/drive/My Drive/Colab Notebooks/cw3 data/Respeck all/Respiratory//other/31_Respeck_Standing_Talking.csv',\n",
              " '/content/drive/My Drive/Colab Notebooks/cw3 data/Respeck all/Respiratory//other/31_Respeck_Standing_Eating.csv',\n",
              " '/content/drive/My Drive/Colab Notebooks/cw3 data/Respeck all/Respiratory//other/31_Respeck_Sitting_Eating.csv',\n",
              " '/content/drive/My Drive/Colab Notebooks/cw3 data/Respeck all/Respiratory//other/31_Respeck_Lying down back_Laughing.csv',\n",
              " '/content/drive/My Drive/Colab Notebooks/cw3 data/Respeck all/Respiratory//other/31_Respeck_Lying down on left_Laughing.csv',\n",
              " '/content/drive/My Drive/Colab Notebooks/cw3 data/Respeck all/Respiratory//other/33_Respeck_Standing_Singing.csv',\n",
              " '/content/drive/My Drive/Colab Notebooks/cw3 data/Respeck all/Respiratory//other/33_Respeck_Standing_Laughing.csv',\n",
              " '/content/drive/My Drive/Colab Notebooks/cw3 data/Respeck all/Respiratory//other/33_Respeck_Lying down right_Singing.csv',\n",
              " '/content/drive/My Drive/Colab Notebooks/cw3 data/Respeck all/Respiratory//other/33_Respeck_Lying down on left_Laughing.csv',\n",
              " '/content/drive/My Drive/Colab Notebooks/cw3 data/Respeck all/Respiratory//other/33_Respeck_Sitting_Eating.csv',\n",
              " '/content/drive/My Drive/Colab Notebooks/cw3 data/Respeck all/Respiratory//other/33_Respeck_Lying down right_Talking.csv',\n",
              " '/content/drive/My Drive/Colab Notebooks/cw3 data/Respeck all/Respiratory//other/33_Respeck_Lying down on left_Singing.csv',\n",
              " '/content/drive/My Drive/Colab Notebooks/cw3 data/Respeck all/Respiratory//other/33_Respeck_Lying down right_Laughing.csv',\n",
              " '/content/drive/My Drive/Colab Notebooks/cw3 data/Respeck all/Respiratory//other/33_Respeck_Standing_Talking.csv',\n",
              " '/content/drive/My Drive/Colab Notebooks/cw3 data/Respeck all/Respiratory//other/33_Respeck_Sitting_Laughing.csv',\n",
              " '/content/drive/My Drive/Colab Notebooks/cw3 data/Respeck all/Respiratory//other/33_Respeck_Sitting_Talking.csv',\n",
              " '/content/drive/My Drive/Colab Notebooks/cw3 data/Respeck all/Respiratory//other/33_Respeck_Standing_Eating.csv',\n",
              " '/content/drive/My Drive/Colab Notebooks/cw3 data/Respeck all/Respiratory//other/33_Respeck_Lying down on stomach_Talking.csv',\n",
              " '/content/drive/My Drive/Colab Notebooks/cw3 data/Respeck all/Respiratory//other/33_Respeck_Lying down back_Laughing.csv',\n",
              " '/content/drive/My Drive/Colab Notebooks/cw3 data/Respeck all/Respiratory//other/33_Respeck_Sitting_Singing.csv',\n",
              " '/content/drive/My Drive/Colab Notebooks/cw3 data/Respeck all/Respiratory//other/33_Respeck_Lying down on stomach_Singing.csv',\n",
              " '/content/drive/My Drive/Colab Notebooks/cw3 data/Respeck all/Respiratory//other/33_Respeck_Lying down back_Singing.csv',\n",
              " '/content/drive/My Drive/Colab Notebooks/cw3 data/Respeck all/Respiratory//other/33_Respeck_Lying down on left_Talking.csv',\n",
              " '/content/drive/My Drive/Colab Notebooks/cw3 data/Respeck all/Respiratory//other/33_Respeck_Lying down on stomach_Laughing.csv',\n",
              " '/content/drive/My Drive/Colab Notebooks/cw3 data/Respeck all/Respiratory//other/33_Respeck_Lying down back_Talking.csv',\n",
              " '/content/drive/My Drive/Colab Notebooks/cw3 data/Respeck all/Respiratory//other/34_Respeck_Lying down on stomach_Talking.csv',\n",
              " '/content/drive/My Drive/Colab Notebooks/cw3 data/Respeck all/Respiratory//other/34_Respeck_Lying down right_Talking.csv',\n",
              " '/content/drive/My Drive/Colab Notebooks/cw3 data/Respeck all/Respiratory//other/34_Respeck_Standing_Talking.csv',\n",
              " '/content/drive/My Drive/Colab Notebooks/cw3 data/Respeck all/Respiratory//other/34_Respeck_Standing_Singing.csv',\n",
              " '/content/drive/My Drive/Colab Notebooks/cw3 data/Respeck all/Respiratory//other/34_Respeck_Lying down back_Talking.csv',\n",
              " '/content/drive/My Drive/Colab Notebooks/cw3 data/Respeck all/Respiratory//other/34_Respeck_Standing_Eating.csv',\n",
              " '/content/drive/My Drive/Colab Notebooks/cw3 data/Respeck all/Respiratory//other/34_Respeck_Sitting_Eating.csv',\n",
              " '/content/drive/My Drive/Colab Notebooks/cw3 data/Respeck all/Respiratory//other/34_Respeck_Lying down on left_Singing.csv',\n",
              " '/content/drive/My Drive/Colab Notebooks/cw3 data/Respeck all/Respiratory//other/34_Respeck_Sitting_Talking.csv',\n",
              " '/content/drive/My Drive/Colab Notebooks/cw3 data/Respeck all/Respiratory//other/34_Respeck_Sitting_Singing.csv',\n",
              " '/content/drive/My Drive/Colab Notebooks/cw3 data/Respeck all/Respiratory//other/34_Respeck_Lying down right_Singing.csv',\n",
              " '/content/drive/My Drive/Colab Notebooks/cw3 data/Respeck all/Respiratory//other/34_Respeck_Lying down on left_Talking.csv',\n",
              " '/content/drive/My Drive/Colab Notebooks/cw3 data/Respeck all/Respiratory//other/34_Respeck_Lying down on stomach_Singing.csv',\n",
              " '/content/drive/My Drive/Colab Notebooks/cw3 data/Respeck all/Respiratory//other/34_Respeck_Lying down on stomach_Laughing.csv',\n",
              " '/content/drive/My Drive/Colab Notebooks/cw3 data/Respeck all/Respiratory//other/34_Respeck_Standing_Laughing.csv',\n",
              " '/content/drive/My Drive/Colab Notebooks/cw3 data/Respeck all/Respiratory//other/34_Respeck_Lying down back_Singing.csv',\n",
              " '/content/drive/My Drive/Colab Notebooks/cw3 data/Respeck all/Respiratory//other/34_Respeck_Lying down back_Laughing.csv',\n",
              " '/content/drive/My Drive/Colab Notebooks/cw3 data/Respeck all/Respiratory//other/34_Respeck_Lying down right_Laughing.csv',\n",
              " '/content/drive/My Drive/Colab Notebooks/cw3 data/Respeck all/Respiratory//other/34_Respeck_Sitting_Laughing.csv',\n",
              " '/content/drive/My Drive/Colab Notebooks/cw3 data/Respeck all/Respiratory//other/34_Respeck_Lying down on left_Laughing.csv',\n",
              " '/content/drive/My Drive/Colab Notebooks/cw3 data/Respeck all/Respiratory//other/35_Respeck_Lying down on left_Talking.csv',\n",
              " '/content/drive/My Drive/Colab Notebooks/cw3 data/Respeck all/Respiratory//other/35_Respeck_Lying down right_Talking.csv',\n",
              " '/content/drive/My Drive/Colab Notebooks/cw3 data/Respeck all/Respiratory//other/35_Respeck_Lying down back_Laughing.csv',\n",
              " '/content/drive/My Drive/Colab Notebooks/cw3 data/Respeck all/Respiratory//other/35_Respeck_Standing_Singing.csv',\n",
              " '/content/drive/My Drive/Colab Notebooks/cw3 data/Respeck all/Respiratory//other/35_Respeck_Sitting_Singing.csv',\n",
              " '/content/drive/My Drive/Colab Notebooks/cw3 data/Respeck all/Respiratory//other/35_Respeck_Standing_Eating.csv',\n",
              " '/content/drive/My Drive/Colab Notebooks/cw3 data/Respeck all/Respiratory//other/35_Respeck_Sitting_Laughing.csv',\n",
              " '/content/drive/My Drive/Colab Notebooks/cw3 data/Respeck all/Respiratory//other/35_Respeck_Lying down on left_Singing.csv',\n",
              " '/content/drive/My Drive/Colab Notebooks/cw3 data/Respeck all/Respiratory//other/35_Respeck_Lying down right_Laughing.csv',\n",
              " '/content/drive/My Drive/Colab Notebooks/cw3 data/Respeck all/Respiratory//other/35_Respeck_Lying down back_Singing.csv',\n",
              " '/content/drive/My Drive/Colab Notebooks/cw3 data/Respeck all/Respiratory//other/35_Respeck_Lying down back_Talking.csv',\n",
              " '/content/drive/My Drive/Colab Notebooks/cw3 data/Respeck all/Respiratory//other/35_Respeck_Lying down right_Singing.csv',\n",
              " '/content/drive/My Drive/Colab Notebooks/cw3 data/Respeck all/Respiratory//other/35_Respeck_Sitting_Eating.csv',\n",
              " '/content/drive/My Drive/Colab Notebooks/cw3 data/Respeck all/Respiratory//other/35_Respeck_Lying down on stomach_Singing.csv',\n",
              " '/content/drive/My Drive/Colab Notebooks/cw3 data/Respeck all/Respiratory//other/35_Respeck_Lying down on left_Laughing.csv',\n",
              " '/content/drive/My Drive/Colab Notebooks/cw3 data/Respeck all/Respiratory//other/35_Respeck_Lying down on stomach_Laughing.csv',\n",
              " '/content/drive/My Drive/Colab Notebooks/cw3 data/Respeck all/Respiratory//other/35_Respeck_Lying down on stomach_Talking.csv',\n",
              " '/content/drive/My Drive/Colab Notebooks/cw3 data/Respeck all/Respiratory//other/35_Respeck_Standing_Laughing.csv',\n",
              " '/content/drive/My Drive/Colab Notebooks/cw3 data/Respeck all/Respiratory//other/35_Respeck_Standing_Talking.csv',\n",
              " '/content/drive/My Drive/Colab Notebooks/cw3 data/Respeck all/Respiratory//other/35_Respeck_Sitting_Talking.csv',\n",
              " '/content/drive/My Drive/Colab Notebooks/cw3 data/Respeck all/Respiratory//other/36_Respeck_Lying down back_Laughing.csv',\n",
              " '/content/drive/My Drive/Colab Notebooks/cw3 data/Respeck all/Respiratory//other/36_Respeck_Lying down right_Singing.csv',\n",
              " '/content/drive/My Drive/Colab Notebooks/cw3 data/Respeck all/Respiratory//other/36_Respeck_Lying down on stomach_Talking.csv',\n",
              " '/content/drive/My Drive/Colab Notebooks/cw3 data/Respeck all/Respiratory//other/36_Respeck_Lying down right_Talking.csv',\n",
              " '/content/drive/My Drive/Colab Notebooks/cw3 data/Respeck all/Respiratory//other/36_Respeck_Lying down on left_Laughing.csv',\n",
              " '/content/drive/My Drive/Colab Notebooks/cw3 data/Respeck all/Respiratory//other/36_Respeck_Standing_Laughing.csv',\n",
              " '/content/drive/My Drive/Colab Notebooks/cw3 data/Respeck all/Respiratory//other/36_Respeck_Lying down back_Talking.csv',\n",
              " '/content/drive/My Drive/Colab Notebooks/cw3 data/Respeck all/Respiratory//other/36_Respeck_Lying down on left_Singing.csv',\n",
              " '/content/drive/My Drive/Colab Notebooks/cw3 data/Respeck all/Respiratory//other/36_Respeck_Standing_Singing.csv',\n",
              " '/content/drive/My Drive/Colab Notebooks/cw3 data/Respeck all/Respiratory//other/36_Respeck_Lying down on stomach_Laughing.csv',\n",
              " '/content/drive/My Drive/Colab Notebooks/cw3 data/Respeck all/Respiratory//other/36_Respeck_Sitting_Eating.csv',\n",
              " '/content/drive/My Drive/Colab Notebooks/cw3 data/Respeck all/Respiratory//other/36_Respeck_Lying down on left_Talking.csv',\n",
              " '/content/drive/My Drive/Colab Notebooks/cw3 data/Respeck all/Respiratory//other/36_Respeck_Standing_Eating.csv',\n",
              " '/content/drive/My Drive/Colab Notebooks/cw3 data/Respeck all/Respiratory//other/36_Respeck_Sitting_Talking.csv',\n",
              " '/content/drive/My Drive/Colab Notebooks/cw3 data/Respeck all/Respiratory//other/36_Respeck_Sitting_Laughing.csv',\n",
              " '/content/drive/My Drive/Colab Notebooks/cw3 data/Respeck all/Respiratory//other/36_Respeck_Standing_Talking.csv',\n",
              " '/content/drive/My Drive/Colab Notebooks/cw3 data/Respeck all/Respiratory//other/36_Respeck_Lying down back_Singing.csv',\n",
              " '/content/drive/My Drive/Colab Notebooks/cw3 data/Respeck all/Respiratory//other/36_Respeck_Lying down on stomach_Singing.csv',\n",
              " '/content/drive/My Drive/Colab Notebooks/cw3 data/Respeck all/Respiratory//other/36_Respeck_Lying down right_Laughing.csv',\n",
              " '/content/drive/My Drive/Colab Notebooks/cw3 data/Respeck all/Respiratory//other/36_Respeck_Sitting_Singing.csv',\n",
              " '/content/drive/My Drive/Colab Notebooks/cw3 data/Respeck all/Respiratory//other/37_Respeck_Sitting_Talking.csv',\n",
              " '/content/drive/My Drive/Colab Notebooks/cw3 data/Respeck all/Respiratory//other/37_Respeck_Lying down right_Talking.csv',\n",
              " '/content/drive/My Drive/Colab Notebooks/cw3 data/Respeck all/Respiratory//other/37_Respeck_Lying down back_Singing.csv',\n",
              " '/content/drive/My Drive/Colab Notebooks/cw3 data/Respeck all/Respiratory//other/37_Respeck_Sitting_Laughing.csv',\n",
              " '/content/drive/My Drive/Colab Notebooks/cw3 data/Respeck all/Respiratory//other/37_Respeck_Sitting_Eating.csv',\n",
              " '/content/drive/My Drive/Colab Notebooks/cw3 data/Respeck all/Respiratory//other/37_Respeck_Standing_Singing.csv',\n",
              " '/content/drive/My Drive/Colab Notebooks/cw3 data/Respeck all/Respiratory//other/37_Respeck_Standing_Eating.csv',\n",
              " '/content/drive/My Drive/Colab Notebooks/cw3 data/Respeck all/Respiratory//other/37_Respeck_Lying down on left_Laughing.csv',\n",
              " '/content/drive/My Drive/Colab Notebooks/cw3 data/Respeck all/Respiratory//other/37_Respeck_Lying down on stomach_Singing.csv',\n",
              " '/content/drive/My Drive/Colab Notebooks/cw3 data/Respeck all/Respiratory//other/37_Respeck_Standing_Talking.csv',\n",
              " '/content/drive/My Drive/Colab Notebooks/cw3 data/Respeck all/Respiratory//other/37_Respeck_Lying down on stomach_Talking.csv',\n",
              " '/content/drive/My Drive/Colab Notebooks/cw3 data/Respeck all/Respiratory//other/37_Respeck_Standing_Laughing.csv',\n",
              " '/content/drive/My Drive/Colab Notebooks/cw3 data/Respeck all/Respiratory//other/37_Respeck_Lying down back_Talking.csv',\n",
              " '/content/drive/My Drive/Colab Notebooks/cw3 data/Respeck all/Respiratory//other/37_Respeck_Lying down on left_Talking.csv',\n",
              " '/content/drive/My Drive/Colab Notebooks/cw3 data/Respeck all/Respiratory//other/37_Respeck_Lying down right_Singing.csv',\n",
              " '/content/drive/My Drive/Colab Notebooks/cw3 data/Respeck all/Respiratory//other/37_Respeck_Sitting_Singing.csv',\n",
              " '/content/drive/My Drive/Colab Notebooks/cw3 data/Respeck all/Respiratory//other/37_Respeck_Lying down right_Laughing.csv',\n",
              " '/content/drive/My Drive/Colab Notebooks/cw3 data/Respeck all/Respiratory//other/37_Respeck_Lying down on stomach_Laughing.csv',\n",
              " '/content/drive/My Drive/Colab Notebooks/cw3 data/Respeck all/Respiratory//other/37_Respeck_Lying down back_Laughing.csv',\n",
              " '/content/drive/My Drive/Colab Notebooks/cw3 data/Respeck all/Respiratory//other/38_Respeck_Lying down right_Talking.csv',\n",
              " '/content/drive/My Drive/Colab Notebooks/cw3 data/Respeck all/Respiratory//other/38_Respeck_Sitting_Eating.csv',\n",
              " '/content/drive/My Drive/Colab Notebooks/cw3 data/Respeck all/Respiratory//other/38_Respeck_Lying down right_Laughing.csv',\n",
              " '/content/drive/My Drive/Colab Notebooks/cw3 data/Respeck all/Respiratory//other/38_Respeck_Lying down on left_Laughing.csv',\n",
              " '/content/drive/My Drive/Colab Notebooks/cw3 data/Respeck all/Respiratory//other/38_Respeck_Lying down back_Laughing.csv',\n",
              " '/content/drive/My Drive/Colab Notebooks/cw3 data/Respeck all/Respiratory//other/38_Respeck_Standing_Laughing.csv',\n",
              " '/content/drive/My Drive/Colab Notebooks/cw3 data/Respeck all/Respiratory//other/38_Respeck_Lying down on left_Singing.csv',\n",
              " '/content/drive/My Drive/Colab Notebooks/cw3 data/Respeck all/Respiratory//other/38_Respeck_Sitting_Talking.csv',\n",
              " '/content/drive/My Drive/Colab Notebooks/cw3 data/Respeck all/Respiratory//other/38_Respeck_Standing_Singing.csv',\n",
              " '/content/drive/My Drive/Colab Notebooks/cw3 data/Respeck all/Respiratory//other/38_Respeck_Lying down on left_Talking.csv',\n",
              " '/content/drive/My Drive/Colab Notebooks/cw3 data/Respeck all/Respiratory//other/38_Respeck_Standing_Eating.csv',\n",
              " '/content/drive/My Drive/Colab Notebooks/cw3 data/Respeck all/Respiratory//other/38_Respeck_Standing_Talking.csv',\n",
              " '/content/drive/My Drive/Colab Notebooks/cw3 data/Respeck all/Respiratory//other/38_Respeck_Lying down on stomach_Laughing.csv',\n",
              " '/content/drive/My Drive/Colab Notebooks/cw3 data/Respeck all/Respiratory//other/38_Respeck_Sitting_Singing.csv',\n",
              " '/content/drive/My Drive/Colab Notebooks/cw3 data/Respeck all/Respiratory//other/38_Respeck_Lying down back_Talking.csv',\n",
              " '/content/drive/My Drive/Colab Notebooks/cw3 data/Respeck all/Respiratory//other/38_Respeck_Lying down on stomach_Talking.csv',\n",
              " '/content/drive/My Drive/Colab Notebooks/cw3 data/Respeck all/Respiratory//other/38_Respeck_Sitting_Laughing.csv',\n",
              " '/content/drive/My Drive/Colab Notebooks/cw3 data/Respeck all/Respiratory//other/38_Respeck_Lying down right_Singing.csv',\n",
              " '/content/drive/My Drive/Colab Notebooks/cw3 data/Respeck all/Respiratory//other/38_Respeck_Lying down back_Singing.csv',\n",
              " '/content/drive/My Drive/Colab Notebooks/cw3 data/Respeck all/Respiratory//other/38_Respeck_Lying down on stomach_Singing.csv',\n",
              " '/content/drive/My Drive/Colab Notebooks/cw3 data/Respeck all/Respiratory//other/39_Respeck_Lying down on left_Talking.csv',\n",
              " '/content/drive/My Drive/Colab Notebooks/cw3 data/Respeck all/Respiratory//other/39_Respeck_Standing_Talking.csv',\n",
              " '/content/drive/My Drive/Colab Notebooks/cw3 data/Respeck all/Respiratory//other/39_Respeck_Sitting_Talking.csv',\n",
              " '/content/drive/My Drive/Colab Notebooks/cw3 data/Respeck all/Respiratory//other/39_Respeck_Lying down on left_Laughing.csv',\n",
              " '/content/drive/My Drive/Colab Notebooks/cw3 data/Respeck all/Respiratory//other/39_Respeck_Lying down on stomach_Talking.csv',\n",
              " '/content/drive/My Drive/Colab Notebooks/cw3 data/Respeck all/Respiratory//other/39_Respeck_Lying down right_Talking.csv',\n",
              " '/content/drive/My Drive/Colab Notebooks/cw3 data/Respeck all/Respiratory//other/39_Respeck_Sitting_Singing.csv',\n",
              " '/content/drive/My Drive/Colab Notebooks/cw3 data/Respeck all/Respiratory//other/39_Respeck_Lying down back_Singing.csv',\n",
              " '/content/drive/My Drive/Colab Notebooks/cw3 data/Respeck all/Respiratory//other/39_Respeck_Lying down back_Talking.csv',\n",
              " '/content/drive/My Drive/Colab Notebooks/cw3 data/Respeck all/Respiratory//other/39_Respeck_Lying down right_Laughing.csv',\n",
              " '/content/drive/My Drive/Colab Notebooks/cw3 data/Respeck all/Respiratory//other/39_Respeck_Standing_Laughing.csv',\n",
              " '/content/drive/My Drive/Colab Notebooks/cw3 data/Respeck all/Respiratory//other/39_Respeck_Sitting_Laughing.csv',\n",
              " '/content/drive/My Drive/Colab Notebooks/cw3 data/Respeck all/Respiratory//other/39_Respeck_Lying down on stomach_Singing.csv',\n",
              " '/content/drive/My Drive/Colab Notebooks/cw3 data/Respeck all/Respiratory//other/39_Respeck_Standing_Eating.csv',\n",
              " '/content/drive/My Drive/Colab Notebooks/cw3 data/Respeck all/Respiratory//other/39_Respeck_Lying down back_Laughing.csv',\n",
              " '/content/drive/My Drive/Colab Notebooks/cw3 data/Respeck all/Respiratory//other/39_Respeck_Sitting_Eating.csv',\n",
              " '/content/drive/My Drive/Colab Notebooks/cw3 data/Respeck all/Respiratory//other/39_Respeck_Lying down on stomach_Laughing.csv',\n",
              " '/content/drive/My Drive/Colab Notebooks/cw3 data/Respeck all/Respiratory//other/39_Respeck_Standing_Singing.csv',\n",
              " '/content/drive/My Drive/Colab Notebooks/cw3 data/Respeck all/Respiratory//other/39_Respeck_Lying down on left_Singing.csv',\n",
              " '/content/drive/My Drive/Colab Notebooks/cw3 data/Respeck all/Respiratory//other/39_Respeck_Lying down right_Singing.csv',\n",
              " '/content/drive/My Drive/Colab Notebooks/cw3 data/Respeck all/Respiratory//other/43_Respeck_Lying down on stomach_Talking.csv',\n",
              " '/content/drive/My Drive/Colab Notebooks/cw3 data/Respeck all/Respiratory//other/43_Respeck_Lying down on left_Talking.csv',\n",
              " '/content/drive/My Drive/Colab Notebooks/cw3 data/Respeck all/Respiratory//other/43_Respeck_Standing_Talking.csv',\n",
              " '/content/drive/My Drive/Colab Notebooks/cw3 data/Respeck all/Respiratory//other/43_Respeck_Sitting_Talking.csv',\n",
              " '/content/drive/My Drive/Colab Notebooks/cw3 data/Respeck all/Respiratory//other/43_Respeck_Standing_Singing.csv',\n",
              " '/content/drive/My Drive/Colab Notebooks/cw3 data/Respeck all/Respiratory//other/43_Respeck_Sitting_Singing.csv',\n",
              " '/content/drive/My Drive/Colab Notebooks/cw3 data/Respeck all/Respiratory//other/43_Respeck_Lying down right_Talking.csv',\n",
              " '/content/drive/My Drive/Colab Notebooks/cw3 data/Respeck all/Respiratory//other/43_Respeck_Sitting_Eating.csv',\n",
              " '/content/drive/My Drive/Colab Notebooks/cw3 data/Respeck all/Respiratory//other/43_Respeck_Lying down on left_Singing.csv',\n",
              " '/content/drive/My Drive/Colab Notebooks/cw3 data/Respeck all/Respiratory//other/43_Respeck_Lying down back_Talking.csv',\n",
              " '/content/drive/My Drive/Colab Notebooks/cw3 data/Respeck all/Respiratory//other/43_Respeck_Standing_Eating.csv',\n",
              " '/content/drive/My Drive/Colab Notebooks/cw3 data/Respeck all/Respiratory//other/43_Respeck_Lying down back_Laughing.csv',\n",
              " '/content/drive/My Drive/Colab Notebooks/cw3 data/Respeck all/Respiratory//other/43_Respeck_Lying down right_Laughing.csv',\n",
              " '/content/drive/My Drive/Colab Notebooks/cw3 data/Respeck all/Respiratory//other/43_Respeck_Lying down right_Singing.csv',\n",
              " '/content/drive/My Drive/Colab Notebooks/cw3 data/Respeck all/Respiratory//other/43_Respeck_Standing_Laughing.csv',\n",
              " '/content/drive/My Drive/Colab Notebooks/cw3 data/Respeck all/Respiratory//other/43_Respeck_Sitting_Laughing.csv',\n",
              " '/content/drive/My Drive/Colab Notebooks/cw3 data/Respeck all/Respiratory//other/43_Respeck_Lying down on stomach_Laughing.csv',\n",
              " '/content/drive/My Drive/Colab Notebooks/cw3 data/Respeck all/Respiratory//other/43_Respeck_Lying down on stomach_Singing.csv',\n",
              " '/content/drive/My Drive/Colab Notebooks/cw3 data/Respeck all/Respiratory//other/43_Respeck_Lying down back_Singing.csv',\n",
              " '/content/drive/My Drive/Colab Notebooks/cw3 data/Respeck all/Respiratory//other/43_Respeck_Lying down on left_Laughing.csv',\n",
              " '/content/drive/My Drive/Colab Notebooks/cw3 data/Respeck all/Respiratory//other/44_Respeck_Standing_Singing.csv',\n",
              " '/content/drive/My Drive/Colab Notebooks/cw3 data/Respeck all/Respiratory//other/44_Respeck_Standing_Talking.csv',\n",
              " '/content/drive/My Drive/Colab Notebooks/cw3 data/Respeck all/Respiratory//other/44_Respeck_Lying down on stomach_Talking.csv',\n",
              " '/content/drive/My Drive/Colab Notebooks/cw3 data/Respeck all/Respiratory//other/44_Respeck_Lying down on left_Laughing.csv',\n",
              " '/content/drive/My Drive/Colab Notebooks/cw3 data/Respeck all/Respiratory//other/44_Respeck_Lying down on left_Singing.csv',\n",
              " '/content/drive/My Drive/Colab Notebooks/cw3 data/Respeck all/Respiratory//other/44_Respeck_Lying down back_Laughing.csv',\n",
              " '/content/drive/My Drive/Colab Notebooks/cw3 data/Respeck all/Respiratory//other/44_Respeck_Lying down on stomach_Singing.csv',\n",
              " '/content/drive/My Drive/Colab Notebooks/cw3 data/Respeck all/Respiratory//other/44_Respeck_Standing_Eating.csv',\n",
              " '/content/drive/My Drive/Colab Notebooks/cw3 data/Respeck all/Respiratory//other/44_Respeck_Sitting_Eating.csv',\n",
              " '/content/drive/My Drive/Colab Notebooks/cw3 data/Respeck all/Respiratory//other/44_Respeck_Standing_Laughing.csv',\n",
              " '/content/drive/My Drive/Colab Notebooks/cw3 data/Respeck all/Respiratory//other/44_Respeck_Sitting_Talking.csv',\n",
              " '/content/drive/My Drive/Colab Notebooks/cw3 data/Respeck all/Respiratory//other/44_Respeck_Sitting_Singing.csv',\n",
              " '/content/drive/My Drive/Colab Notebooks/cw3 data/Respeck all/Respiratory//other/44_Respeck_Lying down right_Laughing.csv',\n",
              " '/content/drive/My Drive/Colab Notebooks/cw3 data/Respeck all/Respiratory//other/44_Respeck_Lying down right_Talking.csv',\n",
              " '/content/drive/My Drive/Colab Notebooks/cw3 data/Respeck all/Respiratory//other/44_Respeck_Lying down back_Talking.csv',\n",
              " '/content/drive/My Drive/Colab Notebooks/cw3 data/Respeck all/Respiratory//other/44_Respeck_Sitting_Laughing.csv',\n",
              " '/content/drive/My Drive/Colab Notebooks/cw3 data/Respeck all/Respiratory//other/44_Respeck_Lying down back_Singing.csv',\n",
              " '/content/drive/My Drive/Colab Notebooks/cw3 data/Respeck all/Respiratory//other/44_Respeck_Lying down on left_Talking.csv',\n",
              " '/content/drive/My Drive/Colab Notebooks/cw3 data/Respeck all/Respiratory//other/44_Respeck_Lying down right_Singing.csv',\n",
              " '/content/drive/My Drive/Colab Notebooks/cw3 data/Respeck all/Respiratory//other/44_Respeck_Lying down on stomach_Laughing.csv',\n",
              " '/content/drive/My Drive/Colab Notebooks/cw3 data/Respeck all/Respiratory//other/46_Respeck_Lying down on left_Talking.csv',\n",
              " '/content/drive/My Drive/Colab Notebooks/cw3 data/Respeck all/Respiratory//other/46_Respeck_Lying down right_Talking.csv',\n",
              " '/content/drive/My Drive/Colab Notebooks/cw3 data/Respeck all/Respiratory//other/46_Respeck_Standing_Talking.csv',\n",
              " '/content/drive/My Drive/Colab Notebooks/cw3 data/Respeck all/Respiratory//other/46_Respeck_Sitting_Talking.csv',\n",
              " '/content/drive/My Drive/Colab Notebooks/cw3 data/Respeck all/Respiratory//other/46_Respeck_Lying down back_Singing.csv',\n",
              " '/content/drive/My Drive/Colab Notebooks/cw3 data/Respeck all/Respiratory//other/47_Respeck_Lying down back_Laughing.csv',\n",
              " '/content/drive/My Drive/Colab Notebooks/cw3 data/Respeck all/Respiratory//other/47_Respeck_Standing_Eating.csv',\n",
              " '/content/drive/My Drive/Colab Notebooks/cw3 data/Respeck all/Respiratory//other/46_Respeck_Sitting_Laughing.csv',\n",
              " '/content/drive/My Drive/Colab Notebooks/cw3 data/Respeck all/Respiratory//other/46_Respeck_Lying down on stomach_Talking.csv',\n",
              " '/content/drive/My Drive/Colab Notebooks/cw3 data/Respeck all/Respiratory//other/46_Respeck_Lying down on stomach_Laughing.csv',\n",
              " '/content/drive/My Drive/Colab Notebooks/cw3 data/Respeck all/Respiratory//other/47_Respeck_Standing_Talking.csv',\n",
              " '/content/drive/My Drive/Colab Notebooks/cw3 data/Respeck all/Respiratory//other/47_Respeck_Standing_Laughing.csv',\n",
              " '/content/drive/My Drive/Colab Notebooks/cw3 data/Respeck all/Respiratory//other/46_Respeck_Lying down back_Laughing.csv',\n",
              " '/content/drive/My Drive/Colab Notebooks/cw3 data/Respeck all/Respiratory//other/46_Respeck_Lying down on left_Laughing.csv',\n",
              " '/content/drive/My Drive/Colab Notebooks/cw3 data/Respeck all/Respiratory//other/46_Respeck_Lying down right_Laughing.csv',\n",
              " '/content/drive/My Drive/Colab Notebooks/cw3 data/Respeck all/Respiratory//other/46_Respeck_Sitting_Singing.csv',\n",
              " '/content/drive/My Drive/Colab Notebooks/cw3 data/Respeck all/Respiratory//other/46_Respeck_Standing_Singing.csv',\n",
              " '/content/drive/My Drive/Colab Notebooks/cw3 data/Respeck all/Respiratory//other/46_Respeck_Standing_Eating.csv',\n",
              " '/content/drive/My Drive/Colab Notebooks/cw3 data/Respeck all/Respiratory//other/47_Respeck_Sitting_Eating.csv',\n",
              " '/content/drive/My Drive/Colab Notebooks/cw3 data/Respeck all/Respiratory//other/47_Respeck_Standing_Singing.csv',\n",
              " '/content/drive/My Drive/Colab Notebooks/cw3 data/Respeck all/Respiratory//other/46_Respeck_Lying down on stomach_Singing.csv',\n",
              " '/content/drive/My Drive/Colab Notebooks/cw3 data/Respeck all/Respiratory//other/46_Respeck_Standing_Laughing.csv',\n",
              " '/content/drive/My Drive/Colab Notebooks/cw3 data/Respeck all/Respiratory//other/47_Respeck_Lying down back_Talking.csv',\n",
              " '/content/drive/My Drive/Colab Notebooks/cw3 data/Respeck all/Respiratory//other/47_Respeck_Sitting_Singing.csv',\n",
              " '/content/drive/My Drive/Colab Notebooks/cw3 data/Respeck all/Respiratory//other/46_Respeck_Sitting_Eating.csv',\n",
              " '/content/drive/My Drive/Colab Notebooks/cw3 data/Respeck all/Respiratory//other/46_Respeck_Lying down on left_Singing.csv',\n",
              " '/content/drive/My Drive/Colab Notebooks/cw3 data/Respeck all/Respiratory//other/47_Respeck_Sitting_Talking.csv',\n",
              " '/content/drive/My Drive/Colab Notebooks/cw3 data/Respeck all/Respiratory//other/46_Respeck_Lying down back_Talking.csv',\n",
              " '/content/drive/My Drive/Colab Notebooks/cw3 data/Respeck all/Respiratory//other/47_Respeck_Sitting_Laughing.csv',\n",
              " '/content/drive/My Drive/Colab Notebooks/cw3 data/Respeck all/Respiratory//other/48_Respeck_Lying down on left_Laughing.csv',\n",
              " '/content/drive/My Drive/Colab Notebooks/cw3 data/Respeck all/Respiratory//other/48_Respeck_Lying down on left_Talking.csv',\n",
              " '/content/drive/My Drive/Colab Notebooks/cw3 data/Respeck all/Respiratory//other/48_Respeck_Standing_Talking.csv',\n",
              " '/content/drive/My Drive/Colab Notebooks/cw3 data/Respeck all/Respiratory//other/48_Respeck_Lying down on left_Singing.csv',\n",
              " '/content/drive/My Drive/Colab Notebooks/cw3 data/Respeck all/Respiratory//other/48_Respeck_Lying down back_Singing.csv',\n",
              " '/content/drive/My Drive/Colab Notebooks/cw3 data/Respeck all/Respiratory//other/48_Respeck_Lying down on stomach_Singing.csv',\n",
              " '/content/drive/My Drive/Colab Notebooks/cw3 data/Respeck all/Respiratory//other/49_Respeck_Lying down on left_Talking.csv',\n",
              " '/content/drive/My Drive/Colab Notebooks/cw3 data/Respeck all/Respiratory//other/49_Respeck_Lying down right_Laughing.csv',\n",
              " '/content/drive/My Drive/Colab Notebooks/cw3 data/Respeck all/Respiratory//other/49_Respeck_Lying down right_Talking.csv',\n",
              " '/content/drive/My Drive/Colab Notebooks/cw3 data/Respeck all/Respiratory//other/49_Respeck_Lying down on stomach_Singing.csv',\n",
              " '/content/drive/My Drive/Colab Notebooks/cw3 data/Respeck all/Respiratory//other/49_Respeck_Sitting_Talking.csv',\n",
              " '/content/drive/My Drive/Colab Notebooks/cw3 data/Respeck all/Respiratory//other/49_Respeck_Lying down on left_Singing.csv',\n",
              " '/content/drive/My Drive/Colab Notebooks/cw3 data/Respeck all/Respiratory//other/49_Respeck_Lying down back_Talking.csv',\n",
              " '/content/drive/My Drive/Colab Notebooks/cw3 data/Respeck all/Respiratory//other/49_Respeck_Standing_Talking.csv',\n",
              " '/content/drive/My Drive/Colab Notebooks/cw3 data/Respeck all/Respiratory//other/49_Respeck_Standing_Laughing.csv',\n",
              " '/content/drive/My Drive/Colab Notebooks/cw3 data/Respeck all/Respiratory//other/49_Respeck_Sitting_Eating.csv',\n",
              " '/content/drive/My Drive/Colab Notebooks/cw3 data/Respeck all/Respiratory//other/49_Respeck_Lying down back_Laughing.csv',\n",
              " '/content/drive/My Drive/Colab Notebooks/cw3 data/Respeck all/Respiratory//other/49_Respeck_Sitting_Laughing.csv',\n",
              " '/content/drive/My Drive/Colab Notebooks/cw3 data/Respeck all/Respiratory//other/49_Respeck_Standing_Singing.csv',\n",
              " '/content/drive/My Drive/Colab Notebooks/cw3 data/Respeck all/Respiratory//other/49_Respeck_Standing_Eating.csv',\n",
              " '/content/drive/My Drive/Colab Notebooks/cw3 data/Respeck all/Respiratory//other/49_Respeck_Lying down on stomach_Talking.csv',\n",
              " '/content/drive/My Drive/Colab Notebooks/cw3 data/Respeck all/Respiratory//other/49_Respeck_Lying down back_Singing.csv',\n",
              " '/content/drive/My Drive/Colab Notebooks/cw3 data/Respeck all/Respiratory//other/49_Respeck_Sitting_Singing.csv',\n",
              " '/content/drive/My Drive/Colab Notebooks/cw3 data/Respeck all/Respiratory//other/49_Respeck_Lying down on left_Laughing.csv',\n",
              " '/content/drive/My Drive/Colab Notebooks/cw3 data/Respeck all/Respiratory//other/49_Respeck_Lying down on stomach_Laughing.csv',\n",
              " '/content/drive/My Drive/Colab Notebooks/cw3 data/Respeck all/Respiratory//other/49_Respeck_Lying down right_Singing.csv',\n",
              " ...]"
            ]
          },
          "metadata": {},
          "execution_count": 17
        }
      ],
      "source": [
        "activity_folder = \"other\"\n",
        "glob.glob(your_dataset_path + \"/\"+activity_folder+\"/*\")"
      ]
    },
    {
      "cell_type": "markdown",
      "metadata": {
        "id": "w7eNuiHKmBuT"
      },
      "source": [
        "# Functions"
      ]
    },
    {
      "cell_type": "markdown",
      "metadata": {
        "id": "9zdg12YooOJF"
      },
      "source": [
        "## Load list of files in an activity folder"
      ]
    },
    {
      "cell_type": "code",
      "execution_count": 6,
      "metadata": {
        "id": "b_ZtuAb64ZsD"
      },
      "outputs": [],
      "source": [
        "def load_files_from_folder(folder_path):\n",
        "    \"\"\"\n",
        "    Load all CSV files from a folder and return a list of file paths.\n",
        "\n",
        "    Parameters:\n",
        "    folder_path (str): The path to the folder containing CSV files.\n",
        "\n",
        "    Returns:\n",
        "    list: A list of file paths for all CSV files in the folder.\n",
        "    \"\"\"\n",
        "\n",
        "    # Initialize an empty list to store the full file paths of the CSV files\n",
        "    file_paths = []\n",
        "\n",
        "    # Loop through all the files in the given folder\n",
        "    for file_name in os.listdir(folder_path):\n",
        "        # Check if the file has a .csv extension (ignores other files)\n",
        "        if file_name.endswith('.csv'):\n",
        "            # Construct the full file path by joining the folder path and the file name\n",
        "            full_file_path = os.path.join(folder_path, file_name)\n",
        "\n",
        "            # Append the full file path to the file_paths list\n",
        "            file_paths.append(full_file_path)\n",
        "\n",
        "    # Return the complete list of CSV file paths\n",
        "    return file_paths"
      ]
    },
    {
      "cell_type": "markdown",
      "metadata": {
        "id": "hAUGBeBBn_L8"
      },
      "source": [
        "## Train and test set split from list of files"
      ]
    },
    {
      "cell_type": "code",
      "execution_count": 7,
      "metadata": {
        "id": "2SzHoQz2NH3v"
      },
      "outputs": [],
      "source": [
        "def split_files(file_list, test_size=0.2):\n",
        "    \"\"\"\n",
        "    Split the list of files into training and test sets.\n",
        "\n",
        "    Parameters:\n",
        "    file_list (list): List of file paths to be split into train and test sets.\n",
        "    test_size (float): The proportion of files to allocate to the test set.\n",
        "                       Default is 0.2, meaning 20% of the files will be used for testing.\n",
        "\n",
        "    Returns:\n",
        "    tuple:\n",
        "        - train_files (list): List of file paths for the training set.\n",
        "        - test_files (list): List of file paths for the test set.\n",
        "    \"\"\"\n",
        "\n",
        "    # Split the file list into training and test sets using train_test_split from scikit-learn\n",
        "    # test_size defines the proportion of the data to use as the test set (default is 20%)\n",
        "    # shuffle=True ensures that the files are shuffled randomly before splitting\n",
        "    train_files, test_files = train_test_split(file_list, test_size=test_size, shuffle=True)\n",
        "\n",
        "    # Return the train and test file lists\n",
        "    return train_files, test_files"
      ]
    },
    {
      "cell_type": "markdown",
      "metadata": {
        "id": "_J7-zQgZzP19"
      },
      "source": [
        "## Sliding Window\n",
        "\n",
        "In time series Activity Recognition, a sliding window is a commonly used technique to segment continuous sensor data (such as accelerometer readings) into smaller, fixed-length overlapping or non-overlapping time intervals, or windows. Each window contains a sequence of sensor measurements that represent a short period of time, and this segmented data is used to extract features or make predictions about the activity happening within that window.\n",
        "\n",
        "### Key Concepts of a Sliding Window\n",
        "1.   **Window Size:** This refers to the length of each segment or window, typically defined in terms of the number of time steps or the duration (e.g., 2 seconds). The window size should be chosen carefully to capture enough information about the activity without making the window too large.\n",
        "2.   **Step Size:** The step size determines how far the window moves forward after each step. If the step size is smaller than the window size, the windows will overlap. For example, if the window size is 5 seconds and the step size is 2 seconds, there will be a 3-second overlap between consecutive windows. Overlapping windows provide more data for analysis and can help smooth out predictions by capturing transitional activities.\n",
        "3.   **Non-Overlapping Windows:** If the step size is equal to the window size, the windows do not overlap. This method provides distinct segments of data but may miss transitional phases between activities.\n",
        "\n",
        "### Why Sliding Windows for Activity Recognition?\n",
        "\n",
        "* Segmentation of Continuous Data: Activity recognition systems work with continuous streams of sensor data, and the sliding window helps segment these into manageable pieces to classify activities within specific intervals.\n",
        "\n",
        "* Context Capturing: Human activities are often complex and spread across time. By using a sliding window, you can capture context across a short duration, which may include transitions or small fluctuations in the activity (e.g., a person moving from sitting to standing).\n",
        "\n",
        "* Feature Extraction: Within each window, features such as mean, variance, frequency domain features, etc., can be extracted to help classify the activity.\n",
        "\n",
        "* Real-Time Recognition: In real-time systems, the sliding window allows for continuous monitoring and updating of predictions as new data arrives.\n",
        "\n"
      ]
    },
    {
      "cell_type": "code",
      "execution_count": 8,
      "metadata": {
        "id": "u3SuHww6MpEx"
      },
      "outputs": [],
      "source": [
        "def load_and_apply_sliding_windows(file_paths, window_size, step_size, label):\n",
        "    \"\"\"\n",
        "    Load the data from each file, apply sliding windows, and return the windows and labels.\n",
        "\n",
        "    Parameters:\n",
        "    file_paths (list): List of file paths to CSV files. Each file contains sensor data (e.g., accelerometer, gyroscope).\n",
        "    window_size (int): The size of each sliding window (number of time steps).\n",
        "    step_size (int): The step size (stride) between consecutive windows.\n",
        "    label (int or str): The label for the activity corresponding to the folder.\n",
        "                        This label will be assigned to each sliding window extracted from the data.\n",
        "\n",
        "    Returns:\n",
        "    tuple:\n",
        "        - windows (numpy.ndarray): A 3D array of sliding windows, where each window has the shape\n",
        "                                   (num_windows, window_size, num_features).\n",
        "        - labels (numpy.ndarray): A 1D array of labels, where each label corresponds to a sliding window.\n",
        "    \"\"\"\n",
        "    # Initialize lists to store sliding windows and their corresponding labels\n",
        "    windows = []\n",
        "    labels = []\n",
        "\n",
        "    # Loop through each file in the provided file paths\n",
        "    for file_path in file_paths:\n",
        "        # Load the CSV file into a pandas DataFrame\n",
        "        data = pd.read_csv(file_path)\n",
        "\n",
        "        # Select the columns containing the necessary sensor data (acceleration and gyroscope readings)\n",
        "        # These columns might vary depending on your dataset's structure\n",
        "        data = data[['accel_x', 'accel_y', 'accel_z']]\n",
        "\n",
        "        # Convert the DataFrame into a numpy array for faster processing in the sliding window operation\n",
        "        data = data.to_numpy()\n",
        "\n",
        "        # Get the number of samples (rows) and features (columns) in the data\n",
        "        num_samples, num_features = data.shape\n",
        "\n",
        "        # Apply sliding windows to the data\n",
        "        # The range function defines the start of each window, moving step_size increments at a time\n",
        "        for i in range(0, num_samples - window_size + 1, step_size):\n",
        "            # Extract a window of size 'window_size' from the current position 'i'\n",
        "            window = data[i:i + window_size, :]\n",
        "\n",
        "            # Append the window to the windows list\n",
        "            windows.append(window)\n",
        "\n",
        "            # Assign the activity label to the window and append it to the labels list\n",
        "            labels.append(label)\n",
        "\n",
        "    # Convert the lists of windows and labels into numpy arrays for efficient numerical operations\n",
        "    return np.array(windows), np.array(labels)"
      ]
    },
    {
      "cell_type": "markdown",
      "metadata": {
        "id": "9-Ku5P4Lm8QA"
      },
      "source": [
        "## Load and Split Train Test for Each Activity Folder\n",
        "\n",
        "This function processes the sensor data for a specific activity, such as 'walking' or 'running', stored in its respective folder. It splits the data into training and testing sets, applies sliding windows, and labels the windows with the corresponding activity. This function can be used repeatedly for each activity to process and prepare data for training and evaluation."
      ]
    },
    {
      "cell_type": "code",
      "execution_count": 9,
      "metadata": {
        "id": "zBVvTBi7N_fh"
      },
      "outputs": [],
      "source": [
        "def process_activity(activity, label, dataset_path, window_size=50, step_size=50, test_size=0.2):\n",
        "    \"\"\"\n",
        "    Processes an activity folder by loading the file list, splitting them into\n",
        "    train and test sets, and applying sliding windows to the files.\n",
        "\n",
        "    Args:\n",
        "        activity (str): Name of the activity (folder name). This refers to the specific physical activity\n",
        "                        like 'walking', 'running', etc.\n",
        "        label (int): Numeric label corresponding to the activity, used for classification.\n",
        "        dataset_path (str): Base path where the activity folders are located.\n",
        "        window_size (int): Size of the sliding window, i.e., the number of time steps included in each window.\n",
        "                           Default is 50.\n",
        "        step_size (int): Step size for the sliding window, i.e., how far the window moves along the data.\n",
        "                         Default is 50 (no overlap between windows).\n",
        "        test_size (float): Proportion of files to use for testing. Default is 0.2, meaning 20% of files will\n",
        "                           be allocated to the test set.\n",
        "\n",
        "    Returns:\n",
        "        tuple:\n",
        "            - train_windows (numpy.ndarray): Sliding windows from the training files.\n",
        "            - train_labels (numpy.ndarray): Corresponding labels for the training windows.\n",
        "            - test_windows (numpy.ndarray): Sliding windows from the test files.\n",
        "            - test_labels (numpy.ndarray): Corresponding labels for the test windows.\n",
        "    \"\"\"\n",
        "    # Construct the full folder path where the activity files are stored\n",
        "    folder_path = os.path.join(dataset_path, activity)\n",
        "\n",
        "    # Load all CSV file paths for the given activity from the folder\n",
        "    file_list = load_files_from_folder(folder_path)\n",
        "\n",
        "    # Split the file list into training and testing sets\n",
        "    # train_files: files used for training\n",
        "    # test_files: files used for testing\n",
        "    train_files, test_files = split_files(file_list, test_size=test_size)\n",
        "\n",
        "    # Apply sliding windows to the training files\n",
        "    # The function 'load_and_apply_sliding_windows' returns the sliding windows (segments) and their corresponding labels\n",
        "    train_windows, train_labels = load_and_apply_sliding_windows(train_files, window_size, step_size, label)\n",
        "\n",
        "    # Apply sliding windows to the testing files\n",
        "    test_windows, test_labels = load_and_apply_sliding_windows(test_files, window_size, step_size, label)\n",
        "\n",
        "    # Return the sliding windows and their labels for both training and testing sets\n",
        "    return train_windows, train_labels, test_windows, test_labels"
      ]
    },
    {
      "cell_type": "markdown",
      "metadata": {
        "id": "Vv2TUL_Tnnxu"
      },
      "source": [
        "## Combine Data\n",
        "The function combines the sliding window data and their corresponding labels from multiple activities (e.g., walking, running, etc.) into single arrays."
      ]
    },
    {
      "cell_type": "code",
      "execution_count": 10,
      "metadata": {
        "id": "au6dRWtmmig7"
      },
      "outputs": [],
      "source": [
        "def combine_data(train_test_data, data_type):\n",
        "    \"\"\"\n",
        "    Combines the sliding windows and labels from all activities into a single\n",
        "    array for either training or testing.\n",
        "\n",
        "    Args:\n",
        "        train_test_data (dict): Dictionary containing the sliding window data for all activities.\n",
        "                                Each key in the dictionary corresponds to an activity, and the value is another\n",
        "                                dictionary with the keys 'train_windows', 'train_labels', 'test_windows', 'test_labels'.\n",
        "        data_type (str): Either 'train' or 'test' to specify which data to combine (e.g., 'train_windows' or 'test_windows').\n",
        "\n",
        "    Returns:\n",
        "        tuple:\n",
        "            - windows (numpy.ndarray): Concatenated windows from all activities for either training or testing.\n",
        "            - labels (numpy.ndarray): Concatenated labels corresponding to the windows from all activities.\n",
        "    \"\"\"\n",
        "\n",
        "    # Extract the list of sliding windows for the specified data type (either 'train' or 'test') from each activity\n",
        "    # For example, if data_type is 'train', it extracts 'train_windows' for all activities\n",
        "    windows_list = [train_test_data[activity][f'{data_type}_windows'] for activity in train_test_data]\n",
        "\n",
        "    # Similarly, extract the list of labels corresponding to the windows for each activity\n",
        "    labels_list = [train_test_data[activity][f'{data_type}_labels'] for activity in train_test_data]\n",
        "\n",
        "    # Concatenate all the sliding windows into a single numpy array along the first axis (rows)\n",
        "    # This creates one large array of windows from all the activities combined\n",
        "    concatenated_windows = np.concatenate(windows_list, axis=0)\n",
        "\n",
        "    # Concatenate all the labels into a single numpy array along the first axis (rows)\n",
        "    # The labels are now aligned with the concatenated windows\n",
        "    concatenated_labels = np.concatenate(labels_list, axis=0)\n",
        "\n",
        "    # Return the concatenated windows and labels as a tuple\n",
        "    return concatenated_windows, concatenated_labels"
      ]
    },
    {
      "cell_type": "markdown",
      "metadata": {
        "id": "_Wv1PuOLgUV8"
      },
      "source": [
        "## 1D CNN Model\n",
        "\n",
        "This function, `build_1d_cnn_model`, creates and compiles a 1D Convolutional Neural Network (CNN) for multi-class classification tasks.\n",
        "\n",
        "### Function Overview\n",
        "\n",
        "Input Parameters\n",
        "* `input_shape`: Specifies the shape of the input data. It represents (timesteps, features), where timesteps refer to the length of the time series (e.g., 50 windows), and features represent the number of measurements in each time step (e.g., accelerometer readings).\n",
        "* `num_classes`: The number of output classes for the classification problem. For example, if you're classifying six different activities, num_classes would be 6.\n",
        "\n",
        "Returns\n",
        "* The function returns a compiled 1D CNN model that is ready to be trained on your data.\n",
        "\n",
        "<hr>\n",
        "\n",
        "### Function Breakdown\n",
        "1.   Model Initialization:\n",
        "    * `model = Sequential()`: Initializes a Sequential model, which means layers will be stacked on top of each other in a linear fashion.\n",
        "2.   First Convolutional Layer\n",
        "    * `Conv1D(filters=64, kernel_size=3, activation='relu', input_shape=input_shape)`\n",
        "        * This is the first 1D convolutional layer\n",
        "        * `filters=64`: The layer applies 64 filters (or kernels) over the input data.\n",
        "        * `kernel_size=3`: Each filter will cover 3 timesteps at a time (a window of 3).\n",
        "        * `activation='relu'`: The Rectified Linear Unit (ReLU) activation function introduces non-linearity and helps the model learn complex patterns.\n",
        "        * `input_shape=input_shape`: Specifies the shape of the input data.\n",
        "    * `MaxPooling1D(pool_size=2)`: This pooling layer reduces the dimensionality of the data by taking the maximum value from each 2-timestep window (`pool_size=2`). This helps reduce computational complexity and captures the most important features.\n",
        "3. Second Convolutional Layer:\n",
        "    * `Conv1D(filters=128, kernel_size=3, activation='relu')`\n",
        "        * This is the second convolutional layer, similar to the first, but with 128 filters, which allow the network to learn more complex features from the data.\n",
        "        * `kernel_size=3` and activation='relu' function in the same way as the first Conv1D layer.\n",
        "    * `MaxPooling1D(pool_size=2)`: Another pooling layer to downsample the output, further reducing the data’s dimensionality.\n",
        "4. Flattening Layer:\n",
        "    * `Flattening`: Converts the 2D output of the convolutional and pooling layers into a 1D vector. This is necessary because the next layer is fully connected, and it requires a 1D input.\n",
        "5. Fully Connected Layer:\n",
        "    * `Dense(128, activation='relu')`: This is a fully connected layer with 128 units/neurons. Each neuron is connected to every input from the flattened output. The ReLU activation function is used again to introduce non-linearity and help the model learn complex relationships.\n",
        "6. Dropout Layer:\n",
        "    * `Dropout(0.5)`: This layer randomly sets 50% of the neurons to zero during training to prevent overfitting. It helps the model generalize better to unseen data.\n",
        "7. Output Layer:\n",
        "    * `Dense(num_classes, activation='softmax')`: This is the output layer with num_classes neurons, one for each class in the classification problem. The softmax activation function ensures the output values represent probabilities that sum to 1, useful for multi-class classification.\n",
        "8. Compiling the model\n",
        "    * model.compile(optimizer='adam', loss='categorical_crossentropy', metrics=['accuracy']):\n",
        "        * Optimizer: 'adam': Adam is an optimization algorithm that adjusts the learning rate during training to improve performance.\n",
        "        * Loss: 'categorical_crossentropy': This loss function is used for multi-class classification problems where the target variable is one-hot encoded (i.e., represented as a vector of 0s and 1s).\n",
        "        * Metrics: ['accuracy']: The accuracy metric is used to evaluate the model’s performance during training and testing.\n"
      ]
    },
    {
      "cell_type": "code",
      "execution_count": 11,
      "metadata": {
        "id": "sCOkh99EOg8t"
      },
      "outputs": [],
      "source": [
        "def build_1d_cnn_model(input_shape, num_classes):\n",
        "    \"\"\"\n",
        "    Builds and compiles a 1D CNN model for multi-class classification.\n",
        "\n",
        "    Args:\n",
        "        input_shape (tuple): The shape of the input data (timesteps, features).\n",
        "        num_classes (int): The number of output classes.\n",
        "\n",
        "    Returns:\n",
        "        model (Sequential): Compiled 1D CNN model.\n",
        "    \"\"\"\n",
        "    model = Sequential()\n",
        "\n",
        "    # First Conv1D layer\n",
        "    # You can try experimenting with different filters, kernel_size values and activiation functions\n",
        "    model.add(Conv1D(filters=64, kernel_size=3, activation='relu', input_shape=input_shape))\n",
        "    model.add(MaxPooling1D(pool_size=2))\n",
        "\n",
        "    # Second Conv1D layer\n",
        "    # You can try experimenting with different filters, kernel_size values and activiation functions\n",
        "    model.add(Conv1D(filters=128, kernel_size=3, activation='relu'))\n",
        "    model.add(MaxPooling1D(pool_size=2))\n",
        "\n",
        "    # Flatten the output from the convolutional layers\n",
        "    model.add(Flatten())\n",
        "\n",
        "    # Fully connected layer\n",
        "    model.add(Dense(128, activation='relu'))\n",
        "\n",
        "    # Dropout layer for regularization\n",
        "    # You can try experimenting with different dropout rates\n",
        "    model.add(Dropout(0.5))\n",
        "\n",
        "    # Output layer with softmax for multi-class classification\n",
        "    model.add(Dense(num_classes, activation='softmax'))\n",
        "\n",
        "    # Compile the model\n",
        "    model.compile(optimizer='adam', loss='categorical_crossentropy', metrics=['accuracy'])\n",
        "\n",
        "    #  Prints a detailed summary of the model, showing the layers, their output shapes, and the number of trainable parameters\n",
        "    model.summary()\n",
        "\n",
        "    return model"
      ]
    },
    {
      "cell_type": "markdown",
      "metadata": {
        "id": "HurfE6lmOjQT"
      },
      "source": [
        "# Classification Pipeline"
      ]
    },
    {
      "cell_type": "markdown",
      "metadata": {
        "id": "DLs1eacYoa_S"
      },
      "source": [
        "## Step 1: Prepare and Preprocess the Data"
      ]
    },
    {
      "cell_type": "code",
      "execution_count": 18,
      "metadata": {
        "id": "QTzHon1EoiEK"
      },
      "outputs": [],
      "source": [
        "# Define activity folders and corresponding labels\n",
        "# Each key is the name of the physical activity, and the corresponding value is the numeric label\n",
        "# These labels will be used as the target variable for classification.\n",
        "activities = {\n",
        "    'breathingNormally': 0,\n",
        "    'coughing': 1,\n",
        "    'hyperventilation': 2,\n",
        "    'other': 3\n",
        "}"
      ]
    },
    {
      "cell_type": "code",
      "execution_count": 19,
      "metadata": {
        "id": "2FqqaaX2o1YW"
      },
      "outputs": [],
      "source": [
        "# Dictionary to store sliding windows and labels for both train and test sets for each activity\n",
        "# This will hold the training and test data after processing each activity.\n",
        "train_test_data = {}\n",
        "\n",
        "# Loop through each activity folder and process the data\n",
        "# Note, if you have large amounts of data, this step may take a while\n",
        "for activity, label in activities.items():\n",
        "    # Initialize an empty dictionary for each activity to store train and test windows and labels\n",
        "    train_test_data[activity] = {}\n",
        "\n",
        "    # Call process_activity() to process the data for the current activity folder\n",
        "    # It loads the data, applies sliding windows, splits it into train and test sets,\n",
        "    # and returns the respective sliding windows and labels for both sets.\n",
        "    (train_test_data[activity]['train_windows'], train_test_data[activity]['train_labels'],\n",
        "     train_test_data[activity]['test_windows'], train_test_data[activity]['test_labels']) = process_activity(\n",
        "        activity, label, your_dataset_path, window_size=50, step_size=50)\n",
        "\n",
        "# Explanation:\n",
        "    # - 'train_windows' and 'train_labels' store the windows and labels from the training files.\n",
        "    # - 'test_windows' and 'test_labels' store the windows and labels from the test files.\n",
        "    # - `your_dataset_path` should be replaced with the actual path to your dataset.\n",
        "    # - `process_activity` handles all the steps of loading data, splitting it, and applying sliding windows."
      ]
    },
    {
      "cell_type": "markdown",
      "metadata": {
        "id": "TdGR352hph4X"
      },
      "source": [
        "Now that each activity has been processed and stored in train_test_data, we need to combine the sliding windows and labels from all activities into unified arrays (one for training and one for testing) for model training."
      ]
    },
    {
      "cell_type": "code",
      "execution_count": 20,
      "metadata": {
        "id": "OtpVBr4Fpq_8"
      },
      "outputs": [],
      "source": [
        "# Combine the sliding windows and labels for the training data from all activities\n",
        "# The combine_data() function concatenates the windows and labels across activities\n",
        "X_train, y_train = combine_data(train_test_data, 'train')\n",
        "\n",
        "# Combine the sliding windows and labels for the test data from all activities\n",
        "X_test, y_test = combine_data(train_test_data, 'test')\n",
        "\n",
        "# Explanation:\n",
        "# - `combine_data()` takes in the `train_test_data` dictionary and the data type ('train' or 'test') to specify\n",
        "#   whether we are combining training or testing data.\n",
        "# - It retrieves and concatenates the windows and labels from all activities into single arrays\n",
        "#   (`X_train` and `y_train` for training, `X_test` and `y_test` for testing).\n",
        "# - `X_train` and `X_test` are 3D arrays of sliding windows (shape: num_windows, window_size, num_features).\n",
        "# - `y_train` and `y_test` are 1D arrays containing the activity labels corresponding to each window."
      ]
    },
    {
      "cell_type": "markdown",
      "metadata": {
        "id": "1yQGU1vwIQdz"
      },
      "source": [
        "### One-Hot Encode Labels (for multi-class classification)\n",
        "If you have more than two classes, you'll need to one-hot encode the labels, especially if your model will use categorical cross-entropy loss.\n",
        "\n",
        "One-Hot Encoding converts categorical labels into binary vectors (one-hot encoded format). Each class label is represented as a binary vector with 1 for the correct class and 0 for others. This is necessary for training models that use categorical_crossentropy as the loss function, such as a neural network."
      ]
    },
    {
      "cell_type": "code",
      "execution_count": 21,
      "metadata": {
        "id": "9b2J1EVdHj0U"
      },
      "outputs": [],
      "source": [
        "# Initialize the OneHotEncoder\n",
        "encoder = OneHotEncoder(sparse_output=False)\n",
        "\n",
        "# Reshape y_train to a 2D array to meet the input format requirements of OneHotEncoder\n",
        "# - y_train is originally a 1D array of labels (shape: [num_samples]), but OneHotEncoder expects a 2D array of shape (num_samples, 1).\n",
        "# - reshape(-1, 1): The -1 means 'infer the correct size based on the other dimensions' (i.e., it adapts based on the length of y_train).\n",
        "# OneHotEncoder will then create a binary vector for each label.\n",
        "y_train_one_hot = encoder.fit_transform(y_train.reshape(-1, 1))\n",
        "\n",
        "# Apply the same transformation to the test labels (y_test)\n",
        "# - Since the encoder is already fitted on the training data, we use transform() for the test set.\n",
        "# - Reshape y_test to (num_samples, 1) for compatibility with the encoder.\n",
        "y_test_one_hot = encoder.transform(y_test.reshape(-1, 1))\n",
        "\n",
        "# Explanation:\n",
        "# - y_train_one_hot and y_test_one_hot are now 2D arrays where each row is a one-hot encoded binary vector corresponding to a class label.\n",
        "# - The number of columns in the one-hot encoded labels equals the number of unique classes (activities).\n",
        "# For example, if there are 6 unique activities, the encoded vector will have 6 elements, with a '1' indicating the correct class."
      ]
    },
    {
      "cell_type": "code",
      "execution_count": 22,
      "metadata": {
        "colab": {
          "base_uri": "https://localhost:8080/"
        },
        "id": "AlnbOVr0rDbV",
        "outputId": "9a1d838a-5fcd-4da2-e4cd-4a388cd06f54"
      },
      "outputs": [
        {
          "output_type": "stream",
          "name": "stdout",
          "text": [
            "X_train shape: (57230, 50, 3), y_train shape: (57230,)\n",
            "X_test shape: (14337, 50, 3), y_test shape: (14337,)\n",
            "y_train_one_hot shape: (57230, 4), y_test_one_hot shape: (14337, 4)\n"
          ]
        }
      ],
      "source": [
        "# Print the shapes of the training and test arrays to verify that everything has been combined correctly\n",
        "print(f\"X_train shape: {X_train.shape}, y_train shape: {y_train.shape}\")\n",
        "print(f\"X_test shape: {X_test.shape}, y_test shape: {y_test.shape}\")\n",
        "# Print the shapes of the one-hot encoded labels to verify that the transformation was successful\n",
        "print(f\"y_train_one_hot shape: {y_train_one_hot.shape}, y_test_one_hot shape: {y_test_one_hot.shape}\")\n",
        "\n",
        "# Explanation of shapes:\n",
        "# - The shape of y_train_one_hot will be (num_samples, num_classes), where:\n",
        "#     - num_samples is the number of training windows.\n",
        "#     - num_classes is the number of unique activities (the length of the one-hot vectors).\n",
        "# - Similarly, y_test_one_hot will have the same number of columns (num_classes) as y_train_one_hot but will have fewer rows (corresponding to the number of test windows)."
      ]
    },
    {
      "cell_type": "markdown",
      "metadata": {
        "id": "fEhUxZzzJzzI"
      },
      "source": [
        "## Step 2: Build the 1D-CNN Model\n",
        "Call our `build_1d_cnn_model` functionto build our model"
      ]
    },
    {
      "cell_type": "code",
      "execution_count": 23,
      "metadata": {
        "colab": {
          "base_uri": "https://localhost:8080/",
          "height": 457
        },
        "id": "4sDZWZH_KKBD",
        "outputId": "ee1f9b61-4cec-4524-f1f4-5cf3a130ea5a"
      },
      "outputs": [
        {
          "output_type": "stream",
          "name": "stderr",
          "text": [
            "/usr/local/lib/python3.10/dist-packages/keras/src/layers/convolutional/base_conv.py:107: UserWarning: Do not pass an `input_shape`/`input_dim` argument to a layer. When using Sequential models, prefer using an `Input(shape)` object as the first layer in the model instead.\n",
            "  super().__init__(activity_regularizer=activity_regularizer, **kwargs)\n"
          ]
        },
        {
          "output_type": "display_data",
          "data": {
            "text/plain": [
              "\u001b[1mModel: \"sequential\"\u001b[0m\n"
            ],
            "text/html": [
              "<pre style=\"white-space:pre;overflow-x:auto;line-height:normal;font-family:Menlo,'DejaVu Sans Mono',consolas,'Courier New',monospace\"><span style=\"font-weight: bold\">Model: \"sequential\"</span>\n",
              "</pre>\n"
            ]
          },
          "metadata": {}
        },
        {
          "output_type": "display_data",
          "data": {
            "text/plain": [
              "┏━━━━━━━━━━━━━━━━━━━━━━━━━━━━━━━━━━━━━━┳━━━━━━━━━━━━━━━━━━━━━━━━━━━━━┳━━━━━━━━━━━━━━━━━┓\n",
              "┃\u001b[1m \u001b[0m\u001b[1mLayer (type)                        \u001b[0m\u001b[1m \u001b[0m┃\u001b[1m \u001b[0m\u001b[1mOutput Shape               \u001b[0m\u001b[1m \u001b[0m┃\u001b[1m \u001b[0m\u001b[1m        Param #\u001b[0m\u001b[1m \u001b[0m┃\n",
              "┡━━━━━━━━━━━━━━━━━━━━━━━━━━━━━━━━━━━━━━╇━━━━━━━━━━━━━━━━━━━━━━━━━━━━━╇━━━━━━━━━━━━━━━━━┩\n",
              "│ conv1d (\u001b[38;5;33mConv1D\u001b[0m)                      │ (\u001b[38;5;45mNone\u001b[0m, \u001b[38;5;34m48\u001b[0m, \u001b[38;5;34m64\u001b[0m)              │             \u001b[38;5;34m640\u001b[0m │\n",
              "├──────────────────────────────────────┼─────────────────────────────┼─────────────────┤\n",
              "│ max_pooling1d (\u001b[38;5;33mMaxPooling1D\u001b[0m)         │ (\u001b[38;5;45mNone\u001b[0m, \u001b[38;5;34m24\u001b[0m, \u001b[38;5;34m64\u001b[0m)              │               \u001b[38;5;34m0\u001b[0m │\n",
              "├──────────────────────────────────────┼─────────────────────────────┼─────────────────┤\n",
              "│ conv1d_1 (\u001b[38;5;33mConv1D\u001b[0m)                    │ (\u001b[38;5;45mNone\u001b[0m, \u001b[38;5;34m22\u001b[0m, \u001b[38;5;34m128\u001b[0m)             │          \u001b[38;5;34m24,704\u001b[0m │\n",
              "├──────────────────────────────────────┼─────────────────────────────┼─────────────────┤\n",
              "│ max_pooling1d_1 (\u001b[38;5;33mMaxPooling1D\u001b[0m)       │ (\u001b[38;5;45mNone\u001b[0m, \u001b[38;5;34m11\u001b[0m, \u001b[38;5;34m128\u001b[0m)             │               \u001b[38;5;34m0\u001b[0m │\n",
              "├──────────────────────────────────────┼─────────────────────────────┼─────────────────┤\n",
              "│ flatten (\u001b[38;5;33mFlatten\u001b[0m)                    │ (\u001b[38;5;45mNone\u001b[0m, \u001b[38;5;34m1408\u001b[0m)                │               \u001b[38;5;34m0\u001b[0m │\n",
              "├──────────────────────────────────────┼─────────────────────────────┼─────────────────┤\n",
              "│ dense (\u001b[38;5;33mDense\u001b[0m)                        │ (\u001b[38;5;45mNone\u001b[0m, \u001b[38;5;34m128\u001b[0m)                 │         \u001b[38;5;34m180,352\u001b[0m │\n",
              "├──────────────────────────────────────┼─────────────────────────────┼─────────────────┤\n",
              "│ dropout (\u001b[38;5;33mDropout\u001b[0m)                    │ (\u001b[38;5;45mNone\u001b[0m, \u001b[38;5;34m128\u001b[0m)                 │               \u001b[38;5;34m0\u001b[0m │\n",
              "├──────────────────────────────────────┼─────────────────────────────┼─────────────────┤\n",
              "│ dense_1 (\u001b[38;5;33mDense\u001b[0m)                      │ (\u001b[38;5;45mNone\u001b[0m, \u001b[38;5;34m4\u001b[0m)                   │             \u001b[38;5;34m516\u001b[0m │\n",
              "└──────────────────────────────────────┴─────────────────────────────┴─────────────────┘\n"
            ],
            "text/html": [
              "<pre style=\"white-space:pre;overflow-x:auto;line-height:normal;font-family:Menlo,'DejaVu Sans Mono',consolas,'Courier New',monospace\">┏━━━━━━━━━━━━━━━━━━━━━━━━━━━━━━━━━━━━━━┳━━━━━━━━━━━━━━━━━━━━━━━━━━━━━┳━━━━━━━━━━━━━━━━━┓\n",
              "┃<span style=\"font-weight: bold\"> Layer (type)                         </span>┃<span style=\"font-weight: bold\"> Output Shape                </span>┃<span style=\"font-weight: bold\">         Param # </span>┃\n",
              "┡━━━━━━━━━━━━━━━━━━━━━━━━━━━━━━━━━━━━━━╇━━━━━━━━━━━━━━━━━━━━━━━━━━━━━╇━━━━━━━━━━━━━━━━━┩\n",
              "│ conv1d (<span style=\"color: #0087ff; text-decoration-color: #0087ff\">Conv1D</span>)                      │ (<span style=\"color: #00d7ff; text-decoration-color: #00d7ff\">None</span>, <span style=\"color: #00af00; text-decoration-color: #00af00\">48</span>, <span style=\"color: #00af00; text-decoration-color: #00af00\">64</span>)              │             <span style=\"color: #00af00; text-decoration-color: #00af00\">640</span> │\n",
              "├──────────────────────────────────────┼─────────────────────────────┼─────────────────┤\n",
              "│ max_pooling1d (<span style=\"color: #0087ff; text-decoration-color: #0087ff\">MaxPooling1D</span>)         │ (<span style=\"color: #00d7ff; text-decoration-color: #00d7ff\">None</span>, <span style=\"color: #00af00; text-decoration-color: #00af00\">24</span>, <span style=\"color: #00af00; text-decoration-color: #00af00\">64</span>)              │               <span style=\"color: #00af00; text-decoration-color: #00af00\">0</span> │\n",
              "├──────────────────────────────────────┼─────────────────────────────┼─────────────────┤\n",
              "│ conv1d_1 (<span style=\"color: #0087ff; text-decoration-color: #0087ff\">Conv1D</span>)                    │ (<span style=\"color: #00d7ff; text-decoration-color: #00d7ff\">None</span>, <span style=\"color: #00af00; text-decoration-color: #00af00\">22</span>, <span style=\"color: #00af00; text-decoration-color: #00af00\">128</span>)             │          <span style=\"color: #00af00; text-decoration-color: #00af00\">24,704</span> │\n",
              "├──────────────────────────────────────┼─────────────────────────────┼─────────────────┤\n",
              "│ max_pooling1d_1 (<span style=\"color: #0087ff; text-decoration-color: #0087ff\">MaxPooling1D</span>)       │ (<span style=\"color: #00d7ff; text-decoration-color: #00d7ff\">None</span>, <span style=\"color: #00af00; text-decoration-color: #00af00\">11</span>, <span style=\"color: #00af00; text-decoration-color: #00af00\">128</span>)             │               <span style=\"color: #00af00; text-decoration-color: #00af00\">0</span> │\n",
              "├──────────────────────────────────────┼─────────────────────────────┼─────────────────┤\n",
              "│ flatten (<span style=\"color: #0087ff; text-decoration-color: #0087ff\">Flatten</span>)                    │ (<span style=\"color: #00d7ff; text-decoration-color: #00d7ff\">None</span>, <span style=\"color: #00af00; text-decoration-color: #00af00\">1408</span>)                │               <span style=\"color: #00af00; text-decoration-color: #00af00\">0</span> │\n",
              "├──────────────────────────────────────┼─────────────────────────────┼─────────────────┤\n",
              "│ dense (<span style=\"color: #0087ff; text-decoration-color: #0087ff\">Dense</span>)                        │ (<span style=\"color: #00d7ff; text-decoration-color: #00d7ff\">None</span>, <span style=\"color: #00af00; text-decoration-color: #00af00\">128</span>)                 │         <span style=\"color: #00af00; text-decoration-color: #00af00\">180,352</span> │\n",
              "├──────────────────────────────────────┼─────────────────────────────┼─────────────────┤\n",
              "│ dropout (<span style=\"color: #0087ff; text-decoration-color: #0087ff\">Dropout</span>)                    │ (<span style=\"color: #00d7ff; text-decoration-color: #00d7ff\">None</span>, <span style=\"color: #00af00; text-decoration-color: #00af00\">128</span>)                 │               <span style=\"color: #00af00; text-decoration-color: #00af00\">0</span> │\n",
              "├──────────────────────────────────────┼─────────────────────────────┼─────────────────┤\n",
              "│ dense_1 (<span style=\"color: #0087ff; text-decoration-color: #0087ff\">Dense</span>)                      │ (<span style=\"color: #00d7ff; text-decoration-color: #00d7ff\">None</span>, <span style=\"color: #00af00; text-decoration-color: #00af00\">4</span>)                   │             <span style=\"color: #00af00; text-decoration-color: #00af00\">516</span> │\n",
              "└──────────────────────────────────────┴─────────────────────────────┴─────────────────┘\n",
              "</pre>\n"
            ]
          },
          "metadata": {}
        },
        {
          "output_type": "display_data",
          "data": {
            "text/plain": [
              "\u001b[1m Total params: \u001b[0m\u001b[38;5;34m206,212\u001b[0m (805.52 KB)\n"
            ],
            "text/html": [
              "<pre style=\"white-space:pre;overflow-x:auto;line-height:normal;font-family:Menlo,'DejaVu Sans Mono',consolas,'Courier New',monospace\"><span style=\"font-weight: bold\"> Total params: </span><span style=\"color: #00af00; text-decoration-color: #00af00\">206,212</span> (805.52 KB)\n",
              "</pre>\n"
            ]
          },
          "metadata": {}
        },
        {
          "output_type": "display_data",
          "data": {
            "text/plain": [
              "\u001b[1m Trainable params: \u001b[0m\u001b[38;5;34m206,212\u001b[0m (805.52 KB)\n"
            ],
            "text/html": [
              "<pre style=\"white-space:pre;overflow-x:auto;line-height:normal;font-family:Menlo,'DejaVu Sans Mono',consolas,'Courier New',monospace\"><span style=\"font-weight: bold\"> Trainable params: </span><span style=\"color: #00af00; text-decoration-color: #00af00\">206,212</span> (805.52 KB)\n",
              "</pre>\n"
            ]
          },
          "metadata": {}
        },
        {
          "output_type": "display_data",
          "data": {
            "text/plain": [
              "\u001b[1m Non-trainable params: \u001b[0m\u001b[38;5;34m0\u001b[0m (0.00 B)\n"
            ],
            "text/html": [
              "<pre style=\"white-space:pre;overflow-x:auto;line-height:normal;font-family:Menlo,'DejaVu Sans Mono',consolas,'Courier New',monospace\"><span style=\"font-weight: bold\"> Non-trainable params: </span><span style=\"color: #00af00; text-decoration-color: #00af00\">0</span> (0.00 B)\n",
              "</pre>\n"
            ]
          },
          "metadata": {}
        }
      ],
      "source": [
        "# Determine the input shape for the model\n",
        "input_shape = (X_train.shape[1], X_train.shape[2])\n",
        "\n",
        "# Determine the number of output classes (num_classes)\n",
        "num_classes = y_train_one_hot.shape[1]\n",
        "\n",
        "# Build and compile the model\n",
        "# The function will return a compiled model ready for training\n",
        "model = build_1d_cnn_model(input_shape, num_classes)"
      ]
    },
    {
      "cell_type": "markdown",
      "metadata": {
        "id": "q1-SHEmtKM0D"
      },
      "source": [
        "## Step 3: Train the CNN Model\n",
        "\n",
        "Train the 1D CNN model using the training data and validate on the test data. The model will learn to map input sliding windows to their corresponding activity labels.\n",
        "\n",
        "`model.fit()` is used to train the neural network model. It takes several parameters:\n",
        "* `X_train`: The input training data (sliding windows), with shape (num_samples, window_size, num_features).\n",
        "* `y_train_one_hot`: The corresponding one-hot encoded labels for the training data, with shape (num_samples, num_classes).\n",
        "* `epochs`: Number of times the entire training dataset is passed through the model. You can try adjusting the number of epochs and compare the difference in model performance. In this case, we are training for 20 epochs, meaning the model will see the entire training set 20 times.\n",
        "* `batch_size`: Number of samples processed before the model's weights are updated. Here, the batch size is set to 32, meaning the model will process 32 samples at a time before updating its parameters.\n",
        "* `validation_data`: This parameter allows us to evaluate the model's performance on the test data after each epoch.\n",
        "*`(X_test, y_test_one_hot)`: These are the input test data and corresponding one-hot encoded test labels."
      ]
    },
    {
      "cell_type": "markdown",
      "metadata": {
        "id": "-VYQ4XGsWnhn"
      },
      "source": [
        "# Luise's accuracy improvement trials:"
      ]
    },
    {
      "cell_type": "code",
      "execution_count": null,
      "metadata": {
        "id": "ZtYgN-89Wnhn",
        "outputId": "75ca8909-0a89-4cd9-e8ac-dd28578fb225"
      },
      "outputs": [
        {
          "name": "stdout",
          "output_type": "stream",
          "text": [
            "Epoch 1/20\n",
            "\u001b[1m9323/9323\u001b[0m \u001b[32m━━━━━━━━━━━━━━━━━━━━\u001b[0m\u001b[37m\u001b[0m \u001b[1m0s\u001b[0m 4ms/step - accuracy: 0.9072 - loss: 0.3528"
          ]
        },
        {
          "ename": "KeyboardInterrupt",
          "evalue": "",
          "output_type": "error",
          "traceback": [
            "\u001b[1;31m---------------------------------------------------------------------------\u001b[0m",
            "\u001b[1;31mKeyboardInterrupt\u001b[0m                         Traceback (most recent call last)",
            "Cell \u001b[1;32mIn [48], line 9\u001b[0m\n\u001b[0;32m      2\u001b[0m \u001b[38;5;28;01mfrom\u001b[39;00m \u001b[38;5;21;01mtensorflow\u001b[39;00m\u001b[38;5;21;01m.\u001b[39;00m\u001b[38;5;21;01mkeras\u001b[39;00m\u001b[38;5;21;01m.\u001b[39;00m\u001b[38;5;21;01mcallbacks\u001b[39;00m \u001b[38;5;28;01mimport\u001b[39;00m ReduceLROnPlateau\n\u001b[0;32m      3\u001b[0m lr_scheduler \u001b[38;5;241m=\u001b[39m ReduceLROnPlateau(\n\u001b[0;32m      4\u001b[0m     monitor\u001b[38;5;241m=\u001b[39m\u001b[38;5;124m'\u001b[39m\u001b[38;5;124mval_accuracy\u001b[39m\u001b[38;5;124m'\u001b[39m,   \u001b[38;5;66;03m# Track validation accuracy for learning rate adjustments\u001b[39;00m\n\u001b[0;32m      5\u001b[0m     factor\u001b[38;5;241m=\u001b[39m\u001b[38;5;241m0.5\u001b[39m,               \u001b[38;5;66;03m# Reduce learning rate by half when triggered\u001b[39;00m\n\u001b[0;32m      6\u001b[0m     patience\u001b[38;5;241m=\u001b[39m\u001b[38;5;241m3\u001b[39m,               \u001b[38;5;66;03m# Wait for 3 epochs of no improvement before reducing\u001b[39;00m\n\u001b[0;32m      7\u001b[0m     min_lr\u001b[38;5;241m=\u001b[39m\u001b[38;5;241m1e-5\u001b[39m               \u001b[38;5;66;03m# Set a minimum learning rate to prevent it from going too low\u001b[39;00m\n\u001b[0;32m      8\u001b[0m )\n\u001b[1;32m----> 9\u001b[0m history \u001b[38;5;241m=\u001b[39m \u001b[43mmodel\u001b[49m\u001b[38;5;241;43m.\u001b[39;49m\u001b[43mfit\u001b[49m\u001b[43m(\u001b[49m\u001b[43mX_train\u001b[49m\u001b[43m,\u001b[49m\u001b[43m \u001b[49m\u001b[43my_train_one_hot\u001b[49m\u001b[43m,\u001b[49m\n\u001b[0;32m     10\u001b[0m \u001b[43m                    \u001b[49m\u001b[43mepochs\u001b[49m\u001b[38;5;241;43m=\u001b[39;49m\u001b[38;5;241;43m20\u001b[39;49m\u001b[43m,\u001b[49m\u001b[43m         \u001b[49m\u001b[38;5;66;43;03m# Train the model for 20 epochs\u001b[39;49;00m\n\u001b[0;32m     11\u001b[0m \u001b[43m                    \u001b[49m\u001b[43mbatch_size\u001b[49m\u001b[38;5;241;43m=\u001b[39;49m\u001b[38;5;241;43m32\u001b[39;49m\u001b[43m,\u001b[49m\u001b[43m     \u001b[49m\u001b[38;5;66;43;03m# Use a batch size of 32\u001b[39;49;00m\n\u001b[0;32m     12\u001b[0m \u001b[43m                    \u001b[49m\u001b[43mvalidation_data\u001b[49m\u001b[38;5;241;43m=\u001b[39;49m\u001b[43m(\u001b[49m\u001b[43mX_test\u001b[49m\u001b[43m,\u001b[49m\u001b[43m \u001b[49m\u001b[43my_test_one_hot\u001b[49m\u001b[43m)\u001b[49m\u001b[43m,\u001b[49m\u001b[43m   \u001b[49m\u001b[38;5;66;43;03m# Validate on the test set after each epoch\u001b[39;49;00m\n\u001b[0;32m     13\u001b[0m \u001b[43m                    \u001b[49m\u001b[43mcallbacks\u001b[49m\u001b[38;5;241;43m=\u001b[39;49m\u001b[43m[\u001b[49m\u001b[43mlr_scheduler\u001b[49m\u001b[43m]\u001b[49m\u001b[43m)\u001b[49m\n",
            "File \u001b[1;32m~\\AppData\\Local\\Packages\\PythonSoftwareFoundation.Python.3.10_qbz5n2kfra8p0\\LocalCache\\local-packages\\Python310\\site-packages\\keras\\src\\utils\\traceback_utils.py:117\u001b[0m, in \u001b[0;36mfilter_traceback.<locals>.error_handler\u001b[1;34m(*args, **kwargs)\u001b[0m\n\u001b[0;32m    115\u001b[0m filtered_tb \u001b[38;5;241m=\u001b[39m \u001b[38;5;28;01mNone\u001b[39;00m\n\u001b[0;32m    116\u001b[0m \u001b[38;5;28;01mtry\u001b[39;00m:\n\u001b[1;32m--> 117\u001b[0m     \u001b[38;5;28;01mreturn\u001b[39;00m fn(\u001b[38;5;241m*\u001b[39margs, \u001b[38;5;241m*\u001b[39m\u001b[38;5;241m*\u001b[39mkwargs)\n\u001b[0;32m    118\u001b[0m \u001b[38;5;28;01mexcept\u001b[39;00m \u001b[38;5;167;01mException\u001b[39;00m \u001b[38;5;28;01mas\u001b[39;00m e:\n\u001b[0;32m    119\u001b[0m     filtered_tb \u001b[38;5;241m=\u001b[39m _process_traceback_frames(e\u001b[38;5;241m.\u001b[39m__traceback__)\n",
            "File \u001b[1;32m~\\AppData\\Local\\Packages\\PythonSoftwareFoundation.Python.3.10_qbz5n2kfra8p0\\LocalCache\\local-packages\\Python310\\site-packages\\keras\\src\\backend\\tensorflow\\trainer.py:344\u001b[0m, in \u001b[0;36mTensorFlowTrainer.fit\u001b[1;34m(self, x, y, batch_size, epochs, verbose, callbacks, validation_split, validation_data, shuffle, class_weight, sample_weight, initial_epoch, steps_per_epoch, validation_steps, validation_batch_size, validation_freq)\u001b[0m\n\u001b[0;32m    333\u001b[0m \u001b[38;5;28;01mif\u001b[39;00m \u001b[38;5;28mgetattr\u001b[39m(\u001b[38;5;28mself\u001b[39m, \u001b[38;5;124m\"\u001b[39m\u001b[38;5;124m_eval_epoch_iterator\u001b[39m\u001b[38;5;124m\"\u001b[39m, \u001b[38;5;28;01mNone\u001b[39;00m) \u001b[38;5;129;01mis\u001b[39;00m \u001b[38;5;28;01mNone\u001b[39;00m:\n\u001b[0;32m    334\u001b[0m     \u001b[38;5;28mself\u001b[39m\u001b[38;5;241m.\u001b[39m_eval_epoch_iterator \u001b[38;5;241m=\u001b[39m TFEpochIterator(\n\u001b[0;32m    335\u001b[0m         x\u001b[38;5;241m=\u001b[39mval_x,\n\u001b[0;32m    336\u001b[0m         y\u001b[38;5;241m=\u001b[39mval_y,\n\u001b[1;32m   (...)\u001b[0m\n\u001b[0;32m    342\u001b[0m         shuffle\u001b[38;5;241m=\u001b[39m\u001b[38;5;28;01mFalse\u001b[39;00m,\n\u001b[0;32m    343\u001b[0m     )\n\u001b[1;32m--> 344\u001b[0m val_logs \u001b[38;5;241m=\u001b[39m \u001b[38;5;28;43mself\u001b[39;49m\u001b[38;5;241;43m.\u001b[39;49m\u001b[43mevaluate\u001b[49m\u001b[43m(\u001b[49m\n\u001b[0;32m    345\u001b[0m \u001b[43m    \u001b[49m\u001b[43mx\u001b[49m\u001b[38;5;241;43m=\u001b[39;49m\u001b[43mval_x\u001b[49m\u001b[43m,\u001b[49m\n\u001b[0;32m    346\u001b[0m \u001b[43m    \u001b[49m\u001b[43my\u001b[49m\u001b[38;5;241;43m=\u001b[39;49m\u001b[43mval_y\u001b[49m\u001b[43m,\u001b[49m\n\u001b[0;32m    347\u001b[0m \u001b[43m    \u001b[49m\u001b[43msample_weight\u001b[49m\u001b[38;5;241;43m=\u001b[39;49m\u001b[43mval_sample_weight\u001b[49m\u001b[43m,\u001b[49m\n\u001b[0;32m    348\u001b[0m \u001b[43m    \u001b[49m\u001b[43mbatch_size\u001b[49m\u001b[38;5;241;43m=\u001b[39;49m\u001b[43mvalidation_batch_size\u001b[49m\u001b[43m \u001b[49m\u001b[38;5;129;43;01mor\u001b[39;49;00m\u001b[43m \u001b[49m\u001b[43mbatch_size\u001b[49m\u001b[43m,\u001b[49m\n\u001b[0;32m    349\u001b[0m \u001b[43m    \u001b[49m\u001b[43msteps\u001b[49m\u001b[38;5;241;43m=\u001b[39;49m\u001b[43mvalidation_steps\u001b[49m\u001b[43m,\u001b[49m\n\u001b[0;32m    350\u001b[0m \u001b[43m    \u001b[49m\u001b[43mcallbacks\u001b[49m\u001b[38;5;241;43m=\u001b[39;49m\u001b[43mcallbacks\u001b[49m\u001b[43m,\u001b[49m\n\u001b[0;32m    351\u001b[0m \u001b[43m    \u001b[49m\u001b[43mreturn_dict\u001b[49m\u001b[38;5;241;43m=\u001b[39;49m\u001b[38;5;28;43;01mTrue\u001b[39;49;00m\u001b[43m,\u001b[49m\n\u001b[0;32m    352\u001b[0m \u001b[43m    \u001b[49m\u001b[43m_use_cached_eval_dataset\u001b[49m\u001b[38;5;241;43m=\u001b[39;49m\u001b[38;5;28;43;01mTrue\u001b[39;49;00m\u001b[43m,\u001b[49m\n\u001b[0;32m    353\u001b[0m \u001b[43m\u001b[49m\u001b[43m)\u001b[49m\n\u001b[0;32m    354\u001b[0m val_logs \u001b[38;5;241m=\u001b[39m {\n\u001b[0;32m    355\u001b[0m     \u001b[38;5;124m\"\u001b[39m\u001b[38;5;124mval_\u001b[39m\u001b[38;5;124m\"\u001b[39m \u001b[38;5;241m+\u001b[39m name: val \u001b[38;5;28;01mfor\u001b[39;00m name, val \u001b[38;5;129;01min\u001b[39;00m val_logs\u001b[38;5;241m.\u001b[39mitems()\n\u001b[0;32m    356\u001b[0m }\n\u001b[0;32m    357\u001b[0m epoch_logs\u001b[38;5;241m.\u001b[39mupdate(val_logs)\n",
            "File \u001b[1;32m~\\AppData\\Local\\Packages\\PythonSoftwareFoundation.Python.3.10_qbz5n2kfra8p0\\LocalCache\\local-packages\\Python310\\site-packages\\keras\\src\\utils\\traceback_utils.py:117\u001b[0m, in \u001b[0;36mfilter_traceback.<locals>.error_handler\u001b[1;34m(*args, **kwargs)\u001b[0m\n\u001b[0;32m    115\u001b[0m filtered_tb \u001b[38;5;241m=\u001b[39m \u001b[38;5;28;01mNone\u001b[39;00m\n\u001b[0;32m    116\u001b[0m \u001b[38;5;28;01mtry\u001b[39;00m:\n\u001b[1;32m--> 117\u001b[0m     \u001b[38;5;28;01mreturn\u001b[39;00m fn(\u001b[38;5;241m*\u001b[39margs, \u001b[38;5;241m*\u001b[39m\u001b[38;5;241m*\u001b[39mkwargs)\n\u001b[0;32m    118\u001b[0m \u001b[38;5;28;01mexcept\u001b[39;00m \u001b[38;5;167;01mException\u001b[39;00m \u001b[38;5;28;01mas\u001b[39;00m e:\n\u001b[0;32m    119\u001b[0m     filtered_tb \u001b[38;5;241m=\u001b[39m _process_traceback_frames(e\u001b[38;5;241m.\u001b[39m__traceback__)\n",
            "File \u001b[1;32m~\\AppData\\Local\\Packages\\PythonSoftwareFoundation.Python.3.10_qbz5n2kfra8p0\\LocalCache\\local-packages\\Python310\\site-packages\\keras\\src\\backend\\tensorflow\\trainer.py:432\u001b[0m, in \u001b[0;36mTensorFlowTrainer.evaluate\u001b[1;34m(self, x, y, batch_size, verbose, sample_weight, steps, callbacks, return_dict, **kwargs)\u001b[0m\n\u001b[0;32m    430\u001b[0m \u001b[38;5;28;01mfor\u001b[39;00m step, iterator \u001b[38;5;129;01min\u001b[39;00m epoch_iterator\u001b[38;5;241m.\u001b[39menumerate_epoch():\n\u001b[0;32m    431\u001b[0m     callbacks\u001b[38;5;241m.\u001b[39mon_test_batch_begin(step)\n\u001b[1;32m--> 432\u001b[0m     logs \u001b[38;5;241m=\u001b[39m \u001b[38;5;28;43mself\u001b[39;49m\u001b[38;5;241;43m.\u001b[39;49m\u001b[43mtest_function\u001b[49m\u001b[43m(\u001b[49m\u001b[43miterator\u001b[49m\u001b[43m)\u001b[49m\n\u001b[0;32m    433\u001b[0m     callbacks\u001b[38;5;241m.\u001b[39mon_test_batch_end(step, logs)\n\u001b[0;32m    434\u001b[0m     \u001b[38;5;28;01mif\u001b[39;00m \u001b[38;5;28mself\u001b[39m\u001b[38;5;241m.\u001b[39mstop_evaluating:\n",
            "File \u001b[1;32m~\\AppData\\Local\\Packages\\PythonSoftwareFoundation.Python.3.10_qbz5n2kfra8p0\\LocalCache\\local-packages\\Python310\\site-packages\\tensorflow\\python\\util\\traceback_utils.py:150\u001b[0m, in \u001b[0;36mfilter_traceback.<locals>.error_handler\u001b[1;34m(*args, **kwargs)\u001b[0m\n\u001b[0;32m    148\u001b[0m filtered_tb \u001b[38;5;241m=\u001b[39m \u001b[38;5;28;01mNone\u001b[39;00m\n\u001b[0;32m    149\u001b[0m \u001b[38;5;28;01mtry\u001b[39;00m:\n\u001b[1;32m--> 150\u001b[0m   \u001b[38;5;28;01mreturn\u001b[39;00m fn(\u001b[38;5;241m*\u001b[39margs, \u001b[38;5;241m*\u001b[39m\u001b[38;5;241m*\u001b[39mkwargs)\n\u001b[0;32m    151\u001b[0m \u001b[38;5;28;01mexcept\u001b[39;00m \u001b[38;5;167;01mException\u001b[39;00m \u001b[38;5;28;01mas\u001b[39;00m e:\n\u001b[0;32m    152\u001b[0m   filtered_tb \u001b[38;5;241m=\u001b[39m _process_traceback_frames(e\u001b[38;5;241m.\u001b[39m__traceback__)\n",
            "File \u001b[1;32m~\\AppData\\Local\\Packages\\PythonSoftwareFoundation.Python.3.10_qbz5n2kfra8p0\\LocalCache\\local-packages\\Python310\\site-packages\\tensorflow\\python\\eager\\polymorphic_function\\polymorphic_function.py:833\u001b[0m, in \u001b[0;36mFunction.__call__\u001b[1;34m(self, *args, **kwds)\u001b[0m\n\u001b[0;32m    830\u001b[0m compiler \u001b[38;5;241m=\u001b[39m \u001b[38;5;124m\"\u001b[39m\u001b[38;5;124mxla\u001b[39m\u001b[38;5;124m\"\u001b[39m \u001b[38;5;28;01mif\u001b[39;00m \u001b[38;5;28mself\u001b[39m\u001b[38;5;241m.\u001b[39m_jit_compile \u001b[38;5;28;01melse\u001b[39;00m \u001b[38;5;124m\"\u001b[39m\u001b[38;5;124mnonXla\u001b[39m\u001b[38;5;124m\"\u001b[39m\n\u001b[0;32m    832\u001b[0m \u001b[38;5;28;01mwith\u001b[39;00m OptionalXlaContext(\u001b[38;5;28mself\u001b[39m\u001b[38;5;241m.\u001b[39m_jit_compile):\n\u001b[1;32m--> 833\u001b[0m   result \u001b[38;5;241m=\u001b[39m \u001b[38;5;28mself\u001b[39m\u001b[38;5;241m.\u001b[39m_call(\u001b[38;5;241m*\u001b[39margs, \u001b[38;5;241m*\u001b[39m\u001b[38;5;241m*\u001b[39mkwds)\n\u001b[0;32m    835\u001b[0m new_tracing_count \u001b[38;5;241m=\u001b[39m \u001b[38;5;28mself\u001b[39m\u001b[38;5;241m.\u001b[39mexperimental_get_tracing_count()\n\u001b[0;32m    836\u001b[0m without_tracing \u001b[38;5;241m=\u001b[39m (tracing_count \u001b[38;5;241m==\u001b[39m new_tracing_count)\n",
            "File \u001b[1;32m~\\AppData\\Local\\Packages\\PythonSoftwareFoundation.Python.3.10_qbz5n2kfra8p0\\LocalCache\\local-packages\\Python310\\site-packages\\tensorflow\\python\\eager\\polymorphic_function\\polymorphic_function.py:878\u001b[0m, in \u001b[0;36mFunction._call\u001b[1;34m(self, *args, **kwds)\u001b[0m\n\u001b[0;32m    875\u001b[0m \u001b[38;5;28mself\u001b[39m\u001b[38;5;241m.\u001b[39m_lock\u001b[38;5;241m.\u001b[39mrelease()\n\u001b[0;32m    876\u001b[0m \u001b[38;5;66;03m# In this case we have not created variables on the first call. So we can\u001b[39;00m\n\u001b[0;32m    877\u001b[0m \u001b[38;5;66;03m# run the first trace but we should fail if variables are created.\u001b[39;00m\n\u001b[1;32m--> 878\u001b[0m results \u001b[38;5;241m=\u001b[39m \u001b[43mtracing_compilation\u001b[49m\u001b[38;5;241;43m.\u001b[39;49m\u001b[43mcall_function\u001b[49m\u001b[43m(\u001b[49m\n\u001b[0;32m    879\u001b[0m \u001b[43m    \u001b[49m\u001b[43margs\u001b[49m\u001b[43m,\u001b[49m\u001b[43m \u001b[49m\u001b[43mkwds\u001b[49m\u001b[43m,\u001b[49m\u001b[43m \u001b[49m\u001b[38;5;28;43mself\u001b[39;49m\u001b[38;5;241;43m.\u001b[39;49m\u001b[43m_variable_creation_config\u001b[49m\n\u001b[0;32m    880\u001b[0m \u001b[43m\u001b[49m\u001b[43m)\u001b[49m\n\u001b[0;32m    881\u001b[0m \u001b[38;5;28;01mif\u001b[39;00m \u001b[38;5;28mself\u001b[39m\u001b[38;5;241m.\u001b[39m_created_variables:\n\u001b[0;32m    882\u001b[0m   \u001b[38;5;28;01mraise\u001b[39;00m \u001b[38;5;167;01mValueError\u001b[39;00m(\u001b[38;5;124m\"\u001b[39m\u001b[38;5;124mCreating variables on a non-first call to a function\u001b[39m\u001b[38;5;124m\"\u001b[39m\n\u001b[0;32m    883\u001b[0m                    \u001b[38;5;124m\"\u001b[39m\u001b[38;5;124m decorated with tf.function.\u001b[39m\u001b[38;5;124m\"\u001b[39m)\n",
            "File \u001b[1;32m~\\AppData\\Local\\Packages\\PythonSoftwareFoundation.Python.3.10_qbz5n2kfra8p0\\LocalCache\\local-packages\\Python310\\site-packages\\tensorflow\\python\\eager\\polymorphic_function\\tracing_compilation.py:139\u001b[0m, in \u001b[0;36mcall_function\u001b[1;34m(args, kwargs, tracing_options)\u001b[0m\n\u001b[0;32m    137\u001b[0m bound_args \u001b[38;5;241m=\u001b[39m function\u001b[38;5;241m.\u001b[39mfunction_type\u001b[38;5;241m.\u001b[39mbind(\u001b[38;5;241m*\u001b[39margs, \u001b[38;5;241m*\u001b[39m\u001b[38;5;241m*\u001b[39mkwargs)\n\u001b[0;32m    138\u001b[0m flat_inputs \u001b[38;5;241m=\u001b[39m function\u001b[38;5;241m.\u001b[39mfunction_type\u001b[38;5;241m.\u001b[39munpack_inputs(bound_args)\n\u001b[1;32m--> 139\u001b[0m \u001b[38;5;28;01mreturn\u001b[39;00m \u001b[43mfunction\u001b[49m\u001b[38;5;241;43m.\u001b[39;49m\u001b[43m_call_flat\u001b[49m\u001b[43m(\u001b[49m\u001b[43m  \u001b[49m\u001b[38;5;66;43;03m# pylint: disable=protected-access\u001b[39;49;00m\n\u001b[0;32m    140\u001b[0m \u001b[43m    \u001b[49m\u001b[43mflat_inputs\u001b[49m\u001b[43m,\u001b[49m\u001b[43m \u001b[49m\u001b[43mcaptured_inputs\u001b[49m\u001b[38;5;241;43m=\u001b[39;49m\u001b[43mfunction\u001b[49m\u001b[38;5;241;43m.\u001b[39;49m\u001b[43mcaptured_inputs\u001b[49m\n\u001b[0;32m    141\u001b[0m \u001b[43m\u001b[49m\u001b[43m)\u001b[49m\n",
            "File \u001b[1;32m~\\AppData\\Local\\Packages\\PythonSoftwareFoundation.Python.3.10_qbz5n2kfra8p0\\LocalCache\\local-packages\\Python310\\site-packages\\tensorflow\\python\\eager\\polymorphic_function\\concrete_function.py:1322\u001b[0m, in \u001b[0;36mConcreteFunction._call_flat\u001b[1;34m(self, tensor_inputs, captured_inputs)\u001b[0m\n\u001b[0;32m   1318\u001b[0m possible_gradient_type \u001b[38;5;241m=\u001b[39m gradients_util\u001b[38;5;241m.\u001b[39mPossibleTapeGradientTypes(args)\n\u001b[0;32m   1319\u001b[0m \u001b[38;5;28;01mif\u001b[39;00m (possible_gradient_type \u001b[38;5;241m==\u001b[39m gradients_util\u001b[38;5;241m.\u001b[39mPOSSIBLE_GRADIENT_TYPES_NONE\n\u001b[0;32m   1320\u001b[0m     \u001b[38;5;129;01mand\u001b[39;00m executing_eagerly):\n\u001b[0;32m   1321\u001b[0m   \u001b[38;5;66;03m# No tape is watching; skip to running the function.\u001b[39;00m\n\u001b[1;32m-> 1322\u001b[0m   \u001b[38;5;28;01mreturn\u001b[39;00m \u001b[38;5;28;43mself\u001b[39;49m\u001b[38;5;241;43m.\u001b[39;49m\u001b[43m_inference_function\u001b[49m\u001b[38;5;241;43m.\u001b[39;49m\u001b[43mcall_preflattened\u001b[49m\u001b[43m(\u001b[49m\u001b[43margs\u001b[49m\u001b[43m)\u001b[49m\n\u001b[0;32m   1323\u001b[0m forward_backward \u001b[38;5;241m=\u001b[39m \u001b[38;5;28mself\u001b[39m\u001b[38;5;241m.\u001b[39m_select_forward_and_backward_functions(\n\u001b[0;32m   1324\u001b[0m     args,\n\u001b[0;32m   1325\u001b[0m     possible_gradient_type,\n\u001b[0;32m   1326\u001b[0m     executing_eagerly)\n\u001b[0;32m   1327\u001b[0m forward_function, args_with_tangents \u001b[38;5;241m=\u001b[39m forward_backward\u001b[38;5;241m.\u001b[39mforward()\n",
            "File \u001b[1;32m~\\AppData\\Local\\Packages\\PythonSoftwareFoundation.Python.3.10_qbz5n2kfra8p0\\LocalCache\\local-packages\\Python310\\site-packages\\tensorflow\\python\\eager\\polymorphic_function\\atomic_function.py:216\u001b[0m, in \u001b[0;36mAtomicFunction.call_preflattened\u001b[1;34m(self, args)\u001b[0m\n\u001b[0;32m    214\u001b[0m \u001b[38;5;28;01mdef\u001b[39;00m \u001b[38;5;21mcall_preflattened\u001b[39m(\u001b[38;5;28mself\u001b[39m, args: Sequence[core\u001b[38;5;241m.\u001b[39mTensor]) \u001b[38;5;241m-\u001b[39m\u001b[38;5;241m>\u001b[39m Any:\n\u001b[0;32m    215\u001b[0m   \u001b[38;5;124;03m\"\"\"Calls with flattened tensor inputs and returns the structured output.\"\"\"\u001b[39;00m\n\u001b[1;32m--> 216\u001b[0m   flat_outputs \u001b[38;5;241m=\u001b[39m \u001b[38;5;28;43mself\u001b[39;49m\u001b[38;5;241;43m.\u001b[39;49m\u001b[43mcall_flat\u001b[49m\u001b[43m(\u001b[49m\u001b[38;5;241;43m*\u001b[39;49m\u001b[43margs\u001b[49m\u001b[43m)\u001b[49m\n\u001b[0;32m    217\u001b[0m   \u001b[38;5;28;01mreturn\u001b[39;00m \u001b[38;5;28mself\u001b[39m\u001b[38;5;241m.\u001b[39mfunction_type\u001b[38;5;241m.\u001b[39mpack_output(flat_outputs)\n",
            "File \u001b[1;32m~\\AppData\\Local\\Packages\\PythonSoftwareFoundation.Python.3.10_qbz5n2kfra8p0\\LocalCache\\local-packages\\Python310\\site-packages\\tensorflow\\python\\eager\\polymorphic_function\\atomic_function.py:251\u001b[0m, in \u001b[0;36mAtomicFunction.call_flat\u001b[1;34m(self, *args)\u001b[0m\n\u001b[0;32m    249\u001b[0m \u001b[38;5;28;01mwith\u001b[39;00m record\u001b[38;5;241m.\u001b[39mstop_recording():\n\u001b[0;32m    250\u001b[0m   \u001b[38;5;28;01mif\u001b[39;00m \u001b[38;5;28mself\u001b[39m\u001b[38;5;241m.\u001b[39m_bound_context\u001b[38;5;241m.\u001b[39mexecuting_eagerly():\n\u001b[1;32m--> 251\u001b[0m     outputs \u001b[38;5;241m=\u001b[39m \u001b[38;5;28;43mself\u001b[39;49m\u001b[38;5;241;43m.\u001b[39;49m\u001b[43m_bound_context\u001b[49m\u001b[38;5;241;43m.\u001b[39;49m\u001b[43mcall_function\u001b[49m\u001b[43m(\u001b[49m\n\u001b[0;32m    252\u001b[0m \u001b[43m        \u001b[49m\u001b[38;5;28;43mself\u001b[39;49m\u001b[38;5;241;43m.\u001b[39;49m\u001b[43mname\u001b[49m\u001b[43m,\u001b[49m\n\u001b[0;32m    253\u001b[0m \u001b[43m        \u001b[49m\u001b[38;5;28;43mlist\u001b[39;49m\u001b[43m(\u001b[49m\u001b[43margs\u001b[49m\u001b[43m)\u001b[49m\u001b[43m,\u001b[49m\n\u001b[0;32m    254\u001b[0m \u001b[43m        \u001b[49m\u001b[38;5;28;43mlen\u001b[39;49m\u001b[43m(\u001b[49m\u001b[38;5;28;43mself\u001b[39;49m\u001b[38;5;241;43m.\u001b[39;49m\u001b[43mfunction_type\u001b[49m\u001b[38;5;241;43m.\u001b[39;49m\u001b[43mflat_outputs\u001b[49m\u001b[43m)\u001b[49m\u001b[43m,\u001b[49m\n\u001b[0;32m    255\u001b[0m \u001b[43m    \u001b[49m\u001b[43m)\u001b[49m\n\u001b[0;32m    256\u001b[0m   \u001b[38;5;28;01melse\u001b[39;00m:\n\u001b[0;32m    257\u001b[0m     outputs \u001b[38;5;241m=\u001b[39m make_call_op_in_graph(\n\u001b[0;32m    258\u001b[0m         \u001b[38;5;28mself\u001b[39m,\n\u001b[0;32m    259\u001b[0m         \u001b[38;5;28mlist\u001b[39m(args),\n\u001b[0;32m    260\u001b[0m         \u001b[38;5;28mself\u001b[39m\u001b[38;5;241m.\u001b[39m_bound_context\u001b[38;5;241m.\u001b[39mfunction_call_options\u001b[38;5;241m.\u001b[39mas_attrs(),\n\u001b[0;32m    261\u001b[0m     )\n",
            "File \u001b[1;32m~\\AppData\\Local\\Packages\\PythonSoftwareFoundation.Python.3.10_qbz5n2kfra8p0\\LocalCache\\local-packages\\Python310\\site-packages\\tensorflow\\python\\eager\\context.py:1552\u001b[0m, in \u001b[0;36mContext.call_function\u001b[1;34m(self, name, tensor_inputs, num_outputs)\u001b[0m\n\u001b[0;32m   1550\u001b[0m cancellation_context \u001b[38;5;241m=\u001b[39m cancellation\u001b[38;5;241m.\u001b[39mcontext()\n\u001b[0;32m   1551\u001b[0m \u001b[38;5;28;01mif\u001b[39;00m cancellation_context \u001b[38;5;129;01mis\u001b[39;00m \u001b[38;5;28;01mNone\u001b[39;00m:\n\u001b[1;32m-> 1552\u001b[0m   outputs \u001b[38;5;241m=\u001b[39m \u001b[43mexecute\u001b[49m\u001b[38;5;241;43m.\u001b[39;49m\u001b[43mexecute\u001b[49m\u001b[43m(\u001b[49m\n\u001b[0;32m   1553\u001b[0m \u001b[43m      \u001b[49m\u001b[43mname\u001b[49m\u001b[38;5;241;43m.\u001b[39;49m\u001b[43mdecode\u001b[49m\u001b[43m(\u001b[49m\u001b[38;5;124;43m\"\u001b[39;49m\u001b[38;5;124;43mutf-8\u001b[39;49m\u001b[38;5;124;43m\"\u001b[39;49m\u001b[43m)\u001b[49m\u001b[43m,\u001b[49m\n\u001b[0;32m   1554\u001b[0m \u001b[43m      \u001b[49m\u001b[43mnum_outputs\u001b[49m\u001b[38;5;241;43m=\u001b[39;49m\u001b[43mnum_outputs\u001b[49m\u001b[43m,\u001b[49m\n\u001b[0;32m   1555\u001b[0m \u001b[43m      \u001b[49m\u001b[43minputs\u001b[49m\u001b[38;5;241;43m=\u001b[39;49m\u001b[43mtensor_inputs\u001b[49m\u001b[43m,\u001b[49m\n\u001b[0;32m   1556\u001b[0m \u001b[43m      \u001b[49m\u001b[43mattrs\u001b[49m\u001b[38;5;241;43m=\u001b[39;49m\u001b[43mattrs\u001b[49m\u001b[43m,\u001b[49m\n\u001b[0;32m   1557\u001b[0m \u001b[43m      \u001b[49m\u001b[43mctx\u001b[49m\u001b[38;5;241;43m=\u001b[39;49m\u001b[38;5;28;43mself\u001b[39;49m\u001b[43m,\u001b[49m\n\u001b[0;32m   1558\u001b[0m \u001b[43m  \u001b[49m\u001b[43m)\u001b[49m\n\u001b[0;32m   1559\u001b[0m \u001b[38;5;28;01melse\u001b[39;00m:\n\u001b[0;32m   1560\u001b[0m   outputs \u001b[38;5;241m=\u001b[39m execute\u001b[38;5;241m.\u001b[39mexecute_with_cancellation(\n\u001b[0;32m   1561\u001b[0m       name\u001b[38;5;241m.\u001b[39mdecode(\u001b[38;5;124m\"\u001b[39m\u001b[38;5;124mutf-8\u001b[39m\u001b[38;5;124m\"\u001b[39m),\n\u001b[0;32m   1562\u001b[0m       num_outputs\u001b[38;5;241m=\u001b[39mnum_outputs,\n\u001b[1;32m   (...)\u001b[0m\n\u001b[0;32m   1566\u001b[0m       cancellation_manager\u001b[38;5;241m=\u001b[39mcancellation_context,\n\u001b[0;32m   1567\u001b[0m   )\n",
            "File \u001b[1;32m~\\AppData\\Local\\Packages\\PythonSoftwareFoundation.Python.3.10_qbz5n2kfra8p0\\LocalCache\\local-packages\\Python310\\site-packages\\tensorflow\\python\\eager\\execute.py:53\u001b[0m, in \u001b[0;36mquick_execute\u001b[1;34m(op_name, num_outputs, inputs, attrs, ctx, name)\u001b[0m\n\u001b[0;32m     51\u001b[0m \u001b[38;5;28;01mtry\u001b[39;00m:\n\u001b[0;32m     52\u001b[0m   ctx\u001b[38;5;241m.\u001b[39mensure_initialized()\n\u001b[1;32m---> 53\u001b[0m   tensors \u001b[38;5;241m=\u001b[39m \u001b[43mpywrap_tfe\u001b[49m\u001b[38;5;241;43m.\u001b[39;49m\u001b[43mTFE_Py_Execute\u001b[49m\u001b[43m(\u001b[49m\u001b[43mctx\u001b[49m\u001b[38;5;241;43m.\u001b[39;49m\u001b[43m_handle\u001b[49m\u001b[43m,\u001b[49m\u001b[43m \u001b[49m\u001b[43mdevice_name\u001b[49m\u001b[43m,\u001b[49m\u001b[43m \u001b[49m\u001b[43mop_name\u001b[49m\u001b[43m,\u001b[49m\n\u001b[0;32m     54\u001b[0m \u001b[43m                                      \u001b[49m\u001b[43minputs\u001b[49m\u001b[43m,\u001b[49m\u001b[43m \u001b[49m\u001b[43mattrs\u001b[49m\u001b[43m,\u001b[49m\u001b[43m \u001b[49m\u001b[43mnum_outputs\u001b[49m\u001b[43m)\u001b[49m\n\u001b[0;32m     55\u001b[0m \u001b[38;5;28;01mexcept\u001b[39;00m core\u001b[38;5;241m.\u001b[39m_NotOkStatusException \u001b[38;5;28;01mas\u001b[39;00m e:\n\u001b[0;32m     56\u001b[0m   \u001b[38;5;28;01mif\u001b[39;00m name \u001b[38;5;129;01mis\u001b[39;00m \u001b[38;5;129;01mnot\u001b[39;00m \u001b[38;5;28;01mNone\u001b[39;00m:\n",
            "\u001b[1;31mKeyboardInterrupt\u001b[0m: "
          ]
        }
      ],
      "source": [
        "# 1. ReduceLROnPlateau // reduce learning rate when val_accuracy stops improving\n",
        "from tensorflow.keras.callbacks import ReduceLROnPlateau\n",
        "lr_scheduler = ReduceLROnPlateau(\n",
        "    monitor='val_accuracy',   # Track validation accuracy for learning rate adjustments\n",
        "    factor=0.5,               # Reduce learning rate by half when triggered\n",
        "    patience=3,               # Wait for 3 epochs of no improvement before reducing\n",
        "    min_lr=1e-5               # Set a minimum learning rate to prevent it from going too low\n",
        ")\n",
        "history = model.fit(X_train, y_train_one_hot,\n",
        "                    epochs=20,         # Train the model for 20 epochs\n",
        "                    batch_size=32,     # Use a batch size of 32\n",
        "                    validation_data=(X_test, y_test_one_hot),   # Validate on the test set after each epoch\n",
        "                    callbacks=[lr_scheduler])"
      ]
    },
    {
      "cell_type": "markdown",
      "metadata": {
        "id": "34ozkk6SWnhn"
      },
      "source": [
        "#### 2. automatic hyperparameter tuner:"
      ]
    },
    {
      "cell_type": "code",
      "execution_count": 24,
      "metadata": {
        "id": "PzB5Pk13Wnhn",
        "outputId": "0c37b602-1b0b-480f-ed8e-f608ed92f49d",
        "colab": {
          "base_uri": "https://localhost:8080/"
        }
      },
      "outputs": [
        {
          "output_type": "stream",
          "name": "stdout",
          "text": [
            "Collecting keras-tuner\n",
            "  Downloading keras_tuner-1.4.7-py3-none-any.whl.metadata (5.4 kB)\n",
            "Requirement already satisfied: keras in /usr/local/lib/python3.10/dist-packages (from keras-tuner) (3.4.1)\n",
            "Requirement already satisfied: packaging in /usr/local/lib/python3.10/dist-packages (from keras-tuner) (24.2)\n",
            "Requirement already satisfied: requests in /usr/local/lib/python3.10/dist-packages (from keras-tuner) (2.32.3)\n",
            "Collecting kt-legacy (from keras-tuner)\n",
            "  Downloading kt_legacy-1.0.5-py3-none-any.whl.metadata (221 bytes)\n",
            "Requirement already satisfied: absl-py in /usr/local/lib/python3.10/dist-packages (from keras->keras-tuner) (1.4.0)\n",
            "Requirement already satisfied: numpy in /usr/local/lib/python3.10/dist-packages (from keras->keras-tuner) (1.26.4)\n",
            "Requirement already satisfied: rich in /usr/local/lib/python3.10/dist-packages (from keras->keras-tuner) (13.9.4)\n",
            "Requirement already satisfied: namex in /usr/local/lib/python3.10/dist-packages (from keras->keras-tuner) (0.0.8)\n",
            "Requirement already satisfied: h5py in /usr/local/lib/python3.10/dist-packages (from keras->keras-tuner) (3.12.1)\n",
            "Requirement already satisfied: optree in /usr/local/lib/python3.10/dist-packages (from keras->keras-tuner) (0.13.0)\n",
            "Requirement already satisfied: ml-dtypes in /usr/local/lib/python3.10/dist-packages (from keras->keras-tuner) (0.4.1)\n",
            "Requirement already satisfied: charset-normalizer<4,>=2 in /usr/local/lib/python3.10/dist-packages (from requests->keras-tuner) (3.4.0)\n",
            "Requirement already satisfied: idna<4,>=2.5 in /usr/local/lib/python3.10/dist-packages (from requests->keras-tuner) (3.10)\n",
            "Requirement already satisfied: urllib3<3,>=1.21.1 in /usr/local/lib/python3.10/dist-packages (from requests->keras-tuner) (2.2.3)\n",
            "Requirement already satisfied: certifi>=2017.4.17 in /usr/local/lib/python3.10/dist-packages (from requests->keras-tuner) (2024.8.30)\n",
            "Requirement already satisfied: typing-extensions>=4.5.0 in /usr/local/lib/python3.10/dist-packages (from optree->keras->keras-tuner) (4.12.2)\n",
            "Requirement already satisfied: markdown-it-py>=2.2.0 in /usr/local/lib/python3.10/dist-packages (from rich->keras->keras-tuner) (3.0.0)\n",
            "Requirement already satisfied: pygments<3.0.0,>=2.13.0 in /usr/local/lib/python3.10/dist-packages (from rich->keras->keras-tuner) (2.18.0)\n",
            "Requirement already satisfied: mdurl~=0.1 in /usr/local/lib/python3.10/dist-packages (from markdown-it-py>=2.2.0->rich->keras->keras-tuner) (0.1.2)\n",
            "Downloading keras_tuner-1.4.7-py3-none-any.whl (129 kB)\n",
            "\u001b[2K   \u001b[90m━━━━━━━━━━━━━━━━━━━━━━━━━━━━━━━━━━━━━━━━\u001b[0m \u001b[32m129.1/129.1 kB\u001b[0m \u001b[31m3.3 MB/s\u001b[0m eta \u001b[36m0:00:00\u001b[0m\n",
            "\u001b[?25hDownloading kt_legacy-1.0.5-py3-none-any.whl (9.6 kB)\n",
            "Installing collected packages: kt-legacy, keras-tuner\n",
            "Successfully installed keras-tuner-1.4.7 kt-legacy-1.0.5\n"
          ]
        }
      ],
      "source": [
        "pip install keras-tuner"
      ]
    },
    {
      "cell_type": "code",
      "execution_count": 25,
      "metadata": {
        "id": "hM5B3rgaWnhn"
      },
      "outputs": [],
      "source": [
        "from tensorflow.keras.models import Sequential\n",
        "from tensorflow.keras.layers import Conv1D, MaxPooling1D, Flatten, Dense, Dropout, BatchNormalization, LSTM\n",
        "from tensorflow.keras.regularizers import l2\n",
        "import keras_tuner as kt"
      ]
    },
    {
      "cell_type": "code",
      "execution_count": 26,
      "metadata": {
        "id": "okhINpxmWnhn"
      },
      "outputs": [],
      "source": [
        "def build_tuning_model(hp):\n",
        "    model = Sequential()\n",
        "\n",
        "    # First Conv1D Layer\n",
        "    model.add(Conv1D(\n",
        "        filters=hp.Choice('filters_1', values=[64, 128, 256]),\n",
        "        kernel_size=hp.Choice('kernel_size_1', values=[3, 5, 7]),\n",
        "        activation='relu',\n",
        "        input_shape=input_shape\n",
        "    ))\n",
        "    model.add(BatchNormalization())\n",
        "    model.add(MaxPooling1D(pool_size=2))\n",
        "    model.add(Dropout(rate=hp.Choice('dropout_1', values=[0.3, 0.5, 0.6])))\n",
        "\n",
        "    # Second Conv1D Layer\n",
        "    model.add(Conv1D(\n",
        "        filters=hp.Choice('filters_2', values=[64, 128, 256]),\n",
        "        kernel_size=hp.Choice('kernel_size_2', values=[3, 5, 7]),\n",
        "        activation='relu',\n",
        "        kernel_regularizer=l2(hp.Choice('l2_regularization', values=[1e-4, 1e-3]))\n",
        "    ))\n",
        "    model.add(BatchNormalization())\n",
        "    model.add(MaxPooling1D(pool_size=2))\n",
        "    model.add(Dropout(rate=hp.Choice('dropout_2', values=[0.3, 0.5, 0.6])))\n",
        "\n",
        "    # Optional LSTM Layer\n",
        "    if hp.Boolean(\"use_lstm\"):\n",
        "        model.add(LSTM(units=hp.Choice('lstm_units', values=[32, 64, 128]), return_sequences=False))\n",
        "\n",
        "    # Dense Layers\n",
        "    model.add(Flatten())\n",
        "\n",
        "    model.add(Dense(128, activation='relu')) #gpt suggested 64 but original model has 128\n",
        "\n",
        "    model.add(Dropout(rate=hp.Choice('dropout_3', values=[0.3, 0.5, 0.6])))\n",
        "\n",
        "    model.add(Dense(num_classes, activation='softmax'))  # Assuming 4 classes for respiratory activities\n",
        "\n",
        "    # Compile Model\n",
        "    model.compile(\n",
        "        optimizer=tf.keras.optimizers.Adam(learning_rate=hp.Choice('learning_rate', values=[1e-2, 1e-3, 1e-4])),\n",
        "        loss='categorical_crossentropy',\n",
        "        metrics=['accuracy']\n",
        "    )\n",
        "\n",
        "    model.summary()\n",
        "\n",
        "    return model"
      ]
    },
    {
      "cell_type": "code",
      "execution_count": 27,
      "metadata": {
        "id": "LTydgS71Wnhn",
        "outputId": "a1e8ff1b-4cd9-4378-e708-5fc10a0bba9a",
        "colab": {
          "base_uri": "https://localhost:8080/",
          "height": 1000
        }
      },
      "outputs": [
        {
          "output_type": "stream",
          "name": "stdout",
          "text": [
            "Trial 2 Complete [00h 03m 46s]\n",
            "val_accuracy: 0.5033828616142273\n",
            "\n",
            "Best val_accuracy So Far: 0.5033828616142273\n",
            "Total elapsed time: 00h 09m 28s\n",
            "\n",
            "Search: Running Trial #3\n",
            "\n",
            "Value             |Best Value So Far |Hyperparameter\n",
            "256               |64                |filters_1\n",
            "7                 |3                 |kernel_size_1\n",
            "0.6               |0.3               |dropout_1\n",
            "64                |128               |filters_2\n",
            "5                 |5                 |kernel_size_2\n",
            "0.0001            |0.001             |l2_regularization\n",
            "0.6               |0.6               |dropout_2\n",
            "True              |True              |use_lstm\n",
            "0.6               |0.3               |dropout_3\n",
            "0.0001            |0.01              |learning_rate\n",
            "64                |32                |lstm_units\n",
            "\n"
          ]
        },
        {
          "output_type": "display_data",
          "data": {
            "text/plain": [
              "\u001b[1mModel: \"sequential\"\u001b[0m\n"
            ],
            "text/html": [
              "<pre style=\"white-space:pre;overflow-x:auto;line-height:normal;font-family:Menlo,'DejaVu Sans Mono',consolas,'Courier New',monospace\"><span style=\"font-weight: bold\">Model: \"sequential\"</span>\n",
              "</pre>\n"
            ]
          },
          "metadata": {}
        },
        {
          "output_type": "display_data",
          "data": {
            "text/plain": [
              "┏━━━━━━━━━━━━━━━━━━━━━━━━━━━━━━━━━━━━━━┳━━━━━━━━━━━━━━━━━━━━━━━━━━━━━┳━━━━━━━━━━━━━━━━━┓\n",
              "┃\u001b[1m \u001b[0m\u001b[1mLayer (type)                        \u001b[0m\u001b[1m \u001b[0m┃\u001b[1m \u001b[0m\u001b[1mOutput Shape               \u001b[0m\u001b[1m \u001b[0m┃\u001b[1m \u001b[0m\u001b[1m        Param #\u001b[0m\u001b[1m \u001b[0m┃\n",
              "┡━━━━━━━━━━━━━━━━━━━━━━━━━━━━━━━━━━━━━━╇━━━━━━━━━━━━━━━━━━━━━━━━━━━━━╇━━━━━━━━━━━━━━━━━┩\n",
              "│ conv1d (\u001b[38;5;33mConv1D\u001b[0m)                      │ (\u001b[38;5;45mNone\u001b[0m, \u001b[38;5;34m44\u001b[0m, \u001b[38;5;34m256\u001b[0m)             │           \u001b[38;5;34m5,632\u001b[0m │\n",
              "├──────────────────────────────────────┼─────────────────────────────┼─────────────────┤\n",
              "│ batch_normalization                  │ (\u001b[38;5;45mNone\u001b[0m, \u001b[38;5;34m44\u001b[0m, \u001b[38;5;34m256\u001b[0m)             │           \u001b[38;5;34m1,024\u001b[0m │\n",
              "│ (\u001b[38;5;33mBatchNormalization\u001b[0m)                 │                             │                 │\n",
              "├──────────────────────────────────────┼─────────────────────────────┼─────────────────┤\n",
              "│ max_pooling1d (\u001b[38;5;33mMaxPooling1D\u001b[0m)         │ (\u001b[38;5;45mNone\u001b[0m, \u001b[38;5;34m22\u001b[0m, \u001b[38;5;34m256\u001b[0m)             │               \u001b[38;5;34m0\u001b[0m │\n",
              "├──────────────────────────────────────┼─────────────────────────────┼─────────────────┤\n",
              "│ dropout (\u001b[38;5;33mDropout\u001b[0m)                    │ (\u001b[38;5;45mNone\u001b[0m, \u001b[38;5;34m22\u001b[0m, \u001b[38;5;34m256\u001b[0m)             │               \u001b[38;5;34m0\u001b[0m │\n",
              "├──────────────────────────────────────┼─────────────────────────────┼─────────────────┤\n",
              "│ conv1d_1 (\u001b[38;5;33mConv1D\u001b[0m)                    │ (\u001b[38;5;45mNone\u001b[0m, \u001b[38;5;34m18\u001b[0m, \u001b[38;5;34m64\u001b[0m)              │          \u001b[38;5;34m81,984\u001b[0m │\n",
              "├──────────────────────────────────────┼─────────────────────────────┼─────────────────┤\n",
              "│ batch_normalization_1                │ (\u001b[38;5;45mNone\u001b[0m, \u001b[38;5;34m18\u001b[0m, \u001b[38;5;34m64\u001b[0m)              │             \u001b[38;5;34m256\u001b[0m │\n",
              "│ (\u001b[38;5;33mBatchNormalization\u001b[0m)                 │                             │                 │\n",
              "├──────────────────────────────────────┼─────────────────────────────┼─────────────────┤\n",
              "│ max_pooling1d_1 (\u001b[38;5;33mMaxPooling1D\u001b[0m)       │ (\u001b[38;5;45mNone\u001b[0m, \u001b[38;5;34m9\u001b[0m, \u001b[38;5;34m64\u001b[0m)               │               \u001b[38;5;34m0\u001b[0m │\n",
              "├──────────────────────────────────────┼─────────────────────────────┼─────────────────┤\n",
              "│ dropout_1 (\u001b[38;5;33mDropout\u001b[0m)                  │ (\u001b[38;5;45mNone\u001b[0m, \u001b[38;5;34m9\u001b[0m, \u001b[38;5;34m64\u001b[0m)               │               \u001b[38;5;34m0\u001b[0m │\n",
              "├──────────────────────────────────────┼─────────────────────────────┼─────────────────┤\n",
              "│ lstm (\u001b[38;5;33mLSTM\u001b[0m)                          │ (\u001b[38;5;45mNone\u001b[0m, \u001b[38;5;34m64\u001b[0m)                  │          \u001b[38;5;34m33,024\u001b[0m │\n",
              "├──────────────────────────────────────┼─────────────────────────────┼─────────────────┤\n",
              "│ flatten (\u001b[38;5;33mFlatten\u001b[0m)                    │ (\u001b[38;5;45mNone\u001b[0m, \u001b[38;5;34m64\u001b[0m)                  │               \u001b[38;5;34m0\u001b[0m │\n",
              "├──────────────────────────────────────┼─────────────────────────────┼─────────────────┤\n",
              "│ dense (\u001b[38;5;33mDense\u001b[0m)                        │ (\u001b[38;5;45mNone\u001b[0m, \u001b[38;5;34m128\u001b[0m)                 │           \u001b[38;5;34m8,320\u001b[0m │\n",
              "├──────────────────────────────────────┼─────────────────────────────┼─────────────────┤\n",
              "│ dropout_2 (\u001b[38;5;33mDropout\u001b[0m)                  │ (\u001b[38;5;45mNone\u001b[0m, \u001b[38;5;34m128\u001b[0m)                 │               \u001b[38;5;34m0\u001b[0m │\n",
              "├──────────────────────────────────────┼─────────────────────────────┼─────────────────┤\n",
              "│ dense_1 (\u001b[38;5;33mDense\u001b[0m)                      │ (\u001b[38;5;45mNone\u001b[0m, \u001b[38;5;34m4\u001b[0m)                   │             \u001b[38;5;34m516\u001b[0m │\n",
              "└──────────────────────────────────────┴─────────────────────────────┴─────────────────┘\n"
            ],
            "text/html": [
              "<pre style=\"white-space:pre;overflow-x:auto;line-height:normal;font-family:Menlo,'DejaVu Sans Mono',consolas,'Courier New',monospace\">┏━━━━━━━━━━━━━━━━━━━━━━━━━━━━━━━━━━━━━━┳━━━━━━━━━━━━━━━━━━━━━━━━━━━━━┳━━━━━━━━━━━━━━━━━┓\n",
              "┃<span style=\"font-weight: bold\"> Layer (type)                         </span>┃<span style=\"font-weight: bold\"> Output Shape                </span>┃<span style=\"font-weight: bold\">         Param # </span>┃\n",
              "┡━━━━━━━━━━━━━━━━━━━━━━━━━━━━━━━━━━━━━━╇━━━━━━━━━━━━━━━━━━━━━━━━━━━━━╇━━━━━━━━━━━━━━━━━┩\n",
              "│ conv1d (<span style=\"color: #0087ff; text-decoration-color: #0087ff\">Conv1D</span>)                      │ (<span style=\"color: #00d7ff; text-decoration-color: #00d7ff\">None</span>, <span style=\"color: #00af00; text-decoration-color: #00af00\">44</span>, <span style=\"color: #00af00; text-decoration-color: #00af00\">256</span>)             │           <span style=\"color: #00af00; text-decoration-color: #00af00\">5,632</span> │\n",
              "├──────────────────────────────────────┼─────────────────────────────┼─────────────────┤\n",
              "│ batch_normalization                  │ (<span style=\"color: #00d7ff; text-decoration-color: #00d7ff\">None</span>, <span style=\"color: #00af00; text-decoration-color: #00af00\">44</span>, <span style=\"color: #00af00; text-decoration-color: #00af00\">256</span>)             │           <span style=\"color: #00af00; text-decoration-color: #00af00\">1,024</span> │\n",
              "│ (<span style=\"color: #0087ff; text-decoration-color: #0087ff\">BatchNormalization</span>)                 │                             │                 │\n",
              "├──────────────────────────────────────┼─────────────────────────────┼─────────────────┤\n",
              "│ max_pooling1d (<span style=\"color: #0087ff; text-decoration-color: #0087ff\">MaxPooling1D</span>)         │ (<span style=\"color: #00d7ff; text-decoration-color: #00d7ff\">None</span>, <span style=\"color: #00af00; text-decoration-color: #00af00\">22</span>, <span style=\"color: #00af00; text-decoration-color: #00af00\">256</span>)             │               <span style=\"color: #00af00; text-decoration-color: #00af00\">0</span> │\n",
              "├──────────────────────────────────────┼─────────────────────────────┼─────────────────┤\n",
              "│ dropout (<span style=\"color: #0087ff; text-decoration-color: #0087ff\">Dropout</span>)                    │ (<span style=\"color: #00d7ff; text-decoration-color: #00d7ff\">None</span>, <span style=\"color: #00af00; text-decoration-color: #00af00\">22</span>, <span style=\"color: #00af00; text-decoration-color: #00af00\">256</span>)             │               <span style=\"color: #00af00; text-decoration-color: #00af00\">0</span> │\n",
              "├──────────────────────────────────────┼─────────────────────────────┼─────────────────┤\n",
              "│ conv1d_1 (<span style=\"color: #0087ff; text-decoration-color: #0087ff\">Conv1D</span>)                    │ (<span style=\"color: #00d7ff; text-decoration-color: #00d7ff\">None</span>, <span style=\"color: #00af00; text-decoration-color: #00af00\">18</span>, <span style=\"color: #00af00; text-decoration-color: #00af00\">64</span>)              │          <span style=\"color: #00af00; text-decoration-color: #00af00\">81,984</span> │\n",
              "├──────────────────────────────────────┼─────────────────────────────┼─────────────────┤\n",
              "│ batch_normalization_1                │ (<span style=\"color: #00d7ff; text-decoration-color: #00d7ff\">None</span>, <span style=\"color: #00af00; text-decoration-color: #00af00\">18</span>, <span style=\"color: #00af00; text-decoration-color: #00af00\">64</span>)              │             <span style=\"color: #00af00; text-decoration-color: #00af00\">256</span> │\n",
              "│ (<span style=\"color: #0087ff; text-decoration-color: #0087ff\">BatchNormalization</span>)                 │                             │                 │\n",
              "├──────────────────────────────────────┼─────────────────────────────┼─────────────────┤\n",
              "│ max_pooling1d_1 (<span style=\"color: #0087ff; text-decoration-color: #0087ff\">MaxPooling1D</span>)       │ (<span style=\"color: #00d7ff; text-decoration-color: #00d7ff\">None</span>, <span style=\"color: #00af00; text-decoration-color: #00af00\">9</span>, <span style=\"color: #00af00; text-decoration-color: #00af00\">64</span>)               │               <span style=\"color: #00af00; text-decoration-color: #00af00\">0</span> │\n",
              "├──────────────────────────────────────┼─────────────────────────────┼─────────────────┤\n",
              "│ dropout_1 (<span style=\"color: #0087ff; text-decoration-color: #0087ff\">Dropout</span>)                  │ (<span style=\"color: #00d7ff; text-decoration-color: #00d7ff\">None</span>, <span style=\"color: #00af00; text-decoration-color: #00af00\">9</span>, <span style=\"color: #00af00; text-decoration-color: #00af00\">64</span>)               │               <span style=\"color: #00af00; text-decoration-color: #00af00\">0</span> │\n",
              "├──────────────────────────────────────┼─────────────────────────────┼─────────────────┤\n",
              "│ lstm (<span style=\"color: #0087ff; text-decoration-color: #0087ff\">LSTM</span>)                          │ (<span style=\"color: #00d7ff; text-decoration-color: #00d7ff\">None</span>, <span style=\"color: #00af00; text-decoration-color: #00af00\">64</span>)                  │          <span style=\"color: #00af00; text-decoration-color: #00af00\">33,024</span> │\n",
              "├──────────────────────────────────────┼─────────────────────────────┼─────────────────┤\n",
              "│ flatten (<span style=\"color: #0087ff; text-decoration-color: #0087ff\">Flatten</span>)                    │ (<span style=\"color: #00d7ff; text-decoration-color: #00d7ff\">None</span>, <span style=\"color: #00af00; text-decoration-color: #00af00\">64</span>)                  │               <span style=\"color: #00af00; text-decoration-color: #00af00\">0</span> │\n",
              "├──────────────────────────────────────┼─────────────────────────────┼─────────────────┤\n",
              "│ dense (<span style=\"color: #0087ff; text-decoration-color: #0087ff\">Dense</span>)                        │ (<span style=\"color: #00d7ff; text-decoration-color: #00d7ff\">None</span>, <span style=\"color: #00af00; text-decoration-color: #00af00\">128</span>)                 │           <span style=\"color: #00af00; text-decoration-color: #00af00\">8,320</span> │\n",
              "├──────────────────────────────────────┼─────────────────────────────┼─────────────────┤\n",
              "│ dropout_2 (<span style=\"color: #0087ff; text-decoration-color: #0087ff\">Dropout</span>)                  │ (<span style=\"color: #00d7ff; text-decoration-color: #00d7ff\">None</span>, <span style=\"color: #00af00; text-decoration-color: #00af00\">128</span>)                 │               <span style=\"color: #00af00; text-decoration-color: #00af00\">0</span> │\n",
              "├──────────────────────────────────────┼─────────────────────────────┼─────────────────┤\n",
              "│ dense_1 (<span style=\"color: #0087ff; text-decoration-color: #0087ff\">Dense</span>)                      │ (<span style=\"color: #00d7ff; text-decoration-color: #00d7ff\">None</span>, <span style=\"color: #00af00; text-decoration-color: #00af00\">4</span>)                   │             <span style=\"color: #00af00; text-decoration-color: #00af00\">516</span> │\n",
              "└──────────────────────────────────────┴─────────────────────────────┴─────────────────┘\n",
              "</pre>\n"
            ]
          },
          "metadata": {}
        },
        {
          "output_type": "display_data",
          "data": {
            "text/plain": [
              "\u001b[1m Total params: \u001b[0m\u001b[38;5;34m130,756\u001b[0m (510.77 KB)\n"
            ],
            "text/html": [
              "<pre style=\"white-space:pre;overflow-x:auto;line-height:normal;font-family:Menlo,'DejaVu Sans Mono',consolas,'Courier New',monospace\"><span style=\"font-weight: bold\"> Total params: </span><span style=\"color: #00af00; text-decoration-color: #00af00\">130,756</span> (510.77 KB)\n",
              "</pre>\n"
            ]
          },
          "metadata": {}
        },
        {
          "output_type": "display_data",
          "data": {
            "text/plain": [
              "\u001b[1m Trainable params: \u001b[0m\u001b[38;5;34m130,116\u001b[0m (508.27 KB)\n"
            ],
            "text/html": [
              "<pre style=\"white-space:pre;overflow-x:auto;line-height:normal;font-family:Menlo,'DejaVu Sans Mono',consolas,'Courier New',monospace\"><span style=\"font-weight: bold\"> Trainable params: </span><span style=\"color: #00af00; text-decoration-color: #00af00\">130,116</span> (508.27 KB)\n",
              "</pre>\n"
            ]
          },
          "metadata": {}
        },
        {
          "output_type": "display_data",
          "data": {
            "text/plain": [
              "\u001b[1m Non-trainable params: \u001b[0m\u001b[38;5;34m640\u001b[0m (2.50 KB)\n"
            ],
            "text/html": [
              "<pre style=\"white-space:pre;overflow-x:auto;line-height:normal;font-family:Menlo,'DejaVu Sans Mono',consolas,'Courier New',monospace\"><span style=\"font-weight: bold\"> Non-trainable params: </span><span style=\"color: #00af00; text-decoration-color: #00af00\">640</span> (2.50 KB)\n",
              "</pre>\n"
            ]
          },
          "metadata": {}
        },
        {
          "output_type": "stream",
          "name": "stdout",
          "text": [
            "Epoch 1/20\n",
            "\u001b[1m1789/1789\u001b[0m \u001b[32m━━━━━━━━━━━━━━━━━━━━\u001b[0m\u001b[37m\u001b[0m \u001b[1m22s\u001b[0m 10ms/step - accuracy: 0.4401 - loss: 1.3051 - val_accuracy: 0.5310 - val_loss: 1.2216\n",
            "Epoch 2/20\n",
            "\u001b[1m1789/1789\u001b[0m \u001b[32m━━━━━━━━━━━━━━━━━━━━\u001b[0m\u001b[37m\u001b[0m \u001b[1m20s\u001b[0m 10ms/step - accuracy: 0.5196 - loss: 1.2196 - val_accuracy: 0.5493 - val_loss: 1.1070\n",
            "Epoch 3/20\n",
            "\u001b[1m1789/1789\u001b[0m \u001b[32m━━━━━━━━━━━━━━━━━━━━\u001b[0m\u001b[37m\u001b[0m \u001b[1m21s\u001b[0m 10ms/step - accuracy: 0.5349 - loss: 1.1388 - val_accuracy: 0.4869 - val_loss: 1.1517\n",
            "Epoch 4/20\n",
            "\u001b[1m1789/1789\u001b[0m \u001b[32m━━━━━━━━━━━━━━━━━━━━\u001b[0m\u001b[37m\u001b[0m \u001b[1m21s\u001b[0m 10ms/step - accuracy: 0.5454 - loss: 1.0711 - val_accuracy: 0.5228 - val_loss: 1.0747\n",
            "Epoch 5/20\n",
            "\u001b[1m1789/1789\u001b[0m \u001b[32m━━━━━━━━━━━━━━━━━━━━\u001b[0m\u001b[37m\u001b[0m \u001b[1m19s\u001b[0m 11ms/step - accuracy: 0.5511 - loss: 1.0309 - val_accuracy: 0.5590 - val_loss: 1.0240\n",
            "Epoch 6/20\n",
            "\u001b[1m1789/1789\u001b[0m \u001b[32m━━━━━━━━━━━━━━━━━━━━\u001b[0m\u001b[37m\u001b[0m \u001b[1m19s\u001b[0m 10ms/step - accuracy: 0.5488 - loss: 1.0160 - val_accuracy: 0.5724 - val_loss: 1.0089\n",
            "Epoch 7/20\n",
            "\u001b[1m1789/1789\u001b[0m \u001b[32m━━━━━━━━━━━━━━━━━━━━\u001b[0m\u001b[37m\u001b[0m \u001b[1m22s\u001b[0m 11ms/step - accuracy: 0.5639 - loss: 0.9898 - val_accuracy: 0.5825 - val_loss: 0.9317\n",
            "Epoch 8/20\n",
            "\u001b[1m1789/1789\u001b[0m \u001b[32m━━━━━━━━━━━━━━━━━━━━\u001b[0m\u001b[37m\u001b[0m \u001b[1m19s\u001b[0m 10ms/step - accuracy: 0.5614 - loss: 0.9803 - val_accuracy: 0.5853 - val_loss: 1.0578\n",
            "Epoch 9/20\n",
            "\u001b[1m1789/1789\u001b[0m \u001b[32m━━━━━━━━━━━━━━━━━━━━\u001b[0m\u001b[37m\u001b[0m \u001b[1m21s\u001b[0m 11ms/step - accuracy: 0.5670 - loss: 0.9655 - val_accuracy: 0.5893 - val_loss: 0.9637\n",
            "Epoch 10/20\n",
            "\u001b[1m1789/1789\u001b[0m \u001b[32m━━━━━━━━━━━━━━━━━━━━\u001b[0m\u001b[37m\u001b[0m \u001b[1m19s\u001b[0m 10ms/step - accuracy: 0.5636 - loss: 0.9622 - val_accuracy: 0.5703 - val_loss: 0.9357\n"
          ]
        },
        {
          "output_type": "display_data",
          "data": {
            "text/plain": [
              "\u001b[1mModel: \"sequential\"\u001b[0m\n"
            ],
            "text/html": [
              "<pre style=\"white-space:pre;overflow-x:auto;line-height:normal;font-family:Menlo,'DejaVu Sans Mono',consolas,'Courier New',monospace\"><span style=\"font-weight: bold\">Model: \"sequential\"</span>\n",
              "</pre>\n"
            ]
          },
          "metadata": {}
        },
        {
          "output_type": "display_data",
          "data": {
            "text/plain": [
              "┏━━━━━━━━━━━━━━━━━━━━━━━━━━━━━━━━━━━━━━┳━━━━━━━━━━━━━━━━━━━━━━━━━━━━━┳━━━━━━━━━━━━━━━━━┓\n",
              "┃\u001b[1m \u001b[0m\u001b[1mLayer (type)                        \u001b[0m\u001b[1m \u001b[0m┃\u001b[1m \u001b[0m\u001b[1mOutput Shape               \u001b[0m\u001b[1m \u001b[0m┃\u001b[1m \u001b[0m\u001b[1m        Param #\u001b[0m\u001b[1m \u001b[0m┃\n",
              "┡━━━━━━━━━━━━━━━━━━━━━━━━━━━━━━━━━━━━━━╇━━━━━━━━━━━━━━━━━━━━━━━━━━━━━╇━━━━━━━━━━━━━━━━━┩\n",
              "│ conv1d (\u001b[38;5;33mConv1D\u001b[0m)                      │ (\u001b[38;5;45mNone\u001b[0m, \u001b[38;5;34m44\u001b[0m, \u001b[38;5;34m256\u001b[0m)             │           \u001b[38;5;34m5,632\u001b[0m │\n",
              "├──────────────────────────────────────┼─────────────────────────────┼─────────────────┤\n",
              "│ batch_normalization                  │ (\u001b[38;5;45mNone\u001b[0m, \u001b[38;5;34m44\u001b[0m, \u001b[38;5;34m256\u001b[0m)             │           \u001b[38;5;34m1,024\u001b[0m │\n",
              "│ (\u001b[38;5;33mBatchNormalization\u001b[0m)                 │                             │                 │\n",
              "├──────────────────────────────────────┼─────────────────────────────┼─────────────────┤\n",
              "│ max_pooling1d (\u001b[38;5;33mMaxPooling1D\u001b[0m)         │ (\u001b[38;5;45mNone\u001b[0m, \u001b[38;5;34m22\u001b[0m, \u001b[38;5;34m256\u001b[0m)             │               \u001b[38;5;34m0\u001b[0m │\n",
              "├──────────────────────────────────────┼─────────────────────────────┼─────────────────┤\n",
              "│ dropout (\u001b[38;5;33mDropout\u001b[0m)                    │ (\u001b[38;5;45mNone\u001b[0m, \u001b[38;5;34m22\u001b[0m, \u001b[38;5;34m256\u001b[0m)             │               \u001b[38;5;34m0\u001b[0m │\n",
              "├──────────────────────────────────────┼─────────────────────────────┼─────────────────┤\n",
              "│ conv1d_1 (\u001b[38;5;33mConv1D\u001b[0m)                    │ (\u001b[38;5;45mNone\u001b[0m, \u001b[38;5;34m18\u001b[0m, \u001b[38;5;34m64\u001b[0m)              │          \u001b[38;5;34m81,984\u001b[0m │\n",
              "├──────────────────────────────────────┼─────────────────────────────┼─────────────────┤\n",
              "│ batch_normalization_1                │ (\u001b[38;5;45mNone\u001b[0m, \u001b[38;5;34m18\u001b[0m, \u001b[38;5;34m64\u001b[0m)              │             \u001b[38;5;34m256\u001b[0m │\n",
              "│ (\u001b[38;5;33mBatchNormalization\u001b[0m)                 │                             │                 │\n",
              "├──────────────────────────────────────┼─────────────────────────────┼─────────────────┤\n",
              "│ max_pooling1d_1 (\u001b[38;5;33mMaxPooling1D\u001b[0m)       │ (\u001b[38;5;45mNone\u001b[0m, \u001b[38;5;34m9\u001b[0m, \u001b[38;5;34m64\u001b[0m)               │               \u001b[38;5;34m0\u001b[0m │\n",
              "├──────────────────────────────────────┼─────────────────────────────┼─────────────────┤\n",
              "│ dropout_1 (\u001b[38;5;33mDropout\u001b[0m)                  │ (\u001b[38;5;45mNone\u001b[0m, \u001b[38;5;34m9\u001b[0m, \u001b[38;5;34m64\u001b[0m)               │               \u001b[38;5;34m0\u001b[0m │\n",
              "├──────────────────────────────────────┼─────────────────────────────┼─────────────────┤\n",
              "│ lstm (\u001b[38;5;33mLSTM\u001b[0m)                          │ (\u001b[38;5;45mNone\u001b[0m, \u001b[38;5;34m64\u001b[0m)                  │          \u001b[38;5;34m33,024\u001b[0m │\n",
              "├──────────────────────────────────────┼─────────────────────────────┼─────────────────┤\n",
              "│ flatten (\u001b[38;5;33mFlatten\u001b[0m)                    │ (\u001b[38;5;45mNone\u001b[0m, \u001b[38;5;34m64\u001b[0m)                  │               \u001b[38;5;34m0\u001b[0m │\n",
              "├──────────────────────────────────────┼─────────────────────────────┼─────────────────┤\n",
              "│ dense (\u001b[38;5;33mDense\u001b[0m)                        │ (\u001b[38;5;45mNone\u001b[0m, \u001b[38;5;34m128\u001b[0m)                 │           \u001b[38;5;34m8,320\u001b[0m │\n",
              "├──────────────────────────────────────┼─────────────────────────────┼─────────────────┤\n",
              "│ dropout_2 (\u001b[38;5;33mDropout\u001b[0m)                  │ (\u001b[38;5;45mNone\u001b[0m, \u001b[38;5;34m128\u001b[0m)                 │               \u001b[38;5;34m0\u001b[0m │\n",
              "├──────────────────────────────────────┼─────────────────────────────┼─────────────────┤\n",
              "│ dense_1 (\u001b[38;5;33mDense\u001b[0m)                      │ (\u001b[38;5;45mNone\u001b[0m, \u001b[38;5;34m4\u001b[0m)                   │             \u001b[38;5;34m516\u001b[0m │\n",
              "└──────────────────────────────────────┴─────────────────────────────┴─────────────────┘\n"
            ],
            "text/html": [
              "<pre style=\"white-space:pre;overflow-x:auto;line-height:normal;font-family:Menlo,'DejaVu Sans Mono',consolas,'Courier New',monospace\">┏━━━━━━━━━━━━━━━━━━━━━━━━━━━━━━━━━━━━━━┳━━━━━━━━━━━━━━━━━━━━━━━━━━━━━┳━━━━━━━━━━━━━━━━━┓\n",
              "┃<span style=\"font-weight: bold\"> Layer (type)                         </span>┃<span style=\"font-weight: bold\"> Output Shape                </span>┃<span style=\"font-weight: bold\">         Param # </span>┃\n",
              "┡━━━━━━━━━━━━━━━━━━━━━━━━━━━━━━━━━━━━━━╇━━━━━━━━━━━━━━━━━━━━━━━━━━━━━╇━━━━━━━━━━━━━━━━━┩\n",
              "│ conv1d (<span style=\"color: #0087ff; text-decoration-color: #0087ff\">Conv1D</span>)                      │ (<span style=\"color: #00d7ff; text-decoration-color: #00d7ff\">None</span>, <span style=\"color: #00af00; text-decoration-color: #00af00\">44</span>, <span style=\"color: #00af00; text-decoration-color: #00af00\">256</span>)             │           <span style=\"color: #00af00; text-decoration-color: #00af00\">5,632</span> │\n",
              "├──────────────────────────────────────┼─────────────────────────────┼─────────────────┤\n",
              "│ batch_normalization                  │ (<span style=\"color: #00d7ff; text-decoration-color: #00d7ff\">None</span>, <span style=\"color: #00af00; text-decoration-color: #00af00\">44</span>, <span style=\"color: #00af00; text-decoration-color: #00af00\">256</span>)             │           <span style=\"color: #00af00; text-decoration-color: #00af00\">1,024</span> │\n",
              "│ (<span style=\"color: #0087ff; text-decoration-color: #0087ff\">BatchNormalization</span>)                 │                             │                 │\n",
              "├──────────────────────────────────────┼─────────────────────────────┼─────────────────┤\n",
              "│ max_pooling1d (<span style=\"color: #0087ff; text-decoration-color: #0087ff\">MaxPooling1D</span>)         │ (<span style=\"color: #00d7ff; text-decoration-color: #00d7ff\">None</span>, <span style=\"color: #00af00; text-decoration-color: #00af00\">22</span>, <span style=\"color: #00af00; text-decoration-color: #00af00\">256</span>)             │               <span style=\"color: #00af00; text-decoration-color: #00af00\">0</span> │\n",
              "├──────────────────────────────────────┼─────────────────────────────┼─────────────────┤\n",
              "│ dropout (<span style=\"color: #0087ff; text-decoration-color: #0087ff\">Dropout</span>)                    │ (<span style=\"color: #00d7ff; text-decoration-color: #00d7ff\">None</span>, <span style=\"color: #00af00; text-decoration-color: #00af00\">22</span>, <span style=\"color: #00af00; text-decoration-color: #00af00\">256</span>)             │               <span style=\"color: #00af00; text-decoration-color: #00af00\">0</span> │\n",
              "├──────────────────────────────────────┼─────────────────────────────┼─────────────────┤\n",
              "│ conv1d_1 (<span style=\"color: #0087ff; text-decoration-color: #0087ff\">Conv1D</span>)                    │ (<span style=\"color: #00d7ff; text-decoration-color: #00d7ff\">None</span>, <span style=\"color: #00af00; text-decoration-color: #00af00\">18</span>, <span style=\"color: #00af00; text-decoration-color: #00af00\">64</span>)              │          <span style=\"color: #00af00; text-decoration-color: #00af00\">81,984</span> │\n",
              "├──────────────────────────────────────┼─────────────────────────────┼─────────────────┤\n",
              "│ batch_normalization_1                │ (<span style=\"color: #00d7ff; text-decoration-color: #00d7ff\">None</span>, <span style=\"color: #00af00; text-decoration-color: #00af00\">18</span>, <span style=\"color: #00af00; text-decoration-color: #00af00\">64</span>)              │             <span style=\"color: #00af00; text-decoration-color: #00af00\">256</span> │\n",
              "│ (<span style=\"color: #0087ff; text-decoration-color: #0087ff\">BatchNormalization</span>)                 │                             │                 │\n",
              "├──────────────────────────────────────┼─────────────────────────────┼─────────────────┤\n",
              "│ max_pooling1d_1 (<span style=\"color: #0087ff; text-decoration-color: #0087ff\">MaxPooling1D</span>)       │ (<span style=\"color: #00d7ff; text-decoration-color: #00d7ff\">None</span>, <span style=\"color: #00af00; text-decoration-color: #00af00\">9</span>, <span style=\"color: #00af00; text-decoration-color: #00af00\">64</span>)               │               <span style=\"color: #00af00; text-decoration-color: #00af00\">0</span> │\n",
              "├──────────────────────────────────────┼─────────────────────────────┼─────────────────┤\n",
              "│ dropout_1 (<span style=\"color: #0087ff; text-decoration-color: #0087ff\">Dropout</span>)                  │ (<span style=\"color: #00d7ff; text-decoration-color: #00d7ff\">None</span>, <span style=\"color: #00af00; text-decoration-color: #00af00\">9</span>, <span style=\"color: #00af00; text-decoration-color: #00af00\">64</span>)               │               <span style=\"color: #00af00; text-decoration-color: #00af00\">0</span> │\n",
              "├──────────────────────────────────────┼─────────────────────────────┼─────────────────┤\n",
              "│ lstm (<span style=\"color: #0087ff; text-decoration-color: #0087ff\">LSTM</span>)                          │ (<span style=\"color: #00d7ff; text-decoration-color: #00d7ff\">None</span>, <span style=\"color: #00af00; text-decoration-color: #00af00\">64</span>)                  │          <span style=\"color: #00af00; text-decoration-color: #00af00\">33,024</span> │\n",
              "├──────────────────────────────────────┼─────────────────────────────┼─────────────────┤\n",
              "│ flatten (<span style=\"color: #0087ff; text-decoration-color: #0087ff\">Flatten</span>)                    │ (<span style=\"color: #00d7ff; text-decoration-color: #00d7ff\">None</span>, <span style=\"color: #00af00; text-decoration-color: #00af00\">64</span>)                  │               <span style=\"color: #00af00; text-decoration-color: #00af00\">0</span> │\n",
              "├──────────────────────────────────────┼─────────────────────────────┼─────────────────┤\n",
              "│ dense (<span style=\"color: #0087ff; text-decoration-color: #0087ff\">Dense</span>)                        │ (<span style=\"color: #00d7ff; text-decoration-color: #00d7ff\">None</span>, <span style=\"color: #00af00; text-decoration-color: #00af00\">128</span>)                 │           <span style=\"color: #00af00; text-decoration-color: #00af00\">8,320</span> │\n",
              "├──────────────────────────────────────┼─────────────────────────────┼─────────────────┤\n",
              "│ dropout_2 (<span style=\"color: #0087ff; text-decoration-color: #0087ff\">Dropout</span>)                  │ (<span style=\"color: #00d7ff; text-decoration-color: #00d7ff\">None</span>, <span style=\"color: #00af00; text-decoration-color: #00af00\">128</span>)                 │               <span style=\"color: #00af00; text-decoration-color: #00af00\">0</span> │\n",
              "├──────────────────────────────────────┼─────────────────────────────┼─────────────────┤\n",
              "│ dense_1 (<span style=\"color: #0087ff; text-decoration-color: #0087ff\">Dense</span>)                      │ (<span style=\"color: #00d7ff; text-decoration-color: #00d7ff\">None</span>, <span style=\"color: #00af00; text-decoration-color: #00af00\">4</span>)                   │             <span style=\"color: #00af00; text-decoration-color: #00af00\">516</span> │\n",
              "└──────────────────────────────────────┴─────────────────────────────┴─────────────────┘\n",
              "</pre>\n"
            ]
          },
          "metadata": {}
        },
        {
          "output_type": "display_data",
          "data": {
            "text/plain": [
              "\u001b[1m Total params: \u001b[0m\u001b[38;5;34m130,756\u001b[0m (510.77 KB)\n"
            ],
            "text/html": [
              "<pre style=\"white-space:pre;overflow-x:auto;line-height:normal;font-family:Menlo,'DejaVu Sans Mono',consolas,'Courier New',monospace\"><span style=\"font-weight: bold\"> Total params: </span><span style=\"color: #00af00; text-decoration-color: #00af00\">130,756</span> (510.77 KB)\n",
              "</pre>\n"
            ]
          },
          "metadata": {}
        },
        {
          "output_type": "display_data",
          "data": {
            "text/plain": [
              "\u001b[1m Trainable params: \u001b[0m\u001b[38;5;34m130,116\u001b[0m (508.27 KB)\n"
            ],
            "text/html": [
              "<pre style=\"white-space:pre;overflow-x:auto;line-height:normal;font-family:Menlo,'DejaVu Sans Mono',consolas,'Courier New',monospace\"><span style=\"font-weight: bold\"> Trainable params: </span><span style=\"color: #00af00; text-decoration-color: #00af00\">130,116</span> (508.27 KB)\n",
              "</pre>\n"
            ]
          },
          "metadata": {}
        },
        {
          "output_type": "display_data",
          "data": {
            "text/plain": [
              "\u001b[1m Non-trainable params: \u001b[0m\u001b[38;5;34m640\u001b[0m (2.50 KB)\n"
            ],
            "text/html": [
              "<pre style=\"white-space:pre;overflow-x:auto;line-height:normal;font-family:Menlo,'DejaVu Sans Mono',consolas,'Courier New',monospace\"><span style=\"font-weight: bold\"> Non-trainable params: </span><span style=\"color: #00af00; text-decoration-color: #00af00\">640</span> (2.50 KB)\n",
              "</pre>\n"
            ]
          },
          "metadata": {}
        },
        {
          "output_type": "stream",
          "name": "stdout",
          "text": [
            "Epoch 1/20\n",
            "\u001b[1m1789/1789\u001b[0m \u001b[32m━━━━━━━━━━━━━━━━━━━━\u001b[0m\u001b[37m\u001b[0m \u001b[1m22s\u001b[0m 11ms/step - accuracy: 0.4523 - loss: 1.3038 - val_accuracy: 0.5277 - val_loss: 1.2275\n",
            "Epoch 2/20\n",
            "\u001b[1m1789/1789\u001b[0m \u001b[32m━━━━━━━━━━━━━━━━━━━━\u001b[0m\u001b[37m\u001b[0m \u001b[1m19s\u001b[0m 11ms/step - accuracy: 0.5163 - loss: 1.2333 - val_accuracy: 0.5400 - val_loss: 1.1424\n",
            "Epoch 3/20\n",
            "\u001b[1m 999/1789\u001b[0m \u001b[32m━━━━━━━━━━━\u001b[0m\u001b[37m━━━━━━━━━\u001b[0m \u001b[1m7s\u001b[0m 10ms/step - accuracy: 0.5261 - loss: 1.1711"
          ]
        },
        {
          "output_type": "error",
          "ename": "KeyboardInterrupt",
          "evalue": "",
          "traceback": [
            "\u001b[0;31m---------------------------------------------------------------------------\u001b[0m",
            "\u001b[0;31mKeyboardInterrupt\u001b[0m                         Traceback (most recent call last)",
            "\u001b[0;32m<ipython-input-27-01fbaf506362>\u001b[0m in \u001b[0;36m<cell line: 13>\u001b[0;34m()\u001b[0m\n\u001b[1;32m     11\u001b[0m \u001b[0;31m# X_train, X_val, y_train, y_val = train_test_split(X, y, test_size=0.2)\u001b[0m\u001b[0;34m\u001b[0m\u001b[0;34m\u001b[0m\u001b[0m\n\u001b[1;32m     12\u001b[0m \u001b[0;34m\u001b[0m\u001b[0m\n\u001b[0;32m---> 13\u001b[0;31m tuner.search(X_train, y_train_one_hot, \n\u001b[0m\u001b[1;32m     14\u001b[0m              \u001b[0mepochs\u001b[0m\u001b[0;34m=\u001b[0m\u001b[0;36m20\u001b[0m\u001b[0;34m,\u001b[0m               \u001b[0;31m# Number of epochs for each trial\u001b[0m\u001b[0;34m\u001b[0m\u001b[0;34m\u001b[0m\u001b[0m\n\u001b[1;32m     15\u001b[0m              \u001b[0mvalidation_data\u001b[0m\u001b[0;34m=\u001b[0m\u001b[0;34m(\u001b[0m\u001b[0mX_test\u001b[0m\u001b[0;34m,\u001b[0m \u001b[0my_test_one_hot\u001b[0m\u001b[0;34m)\u001b[0m\u001b[0;34m,\u001b[0m\u001b[0;34m\u001b[0m\u001b[0;34m\u001b[0m\u001b[0m\n",
            "\u001b[0;32m/usr/local/lib/python3.10/dist-packages/keras_tuner/src/engine/base_tuner.py\u001b[0m in \u001b[0;36msearch\u001b[0;34m(self, *fit_args, **fit_kwargs)\u001b[0m\n\u001b[1;32m    232\u001b[0m \u001b[0;34m\u001b[0m\u001b[0m\n\u001b[1;32m    233\u001b[0m             \u001b[0mself\u001b[0m\u001b[0;34m.\u001b[0m\u001b[0mon_trial_begin\u001b[0m\u001b[0;34m(\u001b[0m\u001b[0mtrial\u001b[0m\u001b[0;34m)\u001b[0m\u001b[0;34m\u001b[0m\u001b[0;34m\u001b[0m\u001b[0m\n\u001b[0;32m--> 234\u001b[0;31m             \u001b[0mself\u001b[0m\u001b[0;34m.\u001b[0m\u001b[0m_try_run_and_update_trial\u001b[0m\u001b[0;34m(\u001b[0m\u001b[0mtrial\u001b[0m\u001b[0;34m,\u001b[0m \u001b[0;34m*\u001b[0m\u001b[0mfit_args\u001b[0m\u001b[0;34m,\u001b[0m \u001b[0;34m**\u001b[0m\u001b[0mfit_kwargs\u001b[0m\u001b[0;34m)\u001b[0m\u001b[0;34m\u001b[0m\u001b[0;34m\u001b[0m\u001b[0m\n\u001b[0m\u001b[1;32m    235\u001b[0m             \u001b[0mself\u001b[0m\u001b[0;34m.\u001b[0m\u001b[0mon_trial_end\u001b[0m\u001b[0;34m(\u001b[0m\u001b[0mtrial\u001b[0m\u001b[0;34m)\u001b[0m\u001b[0;34m\u001b[0m\u001b[0;34m\u001b[0m\u001b[0m\n\u001b[1;32m    236\u001b[0m         \u001b[0mself\u001b[0m\u001b[0;34m.\u001b[0m\u001b[0mon_search_end\u001b[0m\u001b[0;34m(\u001b[0m\u001b[0;34m)\u001b[0m\u001b[0;34m\u001b[0m\u001b[0;34m\u001b[0m\u001b[0m\n",
            "\u001b[0;32m/usr/local/lib/python3.10/dist-packages/keras_tuner/src/engine/base_tuner.py\u001b[0m in \u001b[0;36m_try_run_and_update_trial\u001b[0;34m(self, trial, *fit_args, **fit_kwargs)\u001b[0m\n\u001b[1;32m    272\u001b[0m     \u001b[0;32mdef\u001b[0m \u001b[0m_try_run_and_update_trial\u001b[0m\u001b[0;34m(\u001b[0m\u001b[0mself\u001b[0m\u001b[0;34m,\u001b[0m \u001b[0mtrial\u001b[0m\u001b[0;34m,\u001b[0m \u001b[0;34m*\u001b[0m\u001b[0mfit_args\u001b[0m\u001b[0;34m,\u001b[0m \u001b[0;34m**\u001b[0m\u001b[0mfit_kwargs\u001b[0m\u001b[0;34m)\u001b[0m\u001b[0;34m:\u001b[0m\u001b[0;34m\u001b[0m\u001b[0;34m\u001b[0m\u001b[0m\n\u001b[1;32m    273\u001b[0m         \u001b[0;32mtry\u001b[0m\u001b[0;34m:\u001b[0m\u001b[0;34m\u001b[0m\u001b[0;34m\u001b[0m\u001b[0m\n\u001b[0;32m--> 274\u001b[0;31m             \u001b[0mself\u001b[0m\u001b[0;34m.\u001b[0m\u001b[0m_run_and_update_trial\u001b[0m\u001b[0;34m(\u001b[0m\u001b[0mtrial\u001b[0m\u001b[0;34m,\u001b[0m \u001b[0;34m*\u001b[0m\u001b[0mfit_args\u001b[0m\u001b[0;34m,\u001b[0m \u001b[0;34m**\u001b[0m\u001b[0mfit_kwargs\u001b[0m\u001b[0;34m)\u001b[0m\u001b[0;34m\u001b[0m\u001b[0;34m\u001b[0m\u001b[0m\n\u001b[0m\u001b[1;32m    275\u001b[0m             \u001b[0mtrial\u001b[0m\u001b[0;34m.\u001b[0m\u001b[0mstatus\u001b[0m \u001b[0;34m=\u001b[0m \u001b[0mtrial_module\u001b[0m\u001b[0;34m.\u001b[0m\u001b[0mTrialStatus\u001b[0m\u001b[0;34m.\u001b[0m\u001b[0mCOMPLETED\u001b[0m\u001b[0;34m\u001b[0m\u001b[0;34m\u001b[0m\u001b[0m\n\u001b[1;32m    276\u001b[0m             \u001b[0;32mreturn\u001b[0m\u001b[0;34m\u001b[0m\u001b[0;34m\u001b[0m\u001b[0m\n",
            "\u001b[0;32m/usr/local/lib/python3.10/dist-packages/keras_tuner/src/engine/base_tuner.py\u001b[0m in \u001b[0;36m_run_and_update_trial\u001b[0;34m(self, trial, *fit_args, **fit_kwargs)\u001b[0m\n\u001b[1;32m    237\u001b[0m \u001b[0;34m\u001b[0m\u001b[0m\n\u001b[1;32m    238\u001b[0m     \u001b[0;32mdef\u001b[0m \u001b[0m_run_and_update_trial\u001b[0m\u001b[0;34m(\u001b[0m\u001b[0mself\u001b[0m\u001b[0;34m,\u001b[0m \u001b[0mtrial\u001b[0m\u001b[0;34m,\u001b[0m \u001b[0;34m*\u001b[0m\u001b[0mfit_args\u001b[0m\u001b[0;34m,\u001b[0m \u001b[0;34m**\u001b[0m\u001b[0mfit_kwargs\u001b[0m\u001b[0;34m)\u001b[0m\u001b[0;34m:\u001b[0m\u001b[0;34m\u001b[0m\u001b[0;34m\u001b[0m\u001b[0m\n\u001b[0;32m--> 239\u001b[0;31m         \u001b[0mresults\u001b[0m \u001b[0;34m=\u001b[0m \u001b[0mself\u001b[0m\u001b[0;34m.\u001b[0m\u001b[0mrun_trial\u001b[0m\u001b[0;34m(\u001b[0m\u001b[0mtrial\u001b[0m\u001b[0;34m,\u001b[0m \u001b[0;34m*\u001b[0m\u001b[0mfit_args\u001b[0m\u001b[0;34m,\u001b[0m \u001b[0;34m**\u001b[0m\u001b[0mfit_kwargs\u001b[0m\u001b[0;34m)\u001b[0m\u001b[0;34m\u001b[0m\u001b[0;34m\u001b[0m\u001b[0m\n\u001b[0m\u001b[1;32m    240\u001b[0m         if self.oracle.get_trial(trial.trial_id).metrics.exists(\n\u001b[1;32m    241\u001b[0m             \u001b[0mself\u001b[0m\u001b[0;34m.\u001b[0m\u001b[0moracle\u001b[0m\u001b[0;34m.\u001b[0m\u001b[0mobjective\u001b[0m\u001b[0;34m.\u001b[0m\u001b[0mname\u001b[0m\u001b[0;34m\u001b[0m\u001b[0;34m\u001b[0m\u001b[0m\n",
            "\u001b[0;32m/usr/local/lib/python3.10/dist-packages/keras_tuner/src/engine/tuner.py\u001b[0m in \u001b[0;36mrun_trial\u001b[0;34m(self, trial, *args, **kwargs)\u001b[0m\n\u001b[1;32m    312\u001b[0m             \u001b[0mcallbacks\u001b[0m\u001b[0;34m.\u001b[0m\u001b[0mappend\u001b[0m\u001b[0;34m(\u001b[0m\u001b[0mmodel_checkpoint\u001b[0m\u001b[0;34m)\u001b[0m\u001b[0;34m\u001b[0m\u001b[0;34m\u001b[0m\u001b[0m\n\u001b[1;32m    313\u001b[0m             \u001b[0mcopied_kwargs\u001b[0m\u001b[0;34m[\u001b[0m\u001b[0;34m\"callbacks\"\u001b[0m\u001b[0;34m]\u001b[0m \u001b[0;34m=\u001b[0m \u001b[0mcallbacks\u001b[0m\u001b[0;34m\u001b[0m\u001b[0;34m\u001b[0m\u001b[0m\n\u001b[0;32m--> 314\u001b[0;31m             \u001b[0mobj_value\u001b[0m \u001b[0;34m=\u001b[0m \u001b[0mself\u001b[0m\u001b[0;34m.\u001b[0m\u001b[0m_build_and_fit_model\u001b[0m\u001b[0;34m(\u001b[0m\u001b[0mtrial\u001b[0m\u001b[0;34m,\u001b[0m \u001b[0;34m*\u001b[0m\u001b[0margs\u001b[0m\u001b[0;34m,\u001b[0m \u001b[0;34m**\u001b[0m\u001b[0mcopied_kwargs\u001b[0m\u001b[0;34m)\u001b[0m\u001b[0;34m\u001b[0m\u001b[0;34m\u001b[0m\u001b[0m\n\u001b[0m\u001b[1;32m    315\u001b[0m \u001b[0;34m\u001b[0m\u001b[0m\n\u001b[1;32m    316\u001b[0m             \u001b[0mhistories\u001b[0m\u001b[0;34m.\u001b[0m\u001b[0mappend\u001b[0m\u001b[0;34m(\u001b[0m\u001b[0mobj_value\u001b[0m\u001b[0;34m)\u001b[0m\u001b[0;34m\u001b[0m\u001b[0;34m\u001b[0m\u001b[0m\n",
            "\u001b[0;32m/usr/local/lib/python3.10/dist-packages/keras_tuner/src/engine/tuner.py\u001b[0m in \u001b[0;36m_build_and_fit_model\u001b[0;34m(self, trial, *args, **kwargs)\u001b[0m\n\u001b[1;32m    231\u001b[0m         \u001b[0mhp\u001b[0m \u001b[0;34m=\u001b[0m \u001b[0mtrial\u001b[0m\u001b[0;34m.\u001b[0m\u001b[0mhyperparameters\u001b[0m\u001b[0;34m\u001b[0m\u001b[0;34m\u001b[0m\u001b[0m\n\u001b[1;32m    232\u001b[0m         \u001b[0mmodel\u001b[0m \u001b[0;34m=\u001b[0m \u001b[0mself\u001b[0m\u001b[0;34m.\u001b[0m\u001b[0m_try_build\u001b[0m\u001b[0;34m(\u001b[0m\u001b[0mhp\u001b[0m\u001b[0;34m)\u001b[0m\u001b[0;34m\u001b[0m\u001b[0;34m\u001b[0m\u001b[0m\n\u001b[0;32m--> 233\u001b[0;31m         \u001b[0mresults\u001b[0m \u001b[0;34m=\u001b[0m \u001b[0mself\u001b[0m\u001b[0;34m.\u001b[0m\u001b[0mhypermodel\u001b[0m\u001b[0;34m.\u001b[0m\u001b[0mfit\u001b[0m\u001b[0;34m(\u001b[0m\u001b[0mhp\u001b[0m\u001b[0;34m,\u001b[0m \u001b[0mmodel\u001b[0m\u001b[0;34m,\u001b[0m \u001b[0;34m*\u001b[0m\u001b[0margs\u001b[0m\u001b[0;34m,\u001b[0m \u001b[0;34m**\u001b[0m\u001b[0mkwargs\u001b[0m\u001b[0;34m)\u001b[0m\u001b[0;34m\u001b[0m\u001b[0;34m\u001b[0m\u001b[0m\n\u001b[0m\u001b[1;32m    234\u001b[0m \u001b[0;34m\u001b[0m\u001b[0m\n\u001b[1;32m    235\u001b[0m         \u001b[0;31m# Save the build config for model loading later.\u001b[0m\u001b[0;34m\u001b[0m\u001b[0;34m\u001b[0m\u001b[0m\n",
            "\u001b[0;32m/usr/local/lib/python3.10/dist-packages/keras_tuner/src/engine/hypermodel.py\u001b[0m in \u001b[0;36mfit\u001b[0;34m(self, hp, model, *args, **kwargs)\u001b[0m\n\u001b[1;32m    147\u001b[0m             \u001b[0mIf\u001b[0m \u001b[0;32mreturn\u001b[0m \u001b[0ma\u001b[0m \u001b[0mfloat\u001b[0m\u001b[0;34m,\u001b[0m \u001b[0mit\u001b[0m \u001b[0mshould\u001b[0m \u001b[0mbe\u001b[0m \u001b[0mthe\u001b[0m\u001b[0;31m \u001b[0m\u001b[0;31m`\u001b[0m\u001b[0mobjective\u001b[0m\u001b[0;31m`\u001b[0m \u001b[0mvalue\u001b[0m\u001b[0;34m.\u001b[0m\u001b[0;34m\u001b[0m\u001b[0;34m\u001b[0m\u001b[0m\n\u001b[1;32m    148\u001b[0m         \"\"\"\n\u001b[0;32m--> 149\u001b[0;31m         \u001b[0;32mreturn\u001b[0m \u001b[0mmodel\u001b[0m\u001b[0;34m.\u001b[0m\u001b[0mfit\u001b[0m\u001b[0;34m(\u001b[0m\u001b[0;34m*\u001b[0m\u001b[0margs\u001b[0m\u001b[0;34m,\u001b[0m \u001b[0;34m**\u001b[0m\u001b[0mkwargs\u001b[0m\u001b[0;34m)\u001b[0m\u001b[0;34m\u001b[0m\u001b[0;34m\u001b[0m\u001b[0m\n\u001b[0m\u001b[1;32m    150\u001b[0m \u001b[0;34m\u001b[0m\u001b[0m\n\u001b[1;32m    151\u001b[0m \u001b[0;34m\u001b[0m\u001b[0m\n",
            "\u001b[0;32m/usr/local/lib/python3.10/dist-packages/keras/src/utils/traceback_utils.py\u001b[0m in \u001b[0;36merror_handler\u001b[0;34m(*args, **kwargs)\u001b[0m\n\u001b[1;32m    115\u001b[0m         \u001b[0mfiltered_tb\u001b[0m \u001b[0;34m=\u001b[0m \u001b[0;32mNone\u001b[0m\u001b[0;34m\u001b[0m\u001b[0;34m\u001b[0m\u001b[0m\n\u001b[1;32m    116\u001b[0m         \u001b[0;32mtry\u001b[0m\u001b[0;34m:\u001b[0m\u001b[0;34m\u001b[0m\u001b[0;34m\u001b[0m\u001b[0m\n\u001b[0;32m--> 117\u001b[0;31m             \u001b[0;32mreturn\u001b[0m \u001b[0mfn\u001b[0m\u001b[0;34m(\u001b[0m\u001b[0;34m*\u001b[0m\u001b[0margs\u001b[0m\u001b[0;34m,\u001b[0m \u001b[0;34m**\u001b[0m\u001b[0mkwargs\u001b[0m\u001b[0;34m)\u001b[0m\u001b[0;34m\u001b[0m\u001b[0;34m\u001b[0m\u001b[0m\n\u001b[0m\u001b[1;32m    118\u001b[0m         \u001b[0;32mexcept\u001b[0m \u001b[0mException\u001b[0m \u001b[0;32mas\u001b[0m \u001b[0me\u001b[0m\u001b[0;34m:\u001b[0m\u001b[0;34m\u001b[0m\u001b[0;34m\u001b[0m\u001b[0m\n\u001b[1;32m    119\u001b[0m             \u001b[0mfiltered_tb\u001b[0m \u001b[0;34m=\u001b[0m \u001b[0m_process_traceback_frames\u001b[0m\u001b[0;34m(\u001b[0m\u001b[0me\u001b[0m\u001b[0;34m.\u001b[0m\u001b[0m__traceback__\u001b[0m\u001b[0;34m)\u001b[0m\u001b[0;34m\u001b[0m\u001b[0;34m\u001b[0m\u001b[0m\n",
            "\u001b[0;32m/usr/local/lib/python3.10/dist-packages/keras/src/backend/tensorflow/trainer.py\u001b[0m in \u001b[0;36mfit\u001b[0;34m(self, x, y, batch_size, epochs, verbose, callbacks, validation_split, validation_data, shuffle, class_weight, sample_weight, initial_epoch, steps_per_epoch, validation_steps, validation_batch_size, validation_freq)\u001b[0m\n\u001b[1;32m    316\u001b[0m                 \u001b[0;32mfor\u001b[0m \u001b[0mstep\u001b[0m\u001b[0;34m,\u001b[0m \u001b[0miterator\u001b[0m \u001b[0;32min\u001b[0m \u001b[0mepoch_iterator\u001b[0m\u001b[0;34m.\u001b[0m\u001b[0menumerate_epoch\u001b[0m\u001b[0;34m(\u001b[0m\u001b[0;34m)\u001b[0m\u001b[0;34m:\u001b[0m\u001b[0;34m\u001b[0m\u001b[0;34m\u001b[0m\u001b[0m\n\u001b[1;32m    317\u001b[0m                     \u001b[0mcallbacks\u001b[0m\u001b[0;34m.\u001b[0m\u001b[0mon_train_batch_begin\u001b[0m\u001b[0;34m(\u001b[0m\u001b[0mstep\u001b[0m\u001b[0;34m)\u001b[0m\u001b[0;34m\u001b[0m\u001b[0;34m\u001b[0m\u001b[0m\n\u001b[0;32m--> 318\u001b[0;31m                     \u001b[0mlogs\u001b[0m \u001b[0;34m=\u001b[0m \u001b[0mself\u001b[0m\u001b[0;34m.\u001b[0m\u001b[0mtrain_function\u001b[0m\u001b[0;34m(\u001b[0m\u001b[0miterator\u001b[0m\u001b[0;34m)\u001b[0m\u001b[0;34m\u001b[0m\u001b[0;34m\u001b[0m\u001b[0m\n\u001b[0m\u001b[1;32m    319\u001b[0m                     \u001b[0mlogs\u001b[0m \u001b[0;34m=\u001b[0m \u001b[0mself\u001b[0m\u001b[0;34m.\u001b[0m\u001b[0m_pythonify_logs\u001b[0m\u001b[0;34m(\u001b[0m\u001b[0mlogs\u001b[0m\u001b[0;34m)\u001b[0m\u001b[0;34m\u001b[0m\u001b[0;34m\u001b[0m\u001b[0m\n\u001b[1;32m    320\u001b[0m                     \u001b[0mcallbacks\u001b[0m\u001b[0;34m.\u001b[0m\u001b[0mon_train_batch_end\u001b[0m\u001b[0;34m(\u001b[0m\u001b[0mstep\u001b[0m\u001b[0;34m,\u001b[0m \u001b[0mlogs\u001b[0m\u001b[0;34m)\u001b[0m\u001b[0;34m\u001b[0m\u001b[0;34m\u001b[0m\u001b[0m\n",
            "\u001b[0;32m/usr/local/lib/python3.10/dist-packages/tensorflow/python/util/traceback_utils.py\u001b[0m in \u001b[0;36merror_handler\u001b[0;34m(*args, **kwargs)\u001b[0m\n\u001b[1;32m    148\u001b[0m     \u001b[0mfiltered_tb\u001b[0m \u001b[0;34m=\u001b[0m \u001b[0;32mNone\u001b[0m\u001b[0;34m\u001b[0m\u001b[0;34m\u001b[0m\u001b[0m\n\u001b[1;32m    149\u001b[0m     \u001b[0;32mtry\u001b[0m\u001b[0;34m:\u001b[0m\u001b[0;34m\u001b[0m\u001b[0;34m\u001b[0m\u001b[0m\n\u001b[0;32m--> 150\u001b[0;31m       \u001b[0;32mreturn\u001b[0m \u001b[0mfn\u001b[0m\u001b[0;34m(\u001b[0m\u001b[0;34m*\u001b[0m\u001b[0margs\u001b[0m\u001b[0;34m,\u001b[0m \u001b[0;34m**\u001b[0m\u001b[0mkwargs\u001b[0m\u001b[0;34m)\u001b[0m\u001b[0;34m\u001b[0m\u001b[0;34m\u001b[0m\u001b[0m\n\u001b[0m\u001b[1;32m    151\u001b[0m     \u001b[0;32mexcept\u001b[0m \u001b[0mException\u001b[0m \u001b[0;32mas\u001b[0m \u001b[0me\u001b[0m\u001b[0;34m:\u001b[0m\u001b[0;34m\u001b[0m\u001b[0;34m\u001b[0m\u001b[0m\n\u001b[1;32m    152\u001b[0m       \u001b[0mfiltered_tb\u001b[0m \u001b[0;34m=\u001b[0m \u001b[0m_process_traceback_frames\u001b[0m\u001b[0;34m(\u001b[0m\u001b[0me\u001b[0m\u001b[0;34m.\u001b[0m\u001b[0m__traceback__\u001b[0m\u001b[0;34m)\u001b[0m\u001b[0;34m\u001b[0m\u001b[0;34m\u001b[0m\u001b[0m\n",
            "\u001b[0;32m/usr/local/lib/python3.10/dist-packages/tensorflow/python/eager/polymorphic_function/polymorphic_function.py\u001b[0m in \u001b[0;36m__call__\u001b[0;34m(self, *args, **kwds)\u001b[0m\n\u001b[1;32m    831\u001b[0m \u001b[0;34m\u001b[0m\u001b[0m\n\u001b[1;32m    832\u001b[0m       \u001b[0;32mwith\u001b[0m \u001b[0mOptionalXlaContext\u001b[0m\u001b[0;34m(\u001b[0m\u001b[0mself\u001b[0m\u001b[0;34m.\u001b[0m\u001b[0m_jit_compile\u001b[0m\u001b[0;34m)\u001b[0m\u001b[0;34m:\u001b[0m\u001b[0;34m\u001b[0m\u001b[0;34m\u001b[0m\u001b[0m\n\u001b[0;32m--> 833\u001b[0;31m         \u001b[0mresult\u001b[0m \u001b[0;34m=\u001b[0m \u001b[0mself\u001b[0m\u001b[0;34m.\u001b[0m\u001b[0m_call\u001b[0m\u001b[0;34m(\u001b[0m\u001b[0;34m*\u001b[0m\u001b[0margs\u001b[0m\u001b[0;34m,\u001b[0m \u001b[0;34m**\u001b[0m\u001b[0mkwds\u001b[0m\u001b[0;34m)\u001b[0m\u001b[0;34m\u001b[0m\u001b[0;34m\u001b[0m\u001b[0m\n\u001b[0m\u001b[1;32m    834\u001b[0m \u001b[0;34m\u001b[0m\u001b[0m\n\u001b[1;32m    835\u001b[0m       \u001b[0mnew_tracing_count\u001b[0m \u001b[0;34m=\u001b[0m \u001b[0mself\u001b[0m\u001b[0;34m.\u001b[0m\u001b[0mexperimental_get_tracing_count\u001b[0m\u001b[0;34m(\u001b[0m\u001b[0;34m)\u001b[0m\u001b[0;34m\u001b[0m\u001b[0;34m\u001b[0m\u001b[0m\n",
            "\u001b[0;32m/usr/local/lib/python3.10/dist-packages/tensorflow/python/eager/polymorphic_function/polymorphic_function.py\u001b[0m in \u001b[0;36m_call\u001b[0;34m(self, *args, **kwds)\u001b[0m\n\u001b[1;32m    876\u001b[0m       \u001b[0;31m# In this case we have not created variables on the first call. So we can\u001b[0m\u001b[0;34m\u001b[0m\u001b[0;34m\u001b[0m\u001b[0m\n\u001b[1;32m    877\u001b[0m       \u001b[0;31m# run the first trace but we should fail if variables are created.\u001b[0m\u001b[0;34m\u001b[0m\u001b[0;34m\u001b[0m\u001b[0m\n\u001b[0;32m--> 878\u001b[0;31m       results = tracing_compilation.call_function(\n\u001b[0m\u001b[1;32m    879\u001b[0m           \u001b[0margs\u001b[0m\u001b[0;34m,\u001b[0m \u001b[0mkwds\u001b[0m\u001b[0;34m,\u001b[0m \u001b[0mself\u001b[0m\u001b[0;34m.\u001b[0m\u001b[0m_variable_creation_config\u001b[0m\u001b[0;34m\u001b[0m\u001b[0;34m\u001b[0m\u001b[0m\n\u001b[1;32m    880\u001b[0m       )\n",
            "\u001b[0;32m/usr/local/lib/python3.10/dist-packages/tensorflow/python/eager/polymorphic_function/tracing_compilation.py\u001b[0m in \u001b[0;36mcall_function\u001b[0;34m(args, kwargs, tracing_options)\u001b[0m\n\u001b[1;32m    137\u001b[0m   \u001b[0mbound_args\u001b[0m \u001b[0;34m=\u001b[0m \u001b[0mfunction\u001b[0m\u001b[0;34m.\u001b[0m\u001b[0mfunction_type\u001b[0m\u001b[0;34m.\u001b[0m\u001b[0mbind\u001b[0m\u001b[0;34m(\u001b[0m\u001b[0;34m*\u001b[0m\u001b[0margs\u001b[0m\u001b[0;34m,\u001b[0m \u001b[0;34m**\u001b[0m\u001b[0mkwargs\u001b[0m\u001b[0;34m)\u001b[0m\u001b[0;34m\u001b[0m\u001b[0;34m\u001b[0m\u001b[0m\n\u001b[1;32m    138\u001b[0m   \u001b[0mflat_inputs\u001b[0m \u001b[0;34m=\u001b[0m \u001b[0mfunction\u001b[0m\u001b[0;34m.\u001b[0m\u001b[0mfunction_type\u001b[0m\u001b[0;34m.\u001b[0m\u001b[0munpack_inputs\u001b[0m\u001b[0;34m(\u001b[0m\u001b[0mbound_args\u001b[0m\u001b[0;34m)\u001b[0m\u001b[0;34m\u001b[0m\u001b[0;34m\u001b[0m\u001b[0m\n\u001b[0;32m--> 139\u001b[0;31m   return function._call_flat(  # pylint: disable=protected-access\n\u001b[0m\u001b[1;32m    140\u001b[0m       \u001b[0mflat_inputs\u001b[0m\u001b[0;34m,\u001b[0m \u001b[0mcaptured_inputs\u001b[0m\u001b[0;34m=\u001b[0m\u001b[0mfunction\u001b[0m\u001b[0;34m.\u001b[0m\u001b[0mcaptured_inputs\u001b[0m\u001b[0;34m\u001b[0m\u001b[0;34m\u001b[0m\u001b[0m\n\u001b[1;32m    141\u001b[0m   )\n",
            "\u001b[0;32m/usr/local/lib/python3.10/dist-packages/tensorflow/python/eager/polymorphic_function/concrete_function.py\u001b[0m in \u001b[0;36m_call_flat\u001b[0;34m(self, tensor_inputs, captured_inputs)\u001b[0m\n\u001b[1;32m   1320\u001b[0m         and executing_eagerly):\n\u001b[1;32m   1321\u001b[0m       \u001b[0;31m# No tape is watching; skip to running the function.\u001b[0m\u001b[0;34m\u001b[0m\u001b[0;34m\u001b[0m\u001b[0m\n\u001b[0;32m-> 1322\u001b[0;31m       \u001b[0;32mreturn\u001b[0m \u001b[0mself\u001b[0m\u001b[0;34m.\u001b[0m\u001b[0m_inference_function\u001b[0m\u001b[0;34m.\u001b[0m\u001b[0mcall_preflattened\u001b[0m\u001b[0;34m(\u001b[0m\u001b[0margs\u001b[0m\u001b[0;34m)\u001b[0m\u001b[0;34m\u001b[0m\u001b[0;34m\u001b[0m\u001b[0m\n\u001b[0m\u001b[1;32m   1323\u001b[0m     forward_backward = self._select_forward_and_backward_functions(\n\u001b[1;32m   1324\u001b[0m         \u001b[0margs\u001b[0m\u001b[0;34m,\u001b[0m\u001b[0;34m\u001b[0m\u001b[0;34m\u001b[0m\u001b[0m\n",
            "\u001b[0;32m/usr/local/lib/python3.10/dist-packages/tensorflow/python/eager/polymorphic_function/atomic_function.py\u001b[0m in \u001b[0;36mcall_preflattened\u001b[0;34m(self, args)\u001b[0m\n\u001b[1;32m    214\u001b[0m   \u001b[0;32mdef\u001b[0m \u001b[0mcall_preflattened\u001b[0m\u001b[0;34m(\u001b[0m\u001b[0mself\u001b[0m\u001b[0;34m,\u001b[0m \u001b[0margs\u001b[0m\u001b[0;34m:\u001b[0m \u001b[0mSequence\u001b[0m\u001b[0;34m[\u001b[0m\u001b[0mcore\u001b[0m\u001b[0;34m.\u001b[0m\u001b[0mTensor\u001b[0m\u001b[0;34m]\u001b[0m\u001b[0;34m)\u001b[0m \u001b[0;34m->\u001b[0m \u001b[0mAny\u001b[0m\u001b[0;34m:\u001b[0m\u001b[0;34m\u001b[0m\u001b[0;34m\u001b[0m\u001b[0m\n\u001b[1;32m    215\u001b[0m     \u001b[0;34m\"\"\"Calls with flattened tensor inputs and returns the structured output.\"\"\"\u001b[0m\u001b[0;34m\u001b[0m\u001b[0;34m\u001b[0m\u001b[0m\n\u001b[0;32m--> 216\u001b[0;31m     \u001b[0mflat_outputs\u001b[0m \u001b[0;34m=\u001b[0m \u001b[0mself\u001b[0m\u001b[0;34m.\u001b[0m\u001b[0mcall_flat\u001b[0m\u001b[0;34m(\u001b[0m\u001b[0;34m*\u001b[0m\u001b[0margs\u001b[0m\u001b[0;34m)\u001b[0m\u001b[0;34m\u001b[0m\u001b[0;34m\u001b[0m\u001b[0m\n\u001b[0m\u001b[1;32m    217\u001b[0m     \u001b[0;32mreturn\u001b[0m \u001b[0mself\u001b[0m\u001b[0;34m.\u001b[0m\u001b[0mfunction_type\u001b[0m\u001b[0;34m.\u001b[0m\u001b[0mpack_output\u001b[0m\u001b[0;34m(\u001b[0m\u001b[0mflat_outputs\u001b[0m\u001b[0;34m)\u001b[0m\u001b[0;34m\u001b[0m\u001b[0;34m\u001b[0m\u001b[0m\n\u001b[1;32m    218\u001b[0m \u001b[0;34m\u001b[0m\u001b[0m\n",
            "\u001b[0;32m/usr/local/lib/python3.10/dist-packages/tensorflow/python/eager/polymorphic_function/atomic_function.py\u001b[0m in \u001b[0;36mcall_flat\u001b[0;34m(self, *args)\u001b[0m\n\u001b[1;32m    249\u001b[0m         \u001b[0;32mwith\u001b[0m \u001b[0mrecord\u001b[0m\u001b[0;34m.\u001b[0m\u001b[0mstop_recording\u001b[0m\u001b[0;34m(\u001b[0m\u001b[0;34m)\u001b[0m\u001b[0;34m:\u001b[0m\u001b[0;34m\u001b[0m\u001b[0;34m\u001b[0m\u001b[0m\n\u001b[1;32m    250\u001b[0m           \u001b[0;32mif\u001b[0m \u001b[0mself\u001b[0m\u001b[0;34m.\u001b[0m\u001b[0m_bound_context\u001b[0m\u001b[0;34m.\u001b[0m\u001b[0mexecuting_eagerly\u001b[0m\u001b[0;34m(\u001b[0m\u001b[0;34m)\u001b[0m\u001b[0;34m:\u001b[0m\u001b[0;34m\u001b[0m\u001b[0;34m\u001b[0m\u001b[0m\n\u001b[0;32m--> 251\u001b[0;31m             outputs = self._bound_context.call_function(\n\u001b[0m\u001b[1;32m    252\u001b[0m                 \u001b[0mself\u001b[0m\u001b[0;34m.\u001b[0m\u001b[0mname\u001b[0m\u001b[0;34m,\u001b[0m\u001b[0;34m\u001b[0m\u001b[0;34m\u001b[0m\u001b[0m\n\u001b[1;32m    253\u001b[0m                 \u001b[0mlist\u001b[0m\u001b[0;34m(\u001b[0m\u001b[0margs\u001b[0m\u001b[0;34m)\u001b[0m\u001b[0;34m,\u001b[0m\u001b[0;34m\u001b[0m\u001b[0;34m\u001b[0m\u001b[0m\n",
            "\u001b[0;32m/usr/local/lib/python3.10/dist-packages/tensorflow/python/eager/context.py\u001b[0m in \u001b[0;36mcall_function\u001b[0;34m(self, name, tensor_inputs, num_outputs)\u001b[0m\n\u001b[1;32m   1550\u001b[0m     \u001b[0mcancellation_context\u001b[0m \u001b[0;34m=\u001b[0m \u001b[0mcancellation\u001b[0m\u001b[0;34m.\u001b[0m\u001b[0mcontext\u001b[0m\u001b[0;34m(\u001b[0m\u001b[0;34m)\u001b[0m\u001b[0;34m\u001b[0m\u001b[0;34m\u001b[0m\u001b[0m\n\u001b[1;32m   1551\u001b[0m     \u001b[0;32mif\u001b[0m \u001b[0mcancellation_context\u001b[0m \u001b[0;32mis\u001b[0m \u001b[0;32mNone\u001b[0m\u001b[0;34m:\u001b[0m\u001b[0;34m\u001b[0m\u001b[0;34m\u001b[0m\u001b[0m\n\u001b[0;32m-> 1552\u001b[0;31m       outputs = execute.execute(\n\u001b[0m\u001b[1;32m   1553\u001b[0m           \u001b[0mname\u001b[0m\u001b[0;34m.\u001b[0m\u001b[0mdecode\u001b[0m\u001b[0;34m(\u001b[0m\u001b[0;34m\"utf-8\"\u001b[0m\u001b[0;34m)\u001b[0m\u001b[0;34m,\u001b[0m\u001b[0;34m\u001b[0m\u001b[0;34m\u001b[0m\u001b[0m\n\u001b[1;32m   1554\u001b[0m           \u001b[0mnum_outputs\u001b[0m\u001b[0;34m=\u001b[0m\u001b[0mnum_outputs\u001b[0m\u001b[0;34m,\u001b[0m\u001b[0;34m\u001b[0m\u001b[0;34m\u001b[0m\u001b[0m\n",
            "\u001b[0;32m/usr/local/lib/python3.10/dist-packages/tensorflow/python/eager/execute.py\u001b[0m in \u001b[0;36mquick_execute\u001b[0;34m(op_name, num_outputs, inputs, attrs, ctx, name)\u001b[0m\n\u001b[1;32m     51\u001b[0m   \u001b[0;32mtry\u001b[0m\u001b[0;34m:\u001b[0m\u001b[0;34m\u001b[0m\u001b[0;34m\u001b[0m\u001b[0m\n\u001b[1;32m     52\u001b[0m     \u001b[0mctx\u001b[0m\u001b[0;34m.\u001b[0m\u001b[0mensure_initialized\u001b[0m\u001b[0;34m(\u001b[0m\u001b[0;34m)\u001b[0m\u001b[0;34m\u001b[0m\u001b[0;34m\u001b[0m\u001b[0m\n\u001b[0;32m---> 53\u001b[0;31m     tensors = pywrap_tfe.TFE_Py_Execute(ctx._handle, device_name, op_name,\n\u001b[0m\u001b[1;32m     54\u001b[0m                                         inputs, attrs, num_outputs)\n\u001b[1;32m     55\u001b[0m   \u001b[0;32mexcept\u001b[0m \u001b[0mcore\u001b[0m\u001b[0;34m.\u001b[0m\u001b[0m_NotOkStatusException\u001b[0m \u001b[0;32mas\u001b[0m \u001b[0me\u001b[0m\u001b[0;34m:\u001b[0m\u001b[0;34m\u001b[0m\u001b[0;34m\u001b[0m\u001b[0m\n",
            "\u001b[0;31mKeyboardInterrupt\u001b[0m: "
          ]
        }
      ],
      "source": [
        "tuner = kt.RandomSearch(\n",
        "    build_tuning_model,\n",
        "    objective='val_accuracy',  # Tuning for validation accuracy\n",
        "    max_trials=20,             # Number of different hyperparameter sets to try\n",
        "    executions_per_trial=2,    # Average results over multiple runs to reduce variance\n",
        "    directory='my_tuning_dir', # Directory to save tuning results\n",
        "    project_name='respiratory_activity_classification_no_gyro'\n",
        ")\n",
        "\n",
        "# Split your data if not already done\n",
        "# X_train, X_val, y_train, y_val = train_test_split(X, y, test_size=0.2)\n",
        "\n",
        "tuner.search(X_train, y_train_one_hot,\n",
        "             epochs=20,               # Number of epochs for each trial\n",
        "             validation_data=(X_test, y_test_one_hot),\n",
        "             callbacks=[tf.keras.callbacks.EarlyStopping(monitor='val_loss', patience=3)])\n",
        "\n",
        "best_model1 = tuner.get_best_models(num_models=1)[0]\n",
        "\n",
        "# Evaluate the best model\n",
        "best_model1.evaluate(X_test, y_test_one_hot)  # Replace with your test data\n",
        "tuner.results_summary()"
      ]
    },
    {
      "cell_type": "code",
      "execution_count": null,
      "metadata": {
        "id": "C7ZSLu9uWnho",
        "outputId": "1b8a4dcf-1a29-49fd-c22c-b3ab7a4caf22"
      },
      "outputs": [
        {
          "data": {
            "text/html": [
              "<pre style=\"white-space:pre;overflow-x:auto;line-height:normal;font-family:Menlo,'DejaVu Sans Mono',consolas,'Courier New',monospace\"><span style=\"font-weight: bold\">Model: \"sequential_1\"</span>\n",
              "</pre>\n"
            ],
            "text/plain": [
              "\u001b[1mModel: \"sequential_1\"\u001b[0m\n"
            ]
          },
          "metadata": {},
          "output_type": "display_data"
        },
        {
          "data": {
            "text/html": [
              "<pre style=\"white-space:pre;overflow-x:auto;line-height:normal;font-family:Menlo,'DejaVu Sans Mono',consolas,'Courier New',monospace\">┏━━━━━━━━━━━━━━━━━━━━━━━━━━━━━━━━━┳━━━━━━━━━━━━━━━━━━━━━━━━┳━━━━━━━━━━━━━━━┓\n",
              "┃<span style=\"font-weight: bold\"> Layer (type)                    </span>┃<span style=\"font-weight: bold\"> Output Shape           </span>┃<span style=\"font-weight: bold\">       Param # </span>┃\n",
              "┡━━━━━━━━━━━━━━━━━━━━━━━━━━━━━━━━━╇━━━━━━━━━━━━━━━━━━━━━━━━╇━━━━━━━━━━━━━━━┩\n",
              "│ conv1d_2 (<span style=\"color: #0087ff; text-decoration-color: #0087ff\">Conv1D</span>)               │ (<span style=\"color: #00d7ff; text-decoration-color: #00d7ff\">None</span>, <span style=\"color: #00af00; text-decoration-color: #00af00\">46</span>, <span style=\"color: #00af00; text-decoration-color: #00af00\">128</span>)        │         <span style=\"color: #00af00; text-decoration-color: #00af00\">2,048</span> │\n",
              "├─────────────────────────────────┼────────────────────────┼───────────────┤\n",
              "│ batch_normalization             │ (<span style=\"color: #00d7ff; text-decoration-color: #00d7ff\">None</span>, <span style=\"color: #00af00; text-decoration-color: #00af00\">46</span>, <span style=\"color: #00af00; text-decoration-color: #00af00\">128</span>)        │           <span style=\"color: #00af00; text-decoration-color: #00af00\">512</span> │\n",
              "│ (<span style=\"color: #0087ff; text-decoration-color: #0087ff\">BatchNormalization</span>)            │                        │               │\n",
              "├─────────────────────────────────┼────────────────────────┼───────────────┤\n",
              "│ max_pooling1d_2 (<span style=\"color: #0087ff; text-decoration-color: #0087ff\">MaxPooling1D</span>)  │ (<span style=\"color: #00d7ff; text-decoration-color: #00d7ff\">None</span>, <span style=\"color: #00af00; text-decoration-color: #00af00\">23</span>, <span style=\"color: #00af00; text-decoration-color: #00af00\">128</span>)        │             <span style=\"color: #00af00; text-decoration-color: #00af00\">0</span> │\n",
              "├─────────────────────────────────┼────────────────────────┼───────────────┤\n",
              "│ dropout_1 (<span style=\"color: #0087ff; text-decoration-color: #0087ff\">Dropout</span>)             │ (<span style=\"color: #00d7ff; text-decoration-color: #00d7ff\">None</span>, <span style=\"color: #00af00; text-decoration-color: #00af00\">23</span>, <span style=\"color: #00af00; text-decoration-color: #00af00\">128</span>)        │             <span style=\"color: #00af00; text-decoration-color: #00af00\">0</span> │\n",
              "├─────────────────────────────────┼────────────────────────┼───────────────┤\n",
              "│ conv1d_3 (<span style=\"color: #0087ff; text-decoration-color: #0087ff\">Conv1D</span>)               │ (<span style=\"color: #00d7ff; text-decoration-color: #00d7ff\">None</span>, <span style=\"color: #00af00; text-decoration-color: #00af00\">19</span>, <span style=\"color: #00af00; text-decoration-color: #00af00\">256</span>)        │       <span style=\"color: #00af00; text-decoration-color: #00af00\">164,096</span> │\n",
              "├─────────────────────────────────┼────────────────────────┼───────────────┤\n",
              "│ batch_normalization_1           │ (<span style=\"color: #00d7ff; text-decoration-color: #00d7ff\">None</span>, <span style=\"color: #00af00; text-decoration-color: #00af00\">19</span>, <span style=\"color: #00af00; text-decoration-color: #00af00\">256</span>)        │         <span style=\"color: #00af00; text-decoration-color: #00af00\">1,024</span> │\n",
              "│ (<span style=\"color: #0087ff; text-decoration-color: #0087ff\">BatchNormalization</span>)            │                        │               │\n",
              "├─────────────────────────────────┼────────────────────────┼───────────────┤\n",
              "│ max_pooling1d_3 (<span style=\"color: #0087ff; text-decoration-color: #0087ff\">MaxPooling1D</span>)  │ (<span style=\"color: #00d7ff; text-decoration-color: #00d7ff\">None</span>, <span style=\"color: #00af00; text-decoration-color: #00af00\">9</span>, <span style=\"color: #00af00; text-decoration-color: #00af00\">256</span>)         │             <span style=\"color: #00af00; text-decoration-color: #00af00\">0</span> │\n",
              "├─────────────────────────────────┼────────────────────────┼───────────────┤\n",
              "│ dropout_2 (<span style=\"color: #0087ff; text-decoration-color: #0087ff\">Dropout</span>)             │ (<span style=\"color: #00d7ff; text-decoration-color: #00d7ff\">None</span>, <span style=\"color: #00af00; text-decoration-color: #00af00\">9</span>, <span style=\"color: #00af00; text-decoration-color: #00af00\">256</span>)         │             <span style=\"color: #00af00; text-decoration-color: #00af00\">0</span> │\n",
              "├─────────────────────────────────┼────────────────────────┼───────────────┤\n",
              "│ lstm (<span style=\"color: #0087ff; text-decoration-color: #0087ff\">LSTM</span>)                     │ (<span style=\"color: #00d7ff; text-decoration-color: #00d7ff\">None</span>, <span style=\"color: #00af00; text-decoration-color: #00af00\">128</span>)            │       <span style=\"color: #00af00; text-decoration-color: #00af00\">197,120</span> │\n",
              "├─────────────────────────────────┼────────────────────────┼───────────────┤\n",
              "│ flatten_1 (<span style=\"color: #0087ff; text-decoration-color: #0087ff\">Flatten</span>)             │ (<span style=\"color: #00d7ff; text-decoration-color: #00d7ff\">None</span>, <span style=\"color: #00af00; text-decoration-color: #00af00\">128</span>)            │             <span style=\"color: #00af00; text-decoration-color: #00af00\">0</span> │\n",
              "├─────────────────────────────────┼────────────────────────┼───────────────┤\n",
              "│ dense_2 (<span style=\"color: #0087ff; text-decoration-color: #0087ff\">Dense</span>)                 │ (<span style=\"color: #00d7ff; text-decoration-color: #00d7ff\">None</span>, <span style=\"color: #00af00; text-decoration-color: #00af00\">128</span>)            │        <span style=\"color: #00af00; text-decoration-color: #00af00\">16,512</span> │\n",
              "├─────────────────────────────────┼────────────────────────┼───────────────┤\n",
              "│ dropout_3 (<span style=\"color: #0087ff; text-decoration-color: #0087ff\">Dropout</span>)             │ (<span style=\"color: #00d7ff; text-decoration-color: #00d7ff\">None</span>, <span style=\"color: #00af00; text-decoration-color: #00af00\">128</span>)            │             <span style=\"color: #00af00; text-decoration-color: #00af00\">0</span> │\n",
              "├─────────────────────────────────┼────────────────────────┼───────────────┤\n",
              "│ dense_3 (<span style=\"color: #0087ff; text-decoration-color: #0087ff\">Dense</span>)                 │ (<span style=\"color: #00d7ff; text-decoration-color: #00d7ff\">None</span>, <span style=\"color: #00af00; text-decoration-color: #00af00\">4</span>)              │           <span style=\"color: #00af00; text-decoration-color: #00af00\">516</span> │\n",
              "└─────────────────────────────────┴────────────────────────┴───────────────┘\n",
              "</pre>\n"
            ],
            "text/plain": [
              "┏━━━━━━━━━━━━━━━━━━━━━━━━━━━━━━━━━┳━━━━━━━━━━━━━━━━━━━━━━━━┳━━━━━━━━━━━━━━━┓\n",
              "┃\u001b[1m \u001b[0m\u001b[1mLayer (type)                   \u001b[0m\u001b[1m \u001b[0m┃\u001b[1m \u001b[0m\u001b[1mOutput Shape          \u001b[0m\u001b[1m \u001b[0m┃\u001b[1m \u001b[0m\u001b[1m      Param #\u001b[0m\u001b[1m \u001b[0m┃\n",
              "┡━━━━━━━━━━━━━━━━━━━━━━━━━━━━━━━━━╇━━━━━━━━━━━━━━━━━━━━━━━━╇━━━━━━━━━━━━━━━┩\n",
              "│ conv1d_2 (\u001b[38;5;33mConv1D\u001b[0m)               │ (\u001b[38;5;45mNone\u001b[0m, \u001b[38;5;34m46\u001b[0m, \u001b[38;5;34m128\u001b[0m)        │         \u001b[38;5;34m2,048\u001b[0m │\n",
              "├─────────────────────────────────┼────────────────────────┼───────────────┤\n",
              "│ batch_normalization             │ (\u001b[38;5;45mNone\u001b[0m, \u001b[38;5;34m46\u001b[0m, \u001b[38;5;34m128\u001b[0m)        │           \u001b[38;5;34m512\u001b[0m │\n",
              "│ (\u001b[38;5;33mBatchNormalization\u001b[0m)            │                        │               │\n",
              "├─────────────────────────────────┼────────────────────────┼───────────────┤\n",
              "│ max_pooling1d_2 (\u001b[38;5;33mMaxPooling1D\u001b[0m)  │ (\u001b[38;5;45mNone\u001b[0m, \u001b[38;5;34m23\u001b[0m, \u001b[38;5;34m128\u001b[0m)        │             \u001b[38;5;34m0\u001b[0m │\n",
              "├─────────────────────────────────┼────────────────────────┼───────────────┤\n",
              "│ dropout_1 (\u001b[38;5;33mDropout\u001b[0m)             │ (\u001b[38;5;45mNone\u001b[0m, \u001b[38;5;34m23\u001b[0m, \u001b[38;5;34m128\u001b[0m)        │             \u001b[38;5;34m0\u001b[0m │\n",
              "├─────────────────────────────────┼────────────────────────┼───────────────┤\n",
              "│ conv1d_3 (\u001b[38;5;33mConv1D\u001b[0m)               │ (\u001b[38;5;45mNone\u001b[0m, \u001b[38;5;34m19\u001b[0m, \u001b[38;5;34m256\u001b[0m)        │       \u001b[38;5;34m164,096\u001b[0m │\n",
              "├─────────────────────────────────┼────────────────────────┼───────────────┤\n",
              "│ batch_normalization_1           │ (\u001b[38;5;45mNone\u001b[0m, \u001b[38;5;34m19\u001b[0m, \u001b[38;5;34m256\u001b[0m)        │         \u001b[38;5;34m1,024\u001b[0m │\n",
              "│ (\u001b[38;5;33mBatchNormalization\u001b[0m)            │                        │               │\n",
              "├─────────────────────────────────┼────────────────────────┼───────────────┤\n",
              "│ max_pooling1d_3 (\u001b[38;5;33mMaxPooling1D\u001b[0m)  │ (\u001b[38;5;45mNone\u001b[0m, \u001b[38;5;34m9\u001b[0m, \u001b[38;5;34m256\u001b[0m)         │             \u001b[38;5;34m0\u001b[0m │\n",
              "├─────────────────────────────────┼────────────────────────┼───────────────┤\n",
              "│ dropout_2 (\u001b[38;5;33mDropout\u001b[0m)             │ (\u001b[38;5;45mNone\u001b[0m, \u001b[38;5;34m9\u001b[0m, \u001b[38;5;34m256\u001b[0m)         │             \u001b[38;5;34m0\u001b[0m │\n",
              "├─────────────────────────────────┼────────────────────────┼───────────────┤\n",
              "│ lstm (\u001b[38;5;33mLSTM\u001b[0m)                     │ (\u001b[38;5;45mNone\u001b[0m, \u001b[38;5;34m128\u001b[0m)            │       \u001b[38;5;34m197,120\u001b[0m │\n",
              "├─────────────────────────────────┼────────────────────────┼───────────────┤\n",
              "│ flatten_1 (\u001b[38;5;33mFlatten\u001b[0m)             │ (\u001b[38;5;45mNone\u001b[0m, \u001b[38;5;34m128\u001b[0m)            │             \u001b[38;5;34m0\u001b[0m │\n",
              "├─────────────────────────────────┼────────────────────────┼───────────────┤\n",
              "│ dense_2 (\u001b[38;5;33mDense\u001b[0m)                 │ (\u001b[38;5;45mNone\u001b[0m, \u001b[38;5;34m128\u001b[0m)            │        \u001b[38;5;34m16,512\u001b[0m │\n",
              "├─────────────────────────────────┼────────────────────────┼───────────────┤\n",
              "│ dropout_3 (\u001b[38;5;33mDropout\u001b[0m)             │ (\u001b[38;5;45mNone\u001b[0m, \u001b[38;5;34m128\u001b[0m)            │             \u001b[38;5;34m0\u001b[0m │\n",
              "├─────────────────────────────────┼────────────────────────┼───────────────┤\n",
              "│ dense_3 (\u001b[38;5;33mDense\u001b[0m)                 │ (\u001b[38;5;45mNone\u001b[0m, \u001b[38;5;34m4\u001b[0m)              │           \u001b[38;5;34m516\u001b[0m │\n",
              "└─────────────────────────────────┴────────────────────────┴───────────────┘\n"
            ]
          },
          "metadata": {},
          "output_type": "display_data"
        },
        {
          "data": {
            "text/html": [
              "<pre style=\"white-space:pre;overflow-x:auto;line-height:normal;font-family:Menlo,'DejaVu Sans Mono',consolas,'Courier New',monospace\"><span style=\"font-weight: bold\"> Total params: </span><span style=\"color: #00af00; text-decoration-color: #00af00\">381,828</span> (1.46 MB)\n",
              "</pre>\n"
            ],
            "text/plain": [
              "\u001b[1m Total params: \u001b[0m\u001b[38;5;34m381,828\u001b[0m (1.46 MB)\n"
            ]
          },
          "metadata": {},
          "output_type": "display_data"
        },
        {
          "data": {
            "text/html": [
              "<pre style=\"white-space:pre;overflow-x:auto;line-height:normal;font-family:Menlo,'DejaVu Sans Mono',consolas,'Courier New',monospace\"><span style=\"font-weight: bold\"> Trainable params: </span><span style=\"color: #00af00; text-decoration-color: #00af00\">381,060</span> (1.45 MB)\n",
              "</pre>\n"
            ],
            "text/plain": [
              "\u001b[1m Trainable params: \u001b[0m\u001b[38;5;34m381,060\u001b[0m (1.45 MB)\n"
            ]
          },
          "metadata": {},
          "output_type": "display_data"
        },
        {
          "data": {
            "text/html": [
              "<pre style=\"white-space:pre;overflow-x:auto;line-height:normal;font-family:Menlo,'DejaVu Sans Mono',consolas,'Courier New',monospace\"><span style=\"font-weight: bold\"> Non-trainable params: </span><span style=\"color: #00af00; text-decoration-color: #00af00\">768</span> (3.00 KB)\n",
              "</pre>\n"
            ],
            "text/plain": [
              "\u001b[1m Non-trainable params: \u001b[0m\u001b[38;5;34m768\u001b[0m (3.00 KB)\n"
            ]
          },
          "metadata": {},
          "output_type": "display_data"
        },
        {
          "name": "stdout",
          "output_type": "stream",
          "text": [
            "Epoch 1/20\n"
          ]
        },
        {
          "ename": "KeyboardInterrupt",
          "evalue": "",
          "output_type": "error",
          "traceback": [
            "\u001b[1;31m---------------------------------------------------------------------------\u001b[0m",
            "\u001b[1;31mInvalidArgumentError\u001b[0m                      Traceback (most recent call last)",
            "File \u001b[1;32m~\\AppData\\Local\\Packages\\PythonSoftwareFoundation.Python.3.10_qbz5n2kfra8p0\\LocalCache\\local-packages\\Python310\\site-packages\\tensorflow\\python\\framework\\ops.py:1563\u001b[0m, in \u001b[0;36mOperation.get_attr\u001b[1;34m(self, name)\u001b[0m\n\u001b[0;32m   1562\u001b[0m \u001b[38;5;28;01mwith\u001b[39;00m c_api_util\u001b[38;5;241m.\u001b[39mtf_buffer() \u001b[38;5;28;01mas\u001b[39;00m buf:   \u001b[38;5;66;03m# pytype: disable=wrong-arg-count\u001b[39;00m\n\u001b[1;32m-> 1563\u001b[0m   \u001b[43mpywrap_tf_session\u001b[49m\u001b[38;5;241;43m.\u001b[39;49m\u001b[43mTF_OperationGetAttrValueProto\u001b[49m\u001b[43m(\u001b[49m\u001b[38;5;28;43mself\u001b[39;49m\u001b[38;5;241;43m.\u001b[39;49m\u001b[43m_c_op\u001b[49m\u001b[43m,\u001b[49m\u001b[43m \u001b[49m\u001b[43mname\u001b[49m\u001b[43m,\u001b[49m\u001b[43m \u001b[49m\u001b[43mbuf\u001b[49m\u001b[43m)\u001b[49m\n\u001b[0;32m   1564\u001b[0m   data \u001b[38;5;241m=\u001b[39m pywrap_tf_session\u001b[38;5;241m.\u001b[39mTF_GetBuffer(buf)\n",
            "\u001b[1;31mInvalidArgumentError\u001b[0m: Operation 'gradient_tape/sequential_1_1/batch_normalization_1_2/batchnorm/add_1/Sum' has no attr named '_read_only_resource_inputs'.",
            "\nDuring handling of the above exception, another exception occurred:\n",
            "\u001b[1;31mValueError\u001b[0m                                Traceback (most recent call last)",
            "File \u001b[1;32m~\\AppData\\Local\\Packages\\PythonSoftwareFoundation.Python.3.10_qbz5n2kfra8p0\\LocalCache\\local-packages\\Python310\\site-packages\\tensorflow\\python\\framework\\auto_control_deps_utils.py:105\u001b[0m, in \u001b[0;36mget_read_write_resource_inputs\u001b[1;34m(op)\u001b[0m\n\u001b[0;32m    104\u001b[0m \u001b[38;5;28;01mtry\u001b[39;00m:\n\u001b[1;32m--> 105\u001b[0m   read_only_input_indices \u001b[38;5;241m=\u001b[39m \u001b[43mop\u001b[49m\u001b[38;5;241;43m.\u001b[39;49m\u001b[43mget_attr\u001b[49m\u001b[43m(\u001b[49m\u001b[43mREAD_ONLY_RESOURCE_INPUTS_ATTR\u001b[49m\u001b[43m)\u001b[49m\n\u001b[0;32m    106\u001b[0m \u001b[38;5;28;01mexcept\u001b[39;00m \u001b[38;5;167;01mValueError\u001b[39;00m:\n\u001b[0;32m    107\u001b[0m   \u001b[38;5;66;03m# Attr was not set. Add all resource inputs to `writes` and return.\u001b[39;00m\n",
            "File \u001b[1;32m~\\AppData\\Local\\Packages\\PythonSoftwareFoundation.Python.3.10_qbz5n2kfra8p0\\LocalCache\\local-packages\\Python310\\site-packages\\tensorflow\\python\\framework\\ops.py:1567\u001b[0m, in \u001b[0;36mOperation.get_attr\u001b[1;34m(self, name)\u001b[0m\n\u001b[0;32m   1565\u001b[0m \u001b[38;5;28;01mexcept\u001b[39;00m errors\u001b[38;5;241m.\u001b[39mInvalidArgumentError \u001b[38;5;28;01mas\u001b[39;00m e:\n\u001b[0;32m   1566\u001b[0m   \u001b[38;5;66;03m# Convert to ValueError for backwards compatibility.\u001b[39;00m\n\u001b[1;32m-> 1567\u001b[0m   \u001b[38;5;28;01mraise\u001b[39;00m \u001b[38;5;167;01mValueError\u001b[39;00m(e\u001b[38;5;241m.\u001b[39mmessage)\n\u001b[0;32m   1568\u001b[0m x \u001b[38;5;241m=\u001b[39m attr_value_pb2\u001b[38;5;241m.\u001b[39mAttrValue()\n",
            "\u001b[1;31mValueError\u001b[0m: Operation 'gradient_tape/sequential_1_1/batch_normalization_1_2/batchnorm/add_1/Sum' has no attr named '_read_only_resource_inputs'.",
            "\nDuring handling of the above exception, another exception occurred:\n",
            "\u001b[1;31mKeyboardInterrupt\u001b[0m                         Traceback (most recent call last)",
            "Cell \u001b[1;32mIn [23], line 51\u001b[0m\n\u001b[0;32m     48\u001b[0m     \u001b[38;5;28;01mreturn\u001b[39;00m model\n\u001b[0;32m     50\u001b[0m best_model \u001b[38;5;241m=\u001b[39m build_best_tuning_model()\n\u001b[1;32m---> 51\u001b[0m history \u001b[38;5;241m=\u001b[39m \u001b[43mbest_model\u001b[49m\u001b[38;5;241;43m.\u001b[39;49m\u001b[43mfit\u001b[49m\u001b[43m(\u001b[49m\u001b[43mX_train\u001b[49m\u001b[43m,\u001b[49m\u001b[43m \u001b[49m\u001b[43my_train_one_hot\u001b[49m\u001b[43m,\u001b[49m\n\u001b[0;32m     52\u001b[0m \u001b[43m                    \u001b[49m\u001b[43mepochs\u001b[49m\u001b[38;5;241;43m=\u001b[39;49m\u001b[38;5;241;43m20\u001b[39;49m\u001b[43m,\u001b[49m\u001b[43m         \u001b[49m\u001b[38;5;66;43;03m# Train the model for 20 epochs\u001b[39;49;00m\n\u001b[0;32m     53\u001b[0m \u001b[43m                    \u001b[49m\u001b[43mbatch_size\u001b[49m\u001b[38;5;241;43m=\u001b[39;49m\u001b[38;5;241;43m32\u001b[39;49m\u001b[43m,\u001b[49m\u001b[43m     \u001b[49m\u001b[38;5;66;43;03m# Use a batch size of 32\u001b[39;49;00m\n\u001b[0;32m     54\u001b[0m \u001b[43m                    \u001b[49m\u001b[43mvalidation_data\u001b[49m\u001b[38;5;241;43m=\u001b[39;49m\u001b[43m(\u001b[49m\u001b[43mX_test\u001b[49m\u001b[43m,\u001b[49m\u001b[43m \u001b[49m\u001b[43my_test_one_hot\u001b[49m\u001b[43m)\u001b[49m\u001b[43m   \u001b[49m\u001b[38;5;66;43;03m# Validate on the test set after each epoch\u001b[39;49;00m\n\u001b[0;32m     55\u001b[0m \u001b[43m                \u001b[49m\u001b[43m)\u001b[49m\n",
            "File \u001b[1;32m~\\AppData\\Local\\Packages\\PythonSoftwareFoundation.Python.3.10_qbz5n2kfra8p0\\LocalCache\\local-packages\\Python310\\site-packages\\keras\\src\\utils\\traceback_utils.py:117\u001b[0m, in \u001b[0;36mfilter_traceback.<locals>.error_handler\u001b[1;34m(*args, **kwargs)\u001b[0m\n\u001b[0;32m    115\u001b[0m filtered_tb \u001b[38;5;241m=\u001b[39m \u001b[38;5;28;01mNone\u001b[39;00m\n\u001b[0;32m    116\u001b[0m \u001b[38;5;28;01mtry\u001b[39;00m:\n\u001b[1;32m--> 117\u001b[0m     \u001b[38;5;28;01mreturn\u001b[39;00m fn(\u001b[38;5;241m*\u001b[39margs, \u001b[38;5;241m*\u001b[39m\u001b[38;5;241m*\u001b[39mkwargs)\n\u001b[0;32m    118\u001b[0m \u001b[38;5;28;01mexcept\u001b[39;00m \u001b[38;5;167;01mException\u001b[39;00m \u001b[38;5;28;01mas\u001b[39;00m e:\n\u001b[0;32m    119\u001b[0m     filtered_tb \u001b[38;5;241m=\u001b[39m _process_traceback_frames(e\u001b[38;5;241m.\u001b[39m__traceback__)\n",
            "File \u001b[1;32m~\\AppData\\Local\\Packages\\PythonSoftwareFoundation.Python.3.10_qbz5n2kfra8p0\\LocalCache\\local-packages\\Python310\\site-packages\\keras\\src\\backend\\tensorflow\\trainer.py:320\u001b[0m, in \u001b[0;36mTensorFlowTrainer.fit\u001b[1;34m(self, x, y, batch_size, epochs, verbose, callbacks, validation_split, validation_data, shuffle, class_weight, sample_weight, initial_epoch, steps_per_epoch, validation_steps, validation_batch_size, validation_freq)\u001b[0m\n\u001b[0;32m    318\u001b[0m \u001b[38;5;28;01mfor\u001b[39;00m step, iterator \u001b[38;5;129;01min\u001b[39;00m epoch_iterator\u001b[38;5;241m.\u001b[39menumerate_epoch():\n\u001b[0;32m    319\u001b[0m     callbacks\u001b[38;5;241m.\u001b[39mon_train_batch_begin(step)\n\u001b[1;32m--> 320\u001b[0m     logs \u001b[38;5;241m=\u001b[39m \u001b[38;5;28;43mself\u001b[39;49m\u001b[38;5;241;43m.\u001b[39;49m\u001b[43mtrain_function\u001b[49m\u001b[43m(\u001b[49m\u001b[43miterator\u001b[49m\u001b[43m)\u001b[49m\n\u001b[0;32m    321\u001b[0m     callbacks\u001b[38;5;241m.\u001b[39mon_train_batch_end(step, logs)\n\u001b[0;32m    322\u001b[0m     \u001b[38;5;28;01mif\u001b[39;00m \u001b[38;5;28mself\u001b[39m\u001b[38;5;241m.\u001b[39mstop_training:\n",
            "File \u001b[1;32m~\\AppData\\Local\\Packages\\PythonSoftwareFoundation.Python.3.10_qbz5n2kfra8p0\\LocalCache\\local-packages\\Python310\\site-packages\\tensorflow\\python\\util\\traceback_utils.py:150\u001b[0m, in \u001b[0;36mfilter_traceback.<locals>.error_handler\u001b[1;34m(*args, **kwargs)\u001b[0m\n\u001b[0;32m    148\u001b[0m filtered_tb \u001b[38;5;241m=\u001b[39m \u001b[38;5;28;01mNone\u001b[39;00m\n\u001b[0;32m    149\u001b[0m \u001b[38;5;28;01mtry\u001b[39;00m:\n\u001b[1;32m--> 150\u001b[0m   \u001b[38;5;28;01mreturn\u001b[39;00m fn(\u001b[38;5;241m*\u001b[39margs, \u001b[38;5;241m*\u001b[39m\u001b[38;5;241m*\u001b[39mkwargs)\n\u001b[0;32m    151\u001b[0m \u001b[38;5;28;01mexcept\u001b[39;00m \u001b[38;5;167;01mException\u001b[39;00m \u001b[38;5;28;01mas\u001b[39;00m e:\n\u001b[0;32m    152\u001b[0m   filtered_tb \u001b[38;5;241m=\u001b[39m _process_traceback_frames(e\u001b[38;5;241m.\u001b[39m__traceback__)\n",
            "File \u001b[1;32m~\\AppData\\Local\\Packages\\PythonSoftwareFoundation.Python.3.10_qbz5n2kfra8p0\\LocalCache\\local-packages\\Python310\\site-packages\\tensorflow\\python\\eager\\polymorphic_function\\polymorphic_function.py:833\u001b[0m, in \u001b[0;36mFunction.__call__\u001b[1;34m(self, *args, **kwds)\u001b[0m\n\u001b[0;32m    830\u001b[0m compiler \u001b[38;5;241m=\u001b[39m \u001b[38;5;124m\"\u001b[39m\u001b[38;5;124mxla\u001b[39m\u001b[38;5;124m\"\u001b[39m \u001b[38;5;28;01mif\u001b[39;00m \u001b[38;5;28mself\u001b[39m\u001b[38;5;241m.\u001b[39m_jit_compile \u001b[38;5;28;01melse\u001b[39;00m \u001b[38;5;124m\"\u001b[39m\u001b[38;5;124mnonXla\u001b[39m\u001b[38;5;124m\"\u001b[39m\n\u001b[0;32m    832\u001b[0m \u001b[38;5;28;01mwith\u001b[39;00m OptionalXlaContext(\u001b[38;5;28mself\u001b[39m\u001b[38;5;241m.\u001b[39m_jit_compile):\n\u001b[1;32m--> 833\u001b[0m   result \u001b[38;5;241m=\u001b[39m \u001b[38;5;28mself\u001b[39m\u001b[38;5;241m.\u001b[39m_call(\u001b[38;5;241m*\u001b[39margs, \u001b[38;5;241m*\u001b[39m\u001b[38;5;241m*\u001b[39mkwds)\n\u001b[0;32m    835\u001b[0m new_tracing_count \u001b[38;5;241m=\u001b[39m \u001b[38;5;28mself\u001b[39m\u001b[38;5;241m.\u001b[39mexperimental_get_tracing_count()\n\u001b[0;32m    836\u001b[0m without_tracing \u001b[38;5;241m=\u001b[39m (tracing_count \u001b[38;5;241m==\u001b[39m new_tracing_count)\n",
            "File \u001b[1;32m~\\AppData\\Local\\Packages\\PythonSoftwareFoundation.Python.3.10_qbz5n2kfra8p0\\LocalCache\\local-packages\\Python310\\site-packages\\tensorflow\\python\\eager\\polymorphic_function\\polymorphic_function.py:889\u001b[0m, in \u001b[0;36mFunction._call\u001b[1;34m(self, *args, **kwds)\u001b[0m\n\u001b[0;32m    886\u001b[0m \u001b[38;5;28;01mtry\u001b[39;00m:\n\u001b[0;32m    887\u001b[0m   \u001b[38;5;66;03m# This is the first call of __call__, so we have to initialize.\u001b[39;00m\n\u001b[0;32m    888\u001b[0m   initializers \u001b[38;5;241m=\u001b[39m []\n\u001b[1;32m--> 889\u001b[0m   \u001b[38;5;28;43mself\u001b[39;49m\u001b[38;5;241;43m.\u001b[39;49m\u001b[43m_initialize\u001b[49m\u001b[43m(\u001b[49m\u001b[43margs\u001b[49m\u001b[43m,\u001b[49m\u001b[43m \u001b[49m\u001b[43mkwds\u001b[49m\u001b[43m,\u001b[49m\u001b[43m \u001b[49m\u001b[43madd_initializers_to\u001b[49m\u001b[38;5;241;43m=\u001b[39;49m\u001b[43minitializers\u001b[49m\u001b[43m)\u001b[49m\n\u001b[0;32m    890\u001b[0m \u001b[38;5;28;01mfinally\u001b[39;00m:\n\u001b[0;32m    891\u001b[0m   \u001b[38;5;66;03m# At this point we know that the initialization is complete (or less\u001b[39;00m\n\u001b[0;32m    892\u001b[0m   \u001b[38;5;66;03m# interestingly an exception was raised) so we no longer need a lock.\u001b[39;00m\n\u001b[0;32m    893\u001b[0m   \u001b[38;5;28mself\u001b[39m\u001b[38;5;241m.\u001b[39m_lock\u001b[38;5;241m.\u001b[39mrelease()\n",
            "File \u001b[1;32m~\\AppData\\Local\\Packages\\PythonSoftwareFoundation.Python.3.10_qbz5n2kfra8p0\\LocalCache\\local-packages\\Python310\\site-packages\\tensorflow\\python\\eager\\polymorphic_function\\polymorphic_function.py:696\u001b[0m, in \u001b[0;36mFunction._initialize\u001b[1;34m(self, args, kwds, add_initializers_to)\u001b[0m\n\u001b[0;32m    691\u001b[0m \u001b[38;5;28mself\u001b[39m\u001b[38;5;241m.\u001b[39m_variable_creation_config \u001b[38;5;241m=\u001b[39m \u001b[38;5;28mself\u001b[39m\u001b[38;5;241m.\u001b[39m_generate_scoped_tracing_options(\n\u001b[0;32m    692\u001b[0m     variable_capturing_scope,\n\u001b[0;32m    693\u001b[0m     tracing_compilation\u001b[38;5;241m.\u001b[39mScopeType\u001b[38;5;241m.\u001b[39mVARIABLE_CREATION,\n\u001b[0;32m    694\u001b[0m )\n\u001b[0;32m    695\u001b[0m \u001b[38;5;66;03m# Force the definition of the function for these arguments\u001b[39;00m\n\u001b[1;32m--> 696\u001b[0m \u001b[38;5;28mself\u001b[39m\u001b[38;5;241m.\u001b[39m_concrete_variable_creation_fn \u001b[38;5;241m=\u001b[39m \u001b[43mtracing_compilation\u001b[49m\u001b[38;5;241;43m.\u001b[39;49m\u001b[43mtrace_function\u001b[49m\u001b[43m(\u001b[49m\n\u001b[0;32m    697\u001b[0m \u001b[43m    \u001b[49m\u001b[43margs\u001b[49m\u001b[43m,\u001b[49m\u001b[43m \u001b[49m\u001b[43mkwds\u001b[49m\u001b[43m,\u001b[49m\u001b[43m \u001b[49m\u001b[38;5;28;43mself\u001b[39;49m\u001b[38;5;241;43m.\u001b[39;49m\u001b[43m_variable_creation_config\u001b[49m\n\u001b[0;32m    698\u001b[0m \u001b[43m\u001b[49m\u001b[43m)\u001b[49m\n\u001b[0;32m    700\u001b[0m \u001b[38;5;28;01mdef\u001b[39;00m \u001b[38;5;21minvalid_creator_scope\u001b[39m(\u001b[38;5;241m*\u001b[39munused_args, \u001b[38;5;241m*\u001b[39m\u001b[38;5;241m*\u001b[39munused_kwds):\n\u001b[0;32m    701\u001b[0m   \u001b[38;5;124;03m\"\"\"Disables variable creation.\"\"\"\u001b[39;00m\n",
            "File \u001b[1;32m~\\AppData\\Local\\Packages\\PythonSoftwareFoundation.Python.3.10_qbz5n2kfra8p0\\LocalCache\\local-packages\\Python310\\site-packages\\tensorflow\\python\\eager\\polymorphic_function\\tracing_compilation.py:178\u001b[0m, in \u001b[0;36mtrace_function\u001b[1;34m(args, kwargs, tracing_options)\u001b[0m\n\u001b[0;32m    175\u001b[0m     args \u001b[38;5;241m=\u001b[39m tracing_options\u001b[38;5;241m.\u001b[39minput_signature\n\u001b[0;32m    176\u001b[0m     kwargs \u001b[38;5;241m=\u001b[39m {}\n\u001b[1;32m--> 178\u001b[0m   concrete_function \u001b[38;5;241m=\u001b[39m \u001b[43m_maybe_define_function\u001b[49m\u001b[43m(\u001b[49m\n\u001b[0;32m    179\u001b[0m \u001b[43m      \u001b[49m\u001b[43margs\u001b[49m\u001b[43m,\u001b[49m\u001b[43m \u001b[49m\u001b[43mkwargs\u001b[49m\u001b[43m,\u001b[49m\u001b[43m \u001b[49m\u001b[43mtracing_options\u001b[49m\n\u001b[0;32m    180\u001b[0m \u001b[43m  \u001b[49m\u001b[43m)\u001b[49m\n\u001b[0;32m    182\u001b[0m \u001b[38;5;28;01mif\u001b[39;00m \u001b[38;5;129;01mnot\u001b[39;00m tracing_options\u001b[38;5;241m.\u001b[39mbind_graph_to_function:\n\u001b[0;32m    183\u001b[0m   concrete_function\u001b[38;5;241m.\u001b[39m_garbage_collector\u001b[38;5;241m.\u001b[39mrelease()  \u001b[38;5;66;03m# pylint: disable=protected-access\u001b[39;00m\n",
            "File \u001b[1;32m~\\AppData\\Local\\Packages\\PythonSoftwareFoundation.Python.3.10_qbz5n2kfra8p0\\LocalCache\\local-packages\\Python310\\site-packages\\tensorflow\\python\\eager\\polymorphic_function\\tracing_compilation.py:283\u001b[0m, in \u001b[0;36m_maybe_define_function\u001b[1;34m(args, kwargs, tracing_options)\u001b[0m\n\u001b[0;32m    281\u001b[0m \u001b[38;5;28;01melse\u001b[39;00m:\n\u001b[0;32m    282\u001b[0m   target_func_type \u001b[38;5;241m=\u001b[39m lookup_func_type\n\u001b[1;32m--> 283\u001b[0m concrete_function \u001b[38;5;241m=\u001b[39m \u001b[43m_create_concrete_function\u001b[49m\u001b[43m(\u001b[49m\n\u001b[0;32m    284\u001b[0m \u001b[43m    \u001b[49m\u001b[43mtarget_func_type\u001b[49m\u001b[43m,\u001b[49m\u001b[43m \u001b[49m\u001b[43mlookup_func_context\u001b[49m\u001b[43m,\u001b[49m\u001b[43m \u001b[49m\u001b[43mfunc_graph\u001b[49m\u001b[43m,\u001b[49m\u001b[43m \u001b[49m\u001b[43mtracing_options\u001b[49m\n\u001b[0;32m    285\u001b[0m \u001b[43m\u001b[49m\u001b[43m)\u001b[49m\n\u001b[0;32m    287\u001b[0m \u001b[38;5;28;01mif\u001b[39;00m tracing_options\u001b[38;5;241m.\u001b[39mfunction_cache \u001b[38;5;129;01mis\u001b[39;00m \u001b[38;5;129;01mnot\u001b[39;00m \u001b[38;5;28;01mNone\u001b[39;00m:\n\u001b[0;32m    288\u001b[0m   tracing_options\u001b[38;5;241m.\u001b[39mfunction_cache\u001b[38;5;241m.\u001b[39madd(\n\u001b[0;32m    289\u001b[0m       concrete_function, current_func_context\n\u001b[0;32m    290\u001b[0m   )\n",
            "File \u001b[1;32m~\\AppData\\Local\\Packages\\PythonSoftwareFoundation.Python.3.10_qbz5n2kfra8p0\\LocalCache\\local-packages\\Python310\\site-packages\\tensorflow\\python\\eager\\polymorphic_function\\tracing_compilation.py:310\u001b[0m, in \u001b[0;36m_create_concrete_function\u001b[1;34m(function_type, type_context, func_graph, tracing_options)\u001b[0m\n\u001b[0;32m    303\u001b[0m   placeholder_bound_args \u001b[38;5;241m=\u001b[39m function_type\u001b[38;5;241m.\u001b[39mplaceholder_arguments(\n\u001b[0;32m    304\u001b[0m       placeholder_context\n\u001b[0;32m    305\u001b[0m   )\n\u001b[0;32m    307\u001b[0m disable_acd \u001b[38;5;241m=\u001b[39m tracing_options\u001b[38;5;241m.\u001b[39mattributes \u001b[38;5;129;01mand\u001b[39;00m tracing_options\u001b[38;5;241m.\u001b[39mattributes\u001b[38;5;241m.\u001b[39mget(\n\u001b[0;32m    308\u001b[0m     attributes_lib\u001b[38;5;241m.\u001b[39mDISABLE_ACD, \u001b[38;5;28;01mFalse\u001b[39;00m\n\u001b[0;32m    309\u001b[0m )\n\u001b[1;32m--> 310\u001b[0m traced_func_graph \u001b[38;5;241m=\u001b[39m \u001b[43mfunc_graph_module\u001b[49m\u001b[38;5;241;43m.\u001b[39;49m\u001b[43mfunc_graph_from_py_func\u001b[49m\u001b[43m(\u001b[49m\n\u001b[0;32m    311\u001b[0m \u001b[43m    \u001b[49m\u001b[43mtracing_options\u001b[49m\u001b[38;5;241;43m.\u001b[39;49m\u001b[43mname\u001b[49m\u001b[43m,\u001b[49m\n\u001b[0;32m    312\u001b[0m \u001b[43m    \u001b[49m\u001b[43mtracing_options\u001b[49m\u001b[38;5;241;43m.\u001b[39;49m\u001b[43mpython_function\u001b[49m\u001b[43m,\u001b[49m\n\u001b[0;32m    313\u001b[0m \u001b[43m    \u001b[49m\u001b[43mplaceholder_bound_args\u001b[49m\u001b[38;5;241;43m.\u001b[39;49m\u001b[43margs\u001b[49m\u001b[43m,\u001b[49m\n\u001b[0;32m    314\u001b[0m \u001b[43m    \u001b[49m\u001b[43mplaceholder_bound_args\u001b[49m\u001b[38;5;241;43m.\u001b[39;49m\u001b[43mkwargs\u001b[49m\u001b[43m,\u001b[49m\n\u001b[0;32m    315\u001b[0m \u001b[43m    \u001b[49m\u001b[38;5;28;43;01mNone\u001b[39;49;00m\u001b[43m,\u001b[49m\n\u001b[0;32m    316\u001b[0m \u001b[43m    \u001b[49m\u001b[43mfunc_graph\u001b[49m\u001b[38;5;241;43m=\u001b[39;49m\u001b[43mfunc_graph\u001b[49m\u001b[43m,\u001b[49m\n\u001b[0;32m    317\u001b[0m \u001b[43m    \u001b[49m\u001b[43madd_control_dependencies\u001b[49m\u001b[38;5;241;43m=\u001b[39;49m\u001b[38;5;129;43;01mnot\u001b[39;49;00m\u001b[43m \u001b[49m\u001b[43mdisable_acd\u001b[49m\u001b[43m,\u001b[49m\n\u001b[0;32m    318\u001b[0m \u001b[43m    \u001b[49m\u001b[43marg_names\u001b[49m\u001b[38;5;241;43m=\u001b[39;49m\u001b[43mfunction_type_utils\u001b[49m\u001b[38;5;241;43m.\u001b[39;49m\u001b[43mto_arg_names\u001b[49m\u001b[43m(\u001b[49m\u001b[43mfunction_type\u001b[49m\u001b[43m)\u001b[49m\u001b[43m,\u001b[49m\n\u001b[0;32m    319\u001b[0m \u001b[43m    \u001b[49m\u001b[43mcreate_placeholders\u001b[49m\u001b[38;5;241;43m=\u001b[39;49m\u001b[38;5;28;43;01mFalse\u001b[39;49;00m\u001b[43m,\u001b[49m\n\u001b[0;32m    320\u001b[0m \u001b[43m\u001b[49m\u001b[43m)\u001b[49m\n\u001b[0;32m    322\u001b[0m transform\u001b[38;5;241m.\u001b[39mapply_func_graph_transforms(traced_func_graph)\n\u001b[0;32m    324\u001b[0m graph_capture_container \u001b[38;5;241m=\u001b[39m traced_func_graph\u001b[38;5;241m.\u001b[39mfunction_captures\n",
            "File \u001b[1;32m~\\AppData\\Local\\Packages\\PythonSoftwareFoundation.Python.3.10_qbz5n2kfra8p0\\LocalCache\\local-packages\\Python310\\site-packages\\tensorflow\\python\\framework\\func_graph.py:1059\u001b[0m, in \u001b[0;36mfunc_graph_from_py_func\u001b[1;34m(name, python_func, args, kwargs, signature, func_graph, add_control_dependencies, arg_names, op_return_value, collections, capture_by_value, create_placeholders)\u001b[0m\n\u001b[0;32m   1056\u001b[0m   \u001b[38;5;28;01mreturn\u001b[39;00m x\n\u001b[0;32m   1058\u001b[0m _, original_func \u001b[38;5;241m=\u001b[39m tf_decorator\u001b[38;5;241m.\u001b[39munwrap(python_func)\n\u001b[1;32m-> 1059\u001b[0m func_outputs \u001b[38;5;241m=\u001b[39m python_func(\u001b[38;5;241m*\u001b[39mfunc_args, \u001b[38;5;241m*\u001b[39m\u001b[38;5;241m*\u001b[39mfunc_kwargs)\n\u001b[0;32m   1061\u001b[0m \u001b[38;5;66;03m# invariant: `func_outputs` contains only Tensors, CompositeTensors,\u001b[39;00m\n\u001b[0;32m   1062\u001b[0m \u001b[38;5;66;03m# TensorArrays and `None`s.\u001b[39;00m\n\u001b[0;32m   1063\u001b[0m func_outputs \u001b[38;5;241m=\u001b[39m variable_utils\u001b[38;5;241m.\u001b[39mconvert_variables_to_tensors(func_outputs)\n",
            "File \u001b[1;32m~\\AppData\\Local\\Packages\\PythonSoftwareFoundation.Python.3.10_qbz5n2kfra8p0\\LocalCache\\local-packages\\Python310\\site-packages\\tensorflow\\python\\eager\\polymorphic_function\\polymorphic_function.py:599\u001b[0m, in \u001b[0;36mFunction._generate_scoped_tracing_options.<locals>.wrapped_fn\u001b[1;34m(*args, **kwds)\u001b[0m\n\u001b[0;32m    595\u001b[0m \u001b[38;5;28;01mwith\u001b[39;00m default_graph\u001b[38;5;241m.\u001b[39m_variable_creator_scope(scope, priority\u001b[38;5;241m=\u001b[39m\u001b[38;5;241m50\u001b[39m):  \u001b[38;5;66;03m# pylint: disable=protected-access\u001b[39;00m\n\u001b[0;32m    596\u001b[0m   \u001b[38;5;66;03m# __wrapped__ allows AutoGraph to swap in a converted function. We give\u001b[39;00m\n\u001b[0;32m    597\u001b[0m   \u001b[38;5;66;03m# the function a weak reference to itself to avoid a reference cycle.\u001b[39;00m\n\u001b[0;32m    598\u001b[0m   \u001b[38;5;28;01mwith\u001b[39;00m OptionalXlaContext(compile_with_xla):\n\u001b[1;32m--> 599\u001b[0m     out \u001b[38;5;241m=\u001b[39m weak_wrapped_fn()\u001b[38;5;241m.\u001b[39m__wrapped__(\u001b[38;5;241m*\u001b[39margs, \u001b[38;5;241m*\u001b[39m\u001b[38;5;241m*\u001b[39mkwds)\n\u001b[0;32m    600\u001b[0m   \u001b[38;5;28;01mreturn\u001b[39;00m out\n",
            "File \u001b[1;32m~\\AppData\\Local\\Packages\\PythonSoftwareFoundation.Python.3.10_qbz5n2kfra8p0\\LocalCache\\local-packages\\Python310\\site-packages\\tensorflow\\python\\eager\\polymorphic_function\\autograph_util.py:41\u001b[0m, in \u001b[0;36mpy_func_from_autograph.<locals>.autograph_handler\u001b[1;34m(*args, **kwargs)\u001b[0m\n\u001b[0;32m     39\u001b[0m \u001b[38;5;124;03m\"\"\"Calls a converted version of original_func.\"\"\"\u001b[39;00m\n\u001b[0;32m     40\u001b[0m \u001b[38;5;28;01mtry\u001b[39;00m:\n\u001b[1;32m---> 41\u001b[0m   \u001b[38;5;28;01mreturn\u001b[39;00m \u001b[43mapi\u001b[49m\u001b[38;5;241;43m.\u001b[39;49m\u001b[43mconverted_call\u001b[49m\u001b[43m(\u001b[49m\n\u001b[0;32m     42\u001b[0m \u001b[43m      \u001b[49m\u001b[43moriginal_func\u001b[49m\u001b[43m,\u001b[49m\n\u001b[0;32m     43\u001b[0m \u001b[43m      \u001b[49m\u001b[43margs\u001b[49m\u001b[43m,\u001b[49m\n\u001b[0;32m     44\u001b[0m \u001b[43m      \u001b[49m\u001b[43mkwargs\u001b[49m\u001b[43m,\u001b[49m\n\u001b[0;32m     45\u001b[0m \u001b[43m      \u001b[49m\u001b[43moptions\u001b[49m\u001b[38;5;241;43m=\u001b[39;49m\u001b[43mconverter\u001b[49m\u001b[38;5;241;43m.\u001b[39;49m\u001b[43mConversionOptions\u001b[49m\u001b[43m(\u001b[49m\n\u001b[0;32m     46\u001b[0m \u001b[43m          \u001b[49m\u001b[43mrecursive\u001b[49m\u001b[38;5;241;43m=\u001b[39;49m\u001b[38;5;28;43;01mTrue\u001b[39;49;00m\u001b[43m,\u001b[49m\n\u001b[0;32m     47\u001b[0m \u001b[43m          \u001b[49m\u001b[43moptional_features\u001b[49m\u001b[38;5;241;43m=\u001b[39;49m\u001b[43mautograph_options\u001b[49m\u001b[43m,\u001b[49m\n\u001b[0;32m     48\u001b[0m \u001b[43m          \u001b[49m\u001b[43muser_requested\u001b[49m\u001b[38;5;241;43m=\u001b[39;49m\u001b[38;5;28;43;01mTrue\u001b[39;49;00m\u001b[43m,\u001b[49m\n\u001b[0;32m     49\u001b[0m \u001b[43m      \u001b[49m\u001b[43m)\u001b[49m\u001b[43m)\u001b[49m\n\u001b[0;32m     50\u001b[0m \u001b[38;5;28;01mexcept\u001b[39;00m \u001b[38;5;167;01mException\u001b[39;00m \u001b[38;5;28;01mas\u001b[39;00m e:  \u001b[38;5;66;03m# pylint:disable=broad-except\u001b[39;00m\n\u001b[0;32m     51\u001b[0m   \u001b[38;5;28;01mif\u001b[39;00m \u001b[38;5;28mhasattr\u001b[39m(e, \u001b[38;5;124m\"\u001b[39m\u001b[38;5;124mag_error_metadata\u001b[39m\u001b[38;5;124m\"\u001b[39m):\n",
            "File \u001b[1;32m~\\AppData\\Local\\Packages\\PythonSoftwareFoundation.Python.3.10_qbz5n2kfra8p0\\LocalCache\\local-packages\\Python310\\site-packages\\tensorflow\\python\\autograph\\impl\\api.py:339\u001b[0m, in \u001b[0;36mconverted_call\u001b[1;34m(f, args, kwargs, caller_fn_scope, options)\u001b[0m\n\u001b[0;32m    337\u001b[0m \u001b[38;5;28;01mif\u001b[39;00m is_autograph_artifact(f):\n\u001b[0;32m    338\u001b[0m   logging\u001b[38;5;241m.\u001b[39mlog(\u001b[38;5;241m2\u001b[39m, \u001b[38;5;124m'\u001b[39m\u001b[38;5;124mPermanently allowed: \u001b[39m\u001b[38;5;132;01m%s\u001b[39;00m\u001b[38;5;124m: AutoGraph artifact\u001b[39m\u001b[38;5;124m'\u001b[39m, f)\n\u001b[1;32m--> 339\u001b[0m   \u001b[38;5;28;01mreturn\u001b[39;00m \u001b[43m_call_unconverted\u001b[49m\u001b[43m(\u001b[49m\u001b[43mf\u001b[49m\u001b[43m,\u001b[49m\u001b[43m \u001b[49m\u001b[43margs\u001b[49m\u001b[43m,\u001b[49m\u001b[43m \u001b[49m\u001b[43mkwargs\u001b[49m\u001b[43m,\u001b[49m\u001b[43m \u001b[49m\u001b[43moptions\u001b[49m\u001b[43m)\u001b[49m\n\u001b[0;32m    341\u001b[0m \u001b[38;5;66;03m# If this is a partial, unwrap it and redo all the checks.\u001b[39;00m\n\u001b[0;32m    342\u001b[0m \u001b[38;5;28;01mif\u001b[39;00m \u001b[38;5;28misinstance\u001b[39m(f, functools\u001b[38;5;241m.\u001b[39mpartial):\n",
            "File \u001b[1;32m~\\AppData\\Local\\Packages\\PythonSoftwareFoundation.Python.3.10_qbz5n2kfra8p0\\LocalCache\\local-packages\\Python310\\site-packages\\tensorflow\\python\\autograph\\impl\\api.py:459\u001b[0m, in \u001b[0;36m_call_unconverted\u001b[1;34m(f, args, kwargs, options, update_cache)\u001b[0m\n\u001b[0;32m    456\u001b[0m   \u001b[38;5;28;01mreturn\u001b[39;00m f\u001b[38;5;241m.\u001b[39m\u001b[38;5;18m__self__\u001b[39m\u001b[38;5;241m.\u001b[39mcall(args, kwargs)\n\u001b[0;32m    458\u001b[0m \u001b[38;5;28;01mif\u001b[39;00m kwargs \u001b[38;5;129;01mis\u001b[39;00m \u001b[38;5;129;01mnot\u001b[39;00m \u001b[38;5;28;01mNone\u001b[39;00m:\n\u001b[1;32m--> 459\u001b[0m   \u001b[38;5;28;01mreturn\u001b[39;00m f(\u001b[38;5;241m*\u001b[39margs, \u001b[38;5;241m*\u001b[39m\u001b[38;5;241m*\u001b[39mkwargs)\n\u001b[0;32m    460\u001b[0m \u001b[38;5;28;01mreturn\u001b[39;00m f(\u001b[38;5;241m*\u001b[39margs)\n",
            "File \u001b[1;32m~\\AppData\\Local\\Packages\\PythonSoftwareFoundation.Python.3.10_qbz5n2kfra8p0\\LocalCache\\local-packages\\Python310\\site-packages\\tensorflow\\python\\autograph\\impl\\api.py:643\u001b[0m, in \u001b[0;36mdo_not_convert.<locals>.wrapper\u001b[1;34m(*args, **kwargs)\u001b[0m\n\u001b[0;32m    641\u001b[0m \u001b[38;5;28;01mdef\u001b[39;00m \u001b[38;5;21mwrapper\u001b[39m(\u001b[38;5;241m*\u001b[39margs, \u001b[38;5;241m*\u001b[39m\u001b[38;5;241m*\u001b[39mkwargs):\n\u001b[0;32m    642\u001b[0m   \u001b[38;5;28;01mwith\u001b[39;00m ag_ctx\u001b[38;5;241m.\u001b[39mControlStatusCtx(status\u001b[38;5;241m=\u001b[39mag_ctx\u001b[38;5;241m.\u001b[39mStatus\u001b[38;5;241m.\u001b[39mDISABLED):\n\u001b[1;32m--> 643\u001b[0m     \u001b[38;5;28;01mreturn\u001b[39;00m func(\u001b[38;5;241m*\u001b[39margs, \u001b[38;5;241m*\u001b[39m\u001b[38;5;241m*\u001b[39mkwargs)\n",
            "File \u001b[1;32m~\\AppData\\Local\\Packages\\PythonSoftwareFoundation.Python.3.10_qbz5n2kfra8p0\\LocalCache\\local-packages\\Python310\\site-packages\\keras\\src\\backend\\tensorflow\\trainer.py:121\u001b[0m, in \u001b[0;36mTensorFlowTrainer.make_train_function.<locals>.one_step_on_iterator\u001b[1;34m(iterator)\u001b[0m\n\u001b[0;32m    119\u001b[0m \u001b[38;5;124;03m\"\"\"Runs a single training step given a Dataset iterator.\"\"\"\u001b[39;00m\n\u001b[0;32m    120\u001b[0m data \u001b[38;5;241m=\u001b[39m \u001b[38;5;28mnext\u001b[39m(iterator)\n\u001b[1;32m--> 121\u001b[0m outputs \u001b[38;5;241m=\u001b[39m \u001b[38;5;28;43mself\u001b[39;49m\u001b[38;5;241;43m.\u001b[39;49m\u001b[43mdistribute_strategy\u001b[49m\u001b[38;5;241;43m.\u001b[39;49m\u001b[43mrun\u001b[49m\u001b[43m(\u001b[49m\n\u001b[0;32m    122\u001b[0m \u001b[43m    \u001b[49m\u001b[43mone_step_on_data\u001b[49m\u001b[43m,\u001b[49m\u001b[43m \u001b[49m\u001b[43margs\u001b[49m\u001b[38;5;241;43m=\u001b[39;49m\u001b[43m(\u001b[49m\u001b[43mdata\u001b[49m\u001b[43m,\u001b[49m\u001b[43m)\u001b[49m\n\u001b[0;32m    123\u001b[0m \u001b[43m\u001b[49m\u001b[43m)\u001b[49m\n\u001b[0;32m    124\u001b[0m outputs \u001b[38;5;241m=\u001b[39m reduce_per_replica(\n\u001b[0;32m    125\u001b[0m     outputs,\n\u001b[0;32m    126\u001b[0m     \u001b[38;5;28mself\u001b[39m\u001b[38;5;241m.\u001b[39mdistribute_strategy,\n\u001b[0;32m    127\u001b[0m     reduction\u001b[38;5;241m=\u001b[39m\u001b[38;5;124m\"\u001b[39m\u001b[38;5;124mauto\u001b[39m\u001b[38;5;124m\"\u001b[39m,\n\u001b[0;32m    128\u001b[0m )\n\u001b[0;32m    129\u001b[0m \u001b[38;5;28;01mreturn\u001b[39;00m outputs\n",
            "File \u001b[1;32m~\\AppData\\Local\\Packages\\PythonSoftwareFoundation.Python.3.10_qbz5n2kfra8p0\\LocalCache\\local-packages\\Python310\\site-packages\\tensorflow\\python\\distribute\\distribute_lib.py:1673\u001b[0m, in \u001b[0;36mStrategyBase.run\u001b[1;34m(***failed resolving arguments***)\u001b[0m\n\u001b[0;32m   1668\u001b[0m \u001b[38;5;28;01mwith\u001b[39;00m \u001b[38;5;28mself\u001b[39m\u001b[38;5;241m.\u001b[39mscope():\n\u001b[0;32m   1669\u001b[0m   \u001b[38;5;66;03m# tf.distribute supports Eager functions, so AutoGraph should not be\u001b[39;00m\n\u001b[0;32m   1670\u001b[0m   \u001b[38;5;66;03m# applied when the caller is also in Eager mode.\u001b[39;00m\n\u001b[0;32m   1671\u001b[0m   fn \u001b[38;5;241m=\u001b[39m autograph\u001b[38;5;241m.\u001b[39mtf_convert(\n\u001b[0;32m   1672\u001b[0m       fn, autograph_ctx\u001b[38;5;241m.\u001b[39mcontrol_status_ctx(), convert_by_default\u001b[38;5;241m=\u001b[39m\u001b[38;5;28;01mFalse\u001b[39;00m)\n\u001b[1;32m-> 1673\u001b[0m   \u001b[38;5;28;01mreturn\u001b[39;00m \u001b[38;5;28;43mself\u001b[39;49m\u001b[38;5;241;43m.\u001b[39;49m\u001b[43m_extended\u001b[49m\u001b[38;5;241;43m.\u001b[39;49m\u001b[43mcall_for_each_replica\u001b[49m\u001b[43m(\u001b[49m\u001b[43mfn\u001b[49m\u001b[43m,\u001b[49m\u001b[43m \u001b[49m\u001b[43margs\u001b[49m\u001b[38;5;241;43m=\u001b[39;49m\u001b[43margs\u001b[49m\u001b[43m,\u001b[49m\u001b[43m \u001b[49m\u001b[43mkwargs\u001b[49m\u001b[38;5;241;43m=\u001b[39;49m\u001b[43mkwargs\u001b[49m\u001b[43m)\u001b[49m\n",
            "File \u001b[1;32m~\\AppData\\Local\\Packages\\PythonSoftwareFoundation.Python.3.10_qbz5n2kfra8p0\\LocalCache\\local-packages\\Python310\\site-packages\\tensorflow\\python\\distribute\\distribute_lib.py:3263\u001b[0m, in \u001b[0;36mStrategyExtendedV1.call_for_each_replica\u001b[1;34m(self, fn, args, kwargs)\u001b[0m\n\u001b[0;32m   3261\u001b[0m   kwargs \u001b[38;5;241m=\u001b[39m {}\n\u001b[0;32m   3262\u001b[0m \u001b[38;5;28;01mwith\u001b[39;00m \u001b[38;5;28mself\u001b[39m\u001b[38;5;241m.\u001b[39m_container_strategy()\u001b[38;5;241m.\u001b[39mscope():\n\u001b[1;32m-> 3263\u001b[0m   \u001b[38;5;28;01mreturn\u001b[39;00m \u001b[38;5;28;43mself\u001b[39;49m\u001b[38;5;241;43m.\u001b[39;49m\u001b[43m_call_for_each_replica\u001b[49m\u001b[43m(\u001b[49m\u001b[43mfn\u001b[49m\u001b[43m,\u001b[49m\u001b[43m \u001b[49m\u001b[43margs\u001b[49m\u001b[43m,\u001b[49m\u001b[43m \u001b[49m\u001b[43mkwargs\u001b[49m\u001b[43m)\u001b[49m\n",
            "File \u001b[1;32m~\\AppData\\Local\\Packages\\PythonSoftwareFoundation.Python.3.10_qbz5n2kfra8p0\\LocalCache\\local-packages\\Python310\\site-packages\\tensorflow\\python\\distribute\\distribute_lib.py:4061\u001b[0m, in \u001b[0;36m_DefaultDistributionExtended._call_for_each_replica\u001b[1;34m(self, fn, args, kwargs)\u001b[0m\n\u001b[0;32m   4059\u001b[0m \u001b[38;5;28;01mdef\u001b[39;00m \u001b[38;5;21m_call_for_each_replica\u001b[39m(\u001b[38;5;28mself\u001b[39m, fn, args, kwargs):\n\u001b[0;32m   4060\u001b[0m   \u001b[38;5;28;01mwith\u001b[39;00m ReplicaContext(\u001b[38;5;28mself\u001b[39m\u001b[38;5;241m.\u001b[39m_container_strategy(), replica_id_in_sync_group\u001b[38;5;241m=\u001b[39m\u001b[38;5;241m0\u001b[39m):\n\u001b[1;32m-> 4061\u001b[0m     \u001b[38;5;28;01mreturn\u001b[39;00m fn(\u001b[38;5;241m*\u001b[39margs, \u001b[38;5;241m*\u001b[39m\u001b[38;5;241m*\u001b[39mkwargs)\n",
            "File \u001b[1;32m~\\AppData\\Local\\Packages\\PythonSoftwareFoundation.Python.3.10_qbz5n2kfra8p0\\LocalCache\\local-packages\\Python310\\site-packages\\tensorflow\\python\\util\\traceback_utils.py:150\u001b[0m, in \u001b[0;36mfilter_traceback.<locals>.error_handler\u001b[1;34m(*args, **kwargs)\u001b[0m\n\u001b[0;32m    148\u001b[0m filtered_tb \u001b[38;5;241m=\u001b[39m \u001b[38;5;28;01mNone\u001b[39;00m\n\u001b[0;32m    149\u001b[0m \u001b[38;5;28;01mtry\u001b[39;00m:\n\u001b[1;32m--> 150\u001b[0m   \u001b[38;5;28;01mreturn\u001b[39;00m fn(\u001b[38;5;241m*\u001b[39margs, \u001b[38;5;241m*\u001b[39m\u001b[38;5;241m*\u001b[39mkwargs)\n\u001b[0;32m    151\u001b[0m \u001b[38;5;28;01mexcept\u001b[39;00m \u001b[38;5;167;01mException\u001b[39;00m \u001b[38;5;28;01mas\u001b[39;00m e:\n\u001b[0;32m    152\u001b[0m   filtered_tb \u001b[38;5;241m=\u001b[39m _process_traceback_frames(e\u001b[38;5;241m.\u001b[39m__traceback__)\n",
            "File \u001b[1;32m~\\AppData\\Local\\Packages\\PythonSoftwareFoundation.Python.3.10_qbz5n2kfra8p0\\LocalCache\\local-packages\\Python310\\site-packages\\tensorflow\\python\\eager\\polymorphic_function\\polymorphic_function.py:833\u001b[0m, in \u001b[0;36mFunction.__call__\u001b[1;34m(self, *args, **kwds)\u001b[0m\n\u001b[0;32m    830\u001b[0m compiler \u001b[38;5;241m=\u001b[39m \u001b[38;5;124m\"\u001b[39m\u001b[38;5;124mxla\u001b[39m\u001b[38;5;124m\"\u001b[39m \u001b[38;5;28;01mif\u001b[39;00m \u001b[38;5;28mself\u001b[39m\u001b[38;5;241m.\u001b[39m_jit_compile \u001b[38;5;28;01melse\u001b[39;00m \u001b[38;5;124m\"\u001b[39m\u001b[38;5;124mnonXla\u001b[39m\u001b[38;5;124m\"\u001b[39m\n\u001b[0;32m    832\u001b[0m \u001b[38;5;28;01mwith\u001b[39;00m OptionalXlaContext(\u001b[38;5;28mself\u001b[39m\u001b[38;5;241m.\u001b[39m_jit_compile):\n\u001b[1;32m--> 833\u001b[0m   result \u001b[38;5;241m=\u001b[39m \u001b[38;5;28mself\u001b[39m\u001b[38;5;241m.\u001b[39m_call(\u001b[38;5;241m*\u001b[39margs, \u001b[38;5;241m*\u001b[39m\u001b[38;5;241m*\u001b[39mkwds)\n\u001b[0;32m    835\u001b[0m new_tracing_count \u001b[38;5;241m=\u001b[39m \u001b[38;5;28mself\u001b[39m\u001b[38;5;241m.\u001b[39mexperimental_get_tracing_count()\n\u001b[0;32m    836\u001b[0m without_tracing \u001b[38;5;241m=\u001b[39m (tracing_count \u001b[38;5;241m==\u001b[39m new_tracing_count)\n",
            "File \u001b[1;32m~\\AppData\\Local\\Packages\\PythonSoftwareFoundation.Python.3.10_qbz5n2kfra8p0\\LocalCache\\local-packages\\Python310\\site-packages\\tensorflow\\python\\eager\\polymorphic_function\\polymorphic_function.py:906\u001b[0m, in \u001b[0;36mFunction._call\u001b[1;34m(self, *args, **kwds)\u001b[0m\n\u001b[0;32m    902\u001b[0m     \u001b[38;5;28;01mpass\u001b[39;00m  \u001b[38;5;66;03m# Fall through to cond-based initialization.\u001b[39;00m\n\u001b[0;32m    903\u001b[0m   \u001b[38;5;28;01melse\u001b[39;00m:\n\u001b[0;32m    904\u001b[0m     \u001b[38;5;66;03m# Lifting succeeded, so variables are initialized and we can run the\u001b[39;00m\n\u001b[0;32m    905\u001b[0m     \u001b[38;5;66;03m# no_variable_creation function.\u001b[39;00m\n\u001b[1;32m--> 906\u001b[0m     \u001b[38;5;28;01mreturn\u001b[39;00m \u001b[43mtracing_compilation\u001b[49m\u001b[38;5;241;43m.\u001b[39;49m\u001b[43mcall_function\u001b[49m\u001b[43m(\u001b[49m\n\u001b[0;32m    907\u001b[0m \u001b[43m        \u001b[49m\u001b[43margs\u001b[49m\u001b[43m,\u001b[49m\u001b[43m \u001b[49m\u001b[43mkwds\u001b[49m\u001b[43m,\u001b[49m\u001b[43m \u001b[49m\u001b[38;5;28;43mself\u001b[39;49m\u001b[38;5;241;43m.\u001b[39;49m\u001b[43m_no_variable_creation_config\u001b[49m\n\u001b[0;32m    908\u001b[0m \u001b[43m    \u001b[49m\u001b[43m)\u001b[49m\n\u001b[0;32m    909\u001b[0m \u001b[38;5;28;01melse\u001b[39;00m:\n\u001b[0;32m    910\u001b[0m   bound_args \u001b[38;5;241m=\u001b[39m \u001b[38;5;28mself\u001b[39m\u001b[38;5;241m.\u001b[39m_concrete_variable_creation_fn\u001b[38;5;241m.\u001b[39mfunction_type\u001b[38;5;241m.\u001b[39mbind(\n\u001b[0;32m    911\u001b[0m       \u001b[38;5;241m*\u001b[39margs, \u001b[38;5;241m*\u001b[39m\u001b[38;5;241m*\u001b[39mkwds\n\u001b[0;32m    912\u001b[0m   )\n",
            "File \u001b[1;32m~\\AppData\\Local\\Packages\\PythonSoftwareFoundation.Python.3.10_qbz5n2kfra8p0\\LocalCache\\local-packages\\Python310\\site-packages\\tensorflow\\python\\eager\\polymorphic_function\\tracing_compilation.py:132\u001b[0m, in \u001b[0;36mcall_function\u001b[1;34m(args, kwargs, tracing_options)\u001b[0m\n\u001b[0;32m    130\u001b[0m args \u001b[38;5;241m=\u001b[39m args \u001b[38;5;28;01mif\u001b[39;00m args \u001b[38;5;28;01melse\u001b[39;00m ()\n\u001b[0;32m    131\u001b[0m kwargs \u001b[38;5;241m=\u001b[39m kwargs \u001b[38;5;28;01mif\u001b[39;00m kwargs \u001b[38;5;28;01melse\u001b[39;00m {}\n\u001b[1;32m--> 132\u001b[0m function \u001b[38;5;241m=\u001b[39m \u001b[43mtrace_function\u001b[49m\u001b[43m(\u001b[49m\n\u001b[0;32m    133\u001b[0m \u001b[43m    \u001b[49m\u001b[43margs\u001b[49m\u001b[38;5;241;43m=\u001b[39;49m\u001b[43margs\u001b[49m\u001b[43m,\u001b[49m\u001b[43m \u001b[49m\u001b[43mkwargs\u001b[49m\u001b[38;5;241;43m=\u001b[39;49m\u001b[43mkwargs\u001b[49m\u001b[43m,\u001b[49m\u001b[43m \u001b[49m\u001b[43mtracing_options\u001b[49m\u001b[38;5;241;43m=\u001b[39;49m\u001b[43mtracing_options\u001b[49m\n\u001b[0;32m    134\u001b[0m \u001b[43m\u001b[49m\u001b[43m)\u001b[49m\n\u001b[0;32m    136\u001b[0m \u001b[38;5;66;03m# Bind it ourselves to skip unnecessary canonicalization of default call.\u001b[39;00m\n\u001b[0;32m    137\u001b[0m bound_args \u001b[38;5;241m=\u001b[39m function\u001b[38;5;241m.\u001b[39mfunction_type\u001b[38;5;241m.\u001b[39mbind(\u001b[38;5;241m*\u001b[39margs, \u001b[38;5;241m*\u001b[39m\u001b[38;5;241m*\u001b[39mkwargs)\n",
            "File \u001b[1;32m~\\AppData\\Local\\Packages\\PythonSoftwareFoundation.Python.3.10_qbz5n2kfra8p0\\LocalCache\\local-packages\\Python310\\site-packages\\tensorflow\\python\\eager\\polymorphic_function\\tracing_compilation.py:178\u001b[0m, in \u001b[0;36mtrace_function\u001b[1;34m(args, kwargs, tracing_options)\u001b[0m\n\u001b[0;32m    175\u001b[0m     args \u001b[38;5;241m=\u001b[39m tracing_options\u001b[38;5;241m.\u001b[39minput_signature\n\u001b[0;32m    176\u001b[0m     kwargs \u001b[38;5;241m=\u001b[39m {}\n\u001b[1;32m--> 178\u001b[0m   concrete_function \u001b[38;5;241m=\u001b[39m \u001b[43m_maybe_define_function\u001b[49m\u001b[43m(\u001b[49m\n\u001b[0;32m    179\u001b[0m \u001b[43m      \u001b[49m\u001b[43margs\u001b[49m\u001b[43m,\u001b[49m\u001b[43m \u001b[49m\u001b[43mkwargs\u001b[49m\u001b[43m,\u001b[49m\u001b[43m \u001b[49m\u001b[43mtracing_options\u001b[49m\n\u001b[0;32m    180\u001b[0m \u001b[43m  \u001b[49m\u001b[43m)\u001b[49m\n\u001b[0;32m    182\u001b[0m \u001b[38;5;28;01mif\u001b[39;00m \u001b[38;5;129;01mnot\u001b[39;00m tracing_options\u001b[38;5;241m.\u001b[39mbind_graph_to_function:\n\u001b[0;32m    183\u001b[0m   concrete_function\u001b[38;5;241m.\u001b[39m_garbage_collector\u001b[38;5;241m.\u001b[39mrelease()  \u001b[38;5;66;03m# pylint: disable=protected-access\u001b[39;00m\n",
            "File \u001b[1;32m~\\AppData\\Local\\Packages\\PythonSoftwareFoundation.Python.3.10_qbz5n2kfra8p0\\LocalCache\\local-packages\\Python310\\site-packages\\tensorflow\\python\\eager\\polymorphic_function\\tracing_compilation.py:283\u001b[0m, in \u001b[0;36m_maybe_define_function\u001b[1;34m(args, kwargs, tracing_options)\u001b[0m\n\u001b[0;32m    281\u001b[0m \u001b[38;5;28;01melse\u001b[39;00m:\n\u001b[0;32m    282\u001b[0m   target_func_type \u001b[38;5;241m=\u001b[39m lookup_func_type\n\u001b[1;32m--> 283\u001b[0m concrete_function \u001b[38;5;241m=\u001b[39m \u001b[43m_create_concrete_function\u001b[49m\u001b[43m(\u001b[49m\n\u001b[0;32m    284\u001b[0m \u001b[43m    \u001b[49m\u001b[43mtarget_func_type\u001b[49m\u001b[43m,\u001b[49m\u001b[43m \u001b[49m\u001b[43mlookup_func_context\u001b[49m\u001b[43m,\u001b[49m\u001b[43m \u001b[49m\u001b[43mfunc_graph\u001b[49m\u001b[43m,\u001b[49m\u001b[43m \u001b[49m\u001b[43mtracing_options\u001b[49m\n\u001b[0;32m    285\u001b[0m \u001b[43m\u001b[49m\u001b[43m)\u001b[49m\n\u001b[0;32m    287\u001b[0m \u001b[38;5;28;01mif\u001b[39;00m tracing_options\u001b[38;5;241m.\u001b[39mfunction_cache \u001b[38;5;129;01mis\u001b[39;00m \u001b[38;5;129;01mnot\u001b[39;00m \u001b[38;5;28;01mNone\u001b[39;00m:\n\u001b[0;32m    288\u001b[0m   tracing_options\u001b[38;5;241m.\u001b[39mfunction_cache\u001b[38;5;241m.\u001b[39madd(\n\u001b[0;32m    289\u001b[0m       concrete_function, current_func_context\n\u001b[0;32m    290\u001b[0m   )\n",
            "File \u001b[1;32m~\\AppData\\Local\\Packages\\PythonSoftwareFoundation.Python.3.10_qbz5n2kfra8p0\\LocalCache\\local-packages\\Python310\\site-packages\\tensorflow\\python\\eager\\polymorphic_function\\tracing_compilation.py:310\u001b[0m, in \u001b[0;36m_create_concrete_function\u001b[1;34m(function_type, type_context, func_graph, tracing_options)\u001b[0m\n\u001b[0;32m    303\u001b[0m   placeholder_bound_args \u001b[38;5;241m=\u001b[39m function_type\u001b[38;5;241m.\u001b[39mplaceholder_arguments(\n\u001b[0;32m    304\u001b[0m       placeholder_context\n\u001b[0;32m    305\u001b[0m   )\n\u001b[0;32m    307\u001b[0m disable_acd \u001b[38;5;241m=\u001b[39m tracing_options\u001b[38;5;241m.\u001b[39mattributes \u001b[38;5;129;01mand\u001b[39;00m tracing_options\u001b[38;5;241m.\u001b[39mattributes\u001b[38;5;241m.\u001b[39mget(\n\u001b[0;32m    308\u001b[0m     attributes_lib\u001b[38;5;241m.\u001b[39mDISABLE_ACD, \u001b[38;5;28;01mFalse\u001b[39;00m\n\u001b[0;32m    309\u001b[0m )\n\u001b[1;32m--> 310\u001b[0m traced_func_graph \u001b[38;5;241m=\u001b[39m \u001b[43mfunc_graph_module\u001b[49m\u001b[38;5;241;43m.\u001b[39;49m\u001b[43mfunc_graph_from_py_func\u001b[49m\u001b[43m(\u001b[49m\n\u001b[0;32m    311\u001b[0m \u001b[43m    \u001b[49m\u001b[43mtracing_options\u001b[49m\u001b[38;5;241;43m.\u001b[39;49m\u001b[43mname\u001b[49m\u001b[43m,\u001b[49m\n\u001b[0;32m    312\u001b[0m \u001b[43m    \u001b[49m\u001b[43mtracing_options\u001b[49m\u001b[38;5;241;43m.\u001b[39;49m\u001b[43mpython_function\u001b[49m\u001b[43m,\u001b[49m\n\u001b[0;32m    313\u001b[0m \u001b[43m    \u001b[49m\u001b[43mplaceholder_bound_args\u001b[49m\u001b[38;5;241;43m.\u001b[39;49m\u001b[43margs\u001b[49m\u001b[43m,\u001b[49m\n\u001b[0;32m    314\u001b[0m \u001b[43m    \u001b[49m\u001b[43mplaceholder_bound_args\u001b[49m\u001b[38;5;241;43m.\u001b[39;49m\u001b[43mkwargs\u001b[49m\u001b[43m,\u001b[49m\n\u001b[0;32m    315\u001b[0m \u001b[43m    \u001b[49m\u001b[38;5;28;43;01mNone\u001b[39;49;00m\u001b[43m,\u001b[49m\n\u001b[0;32m    316\u001b[0m \u001b[43m    \u001b[49m\u001b[43mfunc_graph\u001b[49m\u001b[38;5;241;43m=\u001b[39;49m\u001b[43mfunc_graph\u001b[49m\u001b[43m,\u001b[49m\n\u001b[0;32m    317\u001b[0m \u001b[43m    \u001b[49m\u001b[43madd_control_dependencies\u001b[49m\u001b[38;5;241;43m=\u001b[39;49m\u001b[38;5;129;43;01mnot\u001b[39;49;00m\u001b[43m \u001b[49m\u001b[43mdisable_acd\u001b[49m\u001b[43m,\u001b[49m\n\u001b[0;32m    318\u001b[0m \u001b[43m    \u001b[49m\u001b[43marg_names\u001b[49m\u001b[38;5;241;43m=\u001b[39;49m\u001b[43mfunction_type_utils\u001b[49m\u001b[38;5;241;43m.\u001b[39;49m\u001b[43mto_arg_names\u001b[49m\u001b[43m(\u001b[49m\u001b[43mfunction_type\u001b[49m\u001b[43m)\u001b[49m\u001b[43m,\u001b[49m\n\u001b[0;32m    319\u001b[0m \u001b[43m    \u001b[49m\u001b[43mcreate_placeholders\u001b[49m\u001b[38;5;241;43m=\u001b[39;49m\u001b[38;5;28;43;01mFalse\u001b[39;49;00m\u001b[43m,\u001b[49m\n\u001b[0;32m    320\u001b[0m \u001b[43m\u001b[49m\u001b[43m)\u001b[49m\n\u001b[0;32m    322\u001b[0m transform\u001b[38;5;241m.\u001b[39mapply_func_graph_transforms(traced_func_graph)\n\u001b[0;32m    324\u001b[0m graph_capture_container \u001b[38;5;241m=\u001b[39m traced_func_graph\u001b[38;5;241m.\u001b[39mfunction_captures\n",
            "File \u001b[1;32m~\\AppData\\Local\\Packages\\PythonSoftwareFoundation.Python.3.10_qbz5n2kfra8p0\\LocalCache\\local-packages\\Python310\\site-packages\\tensorflow\\python\\framework\\func_graph.py:987\u001b[0m, in \u001b[0;36mfunc_graph_from_py_func\u001b[1;34m(name, python_func, args, kwargs, signature, func_graph, add_control_dependencies, arg_names, op_return_value, collections, capture_by_value, create_placeholders)\u001b[0m\n\u001b[0;32m    984\u001b[0m \u001b[38;5;28;01melse\u001b[39;00m:\n\u001b[0;32m    985\u001b[0m   deps_control_manager \u001b[38;5;241m=\u001b[39m ops\u001b[38;5;241m.\u001b[39mNullContextmanager()\n\u001b[1;32m--> 987\u001b[0m \u001b[38;5;28;01mwith\u001b[39;00m func_graph\u001b[38;5;241m.\u001b[39mas_default(), deps_control_manager \u001b[38;5;28;01mas\u001b[39;00m deps_ctx:\n\u001b[0;32m    988\u001b[0m   current_scope \u001b[38;5;241m=\u001b[39m variable_scope\u001b[38;5;241m.\u001b[39mget_variable_scope()\n\u001b[0;32m    989\u001b[0m   default_use_resource \u001b[38;5;241m=\u001b[39m current_scope\u001b[38;5;241m.\u001b[39muse_resource\n",
            "File \u001b[1;32m~\\AppData\\Local\\Packages\\PythonSoftwareFoundation.Python.3.10_qbz5n2kfra8p0\\LocalCache\\local-packages\\Python310\\site-packages\\tensorflow\\python\\framework\\auto_control_deps.py:459\u001b[0m, in \u001b[0;36mAutomaticControlDependencies.__exit__\u001b[1;34m(self, unused_type, unused_value, unused_traceback)\u001b[0m\n\u001b[0;32m    456\u001b[0m resource_inputs \u001b[38;5;241m=\u001b[39m \u001b[38;5;28mset\u001b[39m()\n\u001b[0;32m    457\u001b[0m \u001b[38;5;66;03m# Check for any resource inputs. If we find any, we update control_inputs\u001b[39;00m\n\u001b[0;32m    458\u001b[0m \u001b[38;5;66;03m# and last_write_to_resource.\u001b[39;00m\n\u001b[1;32m--> 459\u001b[0m \u001b[38;5;28;01mfor\u001b[39;00m inp, resource_type \u001b[38;5;129;01min\u001b[39;00m _get_resource_inputs(op):\n\u001b[0;32m    460\u001b[0m   is_read \u001b[38;5;241m=\u001b[39m resource_type \u001b[38;5;241m==\u001b[39m ResourceType\u001b[38;5;241m.\u001b[39mREAD_ONLY\n\u001b[0;32m    461\u001b[0m   input_id \u001b[38;5;241m=\u001b[39m ops\u001b[38;5;241m.\u001b[39mtensor_id(inp)\n",
            "File \u001b[1;32m~\\AppData\\Local\\Packages\\PythonSoftwareFoundation.Python.3.10_qbz5n2kfra8p0\\LocalCache\\local-packages\\Python310\\site-packages\\tensorflow\\python\\framework\\auto_control_deps.py:608\u001b[0m, in \u001b[0;36m_get_resource_inputs\u001b[1;34m(op)\u001b[0m\n\u001b[0;32m    606\u001b[0m \u001b[38;5;28;01mdef\u001b[39;00m \u001b[38;5;21m_get_resource_inputs\u001b[39m(op):\n\u001b[0;32m    607\u001b[0m   \u001b[38;5;124;03m\"\"\"Returns an iterable of resources touched by this `op`.\"\"\"\u001b[39;00m\n\u001b[1;32m--> 608\u001b[0m   reads, writes \u001b[38;5;241m=\u001b[39m \u001b[43mutils\u001b[49m\u001b[38;5;241;43m.\u001b[39;49m\u001b[43mget_read_write_resource_inputs\u001b[49m\u001b[43m(\u001b[49m\u001b[43mop\u001b[49m\u001b[43m)\u001b[49m\n\u001b[0;32m    609\u001b[0m   saturated \u001b[38;5;241m=\u001b[39m \u001b[38;5;28;01mFalse\u001b[39;00m\n\u001b[0;32m    610\u001b[0m   \u001b[38;5;28;01mwhile\u001b[39;00m \u001b[38;5;129;01mnot\u001b[39;00m saturated:\n",
            "File \u001b[1;32m~\\AppData\\Local\\Packages\\PythonSoftwareFoundation.Python.3.10_qbz5n2kfra8p0\\LocalCache\\local-packages\\Python310\\site-packages\\tensorflow\\python\\framework\\auto_control_deps_utils.py:108\u001b[0m, in \u001b[0;36mget_read_write_resource_inputs\u001b[1;34m(op)\u001b[0m\n\u001b[0;32m    105\u001b[0m   read_only_input_indices \u001b[38;5;241m=\u001b[39m op\u001b[38;5;241m.\u001b[39mget_attr(READ_ONLY_RESOURCE_INPUTS_ATTR)\n\u001b[0;32m    106\u001b[0m \u001b[38;5;28;01mexcept\u001b[39;00m \u001b[38;5;167;01mValueError\u001b[39;00m:\n\u001b[0;32m    107\u001b[0m   \u001b[38;5;66;03m# Attr was not set. Add all resource inputs to `writes` and return.\u001b[39;00m\n\u001b[1;32m--> 108\u001b[0m   writes\u001b[38;5;241m.\u001b[39mupdate(t \u001b[38;5;28;01mfor\u001b[39;00m t \u001b[38;5;129;01min\u001b[39;00m \u001b[43mop\u001b[49m\u001b[38;5;241;43m.\u001b[39;49m\u001b[43minputs\u001b[49m \u001b[38;5;28;01mif\u001b[39;00m t\u001b[38;5;241m.\u001b[39mdtype \u001b[38;5;241m==\u001b[39m dtypes\u001b[38;5;241m.\u001b[39mresource)\n\u001b[0;32m    109\u001b[0m   \u001b[38;5;28;01mreturn\u001b[39;00m (reads, writes)\n\u001b[0;32m    111\u001b[0m read_only_index \u001b[38;5;241m=\u001b[39m \u001b[38;5;241m0\u001b[39m\n",
            "File \u001b[1;32m~\\AppData\\Local\\Packages\\PythonSoftwareFoundation.Python.3.10_qbz5n2kfra8p0\\LocalCache\\local-packages\\Python310\\site-packages\\tensorflow\\python\\framework\\ops.py:1467\u001b[0m, in \u001b[0;36mOperation.inputs\u001b[1;34m(self)\u001b[0m\n\u001b[0;32m   1464\u001b[0m \u001b[38;5;124;03m\"\"\"The sequence of `Tensor` objects representing the data inputs of this op.\"\"\"\u001b[39;00m\n\u001b[0;32m   1465\u001b[0m \u001b[38;5;28;01mif\u001b[39;00m \u001b[38;5;28mself\u001b[39m\u001b[38;5;241m.\u001b[39m_inputs_val \u001b[38;5;129;01mis\u001b[39;00m \u001b[38;5;28;01mNone\u001b[39;00m:\n\u001b[0;32m   1466\u001b[0m   \u001b[38;5;66;03m# pylint: disable=protected-access\u001b[39;00m\n\u001b[1;32m-> 1467\u001b[0m   \u001b[38;5;28mself\u001b[39m\u001b[38;5;241m.\u001b[39m_inputs_val \u001b[38;5;241m=\u001b[39m \u001b[38;5;28;43mtuple\u001b[39;49m\u001b[43m(\u001b[49m\n\u001b[0;32m   1468\u001b[0m \u001b[43m      \u001b[49m\u001b[38;5;28;43mself\u001b[39;49m\u001b[38;5;241;43m.\u001b[39;49m\u001b[43mgraph\u001b[49m\u001b[38;5;241;43m.\u001b[39;49m\u001b[43m_get_tensor_by_tf_output\u001b[49m\u001b[43m(\u001b[49m\u001b[43mi\u001b[49m\u001b[43m)\u001b[49m\n\u001b[0;32m   1469\u001b[0m \u001b[43m      \u001b[49m\u001b[38;5;28;43;01mfor\u001b[39;49;00m\u001b[43m \u001b[49m\u001b[43mi\u001b[49m\u001b[43m \u001b[49m\u001b[38;5;129;43;01min\u001b[39;49;00m\u001b[43m \u001b[49m\u001b[43mpywrap_tf_session\u001b[49m\u001b[38;5;241;43m.\u001b[39;49m\u001b[43mGetOperationInputs\u001b[49m\u001b[43m(\u001b[49m\u001b[38;5;28;43mself\u001b[39;49m\u001b[38;5;241;43m.\u001b[39;49m\u001b[43m_c_op\u001b[49m\u001b[43m)\u001b[49m\u001b[43m)\u001b[49m\n\u001b[0;32m   1470\u001b[0m   \u001b[38;5;66;03m# pylint: enable=protected-access\u001b[39;00m\n\u001b[0;32m   1471\u001b[0m \u001b[38;5;28;01mreturn\u001b[39;00m \u001b[38;5;28mself\u001b[39m\u001b[38;5;241m.\u001b[39m_inputs_val\n",
            "File \u001b[1;32m~\\AppData\\Local\\Packages\\PythonSoftwareFoundation.Python.3.10_qbz5n2kfra8p0\\LocalCache\\local-packages\\Python310\\site-packages\\tensorflow\\python\\framework\\ops.py:1468\u001b[0m, in \u001b[0;36m<genexpr>\u001b[1;34m(.0)\u001b[0m\n\u001b[0;32m   1464\u001b[0m \u001b[38;5;124;03m\"\"\"The sequence of `Tensor` objects representing the data inputs of this op.\"\"\"\u001b[39;00m\n\u001b[0;32m   1465\u001b[0m \u001b[38;5;28;01mif\u001b[39;00m \u001b[38;5;28mself\u001b[39m\u001b[38;5;241m.\u001b[39m_inputs_val \u001b[38;5;129;01mis\u001b[39;00m \u001b[38;5;28;01mNone\u001b[39;00m:\n\u001b[0;32m   1466\u001b[0m   \u001b[38;5;66;03m# pylint: disable=protected-access\u001b[39;00m\n\u001b[0;32m   1467\u001b[0m   \u001b[38;5;28mself\u001b[39m\u001b[38;5;241m.\u001b[39m_inputs_val \u001b[38;5;241m=\u001b[39m \u001b[38;5;28mtuple\u001b[39m(\n\u001b[1;32m-> 1468\u001b[0m       \u001b[38;5;28;43mself\u001b[39;49m\u001b[38;5;241;43m.\u001b[39;49m\u001b[43mgraph\u001b[49m\u001b[38;5;241;43m.\u001b[39;49m\u001b[43m_get_tensor_by_tf_output\u001b[49m\u001b[43m(\u001b[49m\u001b[43mi\u001b[49m\u001b[43m)\u001b[49m\n\u001b[0;32m   1469\u001b[0m       \u001b[38;5;28;01mfor\u001b[39;00m i \u001b[38;5;129;01min\u001b[39;00m pywrap_tf_session\u001b[38;5;241m.\u001b[39mGetOperationInputs(\u001b[38;5;28mself\u001b[39m\u001b[38;5;241m.\u001b[39m_c_op))\n\u001b[0;32m   1470\u001b[0m   \u001b[38;5;66;03m# pylint: enable=protected-access\u001b[39;00m\n\u001b[0;32m   1471\u001b[0m \u001b[38;5;28;01mreturn\u001b[39;00m \u001b[38;5;28mself\u001b[39m\u001b[38;5;241m.\u001b[39m_inputs_val\n",
            "File \u001b[1;32m~\\AppData\\Local\\Packages\\PythonSoftwareFoundation.Python.3.10_qbz5n2kfra8p0\\LocalCache\\local-packages\\Python310\\site-packages\\tensorflow\\python\\framework\\ops.py:3053\u001b[0m, in \u001b[0;36mGraph._get_tensor_by_tf_output\u001b[1;34m(self, tf_output)\u001b[0m\n\u001b[0;32m   3040\u001b[0m \u001b[38;5;28;01mdef\u001b[39;00m \u001b[38;5;21m_get_tensor_by_tf_output\u001b[39m(\u001b[38;5;28mself\u001b[39m, tf_output) \u001b[38;5;241m-\u001b[39m\u001b[38;5;241m>\u001b[39m tensor_lib\u001b[38;5;241m.\u001b[39mTensor:\n\u001b[0;32m   3041\u001b[0m   \u001b[38;5;124;03m\"\"\"Returns the `Tensor` representing `tf_output`.\u001b[39;00m\n\u001b[0;32m   3042\u001b[0m \n\u001b[0;32m   3043\u001b[0m \u001b[38;5;124;03m  Note that there is only one such `Tensor`, i.e. multiple calls to this\u001b[39;00m\n\u001b[1;32m   (...)\u001b[0m\n\u001b[0;32m   3051\u001b[0m \u001b[38;5;124;03m    The `Tensor` that represents `tf_output`.\u001b[39;00m\n\u001b[0;32m   3052\u001b[0m \u001b[38;5;124;03m  \"\"\"\u001b[39;00m\n\u001b[1;32m-> 3053\u001b[0m   op \u001b[38;5;241m=\u001b[39m \u001b[38;5;28;43mself\u001b[39;49m\u001b[38;5;241;43m.\u001b[39;49m\u001b[43m_get_operation_by_tf_operation\u001b[49m\u001b[43m(\u001b[49m\u001b[43mtf_output\u001b[49m\u001b[38;5;241;43m.\u001b[39;49m\u001b[43moper\u001b[49m\u001b[43m)\u001b[49m\n\u001b[0;32m   3054\u001b[0m   \u001b[38;5;28;01mreturn\u001b[39;00m op\u001b[38;5;241m.\u001b[39moutputs[tf_output\u001b[38;5;241m.\u001b[39mindex]\n",
            "File \u001b[1;32m~\\AppData\\Local\\Packages\\PythonSoftwareFoundation.Python.3.10_qbz5n2kfra8p0\\LocalCache\\local-packages\\Python310\\site-packages\\tensorflow\\python\\framework\\ops.py:3012\u001b[0m, in \u001b[0;36mGraph._get_operation_by_tf_operation\u001b[1;34m(self, tf_oper)\u001b[0m\n\u001b[0;32m   3011\u001b[0m \u001b[38;5;28;01mdef\u001b[39;00m \u001b[38;5;21m_get_operation_by_tf_operation\u001b[39m(\u001b[38;5;28mself\u001b[39m, tf_oper) \u001b[38;5;241m-\u001b[39m\u001b[38;5;241m>\u001b[39m \u001b[38;5;124m\"\u001b[39m\u001b[38;5;124mOperation\u001b[39m\u001b[38;5;124m\"\u001b[39m:\n\u001b[1;32m-> 3012\u001b[0m   op_name \u001b[38;5;241m=\u001b[39m \u001b[43mpywrap_tf_session\u001b[49m\u001b[38;5;241;43m.\u001b[39;49m\u001b[43mTF_OperationName\u001b[49m\u001b[43m(\u001b[49m\u001b[43mtf_oper\u001b[49m\u001b[43m)\u001b[49m\n\u001b[0;32m   3013\u001b[0m   \u001b[38;5;28;01mreturn\u001b[39;00m \u001b[38;5;28mself\u001b[39m\u001b[38;5;241m.\u001b[39m_get_operation_by_name(op_name)\n",
            "\u001b[1;31mKeyboardInterrupt\u001b[0m: "
          ]
        }
      ],
      "source": [
        "# best model tuning found:\n",
        "def build_best_tuning_model(custom_input_shape=input_shape):\n",
        "    model = Sequential()\n",
        "\n",
        "    # First Conv1D Layer\n",
        "    model.add(Conv1D(\n",
        "        filters=128,\n",
        "        kernel_size=5,\n",
        "        activation='relu',\n",
        "        input_shape=custom_input_shape\n",
        "    ))\n",
        "    model.add(BatchNormalization())\n",
        "    model.add(MaxPooling1D(pool_size=2))\n",
        "    model.add(Dropout(rate=0.3))\n",
        "\n",
        "    # Second Conv1D Layer\n",
        "    model.add(Conv1D(\n",
        "        filters=256,\n",
        "        kernel_size=5,\n",
        "        activation='relu',\n",
        "        kernel_regularizer=l2(1e-3)\n",
        "    ))\n",
        "    model.add(BatchNormalization())\n",
        "    model.add(MaxPooling1D(pool_size=2))\n",
        "    model.add(Dropout(rate=0.3))\n",
        "\n",
        "    # Optional LSTM Layer\n",
        "    model.add(LSTM(units=128, return_sequences=False))\n",
        "\n",
        "    # Dense Layers\n",
        "    model.add(Flatten())\n",
        "\n",
        "    model.add(Dense(128, activation='relu')) #gpt suggested 64 but original model has 128\n",
        "\n",
        "    model.add(Dropout(rate=0.3))\n",
        "\n",
        "    model.add(Dense(num_classes, activation='softmax'))  # Assuming 4 classes for respiratory activities\n",
        "\n",
        "    # Compile Model\n",
        "    model.compile(\n",
        "        optimizer=tf.keras.optimizers.Adam(learning_rate=1e-3),\n",
        "        loss='categorical_crossentropy',\n",
        "        metrics=['accuracy']\n",
        "    )\n",
        "\n",
        "    model.summary()\n",
        "\n",
        "    return model\n",
        "\n",
        "best_model = build_best_tuning_model()\n",
        "history = best_model.fit(X_train, y_train_one_hot,\n",
        "                    epochs=20,         # Train the model for 20 epochs\n",
        "                    batch_size=32,     # Use a batch size of 32\n",
        "                    validation_data=(X_test, y_test_one_hot)   # Validate on the test set after each epoch\n",
        "                )"
      ]
    },
    {
      "cell_type": "code",
      "execution_count": null,
      "metadata": {
        "id": "_oHBJdUjWnho",
        "outputId": "23e8b155-56f6-4ee3-b86c-0927f294dc16"
      },
      "outputs": [
        {
          "data": {
            "text/html": [
              "<pre style=\"white-space:pre;overflow-x:auto;line-height:normal;font-family:Menlo,'DejaVu Sans Mono',consolas,'Courier New',monospace\"><span style=\"font-weight: bold\">Model: \"sequential_5\"</span>\n",
              "</pre>\n"
            ],
            "text/plain": [
              "\u001b[1mModel: \"sequential_5\"\u001b[0m\n"
            ]
          },
          "metadata": {},
          "output_type": "display_data"
        },
        {
          "data": {
            "text/html": [
              "<pre style=\"white-space:pre;overflow-x:auto;line-height:normal;font-family:Menlo,'DejaVu Sans Mono',consolas,'Courier New',monospace\">┏━━━━━━━━━━━━━━━━━━━━━━━━━━━━━━━━━┳━━━━━━━━━━━━━━━━━━━━━━━━┳━━━━━━━━━━━━━━━┓\n",
              "┃<span style=\"font-weight: bold\"> Layer (type)                    </span>┃<span style=\"font-weight: bold\"> Output Shape           </span>┃<span style=\"font-weight: bold\">       Param # </span>┃\n",
              "┡━━━━━━━━━━━━━━━━━━━━━━━━━━━━━━━━━╇━━━━━━━━━━━━━━━━━━━━━━━━╇━━━━━━━━━━━━━━━┩\n",
              "│ conv1d_10 (<span style=\"color: #0087ff; text-decoration-color: #0087ff\">Conv1D</span>)              │ (<span style=\"color: #00d7ff; text-decoration-color: #00d7ff\">None</span>, <span style=\"color: #00af00; text-decoration-color: #00af00\">48</span>, <span style=\"color: #00af00; text-decoration-color: #00af00\">64</span>)         │         <span style=\"color: #00af00; text-decoration-color: #00af00\">1,216</span> │\n",
              "├─────────────────────────────────┼────────────────────────┼───────────────┤\n",
              "│ max_pooling1d_10 (<span style=\"color: #0087ff; text-decoration-color: #0087ff\">MaxPooling1D</span>) │ (<span style=\"color: #00d7ff; text-decoration-color: #00d7ff\">None</span>, <span style=\"color: #00af00; text-decoration-color: #00af00\">24</span>, <span style=\"color: #00af00; text-decoration-color: #00af00\">64</span>)         │             <span style=\"color: #00af00; text-decoration-color: #00af00\">0</span> │\n",
              "├─────────────────────────────────┼────────────────────────┼───────────────┤\n",
              "│ conv1d_11 (<span style=\"color: #0087ff; text-decoration-color: #0087ff\">Conv1D</span>)              │ (<span style=\"color: #00d7ff; text-decoration-color: #00d7ff\">None</span>, <span style=\"color: #00af00; text-decoration-color: #00af00\">22</span>, <span style=\"color: #00af00; text-decoration-color: #00af00\">128</span>)        │        <span style=\"color: #00af00; text-decoration-color: #00af00\">24,704</span> │\n",
              "├─────────────────────────────────┼────────────────────────┼───────────────┤\n",
              "│ max_pooling1d_11 (<span style=\"color: #0087ff; text-decoration-color: #0087ff\">MaxPooling1D</span>) │ (<span style=\"color: #00d7ff; text-decoration-color: #00d7ff\">None</span>, <span style=\"color: #00af00; text-decoration-color: #00af00\">11</span>, <span style=\"color: #00af00; text-decoration-color: #00af00\">128</span>)        │             <span style=\"color: #00af00; text-decoration-color: #00af00\">0</span> │\n",
              "├─────────────────────────────────┼────────────────────────┼───────────────┤\n",
              "│ flatten_5 (<span style=\"color: #0087ff; text-decoration-color: #0087ff\">Flatten</span>)             │ (<span style=\"color: #00d7ff; text-decoration-color: #00d7ff\">None</span>, <span style=\"color: #00af00; text-decoration-color: #00af00\">1408</span>)           │             <span style=\"color: #00af00; text-decoration-color: #00af00\">0</span> │\n",
              "├─────────────────────────────────┼────────────────────────┼───────────────┤\n",
              "│ dense_10 (<span style=\"color: #0087ff; text-decoration-color: #0087ff\">Dense</span>)                │ (<span style=\"color: #00d7ff; text-decoration-color: #00d7ff\">None</span>, <span style=\"color: #00af00; text-decoration-color: #00af00\">128</span>)            │       <span style=\"color: #00af00; text-decoration-color: #00af00\">180,352</span> │\n",
              "├─────────────────────────────────┼────────────────────────┼───────────────┤\n",
              "│ dropout_5 (<span style=\"color: #0087ff; text-decoration-color: #0087ff\">Dropout</span>)             │ (<span style=\"color: #00d7ff; text-decoration-color: #00d7ff\">None</span>, <span style=\"color: #00af00; text-decoration-color: #00af00\">128</span>)            │             <span style=\"color: #00af00; text-decoration-color: #00af00\">0</span> │\n",
              "├─────────────────────────────────┼────────────────────────┼───────────────┤\n",
              "│ dense_11 (<span style=\"color: #0087ff; text-decoration-color: #0087ff\">Dense</span>)                │ (<span style=\"color: #00d7ff; text-decoration-color: #00d7ff\">None</span>, <span style=\"color: #00af00; text-decoration-color: #00af00\">4</span>)              │           <span style=\"color: #00af00; text-decoration-color: #00af00\">516</span> │\n",
              "└─────────────────────────────────┴────────────────────────┴───────────────┘\n",
              "</pre>\n"
            ],
            "text/plain": [
              "┏━━━━━━━━━━━━━━━━━━━━━━━━━━━━━━━━━┳━━━━━━━━━━━━━━━━━━━━━━━━┳━━━━━━━━━━━━━━━┓\n",
              "┃\u001b[1m \u001b[0m\u001b[1mLayer (type)                   \u001b[0m\u001b[1m \u001b[0m┃\u001b[1m \u001b[0m\u001b[1mOutput Shape          \u001b[0m\u001b[1m \u001b[0m┃\u001b[1m \u001b[0m\u001b[1m      Param #\u001b[0m\u001b[1m \u001b[0m┃\n",
              "┡━━━━━━━━━━━━━━━━━━━━━━━━━━━━━━━━━╇━━━━━━━━━━━━━━━━━━━━━━━━╇━━━━━━━━━━━━━━━┩\n",
              "│ conv1d_10 (\u001b[38;5;33mConv1D\u001b[0m)              │ (\u001b[38;5;45mNone\u001b[0m, \u001b[38;5;34m48\u001b[0m, \u001b[38;5;34m64\u001b[0m)         │         \u001b[38;5;34m1,216\u001b[0m │\n",
              "├─────────────────────────────────┼────────────────────────┼───────────────┤\n",
              "│ max_pooling1d_10 (\u001b[38;5;33mMaxPooling1D\u001b[0m) │ (\u001b[38;5;45mNone\u001b[0m, \u001b[38;5;34m24\u001b[0m, \u001b[38;5;34m64\u001b[0m)         │             \u001b[38;5;34m0\u001b[0m │\n",
              "├─────────────────────────────────┼────────────────────────┼───────────────┤\n",
              "│ conv1d_11 (\u001b[38;5;33mConv1D\u001b[0m)              │ (\u001b[38;5;45mNone\u001b[0m, \u001b[38;5;34m22\u001b[0m, \u001b[38;5;34m128\u001b[0m)        │        \u001b[38;5;34m24,704\u001b[0m │\n",
              "├─────────────────────────────────┼────────────────────────┼───────────────┤\n",
              "│ max_pooling1d_11 (\u001b[38;5;33mMaxPooling1D\u001b[0m) │ (\u001b[38;5;45mNone\u001b[0m, \u001b[38;5;34m11\u001b[0m, \u001b[38;5;34m128\u001b[0m)        │             \u001b[38;5;34m0\u001b[0m │\n",
              "├─────────────────────────────────┼────────────────────────┼───────────────┤\n",
              "│ flatten_5 (\u001b[38;5;33mFlatten\u001b[0m)             │ (\u001b[38;5;45mNone\u001b[0m, \u001b[38;5;34m1408\u001b[0m)           │             \u001b[38;5;34m0\u001b[0m │\n",
              "├─────────────────────────────────┼────────────────────────┼───────────────┤\n",
              "│ dense_10 (\u001b[38;5;33mDense\u001b[0m)                │ (\u001b[38;5;45mNone\u001b[0m, \u001b[38;5;34m128\u001b[0m)            │       \u001b[38;5;34m180,352\u001b[0m │\n",
              "├─────────────────────────────────┼────────────────────────┼───────────────┤\n",
              "│ dropout_5 (\u001b[38;5;33mDropout\u001b[0m)             │ (\u001b[38;5;45mNone\u001b[0m, \u001b[38;5;34m128\u001b[0m)            │             \u001b[38;5;34m0\u001b[0m │\n",
              "├─────────────────────────────────┼────────────────────────┼───────────────┤\n",
              "│ dense_11 (\u001b[38;5;33mDense\u001b[0m)                │ (\u001b[38;5;45mNone\u001b[0m, \u001b[38;5;34m4\u001b[0m)              │           \u001b[38;5;34m516\u001b[0m │\n",
              "└─────────────────────────────────┴────────────────────────┴───────────────┘\n"
            ]
          },
          "metadata": {},
          "output_type": "display_data"
        },
        {
          "data": {
            "text/html": [
              "<pre style=\"white-space:pre;overflow-x:auto;line-height:normal;font-family:Menlo,'DejaVu Sans Mono',consolas,'Courier New',monospace\"><span style=\"font-weight: bold\"> Total params: </span><span style=\"color: #00af00; text-decoration-color: #00af00\">206,788</span> (807.77 KB)\n",
              "</pre>\n"
            ],
            "text/plain": [
              "\u001b[1m Total params: \u001b[0m\u001b[38;5;34m206,788\u001b[0m (807.77 KB)\n"
            ]
          },
          "metadata": {},
          "output_type": "display_data"
        },
        {
          "data": {
            "text/html": [
              "<pre style=\"white-space:pre;overflow-x:auto;line-height:normal;font-family:Menlo,'DejaVu Sans Mono',consolas,'Courier New',monospace\"><span style=\"font-weight: bold\"> Trainable params: </span><span style=\"color: #00af00; text-decoration-color: #00af00\">206,788</span> (807.77 KB)\n",
              "</pre>\n"
            ],
            "text/plain": [
              "\u001b[1m Trainable params: \u001b[0m\u001b[38;5;34m206,788\u001b[0m (807.77 KB)\n"
            ]
          },
          "metadata": {},
          "output_type": "display_data"
        },
        {
          "data": {
            "text/html": [
              "<pre style=\"white-space:pre;overflow-x:auto;line-height:normal;font-family:Menlo,'DejaVu Sans Mono',consolas,'Courier New',monospace\"><span style=\"font-weight: bold\"> Non-trainable params: </span><span style=\"color: #00af00; text-decoration-color: #00af00\">0</span> (0.00 B)\n",
              "</pre>\n"
            ],
            "text/plain": [
              "\u001b[1m Non-trainable params: \u001b[0m\u001b[38;5;34m0\u001b[0m (0.00 B)\n"
            ]
          },
          "metadata": {},
          "output_type": "display_data"
        }
      ],
      "source": [
        "# custom cell to rebuild modified versions of model\n",
        "model = build_1d_cnn_model(input_shape, num_classes)"
      ]
    },
    {
      "cell_type": "markdown",
      "metadata": {
        "id": "OT34Pld9Wnho"
      },
      "source": []
    },
    {
      "cell_type": "markdown",
      "metadata": {
        "id": "TrSPBPh4KcBn"
      },
      "source": [
        "## Step 4: Evaluate the Model\n",
        "After training, you can evaluate the model on the test set:"
      ]
    },
    {
      "cell_type": "code",
      "execution_count": null,
      "metadata": {
        "id": "b4zICRasKPsT"
      },
      "outputs": [],
      "source": [
        "history = model.fit(X_train, y_train_one_hot,\n",
        "                    epochs=20,         # Train the model for 20 epochs\n",
        "                    batch_size=32,     # Use a batch size of 32\n",
        "                    validation_data=(X_test, y_test_one_hot)   # Validate on the test set after each epoch\n",
        "                )"
      ]
    },
    {
      "cell_type": "code",
      "execution_count": null,
      "metadata": {
        "colab": {
          "base_uri": "https://localhost:8080/"
        },
        "id": "UB2Bi7ieKelv",
        "outputId": "de615d87-81e5-45df-f50b-60b21139fdd0"
      },
      "outputs": [
        {
          "name": "stdout",
          "output_type": "stream",
          "text": [
            "\u001b[1m448/448\u001b[0m \u001b[32m━━━━━━━━━━━━━━━━━━━━\u001b[0m\u001b[37m\u001b[0m \u001b[1m3s\u001b[0m 6ms/step\n",
            "              precision    recall  f1-score   support\n",
            "\n",
            "           0     0.2351    0.1613    0.1914      2789\n",
            "           1     0.1292    0.0231    0.0392      2161\n",
            "           2     0.1492    0.8199    0.2525      2166\n",
            "           3     0.7368    0.0117    0.0230      7200\n",
            "\n",
            "    accuracy                         0.1649     14316\n",
            "   macro avg     0.3126    0.2540    0.1265     14316\n",
            "weighted avg     0.4585    0.1649    0.0930     14316\n",
            "\n"
          ]
        }
      ],
      "source": [
        "# Get predicted probabilities for the test set\n",
        "y_pred_probs = best_model.predict(X_test)\n",
        "\n",
        "# Convert the predicted probabilities to class labels (taking the argmax of the probabilities)\n",
        "y_pred_classes = np.argmax(y_pred_probs, axis=1)\n",
        "\n",
        "# Convert the true test labels from one-hot encoding back to class labels\n",
        "y_true_classes = np.argmax(y_test_one_hot, axis=1)\n",
        "\n",
        "# Generate the classification report\n",
        "report = classification_report(y_true_classes, y_pred_classes, digits=4)\n",
        "\n",
        "# Print the classification report\n",
        "print(report)"
      ]
    },
    {
      "cell_type": "markdown",
      "metadata": {
        "id": "3QXKh8ritRbw"
      },
      "source": [
        "As you can see from the model performance results, the classification performance isn't exactly impressive. For Coursework 3, your group should explore and experiment with various models, parameters, and techniques in order to improve your model's performance."
      ]
    },
    {
      "cell_type": "markdown",
      "metadata": {
        "id": "iHNzGOHDtnQ4"
      },
      "source": [
        "# Exporting your model to TFLite\n",
        "\n",
        "You can use the TFLiteConverter class provided by TensorFlow to convert your trained model into the TensorFlow Lite format. We export models to TensorFlow Lite (TFLite) for several reasons, primarily because TFLite is designed for deployment on edge devices, such as mobile phones, embedded systems, IoT devices, and microcontrollers, where computational resources and power are limited. This is necessary as you will be running your ML models on your Android devices to perform live classification."
      ]
    },
    {
      "cell_type": "code",
      "execution_count": null,
      "metadata": {
        "colab": {
          "base_uri": "https://localhost:8080/"
        },
        "id": "3_QKoJtmufDa",
        "outputId": "48d281ab-4ed3-4ee1-fd47-30f7f4c10b96"
      },
      "outputs": [
        {
          "name": "stdout",
          "output_type": "stream",
          "text": [
            "INFO:tensorflow:Assets written to: C:\\Users\\luise\\AppData\\Local\\Temp\\tmppf3rz10g\\assets\n"
          ]
        },
        {
          "name": "stderr",
          "output_type": "stream",
          "text": [
            "INFO:tensorflow:Assets written to: C:\\Users\\luise\\AppData\\Local\\Temp\\tmppf3rz10g\\assets\n"
          ]
        },
        {
          "name": "stdout",
          "output_type": "stream",
          "text": [
            "Saved artifact at 'C:\\Users\\luise\\AppData\\Local\\Temp\\tmppf3rz10g'. The following endpoints are available:\n",
            "\n",
            "* Endpoint 'serve'\n",
            "  args_0 (POSITIONAL_ONLY): TensorSpec(shape=(None, 50, 6), dtype=tf.float32, name='keras_tensor')\n",
            "Output Type:\n",
            "  TensorSpec(shape=(None, 4), dtype=tf.float32, name=None)\n",
            "Captures:\n",
            "  2847604399040: TensorSpec(shape=(), dtype=tf.resource, name=None)\n",
            "  2847604400976: TensorSpec(shape=(), dtype=tf.resource, name=None)\n",
            "  2847605255056: TensorSpec(shape=(), dtype=tf.resource, name=None)\n",
            "  2847605246432: TensorSpec(shape=(), dtype=tf.resource, name=None)\n",
            "  2847605248720: TensorSpec(shape=(), dtype=tf.resource, name=None)\n",
            "  2847614338848: TensorSpec(shape=(), dtype=tf.resource, name=None)\n",
            "  2847614349936: TensorSpec(shape=(), dtype=tf.resource, name=None)\n",
            "  2847614349232: TensorSpec(shape=(), dtype=tf.resource, name=None)\n",
            "Model successfully exported to model.tflite\n"
          ]
        }
      ],
      "source": [
        "# Convert the trained Keras model to TensorFlow Lite format\n",
        "converter = tf.lite.TFLiteConverter.from_keras_model(model)  # model is your trained Keras model\n",
        "tflite_model = converter.convert()\n",
        "\n",
        "# Save the converted model to a .tflite file\n",
        "with open('model.tflite', 'wb') as f:\n",
        "    f.write(tflite_model)\n",
        "\n",
        "print(\"Model successfully exported to model.tflite\")"
      ]
    },
    {
      "cell_type": "markdown",
      "metadata": {
        "id": "FGOj682D0PfS"
      },
      "source": [
        "# Good job!\n",
        "This is the end of Lab 3. In the next lab, you will focus on deploying your machine learning model onto your Android App in order to classify activities in real-time."
      ]
    },
    {
      "cell_type": "markdown",
      "metadata": {
        "id": "FCs_RtfjWnhp"
      },
      "source": [
        "# GPT's suggested models"
      ]
    },
    {
      "cell_type": "code",
      "execution_count": null,
      "metadata": {
        "id": "dcoVt_GCWnhp"
      },
      "outputs": [],
      "source": [
        "import numpy as np\n",
        "import tensorflow as tf\n",
        "from tensorflow.keras.models import Sequential\n",
        "from tensorflow.keras.layers import Conv1D, MaxPooling1D, LSTM, Dense, Dropout, Flatten\n",
        "from tensorflow.keras.callbacks import EarlyStopping, ReduceLROnPlateau\n",
        "from sklearn.metrics import classification_report"
      ]
    },
    {
      "cell_type": "code",
      "execution_count": null,
      "metadata": {
        "id": "vm58CceDWnhp",
        "outputId": "0690b140-6b53-4e7c-e167-302324e26019"
      },
      "outputs": [
        {
          "name": "stdout",
          "output_type": "stream",
          "text": [
            "Epoch 1/50\n",
            "\u001b[1m1787/1787\u001b[0m \u001b[32m━━━━━━━━━━━━━━━━━━━━\u001b[0m\u001b[37m\u001b[0m \u001b[1m22s\u001b[0m 11ms/step - accuracy: 0.5012 - loss: 1.2529 - val_accuracy: 0.5071 - val_loss: 1.2322 - learning_rate: 0.0010\n",
            "Epoch 2/50\n",
            "\u001b[1m1787/1787\u001b[0m \u001b[32m━━━━━━━━━━━━━━━━━━━━\u001b[0m\u001b[37m\u001b[0m \u001b[1m23s\u001b[0m 13ms/step - accuracy: 0.5333 - loss: 1.1474 - val_accuracy: 0.5623 - val_loss: 0.9863 - learning_rate: 0.0010\n",
            "Epoch 3/50\n",
            "\u001b[1m1787/1787\u001b[0m \u001b[32m━━━━━━━━━━━━━━━━━━━━\u001b[0m\u001b[37m\u001b[0m \u001b[1m26s\u001b[0m 14ms/step - accuracy: 0.5631 - loss: 0.9887 - val_accuracy: 0.5769 - val_loss: 0.9166 - learning_rate: 0.0010\n",
            "Epoch 4/50\n",
            "\u001b[1m1787/1787\u001b[0m \u001b[32m━━━━━━━━━━━━━━━━━━━━\u001b[0m\u001b[37m\u001b[0m \u001b[1m27s\u001b[0m 15ms/step - accuracy: 0.5757 - loss: 0.9524 - val_accuracy: 0.5844 - val_loss: 0.9119 - learning_rate: 0.0010\n",
            "Epoch 5/50\n",
            "\u001b[1m1787/1787\u001b[0m \u001b[32m━━━━━━━━━━━━━━━━━━━━\u001b[0m\u001b[37m\u001b[0m \u001b[1m27s\u001b[0m 15ms/step - accuracy: 0.5766 - loss: 0.9434 - val_accuracy: 0.5804 - val_loss: 0.9115 - learning_rate: 0.0010\n",
            "Epoch 6/50\n",
            "\u001b[1m1787/1787\u001b[0m \u001b[32m━━━━━━━━━━━━━━━━━━━━\u001b[0m\u001b[37m\u001b[0m \u001b[1m27s\u001b[0m 15ms/step - accuracy: 0.5812 - loss: 0.9269 - val_accuracy: 0.5821 - val_loss: 0.9244 - learning_rate: 0.0010\n",
            "Epoch 7/50\n",
            "\u001b[1m1787/1787\u001b[0m \u001b[32m━━━━━━━━━━━━━━━━━━━━\u001b[0m\u001b[37m\u001b[0m \u001b[1m31s\u001b[0m 17ms/step - accuracy: 0.5871 - loss: 0.9116 - val_accuracy: 0.5897 - val_loss: 0.8810 - learning_rate: 0.0010\n",
            "Epoch 8/50\n",
            "\u001b[1m1787/1787\u001b[0m \u001b[32m━━━━━━━━━━━━━━━━━━━━\u001b[0m\u001b[37m\u001b[0m \u001b[1m47s\u001b[0m 26ms/step - accuracy: 0.5920 - loss: 0.9006 - val_accuracy: 0.5982 - val_loss: 0.9068 - learning_rate: 0.0010\n",
            "Epoch 9/50\n",
            "\u001b[1m1787/1787\u001b[0m \u001b[32m━━━━━━━━━━━━━━━━━━━━\u001b[0m\u001b[37m\u001b[0m \u001b[1m40s\u001b[0m 22ms/step - accuracy: 0.5978 - loss: 0.8909 - val_accuracy: 0.5973 - val_loss: 0.8703 - learning_rate: 0.0010\n",
            "Epoch 10/50\n",
            "\u001b[1m1787/1787\u001b[0m \u001b[32m━━━━━━━━━━━━━━━━━━━━\u001b[0m\u001b[37m\u001b[0m \u001b[1m42s\u001b[0m 23ms/step - accuracy: 0.6011 - loss: 0.8762 - val_accuracy: 0.6279 - val_loss: 0.8515 - learning_rate: 0.0010\n",
            "Epoch 11/50\n",
            "\u001b[1m1787/1787\u001b[0m \u001b[32m━━━━━━━━━━━━━━━━━━━━\u001b[0m\u001b[37m\u001b[0m \u001b[1m37s\u001b[0m 20ms/step - accuracy: 0.6046 - loss: 0.8691 - val_accuracy: 0.6099 - val_loss: 0.8637 - learning_rate: 0.0010\n",
            "Epoch 12/50\n",
            "\u001b[1m1787/1787\u001b[0m \u001b[32m━━━━━━━━━━━━━━━━━━━━\u001b[0m\u001b[37m\u001b[0m \u001b[1m33s\u001b[0m 19ms/step - accuracy: 0.6126 - loss: 0.8557 - val_accuracy: 0.6173 - val_loss: 0.8441 - learning_rate: 0.0010\n",
            "Epoch 13/50\n",
            "\u001b[1m1787/1787\u001b[0m \u001b[32m━━━━━━━━━━━━━━━━━━━━\u001b[0m\u001b[37m\u001b[0m \u001b[1m35s\u001b[0m 19ms/step - accuracy: 0.6138 - loss: 0.8447 - val_accuracy: 0.6269 - val_loss: 0.8458 - learning_rate: 0.0010\n",
            "Epoch 14/50\n",
            "\u001b[1m1787/1787\u001b[0m \u001b[32m━━━━━━━━━━━━━━━━━━━━\u001b[0m\u001b[37m\u001b[0m \u001b[1m36s\u001b[0m 20ms/step - accuracy: 0.6196 - loss: 0.8396 - val_accuracy: 0.6318 - val_loss: 0.8208 - learning_rate: 0.0010\n",
            "Epoch 15/50\n",
            "\u001b[1m1787/1787\u001b[0m \u001b[32m━━━━━━━━━━━━━━━━━━━━\u001b[0m\u001b[37m\u001b[0m \u001b[1m35s\u001b[0m 19ms/step - accuracy: 0.6264 - loss: 0.8306 - val_accuracy: 0.6498 - val_loss: 0.8199 - learning_rate: 0.0010\n",
            "Epoch 16/50\n",
            "\u001b[1m1787/1787\u001b[0m \u001b[32m━━━━━━━━━━━━━━━━━━━━\u001b[0m\u001b[37m\u001b[0m \u001b[1m35s\u001b[0m 19ms/step - accuracy: 0.6292 - loss: 0.8233 - val_accuracy: 0.6259 - val_loss: 0.8467 - learning_rate: 0.0010\n",
            "Epoch 17/50\n",
            "\u001b[1m1787/1787\u001b[0m \u001b[32m━━━━━━━━━━━━━━━━━━━━\u001b[0m\u001b[37m\u001b[0m \u001b[1m34s\u001b[0m 19ms/step - accuracy: 0.6318 - loss: 0.8173 - val_accuracy: 0.6382 - val_loss: 0.8247 - learning_rate: 0.0010\n",
            "Epoch 18/50\n",
            "\u001b[1m1787/1787\u001b[0m \u001b[32m━━━━━━━━━━━━━━━━━━━━\u001b[0m\u001b[37m\u001b[0m \u001b[1m37s\u001b[0m 21ms/step - accuracy: 0.6323 - loss: 0.8109 - val_accuracy: 0.6496 - val_loss: 0.8125 - learning_rate: 0.0010\n",
            "Epoch 19/50\n",
            "\u001b[1m1787/1787\u001b[0m \u001b[32m━━━━━━━━━━━━━━━━━━━━\u001b[0m\u001b[37m\u001b[0m \u001b[1m39s\u001b[0m 22ms/step - accuracy: 0.6408 - loss: 0.8037 - val_accuracy: 0.6190 - val_loss: 0.8715 - learning_rate: 0.0010\n",
            "Epoch 20/50\n",
            "\u001b[1m1787/1787\u001b[0m \u001b[32m━━━━━━━━━━━━━━━━━━━━\u001b[0m\u001b[37m\u001b[0m \u001b[1m46s\u001b[0m 26ms/step - accuracy: 0.6442 - loss: 0.7929 - val_accuracy: 0.6505 - val_loss: 0.8184 - learning_rate: 0.0010\n",
            "Epoch 21/50\n",
            "\u001b[1m1787/1787\u001b[0m \u001b[32m━━━━━━━━━━━━━━━━━━━━\u001b[0m\u001b[37m\u001b[0m \u001b[1m72s\u001b[0m 20ms/step - accuracy: 0.6450 - loss: 0.7892 - val_accuracy: 0.6439 - val_loss: 0.8038 - learning_rate: 0.0010\n",
            "Epoch 22/50\n",
            "\u001b[1m1787/1787\u001b[0m \u001b[32m━━━━━━━━━━━━━━━━━━━━\u001b[0m\u001b[37m\u001b[0m \u001b[1m35s\u001b[0m 20ms/step - accuracy: 0.6531 - loss: 0.7727 - val_accuracy: 0.6412 - val_loss: 0.8253 - learning_rate: 0.0010\n",
            "Epoch 23/50\n",
            "\u001b[1m1787/1787\u001b[0m \u001b[32m━━━━━━━━━━━━━━━━━━━━\u001b[0m\u001b[37m\u001b[0m \u001b[1m37s\u001b[0m 20ms/step - accuracy: 0.6572 - loss: 0.7702 - val_accuracy: 0.6094 - val_loss: 0.8783 - learning_rate: 0.0010\n",
            "Epoch 24/50\n",
            "\u001b[1m1787/1787\u001b[0m \u001b[32m━━━━━━━━━━━━━━━━━━━━\u001b[0m\u001b[37m\u001b[0m \u001b[1m38s\u001b[0m 21ms/step - accuracy: 0.6539 - loss: 0.7675 - val_accuracy: 0.6103 - val_loss: 0.8522 - learning_rate: 0.0010\n",
            "Epoch 25/50\n",
            "\u001b[1m1787/1787\u001b[0m \u001b[32m━━━━━━━━━━━━━━━━━━━━\u001b[0m\u001b[37m\u001b[0m \u001b[1m37s\u001b[0m 21ms/step - accuracy: 0.6627 - loss: 0.7537 - val_accuracy: 0.6642 - val_loss: 0.8044 - learning_rate: 0.0010\n",
            "Epoch 26/50\n",
            "\u001b[1m1787/1787\u001b[0m \u001b[32m━━━━━━━━━━━━━━━━━━━━\u001b[0m\u001b[37m\u001b[0m \u001b[1m36s\u001b[0m 20ms/step - accuracy: 0.6595 - loss: 0.7539 - val_accuracy: 0.6496 - val_loss: 0.8181 - learning_rate: 0.0010\n",
            "Epoch 27/50\n",
            "\u001b[1m1787/1787\u001b[0m \u001b[32m━━━━━━━━━━━━━━━━━━━━\u001b[0m\u001b[37m\u001b[0m \u001b[1m35s\u001b[0m 20ms/step - accuracy: 0.6813 - loss: 0.7203 - val_accuracy: 0.6178 - val_loss: 0.8295 - learning_rate: 5.0000e-04\n",
            "Epoch 28/50\n",
            "\u001b[1m1787/1787\u001b[0m \u001b[32m━━━━━━━━━━━━━━━━━━━━\u001b[0m\u001b[37m\u001b[0m \u001b[1m37s\u001b[0m 20ms/step - accuracy: 0.6915 - loss: 0.7046 - val_accuracy: 0.6318 - val_loss: 0.8351 - learning_rate: 5.0000e-04\n",
            "Epoch 29/50\n",
            "\u001b[1m1787/1787\u001b[0m \u001b[32m━━━━━━━━━━━━━━━━━━━━\u001b[0m\u001b[37m\u001b[0m \u001b[1m34s\u001b[0m 19ms/step - accuracy: 0.6949 - loss: 0.6897 - val_accuracy: 0.6176 - val_loss: 0.8547 - learning_rate: 5.0000e-04\n",
            "Epoch 30/50\n",
            "\u001b[1m1787/1787\u001b[0m \u001b[32m━━━━━━━━━━━━━━━━━━━━\u001b[0m\u001b[37m\u001b[0m \u001b[1m31s\u001b[0m 17ms/step - accuracy: 0.6976 - loss: 0.6873 - val_accuracy: 0.6124 - val_loss: 0.9011 - learning_rate: 5.0000e-04\n",
            "Epoch 31/50\n",
            "\u001b[1m1787/1787\u001b[0m \u001b[32m━━━━━━━━━━━━━━━━━━━━\u001b[0m\u001b[37m\u001b[0m \u001b[1m34s\u001b[0m 19ms/step - accuracy: 0.6999 - loss: 0.6878 - val_accuracy: 0.6123 - val_loss: 0.8968 - learning_rate: 5.0000e-04\n",
            "\u001b[1m448/448\u001b[0m \u001b[32m━━━━━━━━━━━━━━━━━━━━\u001b[0m\u001b[37m\u001b[0m \u001b[1m3s\u001b[0m 8ms/step - accuracy: 0.6268 - loss: 0.8160\n",
            "Test Accuracy: 64.39%\n",
            "\u001b[1m448/448\u001b[0m \u001b[32m━━━━━━━━━━━━━━━━━━━━\u001b[0m\u001b[37m\u001b[0m \u001b[1m5s\u001b[0m 10ms/step\n",
            "                   precision    recall  f1-score   support\n",
            "\n",
            "breathingNormally       0.55      0.65      0.60      2794\n",
            "         coughing       0.73      0.71      0.72      2164\n",
            " hyperventilation       0.77      0.23      0.36      2166\n",
            "            other       0.65      0.74      0.69      7184\n",
            "\n",
            "         accuracy                           0.64     14308\n",
            "        macro avg       0.68      0.58      0.59     14308\n",
            "     weighted avg       0.66      0.64      0.63     14308\n",
            "\n"
          ]
        }
      ],
      "source": [
        "# Define parameters\n",
        "input_shape = X_train.shape[1:]  # (window_size, num_features)\n",
        "num_classes = y_train_one_hot.shape[1]  # 4 respiratory states\n",
        "\n",
        "# Build the model\n",
        "gpt_model1 = Sequential()\n",
        "\n",
        "# Convolutional layers to capture spatial patterns\n",
        "gpt_model1.add(Conv1D(filters=64, kernel_size=3, activation='relu', input_shape=input_shape))\n",
        "gpt_model1.add(MaxPooling1D(pool_size=2))\n",
        "gpt_model1.add(Dropout(0.3))\n",
        "\n",
        "gpt_model1.add(Conv1D(filters=128, kernel_size=3, activation='relu'))\n",
        "gpt_model1.add(MaxPooling1D(pool_size=2))\n",
        "gpt_model1.add(Dropout(0.3))\n",
        "\n",
        "# LSTM layer to capture temporal dependencies\n",
        "gpt_model1.add(LSTM(100, return_sequences=True))\n",
        "gpt_model1.add(LSTM(50))\n",
        "\n",
        "# Fully connected layers for classification\n",
        "gpt_model1.add(Dense(50, activation='relu'))\n",
        "gpt_model1.add(Dropout(0.5))\n",
        "gpt_model1.add(Dense(num_classes, activation='softmax'))\n",
        "\n",
        "# Compile the model\n",
        "gpt_model1.compile(optimizer='adam', loss='categorical_crossentropy', metrics=['accuracy'])\n",
        "\n",
        "# Set up callbacks\n",
        "callbacks = [\n",
        "    EarlyStopping(monitor='val_loss', patience=10, restore_best_weights=True),\n",
        "    ReduceLROnPlateau(monitor='val_loss', factor=0.5, patience=5, min_lr=1e-5)\n",
        "]\n",
        "\n",
        "# Train the model\n",
        "history = gpt_model1.fit(\n",
        "    X_train, y_train_one_hot,\n",
        "    epochs=50,\n",
        "    batch_size=32,\n",
        "    validation_data=(X_test, y_test_one_hot),\n",
        "    callbacks=callbacks\n",
        ")\n",
        "\n",
        "# Evaluate the model on test data\n",
        "test_loss, test_accuracy = gpt_model1.evaluate(X_test, y_test_one_hot)\n",
        "print(f\"Test Accuracy: {test_accuracy * 100:.2f}%\")\n",
        "\n",
        "# Check class-wise accuracy\n",
        "y_pred = gpt_model1.predict(X_test)\n",
        "y_pred_classes = np.argmax(y_pred, axis=1)\n",
        "y_true_classes = np.argmax(y_test_one_hot, axis=1)\n",
        "\n",
        "report = classification_report(y_true_classes, y_pred_classes, target_names=['breathingNormally', 'coughing', 'hyperventilation', 'other'])\n",
        "print(report)\n"
      ]
    },
    {
      "cell_type": "markdown",
      "metadata": {
        "id": "kT52co9PWnhp"
      },
      "source": [
        "### model 2"
      ]
    },
    {
      "cell_type": "code",
      "execution_count": null,
      "metadata": {
        "id": "315aKR4jWnhp"
      },
      "outputs": [],
      "source": [
        "from tensorflow.keras.layers import Bidirectional\n",
        "from sklearn.utils import class_weight\n",
        "import numpy as np"
      ]
    },
    {
      "cell_type": "code",
      "execution_count": null,
      "metadata": {
        "id": "TqvssZEHWnhp"
      },
      "outputs": [],
      "source": [
        "y_true_classes = np.argmax(y_train_one_hot, axis=1)\n",
        "class_weights = class_weight.compute_class_weight('balanced', classes=np.unique(y_true_classes), y=y_true_classes)\n",
        "class_weights_dict = dict(enumerate(class_weights))"
      ]
    },
    {
      "cell_type": "code",
      "execution_count": null,
      "metadata": {
        "id": "dXlP-iwYWnhp",
        "outputId": "3932fc10-3d9b-4654-9f19-0c21424d5f23"
      },
      "outputs": [
        {
          "name": "stdout",
          "output_type": "stream",
          "text": [
            "Epoch 1/100\n",
            "\u001b[1m1787/1787\u001b[0m \u001b[32m━━━━━━━━━━━━━━━━━━━━\u001b[0m\u001b[37m\u001b[0m \u001b[1m55s\u001b[0m 27ms/step - accuracy: 0.2924 - loss: 1.3370 - val_accuracy: 0.3323 - val_loss: 1.1616 - learning_rate: 5.0000e-04\n",
            "Epoch 2/100\n",
            "\u001b[1m1787/1787\u001b[0m \u001b[32m━━━━━━━━━━━━━━━━━━━━\u001b[0m\u001b[37m\u001b[0m \u001b[1m54s\u001b[0m 30ms/step - accuracy: 0.3706 - loss: 1.0708 - val_accuracy: 0.3462 - val_loss: 1.0897 - learning_rate: 5.0000e-04\n",
            "Epoch 3/100\n",
            "\u001b[1m1787/1787\u001b[0m \u001b[32m━━━━━━━━━━━━━━━━━━━━\u001b[0m\u001b[37m\u001b[0m \u001b[1m60s\u001b[0m 34ms/step - accuracy: 0.3929 - loss: 1.0103 - val_accuracy: 0.3759 - val_loss: 1.0771 - learning_rate: 5.0000e-04\n",
            "Epoch 4/100\n",
            "\u001b[1m1787/1787\u001b[0m \u001b[32m━━━━━━━━━━━━━━━━━━━━\u001b[0m\u001b[37m\u001b[0m \u001b[1m64s\u001b[0m 36ms/step - accuracy: 0.4133 - loss: 0.9484 - val_accuracy: 0.4281 - val_loss: 1.0287 - learning_rate: 5.0000e-04\n",
            "Epoch 5/100\n",
            "\u001b[1m1787/1787\u001b[0m \u001b[32m━━━━━━━━━━━━━━━━━━━━\u001b[0m\u001b[37m\u001b[0m \u001b[1m60s\u001b[0m 33ms/step - accuracy: 0.4315 - loss: 0.9324 - val_accuracy: 0.4045 - val_loss: 1.0603 - learning_rate: 5.0000e-04\n",
            "Epoch 6/100\n",
            "\u001b[1m1787/1787\u001b[0m \u001b[32m━━━━━━━━━━━━━━━━━━━━\u001b[0m\u001b[37m\u001b[0m \u001b[1m54s\u001b[0m 30ms/step - accuracy: 0.4429 - loss: 0.9122 - val_accuracy: 0.4316 - val_loss: 0.9996 - learning_rate: 5.0000e-04\n",
            "Epoch 7/100\n",
            "\u001b[1m1787/1787\u001b[0m \u001b[32m━━━━━━━━━━━━━━━━━━━━\u001b[0m\u001b[37m\u001b[0m \u001b[1m54s\u001b[0m 30ms/step - accuracy: 0.4591 - loss: 0.8975 - val_accuracy: 0.4421 - val_loss: 1.0143 - learning_rate: 5.0000e-04\n",
            "Epoch 8/100\n",
            "\u001b[1m1787/1787\u001b[0m \u001b[32m━━━━━━━━━━━━━━━━━━━━\u001b[0m\u001b[37m\u001b[0m \u001b[1m62s\u001b[0m 34ms/step - accuracy: 0.4633 - loss: 0.8818 - val_accuracy: 0.4454 - val_loss: 1.0139 - learning_rate: 5.0000e-04\n",
            "Epoch 9/100\n",
            "\u001b[1m1787/1787\u001b[0m \u001b[32m━━━━━━━━━━━━━━━━━━━━\u001b[0m\u001b[37m\u001b[0m \u001b[1m54s\u001b[0m 30ms/step - accuracy: 0.4758 - loss: 0.8665 - val_accuracy: 0.4602 - val_loss: 0.9960 - learning_rate: 5.0000e-04\n",
            "Epoch 10/100\n",
            "\u001b[1m1787/1787\u001b[0m \u001b[32m━━━━━━━━━━━━━━━━━━━━\u001b[0m\u001b[37m\u001b[0m \u001b[1m63s\u001b[0m 35ms/step - accuracy: 0.4846 - loss: 0.8541 - val_accuracy: 0.4704 - val_loss: 0.9542 - learning_rate: 5.0000e-04\n"
          ]
        }
      ],
      "source": [
        "# Update your model with deeper layers and bidirectional LSTM\n",
        "\n",
        "gpt_model2 = Sequential()\n",
        "\n",
        "# Convolutional layers\n",
        "gpt_model2.add(Conv1D(filters=128, kernel_size=5, activation='relu', input_shape=input_shape))\n",
        "gpt_model2.add(MaxPooling1D(pool_size=2))\n",
        "gpt_model2.add(Dropout(0.4))\n",
        "\n",
        "gpt_model2.add(Conv1D(filters=256, kernel_size=3, activation='relu'))\n",
        "gpt_model2.add(MaxPooling1D(pool_size=2))\n",
        "gpt_model2.add(Dropout(0.4))\n",
        "\n",
        "# Bidirectional LSTM layer\n",
        "gpt_model2.add(Bidirectional(LSTM(150, return_sequences=True)))\n",
        "gpt_model2.add(Bidirectional(LSTM(100)))\n",
        "\n",
        "# Dense layers\n",
        "gpt_model2.add(Dense(100, activation='relu'))\n",
        "gpt_model2.add(Dropout(0.5))\n",
        "gpt_model2.add(Dense(num_classes, activation='softmax'))\n",
        "\n",
        "# Compile with a lower learning rate\n",
        "gpt_model2.compile(optimizer=tf.keras.optimizers.Adam(learning_rate=0.0005),\n",
        "              loss='categorical_crossentropy',\n",
        "              metrics=['accuracy'])\n",
        "\n",
        "# Train with class weights if needed\n",
        "history = gpt_model2.fit(\n",
        "    X_train, y_train_one_hot,\n",
        "    epochs=100,\n",
        "    batch_size=32,\n",
        "    validation_data=(X_test, y_test_one_hot),\n",
        "    callbacks=callbacks,\n",
        "    class_weight=class_weights_dict  # Use class weights if classes are imbalanced\n",
        ")\n"
      ]
    },
    {
      "cell_type": "markdown",
      "metadata": {
        "id": "YvSixSVBWnhp"
      },
      "source": [
        "best model with class balancing:"
      ]
    },
    {
      "cell_type": "code",
      "execution_count": null,
      "metadata": {
        "id": "evGpXSC9Wnhq",
        "outputId": "d095dbf2-f5a7-4b49-d0f9-526f6f5ee56f"
      },
      "outputs": [
        {
          "name": "stdout",
          "output_type": "stream",
          "text": [
            "Epoch 1/100\n",
            "\u001b[1m1787/1787\u001b[0m \u001b[32m━━━━━━━━━━━━━━━━━━━━\u001b[0m\u001b[37m\u001b[0m \u001b[1m27s\u001b[0m 14ms/step - accuracy: 0.6119 - loss: 0.8103 - val_accuracy: 0.5926 - val_loss: 0.9284 - learning_rate: 0.0010\n",
            "Epoch 2/100\n",
            "\u001b[1m1787/1787\u001b[0m \u001b[32m━━━━━━━━━━━━━━━━━━━━\u001b[0m\u001b[37m\u001b[0m \u001b[1m38s\u001b[0m 21ms/step - accuracy: 0.6113 - loss: 0.8017 - val_accuracy: 0.5695 - val_loss: 1.0352 - learning_rate: 0.0010\n",
            "Epoch 3/100\n",
            "\u001b[1m1787/1787\u001b[0m \u001b[32m━━━━━━━━━━━━━━━━━━━━\u001b[0m\u001b[37m\u001b[0m \u001b[1m34s\u001b[0m 19ms/step - accuracy: 0.5704 - loss: 0.8743 - val_accuracy: 0.5810 - val_loss: 0.9954 - learning_rate: 0.0010\n",
            "Epoch 4/100\n",
            "\u001b[1m1787/1787\u001b[0m \u001b[32m━━━━━━━━━━━━━━━━━━━━\u001b[0m\u001b[37m\u001b[0m \u001b[1m34s\u001b[0m 19ms/step - accuracy: 0.6149 - loss: 0.7899 - val_accuracy: 0.5532 - val_loss: 1.0148 - learning_rate: 0.0010\n",
            "Epoch 5/100\n",
            "\u001b[1m1787/1787\u001b[0m \u001b[32m━━━━━━━━━━━━━━━━━━━━\u001b[0m\u001b[37m\u001b[0m \u001b[1m36s\u001b[0m 20ms/step - accuracy: 0.6019 - loss: 0.8026 - val_accuracy: 0.5896 - val_loss: 0.9696 - learning_rate: 0.0010\n",
            "Epoch 6/100\n",
            "\u001b[1m1787/1787\u001b[0m \u001b[32m━━━━━━━━━━━━━━━━━━━━\u001b[0m\u001b[37m\u001b[0m \u001b[1m37s\u001b[0m 21ms/step - accuracy: 0.6153 - loss: 0.7833 - val_accuracy: 0.5847 - val_loss: 0.9815 - learning_rate: 0.0010\n",
            "Epoch 7/100\n",
            "\u001b[1m1787/1787\u001b[0m \u001b[32m━━━━━━━━━━━━━━━━━━━━\u001b[0m\u001b[37m\u001b[0m \u001b[1m41s\u001b[0m 21ms/step - accuracy: 0.6413 - loss: 0.7270 - val_accuracy: 0.5968 - val_loss: 0.9364 - learning_rate: 5.0000e-04\n",
            "Epoch 8/100\n",
            "\u001b[1m1787/1787\u001b[0m \u001b[32m━━━━━━━━━━━━━━━━━━━━\u001b[0m\u001b[37m\u001b[0m \u001b[1m43s\u001b[0m 24ms/step - accuracy: 0.6495 - loss: 0.7049 - val_accuracy: 0.5889 - val_loss: 0.9440 - learning_rate: 5.0000e-04\n",
            "Epoch 9/100\n",
            "\u001b[1m1787/1787\u001b[0m \u001b[32m━━━━━━━━━━━━━━━━━━━━\u001b[0m\u001b[37m\u001b[0m \u001b[1m51s\u001b[0m 29ms/step - accuracy: 0.6582 - loss: 0.6926 - val_accuracy: 0.6090 - val_loss: 0.9180 - learning_rate: 5.0000e-04\n",
            "Epoch 10/100\n",
            "\u001b[1m1787/1787\u001b[0m \u001b[32m━━━━━━━━━━━━━━━━━━━━\u001b[0m\u001b[37m\u001b[0m \u001b[1m52s\u001b[0m 29ms/step - accuracy: 0.6598 - loss: 0.6850 - val_accuracy: 0.6048 - val_loss: 0.9515 - learning_rate: 5.0000e-04\n"
          ]
        }
      ],
      "source": [
        "# Train with class weights if needed\n",
        "history = best_model.fit(\n",
        "    X_train, y_train_one_hot,\n",
        "    epochs=100,\n",
        "    batch_size=32,\n",
        "    validation_data=(X_test, y_test_one_hot),\n",
        "    callbacks=callbacks,\n",
        "    class_weight=class_weights_dict  # Use class weights if classes are imbalanced\n",
        ")"
      ]
    },
    {
      "cell_type": "markdown",
      "metadata": {
        "id": "5TUora7bWnhq"
      },
      "source": [
        "### adding summary features"
      ]
    },
    {
      "cell_type": "code",
      "execution_count": null,
      "metadata": {
        "id": "cJ4eVS93Wnhq"
      },
      "outputs": [],
      "source": [
        "import numpy as np\n",
        "import scipy.stats as stats"
      ]
    },
    {
      "cell_type": "code",
      "execution_count": null,
      "metadata": {
        "id": "ipXcgfHgWnhq"
      },
      "outputs": [],
      "source": [
        "def load_and_apply_sliding_windows2(file_paths, window_size, step_size, label):\n",
        "    \"\"\"\n",
        "    Load the data from each file, apply sliding windows, and return the windows and labels.\n",
        "\n",
        "    Parameters:\n",
        "    file_paths (list): List of file paths to CSV files. Each file contains sensor data (e.g., accelerometer, gyroscope).\n",
        "    window_size (int): The size of each sliding window (number of time steps).\n",
        "    step_size (int): The step size (stride) between consecutive windows.\n",
        "    label (int or str): The label for the activity corresponding to the folder.\n",
        "                        This label will be assigned to each sliding window extracted from the data.\n",
        "\n",
        "    Returns:\n",
        "    tuple:\n",
        "        - windows (numpy.ndarray): A 3D array of sliding windows, where each window has the shape\n",
        "                                   (num_windows, window_size, num_features).\n",
        "        - labels (numpy.ndarray): A 1D array of labels, where each label corresponds to a sliding window.\n",
        "    \"\"\"\n",
        "    # Initialize lists to store sliding windows and their corresponding labels\n",
        "    windows = []\n",
        "    labels = []\n",
        "\n",
        "    # Loop through each file in the provided file paths\n",
        "    for file_path in file_paths:\n",
        "        # Load the CSV file into a pandas DataFrame\n",
        "        data = pd.read_csv(file_path)\n",
        "\n",
        "        # Select the columns containing the necessary sensor data (acceleration and gyroscope readings)\n",
        "        # These columns might vary depending on your dataset's structure\n",
        "        data = data[['accel_x', 'accel_y', 'accel_z']]\n",
        "\n",
        "        # Convert the DataFrame into a numpy array for faster processing in the sliding window operation\n",
        "        data = data.to_numpy()\n",
        "\n",
        "        # Get the number of samples (rows) and features (columns) in the data\n",
        "        num_samples, num_features = data.shape\n",
        "\n",
        "        # Apply sliding windows to the data\n",
        "        # The range function defines the start of each window, moving step_size increments at a time\n",
        "        for i in range(0, num_samples - window_size + 1, step_size):\n",
        "            # Extract a window of size 'window_size' from the current position 'i'\n",
        "            window = data[i:i + window_size, :]\n",
        "\n",
        "            # Calculate statistics for each axis in the window\n",
        "            mean = np.mean(window, axis=0)\n",
        "            std = np.std(window, axis=0)\n",
        "            min_val = np.min(window, axis=0)\n",
        "            max_val = np.max(window, axis=0)\n",
        "            skewness = stats.skew(window, axis=0)\n",
        "            kurtosis = stats.kurtosis(window, axis=0)\n",
        "            # Concatenate features into a single array\n",
        "            window_features = np.concatenate([mean, std, min_val, max_val, skewness, kurtosis])\n",
        "\n",
        "            # Reshape window_features to match the dimensions for concatenation\n",
        "            # Expand dimensions to make it compatible with the window (1, num_statistical_features)\n",
        "            window_features = np.expand_dims(window_features, axis=0)\n",
        "\n",
        "            # Repeat window_features along the first dimension to match the window shape\n",
        "            window_features_expanded = np.repeat(window_features, window.shape[0], axis=0)\n",
        "\n",
        "            # Concatenate window_features with the original window along the last axis\n",
        "            augmented_window = np.concatenate([window, window_features_expanded], axis=1)\n",
        "\n",
        "            # Append the window to the windows list\n",
        "            windows.append(augmented_window)\n",
        "\n",
        "            # Assign the activity label to the window and append it to the labels list\n",
        "            labels.append(label)\n",
        "\n",
        "\n",
        "    # Convert the lists of windows and labels into numpy arrays for efficient numerical operations\n",
        "    return np.array(windows), np.array(labels)"
      ]
    },
    {
      "cell_type": "code",
      "execution_count": null,
      "metadata": {
        "id": "Tor8RbJgWnhq"
      },
      "outputs": [],
      "source": [
        "def process_activity2(activity, label, dataset_path, window_size=50, step_size=50, test_size=0.2):\n",
        "    \"\"\"\n",
        "    Processes an activity folder by loading the file list, splitting them into\n",
        "    train and test sets, and applying sliding windows to the files.\n",
        "\n",
        "    Args:\n",
        "        activity (str): Name of the activity (folder name). This refers to the specific physical activity\n",
        "                        like 'walking', 'running', etc.\n",
        "        label (int): Numeric label corresponding to the activity, used for classification.\n",
        "        dataset_path (str): Base path where the activity folders are located.\n",
        "        window_size (int): Size of the sliding window, i.e., the number of time steps included in each window.\n",
        "                           Default is 50.\n",
        "        step_size (int): Step size for the sliding window, i.e., how far the window moves along the data.\n",
        "                         Default is 50 (no overlap between windows).\n",
        "        test_size (float): Proportion of files to use for testing. Default is 0.2, meaning 20% of files will\n",
        "                           be allocated to the test set.\n",
        "\n",
        "    Returns:\n",
        "        tuple:\n",
        "            - train_windows (numpy.ndarray): Sliding windows from the training files.\n",
        "            - train_labels (numpy.ndarray): Corresponding labels for the training windows.\n",
        "            - test_windows (numpy.ndarray): Sliding windows from the test files.\n",
        "            - test_labels (numpy.ndarray): Corresponding labels for the test windows.\n",
        "    \"\"\"\n",
        "    # Construct the full folder path where the activity files are stored\n",
        "    folder_path = os.path.join(dataset_path, activity)\n",
        "\n",
        "    # Load all CSV file paths for the given activity from the folder\n",
        "    file_list = load_files_from_folder(folder_path)\n",
        "\n",
        "    # Split the file list into training and testing sets\n",
        "    # train_files: files used for training\n",
        "    # test_files: files used for testing\n",
        "    train_files, test_files = split_files(file_list, test_size=test_size)\n",
        "\n",
        "    # Apply sliding windows to the training files\n",
        "    # The function 'load_and_apply_sliding_windows' returns the sliding windows (segments) and their corresponding labels\n",
        "    train_windows, train_labels = load_and_apply_sliding_windows2(train_files, window_size, step_size, label)\n",
        "\n",
        "    # Apply sliding windows to the testing files\n",
        "    test_windows, test_labels = load_and_apply_sliding_windows2(test_files, window_size, step_size, label)\n",
        "\n",
        "    # Return the sliding windows and their labels for both training and testing sets\n",
        "    return train_windows, train_labels, test_windows, test_labels"
      ]
    },
    {
      "cell_type": "code",
      "execution_count": null,
      "metadata": {
        "id": "OiSiQxXhWnhq",
        "outputId": "914b854b-8b45-44f8-ec43-cbee69a25a15"
      },
      "outputs": [
        {
          "ename": "KeyboardInterrupt",
          "evalue": "",
          "output_type": "error",
          "traceback": [
            "\u001b[1;31m---------------------------------------------------------------------------\u001b[0m",
            "\u001b[1;31mKeyboardInterrupt\u001b[0m                         Traceback (most recent call last)",
            "Cell \u001b[1;32mIn [30], line 15\u001b[0m\n\u001b[0;32m      9\u001b[0m train_test_data2[activity] \u001b[38;5;241m=\u001b[39m {}\n\u001b[0;32m     11\u001b[0m \u001b[38;5;66;03m# Call process_activity() to process the data for the current activity folder\u001b[39;00m\n\u001b[0;32m     12\u001b[0m \u001b[38;5;66;03m# It loads the data, applies sliding windows, splits it into train and test sets,\u001b[39;00m\n\u001b[0;32m     13\u001b[0m \u001b[38;5;66;03m# and returns the respective sliding windows and labels for both sets.\u001b[39;00m\n\u001b[0;32m     14\u001b[0m (train_test_data2[activity][\u001b[38;5;124m'\u001b[39m\u001b[38;5;124mtrain_windows\u001b[39m\u001b[38;5;124m'\u001b[39m], train_test_data2[activity][\u001b[38;5;124m'\u001b[39m\u001b[38;5;124mtrain_labels\u001b[39m\u001b[38;5;124m'\u001b[39m],\n\u001b[1;32m---> 15\u001b[0m  train_test_data2[activity][\u001b[38;5;124m'\u001b[39m\u001b[38;5;124mtest_windows\u001b[39m\u001b[38;5;124m'\u001b[39m], train_test_data2[activity][\u001b[38;5;124m'\u001b[39m\u001b[38;5;124mtest_labels\u001b[39m\u001b[38;5;124m'\u001b[39m]) \u001b[38;5;241m=\u001b[39m \u001b[43mprocess_activity2\u001b[49m\u001b[43m(\u001b[49m\n\u001b[0;32m     16\u001b[0m \u001b[43m    \u001b[49m\u001b[43mactivity\u001b[49m\u001b[43m,\u001b[49m\u001b[43m \u001b[49m\u001b[43mlabel\u001b[49m\u001b[43m,\u001b[49m\u001b[43m \u001b[49m\u001b[43myour_dataset_path\u001b[49m\u001b[43m,\u001b[49m\u001b[43m \u001b[49m\u001b[43mwindow_size\u001b[49m\u001b[38;5;241;43m=\u001b[39;49m\u001b[38;5;241;43m50\u001b[39;49m\u001b[43m,\u001b[49m\u001b[43m \u001b[49m\u001b[43mstep_size\u001b[49m\u001b[38;5;241;43m=\u001b[39;49m\u001b[38;5;241;43m50\u001b[39;49m\u001b[43m)\u001b[49m\n",
            "Cell \u001b[1;32mIn [29], line 38\u001b[0m, in \u001b[0;36mprocess_activity2\u001b[1;34m(activity, label, dataset_path, window_size, step_size, test_size)\u001b[0m\n\u001b[0;32m     34\u001b[0m train_files, test_files \u001b[38;5;241m=\u001b[39m split_files(file_list, test_size\u001b[38;5;241m=\u001b[39mtest_size)\n\u001b[0;32m     36\u001b[0m \u001b[38;5;66;03m# Apply sliding windows to the training files\u001b[39;00m\n\u001b[0;32m     37\u001b[0m \u001b[38;5;66;03m# The function 'load_and_apply_sliding_windows' returns the sliding windows (segments) and their corresponding labels\u001b[39;00m\n\u001b[1;32m---> 38\u001b[0m train_windows, train_labels \u001b[38;5;241m=\u001b[39m \u001b[43mload_and_apply_sliding_windows2\u001b[49m\u001b[43m(\u001b[49m\u001b[43mtrain_files\u001b[49m\u001b[43m,\u001b[49m\u001b[43m \u001b[49m\u001b[43mwindow_size\u001b[49m\u001b[43m,\u001b[49m\u001b[43m \u001b[49m\u001b[43mstep_size\u001b[49m\u001b[43m,\u001b[49m\u001b[43m \u001b[49m\u001b[43mlabel\u001b[49m\u001b[43m)\u001b[49m\n\u001b[0;32m     40\u001b[0m \u001b[38;5;66;03m# Apply sliding windows to the testing files\u001b[39;00m\n\u001b[0;32m     41\u001b[0m test_windows, test_labels \u001b[38;5;241m=\u001b[39m load_and_apply_sliding_windows2(test_files, window_size, step_size, label)\n",
            "Cell \u001b[1;32mIn [28], line 61\u001b[0m, in \u001b[0;36mload_and_apply_sliding_windows2\u001b[1;34m(file_paths, window_size, step_size, label)\u001b[0m\n\u001b[0;32m     58\u001b[0m window_features_expanded \u001b[38;5;241m=\u001b[39m np\u001b[38;5;241m.\u001b[39mrepeat(window_features, window\u001b[38;5;241m.\u001b[39mshape[\u001b[38;5;241m0\u001b[39m], axis\u001b[38;5;241m=\u001b[39m\u001b[38;5;241m0\u001b[39m)\n\u001b[0;32m     60\u001b[0m \u001b[38;5;66;03m# Concatenate window_features with the original window along the last axis\u001b[39;00m\n\u001b[1;32m---> 61\u001b[0m augmented_window \u001b[38;5;241m=\u001b[39m \u001b[43mnp\u001b[49m\u001b[38;5;241;43m.\u001b[39;49m\u001b[43mconcatenate\u001b[49m\u001b[43m(\u001b[49m\u001b[43m[\u001b[49m\u001b[43mwindow\u001b[49m\u001b[43m,\u001b[49m\u001b[43m \u001b[49m\u001b[43mwindow_features_expanded\u001b[49m\u001b[43m]\u001b[49m\u001b[43m,\u001b[49m\u001b[43m \u001b[49m\u001b[43maxis\u001b[49m\u001b[38;5;241;43m=\u001b[39;49m\u001b[38;5;241;43m1\u001b[39;49m\u001b[43m)\u001b[49m\n\u001b[0;32m     63\u001b[0m \u001b[38;5;66;03m# Append the window to the windows list\u001b[39;00m\n\u001b[0;32m     64\u001b[0m windows\u001b[38;5;241m.\u001b[39mappend(augmented_window)\n",
            "\u001b[1;31mKeyboardInterrupt\u001b[0m: "
          ]
        }
      ],
      "source": [
        "# Dictionary to store sliding windows and labels for both train and test sets for each activity\n",
        "# This will hold the training and test data after processing each activity.\n",
        "train_test_data2 = {}\n",
        "\n",
        "# Loop through each activity folder and process the data\n",
        "# Note, if you have large amounts of data, this step may take a while\n",
        "for activity, label in activities.items():\n",
        "    # Initialize an empty dictionary for each activity to store train and test windows and labels\n",
        "    train_test_data2[activity] = {}\n",
        "\n",
        "    # Call process_activity() to process the data for the current activity folder\n",
        "    # It loads the data, applies sliding windows, splits it into train and test sets,\n",
        "    # and returns the respective sliding windows and labels for both sets.\n",
        "    (train_test_data2[activity]['train_windows'], train_test_data2[activity]['train_labels'],\n",
        "     train_test_data2[activity]['test_windows'], train_test_data2[activity]['test_labels']) = process_activity2(\n",
        "        activity, label, your_dataset_path, window_size=50, step_size=50)\n",
        "\n",
        "# Explanation:\n",
        "    # - 'train_windows' and 'train_labels' store the windows and labels from the training files.\n",
        "    # - 'test_windows' and 'test_labels' store the windows and labels from the test files.\n",
        "    # - `your_dataset_path` should be replaced with the actual path to your dataset.\n",
        "    # - `process_activity` handles all the steps of loading data, splitting it, and applying sliding windows."
      ]
    },
    {
      "cell_type": "code",
      "execution_count": null,
      "metadata": {
        "id": "PYn3HFyLWnhq"
      },
      "outputs": [],
      "source": [
        "# Combine the sliding windows and labels for the training data from all activities\n",
        "# The combine_data() function concatenates the windows and labels across activities\n",
        "X_train2, y_train2 = combine_data(train_test_data2, 'train')\n",
        "\n",
        "# Combine the sliding windows and labels for the test data from all activities\n",
        "X_test2, y_test2 = combine_data(train_test_data2, 'test')\n",
        "\n",
        "# Explanation:\n",
        "# - `combine_data()` takes in the `train_test_data` dictionary and the data type ('train' or 'test') to specify\n",
        "#   whether we are combining training or testing data.\n",
        "# - It retrieves and concatenates the windows and labels from all activities into single arrays\n",
        "#   (`X_train` and `y_train` for training, `X_test` and `y_test` for testing).\n",
        "# - `X_train` and `X_test` are 3D arrays of sliding windows (shape: num_windows, window_size, num_features).\n",
        "# - `y_train` and `y_test` are 1D arrays containing the activity labels corresponding to each window."
      ]
    },
    {
      "cell_type": "code",
      "execution_count": null,
      "metadata": {
        "id": "v46AxEjjWnhq",
        "outputId": "27becdf9-dd17-45fe-e38c-cf50a360a35c"
      },
      "outputs": [
        {
          "name": "stdout",
          "output_type": "stream",
          "text": [
            "X_train2 shape: (57159, 50, 21), y_train2 shape: (57159,)\n",
            "X_test2 shape: (14333, 50, 21), y_test2 shape: (14333,)\n"
          ]
        }
      ],
      "source": [
        "# Print the shapes of the training and test arrays to verify that everything has been combined correctly\n",
        "print(f\"X_train2 shape: {X_train2.shape}, y_train2 shape: {y_train2.shape}\")\n",
        "print(f\"X_test2 shape: {X_test2.shape}, y_test2 shape: {y_test2.shape}\")"
      ]
    },
    {
      "cell_type": "code",
      "execution_count": null,
      "metadata": {
        "id": "ZN6IwhHYWnhq"
      },
      "outputs": [],
      "source": [
        "import tensorflow as tf\n",
        "from tensorflow.keras.models import Sequential\n",
        "from tensorflow.keras.layers import Conv1D, MaxPooling1D, LSTM, Dense, Dropout, Flatten\n",
        "from tensorflow.keras.callbacks import EarlyStopping, ReduceLROnPlateau\n",
        "from sklearn.metrics import classification_report"
      ]
    },
    {
      "cell_type": "code",
      "execution_count": null,
      "metadata": {
        "id": "lFGVHuaVWnhr",
        "outputId": "30cbe612-f9ec-401f-f09a-99d766de5707"
      },
      "outputs": [
        {
          "name": "stderr",
          "output_type": "stream",
          "text": [
            "C:\\Users\\luise\\AppData\\Local\\Packages\\PythonSoftwareFoundation.Python.3.10_qbz5n2kfra8p0\\LocalCache\\local-packages\\Python310\\site-packages\\keras\\src\\layers\\convolutional\\base_conv.py:107: UserWarning: Do not pass an `input_shape`/`input_dim` argument to a layer. When using Sequential models, prefer using an `Input(shape)` object as the first layer in the model instead.\n",
            "  super().__init__(activity_regularizer=activity_regularizer, **kwargs)\n"
          ]
        },
        {
          "name": "stdout",
          "output_type": "stream",
          "text": [
            "Epoch 1/50\n",
            "\u001b[1m1787/1787\u001b[0m \u001b[32m━━━━━━━━━━━━━━━━━━━━\u001b[0m\u001b[37m\u001b[0m \u001b[1m38s\u001b[0m 19ms/step - accuracy: 0.5388 - loss: 1.0740 - val_accuracy: 0.5946 - val_loss: 0.9328 - learning_rate: 0.0010\n",
            "Epoch 2/50\n",
            "\u001b[1m1787/1787\u001b[0m \u001b[32m━━━━━━━━━━━━━━━━━━━━\u001b[0m\u001b[37m\u001b[0m \u001b[1m35s\u001b[0m 19ms/step - accuracy: 0.5881 - loss: 0.8911 - val_accuracy: 0.6034 - val_loss: 0.8747 - learning_rate: 0.0010\n",
            "Epoch 3/50\n",
            "\u001b[1m1787/1787\u001b[0m \u001b[32m━━━━━━━━━━━━━━━━━━━━\u001b[0m\u001b[37m\u001b[0m \u001b[1m32s\u001b[0m 18ms/step - accuracy: 0.5973 - loss: 0.8633 - val_accuracy: 0.6152 - val_loss: 0.8385 - learning_rate: 0.0010\n",
            "Epoch 4/50\n",
            "\u001b[1m1787/1787\u001b[0m \u001b[32m━━━━━━━━━━━━━━━━━━━━\u001b[0m\u001b[37m\u001b[0m \u001b[1m35s\u001b[0m 20ms/step - accuracy: 0.6060 - loss: 0.8413 - val_accuracy: 0.6016 - val_loss: 0.8969 - learning_rate: 0.0010\n",
            "Epoch 5/50\n",
            "\u001b[1m1787/1787\u001b[0m \u001b[32m━━━━━━━━━━━━━━━━━━━━\u001b[0m\u001b[37m\u001b[0m \u001b[1m32s\u001b[0m 18ms/step - accuracy: 0.6175 - loss: 0.8296 - val_accuracy: 0.6089 - val_loss: 0.8707 - learning_rate: 0.0010\n",
            "Epoch 6/50\n",
            "\u001b[1m1787/1787\u001b[0m \u001b[32m━━━━━━━━━━━━━━━━━━━━\u001b[0m\u001b[37m\u001b[0m \u001b[1m34s\u001b[0m 19ms/step - accuracy: 0.6226 - loss: 0.8166 - val_accuracy: 0.6228 - val_loss: 0.8487 - learning_rate: 0.0010\n",
            "Epoch 7/50\n",
            "\u001b[1m1787/1787\u001b[0m \u001b[32m━━━━━━━━━━━━━━━━━━━━\u001b[0m\u001b[37m\u001b[0m \u001b[1m40s\u001b[0m 22ms/step - accuracy: 0.6287 - loss: 0.8111 - val_accuracy: 0.6147 - val_loss: 0.8517 - learning_rate: 0.0010\n",
            "Epoch 8/50\n",
            "\u001b[1m1787/1787\u001b[0m \u001b[32m━━━━━━━━━━━━━━━━━━━━\u001b[0m\u001b[37m\u001b[0m \u001b[1m41s\u001b[0m 23ms/step - accuracy: 0.6301 - loss: 0.8008 - val_accuracy: 0.6101 - val_loss: 0.8784 - learning_rate: 0.0010\n",
            "Epoch 9/50\n",
            "\u001b[1m1787/1787\u001b[0m \u001b[32m━━━━━━━━━━━━━━━━━━━━\u001b[0m\u001b[37m\u001b[0m \u001b[1m43s\u001b[0m 24ms/step - accuracy: 0.6440 - loss: 0.7806 - val_accuracy: 0.6161 - val_loss: 0.8635 - learning_rate: 5.0000e-04\n",
            "Epoch 10/50\n",
            "\u001b[1m1787/1787\u001b[0m \u001b[32m━━━━━━━━━━━━━━━━━━━━\u001b[0m\u001b[37m\u001b[0m \u001b[1m36s\u001b[0m 20ms/step - accuracy: 0.6594 - loss: 0.7609 - val_accuracy: 0.6162 - val_loss: 0.8709 - learning_rate: 5.0000e-04\n",
            "Epoch 11/50\n",
            "\u001b[1m1787/1787\u001b[0m \u001b[32m━━━━━━━━━━━━━━━━━━━━\u001b[0m\u001b[37m\u001b[0m \u001b[1m35s\u001b[0m 19ms/step - accuracy: 0.6537 - loss: 0.7602 - val_accuracy: 0.5969 - val_loss: 0.9001 - learning_rate: 5.0000e-04\n",
            "Epoch 12/50\n",
            "\u001b[1m1787/1787\u001b[0m \u001b[32m━━━━━━━━━━━━━━━━━━━━\u001b[0m\u001b[37m\u001b[0m \u001b[1m37s\u001b[0m 21ms/step - accuracy: 0.6572 - loss: 0.7511 - val_accuracy: 0.6062 - val_loss: 0.9005 - learning_rate: 5.0000e-04\n",
            "Epoch 13/50\n",
            "\u001b[1m1787/1787\u001b[0m \u001b[32m━━━━━━━━━━━━━━━━━━━━\u001b[0m\u001b[37m\u001b[0m \u001b[1m38s\u001b[0m 21ms/step - accuracy: 0.6638 - loss: 0.7448 - val_accuracy: 0.6106 - val_loss: 0.8995 - learning_rate: 5.0000e-04\n",
            "\u001b[1m448/448\u001b[0m \u001b[32m━━━━━━━━━━━━━━━━━━━━\u001b[0m\u001b[37m\u001b[0m \u001b[1m3s\u001b[0m 8ms/step - accuracy: 0.4755 - loss: 0.9393\n",
            "Test Accuracy: 61.52%\n",
            "\u001b[1m448/448\u001b[0m \u001b[32m━━━━━━━━━━━━━━━━━━━━\u001b[0m\u001b[37m\u001b[0m \u001b[1m4s\u001b[0m 8ms/step\n",
            "                   precision    recall  f1-score   support\n",
            "\n",
            "breathingNormally       0.70      0.37      0.49      2793\n",
            "         coughing       0.64      0.65      0.65      2169\n",
            " hyperventilation       0.56      0.18      0.28      2167\n",
            "            other       0.60      0.83      0.70      7204\n",
            "\n",
            "         accuracy                           0.62     14333\n",
            "        macro avg       0.63      0.51      0.53     14333\n",
            "     weighted avg       0.62      0.62      0.58     14333\n",
            "\n"
          ]
        }
      ],
      "source": [
        "# Define the model architecture\n",
        "model3 = Sequential()\n",
        "\n",
        "# Convolutional layers\n",
        "model3.add(Conv1D(filters=64, kernel_size=3, activation='relu', input_shape=(50, 21)))\n",
        "model3.add(MaxPooling1D(pool_size=2))\n",
        "model3.add(Dropout(0.3))\n",
        "\n",
        "model3.add(Conv1D(filters=128, kernel_size=3, activation='relu'))\n",
        "model3.add(MaxPooling1D(pool_size=2))\n",
        "model3.add(Dropout(0.3))\n",
        "\n",
        "# LSTM layers for temporal dependencies\n",
        "model3.add(LSTM(100, return_sequences=True))\n",
        "model3.add(LSTM(50))\n",
        "\n",
        "# Dense layers for classification\n",
        "model3.add(Dense(50, activation='relu'))\n",
        "model3.add(Dropout(0.5))\n",
        "model3.add(Dense(4, activation='softmax'))  # 4 classes\n",
        "\n",
        "# Compile the model\n",
        "model3.compile(optimizer=tf.keras.optimizers.Adam(learning_rate=0.001),\n",
        "              loss='sparse_categorical_crossentropy',\n",
        "              metrics=['accuracy'])\n",
        "\n",
        "# Callbacks for improved performance\n",
        "callbacks = [\n",
        "    EarlyStopping(monitor='val_loss', patience=10, restore_best_weights=True),\n",
        "    ReduceLROnPlateau(monitor='val_loss', factor=0.5, patience=5, min_lr=1e-5)\n",
        "]\n",
        "\n",
        "# Train the model\n",
        "history = model3.fit(\n",
        "    X_train2, y_train2,\n",
        "    epochs=50,\n",
        "    batch_size=32,\n",
        "    validation_data=(X_test2, y_test2),\n",
        "    callbacks=callbacks\n",
        ")\n",
        "\n",
        "# Evaluate the model on test data\n",
        "test_loss, test_accuracy = model3.evaluate(X_test2, y_test2)\n",
        "print(f\"Test Accuracy: {test_accuracy * 100:.2f}%\")\n",
        "\n",
        "# Predict and print class-wise accuracy\n",
        "y_pred = model3.predict(X_test2)\n",
        "y_pred_classes = y_pred.argmax(axis=1)\n",
        "\n",
        "# Classification report\n",
        "report = classification_report(y_test2, y_pred_classes, target_names=['breathingNormally', 'coughing', 'hyperventilation', 'other'])\n",
        "print(report)"
      ]
    },
    {
      "cell_type": "markdown",
      "metadata": {
        "id": "7Ogg-NLhWnhr"
      },
      "source": [
        "using previous best model (not GPT's):"
      ]
    },
    {
      "cell_type": "code",
      "execution_count": null,
      "metadata": {
        "id": "qafNYKgTWnhr"
      },
      "outputs": [],
      "source": [
        "# Initialize the OneHotEncoder\n",
        "encoder = OneHotEncoder(sparse_output=False)\n",
        "\n",
        "# Reshape y_train to a 2D array to meet the input format requirements of OneHotEncoder\n",
        "# - y_train is originally a 1D array of labels (shape: [num_samples]), but OneHotEncoder expects a 2D array of shape (num_samples, 1).\n",
        "# - reshape(-1, 1): The -1 means 'infer the correct size based on the other dimensions' (i.e., it adapts based on the length of y_train).\n",
        "# OneHotEncoder will then create a binary vector for each label.\n",
        "y_train_one_hot2 = encoder.fit_transform(y_train2.reshape(-1, 1))\n",
        "\n",
        "# Apply the same transformation to the test labels (y_test)\n",
        "# - Since the encoder is already fitted on the training data, we use transform() for the test set.\n",
        "# - Reshape y_test to (num_samples, 1) for compatibility with the encoder.\n",
        "y_test_one_hot2 = encoder.transform(y_test2.reshape(-1, 1))\n",
        "\n",
        "# Explanation:\n",
        "# - y_train_one_hot and y_test_one_hot are now 2D arrays where each row is a one-hot encoded binary vector corresponding to a class label.\n",
        "# - The number of columns in the one-hot encoded labels equals the number of unique classes (activities).\n",
        "# For example, if there are 6 unique activities, the encoded vector will have 6 elements, with a '1' indicating the correct class."
      ]
    },
    {
      "cell_type": "code",
      "execution_count": null,
      "metadata": {
        "id": "rLh602ROWnhr",
        "outputId": "02c1f424-c83c-4b68-a806-38ec01d93d61"
      },
      "outputs": [
        {
          "name": "stdout",
          "output_type": "stream",
          "text": [
            "X_train2 shape: (57159, 50, 21), y_train2 shape: (57159,)\n",
            "X_test2 shape: (14333, 50, 21), y_test2 shape: (14333,)\n",
            "y_train_one_hot2 shape: (57159, 4), y_test_one_hot2 shape: (14333, 4)\n"
          ]
        }
      ],
      "source": [
        "# Print the shapes of the training and test arrays to verify that everything has been combined correctly\n",
        "print(f\"X_train2 shape: {X_train2.shape}, y_train2 shape: {y_train2.shape}\")\n",
        "print(f\"X_test2 shape: {X_test2.shape}, y_test2 shape: {y_test2.shape}\")\n",
        "\n",
        "# Print the shapes of the one-hot encoded labels to verify that the transformation was successful\n",
        "print(f\"y_train_one_hot2 shape: {y_train_one_hot2.shape}, y_test_one_hot2 shape: {y_test_one_hot2.shape}\")\n",
        "\n",
        "# Explanation of shapes:\n",
        "# - The shape of y_train_one_hot will be (num_samples, num_classes), where:\n",
        "#     - num_samples is the number of training windows.\n",
        "#     - num_classes is the number of unique activities (the length of the one-hot vectors).\n",
        "# - Similarly, y_test_one_hot will have the same number of columns (num_classes) as y_train_one_hot but will have fewer rows (corresponding to the number of test windows)."
      ]
    },
    {
      "cell_type": "code",
      "execution_count": null,
      "metadata": {
        "id": "K7wVLd9OWnhr"
      },
      "outputs": [],
      "source": [
        "# Train the model\n",
        "best_model2 = build_best_tuning_model(input_shape=(50,21))\n",
        "history = best_model2.fit(\n",
        "    X_train2, y_train_one_hot2,\n",
        "    epochs=50,\n",
        "    batch_size=32,\n",
        "    validation_data=(X_test2, y_test_one_hot2),\n",
        "    callbacks=callbacks\n",
        ")"
      ]
    },
    {
      "cell_type": "code",
      "execution_count": null,
      "metadata": {
        "id": "Rxi_L2CcWnhr",
        "outputId": "3e5d01fb-d0f6-4823-a025-072186b3d174"
      },
      "outputs": [
        {
          "name": "stdout",
          "output_type": "stream",
          "text": [
            "\u001b[1m448/448\u001b[0m \u001b[32m━━━━━━━━━━━━━━━━━━━━\u001b[0m\u001b[37m\u001b[0m \u001b[1m2s\u001b[0m 4ms/step - accuracy: 0.4411 - loss: 1.1358\n",
            "Test Accuracy: 59.18%\n",
            "\u001b[1m448/448\u001b[0m \u001b[32m━━━━━━━━━━━━━━━━━━━━\u001b[0m\u001b[37m\u001b[0m \u001b[1m2s\u001b[0m 5ms/step\n",
            "                   precision    recall  f1-score   support\n",
            "\n",
            "breathingNormally       0.70      0.30      0.42      2793\n",
            "         coughing       0.55      0.66      0.60      2169\n",
            " hyperventilation       0.52      0.21      0.29      2167\n",
            "            other       0.60      0.80      0.68      7204\n",
            "\n",
            "         accuracy                           0.59     14333\n",
            "        macro avg       0.59      0.49      0.50     14333\n",
            "     weighted avg       0.60      0.59      0.56     14333\n",
            "\n"
          ]
        }
      ],
      "source": [
        "\n",
        "\n",
        "# Evaluate the model on test data\n",
        "test_loss, test_accuracy = best_model2.evaluate(X_test2, y_test_one_hot2)\n",
        "print(f\"Test Accuracy: {test_accuracy * 100:.2f}%\")\n",
        "\n",
        "# Predict and print class-wise accuracy\n",
        "y_pred = best_model2.predict(X_test2)\n",
        "y_pred_classes = y_pred.argmax(axis=1)\n",
        "\n",
        "# Classification report\n",
        "report = classification_report(y_test2, y_pred_classes, target_names=['breathingNormally', 'coughing', 'hyperventilation', 'other'])\n",
        "print(report)"
      ]
    },
    {
      "cell_type": "markdown",
      "metadata": {
        "id": "Aaet6hPzWnhr"
      },
      "source": [
        "### Transformer model"
      ]
    },
    {
      "cell_type": "code",
      "execution_count": null,
      "metadata": {
        "id": "NQ_mQzvLWnhr"
      },
      "outputs": [],
      "source": [
        "import tensorflow as tf\n",
        "from tensorflow.keras.layers import Input, Dense, MultiHeadAttention, LayerNormalization, Dropout, GlobalAveragePooling1D\n",
        "from tensorflow.keras.models import Model"
      ]
    },
    {
      "cell_type": "code",
      "execution_count": null,
      "metadata": {
        "id": "pWfRbfzFWnhr",
        "outputId": "b78d26de-d9a3-4229-c670-a37d9b11af70"
      },
      "outputs": [
        {
          "name": "stdout",
          "output_type": "stream",
          "text": [
            "Epoch 1/50\n",
            "\u001b[1m1787/1787\u001b[0m \u001b[32m━━━━━━━━━━━━━━━━━━━━\u001b[0m\u001b[37m\u001b[0m \u001b[1m16s\u001b[0m 8ms/step - accuracy: 0.4953 - loss: 1.2526 - val_accuracy: 0.5026 - val_loss: 1.2360 - learning_rate: 5.0000e-04\n",
            "Epoch 2/50\n",
            "\u001b[1m1787/1787\u001b[0m \u001b[32m━━━━━━━━━━━━━━━━━━━━\u001b[0m\u001b[37m\u001b[0m \u001b[1m14s\u001b[0m 8ms/step - accuracy: 0.5051 - loss: 1.2365 - val_accuracy: 0.5026 - val_loss: 1.2312 - learning_rate: 5.0000e-04\n",
            "Epoch 3/50\n",
            "\u001b[1m1787/1787\u001b[0m \u001b[32m━━━━━━━━━━━━━━━━━━━━\u001b[0m\u001b[37m\u001b[0m \u001b[1m20s\u001b[0m 11ms/step - accuracy: 0.5098 - loss: 1.2269 - val_accuracy: 0.5339 - val_loss: 1.1849 - learning_rate: 5.0000e-04\n",
            "Epoch 4/50\n",
            "\u001b[1m1787/1787\u001b[0m \u001b[32m━━━━━━━━━━━━━━━━━━━━\u001b[0m\u001b[37m\u001b[0m \u001b[1m17s\u001b[0m 10ms/step - accuracy: 0.5317 - loss: 1.1937 - val_accuracy: 0.5332 - val_loss: 1.1791 - learning_rate: 5.0000e-04\n",
            "Epoch 5/50\n",
            "\u001b[1m1787/1787\u001b[0m \u001b[32m━━━━━━━━━━━━━━━━━━━━\u001b[0m\u001b[37m\u001b[0m \u001b[1m17s\u001b[0m 10ms/step - accuracy: 0.5309 - loss: 1.1840 - val_accuracy: 0.5383 - val_loss: 1.1481 - learning_rate: 5.0000e-04\n",
            "Epoch 6/50\n",
            "\u001b[1m1787/1787\u001b[0m \u001b[32m━━━━━━━━━━━━━━━━━━━━\u001b[0m\u001b[37m\u001b[0m \u001b[1m17s\u001b[0m 10ms/step - accuracy: 0.5396 - loss: 1.1390 - val_accuracy: 0.5769 - val_loss: 1.0447 - learning_rate: 5.0000e-04\n",
            "Epoch 7/50\n",
            "\u001b[1m1787/1787\u001b[0m \u001b[32m━━━━━━━━━━━━━━━━━━━━\u001b[0m\u001b[37m\u001b[0m \u001b[1m18s\u001b[0m 10ms/step - accuracy: 0.5488 - loss: 1.0654 - val_accuracy: 0.5718 - val_loss: 0.9831 - learning_rate: 5.0000e-04\n",
            "Epoch 8/50\n",
            "\u001b[1m1787/1787\u001b[0m \u001b[32m━━━━━━━━━━━━━━━━━━━━\u001b[0m\u001b[37m\u001b[0m \u001b[1m18s\u001b[0m 10ms/step - accuracy: 0.5560 - loss: 1.0275 - val_accuracy: 0.5692 - val_loss: 1.0074 - learning_rate: 5.0000e-04\n",
            "Epoch 9/50\n",
            "\u001b[1m1787/1787\u001b[0m \u001b[32m━━━━━━━━━━━━━━━━━━━━\u001b[0m\u001b[37m\u001b[0m \u001b[1m19s\u001b[0m 11ms/step - accuracy: 0.5487 - loss: 1.0182 - val_accuracy: 0.5722 - val_loss: 0.9527 - learning_rate: 5.0000e-04\n",
            "Epoch 10/50\n",
            "\u001b[1m1787/1787\u001b[0m \u001b[32m━━━━━━━━━━━━━━━━━━━━\u001b[0m\u001b[37m\u001b[0m \u001b[1m19s\u001b[0m 10ms/step - accuracy: 0.5536 - loss: 1.0034 - val_accuracy: 0.5715 - val_loss: 0.9525 - learning_rate: 5.0000e-04\n",
            "Epoch 11/50\n",
            "\u001b[1m1787/1787\u001b[0m \u001b[32m━━━━━━━━━━━━━━━━━━━━\u001b[0m\u001b[37m\u001b[0m \u001b[1m19s\u001b[0m 11ms/step - accuracy: 0.5530 - loss: 0.9960 - val_accuracy: 0.5721 - val_loss: 0.9727 - learning_rate: 5.0000e-04\n",
            "Epoch 12/50\n",
            "\u001b[1m1787/1787\u001b[0m \u001b[32m━━━━━━━━━━━━━━━━━━━━\u001b[0m\u001b[37m\u001b[0m \u001b[1m19s\u001b[0m 11ms/step - accuracy: 0.5571 - loss: 0.9943 - val_accuracy: 0.5722 - val_loss: 0.9451 - learning_rate: 5.0000e-04\n",
            "Epoch 13/50\n",
            "\u001b[1m1787/1787\u001b[0m \u001b[32m━━━━━━━━━━━━━━━━━━━━\u001b[0m\u001b[37m\u001b[0m \u001b[1m19s\u001b[0m 11ms/step - accuracy: 0.5504 - loss: 0.9964 - val_accuracy: 0.4839 - val_loss: 1.1344 - learning_rate: 5.0000e-04\n",
            "Epoch 14/50\n",
            "\u001b[1m1787/1787\u001b[0m \u001b[32m━━━━━━━━━━━━━━━━━━━━\u001b[0m\u001b[37m\u001b[0m \u001b[1m20s\u001b[0m 11ms/step - accuracy: 0.5430 - loss: 1.0051 - val_accuracy: 0.5768 - val_loss: 0.9466 - learning_rate: 5.0000e-04\n",
            "Epoch 15/50\n",
            "\u001b[1m1787/1787\u001b[0m \u001b[32m━━━━━━━━━━━━━━━━━━━━\u001b[0m\u001b[37m\u001b[0m \u001b[1m21s\u001b[0m 11ms/step - accuracy: 0.5595 - loss: 0.9702 - val_accuracy: 0.5745 - val_loss: 0.9515 - learning_rate: 5.0000e-04\n",
            "Epoch 16/50\n",
            "\u001b[1m1787/1787\u001b[0m \u001b[32m━━━━━━━━━━━━━━━━━━━━\u001b[0m\u001b[37m\u001b[0m \u001b[1m21s\u001b[0m 12ms/step - accuracy: 0.5584 - loss: 0.9648 - val_accuracy: 0.5824 - val_loss: 0.9425 - learning_rate: 5.0000e-04\n",
            "Epoch 17/50\n",
            "\u001b[1m1787/1787\u001b[0m \u001b[32m━━━━━━━━━━━━━━━━━━━━\u001b[0m\u001b[37m\u001b[0m \u001b[1m21s\u001b[0m 12ms/step - accuracy: 0.5619 - loss: 0.9536 - val_accuracy: 0.5794 - val_loss: 0.9213 - learning_rate: 5.0000e-04\n",
            "Epoch 18/50\n",
            "\u001b[1m1787/1787\u001b[0m \u001b[32m━━━━━━━━━━━━━━━━━━━━\u001b[0m\u001b[37m\u001b[0m \u001b[1m21s\u001b[0m 12ms/step - accuracy: 0.5662 - loss: 0.9475 - val_accuracy: 0.5824 - val_loss: 0.9539 - learning_rate: 5.0000e-04\n",
            "Epoch 19/50\n",
            "\u001b[1m1787/1787\u001b[0m \u001b[32m━━━━━━━━━━━━━━━━━━━━\u001b[0m\u001b[37m\u001b[0m \u001b[1m21s\u001b[0m 11ms/step - accuracy: 0.5645 - loss: 0.9487 - val_accuracy: 0.5826 - val_loss: 0.9226 - learning_rate: 5.0000e-04\n",
            "Epoch 20/50\n",
            "\u001b[1m1787/1787\u001b[0m \u001b[32m━━━━━━━━━━━━━━━━━━━━\u001b[0m\u001b[37m\u001b[0m \u001b[1m21s\u001b[0m 11ms/step - accuracy: 0.5627 - loss: 0.9455 - val_accuracy: 0.5815 - val_loss: 0.9250 - learning_rate: 5.0000e-04\n",
            "Epoch 21/50\n",
            "\u001b[1m1787/1787\u001b[0m \u001b[32m━━━━━━━━━━━━━━━━━━━━\u001b[0m\u001b[37m\u001b[0m \u001b[1m21s\u001b[0m 12ms/step - accuracy: 0.5684 - loss: 0.9395 - val_accuracy: 0.5886 - val_loss: 0.9208 - learning_rate: 5.0000e-04\n",
            "Epoch 22/50\n",
            "\u001b[1m1787/1787\u001b[0m \u001b[32m━━━━━━━━━━━━━━━━━━━━\u001b[0m\u001b[37m\u001b[0m \u001b[1m27s\u001b[0m 15ms/step - accuracy: 0.5682 - loss: 0.9336 - val_accuracy: 0.5815 - val_loss: 0.9243 - learning_rate: 5.0000e-04\n",
            "Epoch 23/50\n",
            "\u001b[1m1787/1787\u001b[0m \u001b[32m━━━━━━━━━━━━━━━━━━━━\u001b[0m\u001b[37m\u001b[0m \u001b[1m22s\u001b[0m 12ms/step - accuracy: 0.5662 - loss: 0.9403 - val_accuracy: 0.5833 - val_loss: 0.9231 - learning_rate: 5.0000e-04\n",
            "Epoch 24/50\n",
            "\u001b[1m1787/1787\u001b[0m \u001b[32m━━━━━━━━━━━━━━━━━━━━\u001b[0m\u001b[37m\u001b[0m \u001b[1m22s\u001b[0m 12ms/step - accuracy: 0.5625 - loss: 0.9433 - val_accuracy: 0.5828 - val_loss: 0.9147 - learning_rate: 5.0000e-04\n",
            "Epoch 25/50\n",
            "\u001b[1m1787/1787\u001b[0m \u001b[32m━━━━━━━━━━━━━━━━━━━━\u001b[0m\u001b[37m\u001b[0m \u001b[1m20s\u001b[0m 11ms/step - accuracy: 0.5651 - loss: 0.9417 - val_accuracy: 0.5854 - val_loss: 0.9412 - learning_rate: 5.0000e-04\n",
            "Epoch 26/50\n",
            "\u001b[1m1787/1787\u001b[0m \u001b[32m━━━━━━━━━━━━━━━━━━━━\u001b[0m\u001b[37m\u001b[0m \u001b[1m23s\u001b[0m 13ms/step - accuracy: 0.5668 - loss: 0.9386 - val_accuracy: 0.5813 - val_loss: 0.9277 - learning_rate: 5.0000e-04\n",
            "Epoch 27/50\n",
            "\u001b[1m1787/1787\u001b[0m \u001b[32m━━━━━━━━━━━━━━━━━━━━\u001b[0m\u001b[37m\u001b[0m \u001b[1m20s\u001b[0m 11ms/step - accuracy: 0.5660 - loss: 0.9330 - val_accuracy: 0.5894 - val_loss: 0.9443 - learning_rate: 5.0000e-04\n",
            "Epoch 28/50\n",
            "\u001b[1m1787/1787\u001b[0m \u001b[32m━━━━━━━━━━━━━━━━━━━━\u001b[0m\u001b[37m\u001b[0m \u001b[1m20s\u001b[0m 11ms/step - accuracy: 0.5663 - loss: 0.9370 - val_accuracy: 0.5828 - val_loss: 0.9225 - learning_rate: 5.0000e-04\n",
            "Epoch 29/50\n",
            "\u001b[1m1787/1787\u001b[0m \u001b[32m━━━━━━━━━━━━━━━━━━━━\u001b[0m\u001b[37m\u001b[0m \u001b[1m20s\u001b[0m 11ms/step - accuracy: 0.5683 - loss: 0.9338 - val_accuracy: 0.5794 - val_loss: 0.9331 - learning_rate: 5.0000e-04\n",
            "Epoch 30/50\n",
            "\u001b[1m1787/1787\u001b[0m \u001b[32m━━━━━━━━━━━━━━━━━━━━\u001b[0m\u001b[37m\u001b[0m \u001b[1m20s\u001b[0m 11ms/step - accuracy: 0.5690 - loss: 0.9247 - val_accuracy: 0.5822 - val_loss: 0.9162 - learning_rate: 2.5000e-04\n",
            "Epoch 31/50\n",
            "\u001b[1m1787/1787\u001b[0m \u001b[32m━━━━━━━━━━━━━━━━━━━━\u001b[0m\u001b[37m\u001b[0m \u001b[1m20s\u001b[0m 11ms/step - accuracy: 0.5757 - loss: 0.9188 - val_accuracy: 0.5825 - val_loss: 0.9172 - learning_rate: 2.5000e-04\n",
            "Epoch 32/50\n",
            "\u001b[1m1787/1787\u001b[0m \u001b[32m━━━━━━━━━━━━━━━━━━━━\u001b[0m\u001b[37m\u001b[0m \u001b[1m20s\u001b[0m 11ms/step - accuracy: 0.5720 - loss: 0.9209 - val_accuracy: 0.5816 - val_loss: 0.9175 - learning_rate: 2.5000e-04\n",
            "Epoch 33/50\n",
            "\u001b[1m1787/1787\u001b[0m \u001b[32m━━━━━━━━━━━━━━━━━━━━\u001b[0m\u001b[37m\u001b[0m \u001b[1m20s\u001b[0m 11ms/step - accuracy: 0.5720 - loss: 0.9206 - val_accuracy: 0.5802 - val_loss: 0.9290 - learning_rate: 2.5000e-04\n",
            "Epoch 34/50\n",
            "\u001b[1m1787/1787\u001b[0m \u001b[32m━━━━━━━━━━━━━━━━━━━━\u001b[0m\u001b[37m\u001b[0m \u001b[1m20s\u001b[0m 11ms/step - accuracy: 0.5714 - loss: 0.9202 - val_accuracy: 0.5814 - val_loss: 0.9141 - learning_rate: 2.5000e-04\n",
            "Epoch 35/50\n",
            "\u001b[1m1787/1787\u001b[0m \u001b[32m━━━━━━━━━━━━━━━━━━━━\u001b[0m\u001b[37m\u001b[0m \u001b[1m19s\u001b[0m 11ms/step - accuracy: 0.5765 - loss: 0.9213 - val_accuracy: 0.5815 - val_loss: 0.9170 - learning_rate: 2.5000e-04\n",
            "Epoch 36/50\n",
            "\u001b[1m1787/1787\u001b[0m \u001b[32m━━━━━━━━━━━━━━━━━━━━\u001b[0m\u001b[37m\u001b[0m \u001b[1m20s\u001b[0m 11ms/step - accuracy: 0.5716 - loss: 0.9233 - val_accuracy: 0.5827 - val_loss: 0.9142 - learning_rate: 2.5000e-04\n",
            "Epoch 37/50\n",
            "\u001b[1m1787/1787\u001b[0m \u001b[32m━━━━━━━━━━━━━━━━━━━━\u001b[0m\u001b[37m\u001b[0m \u001b[1m20s\u001b[0m 11ms/step - accuracy: 0.5744 - loss: 0.9166 - val_accuracy: 0.5794 - val_loss: 0.9260 - learning_rate: 2.5000e-04\n",
            "Epoch 38/50\n",
            "\u001b[1m1787/1787\u001b[0m \u001b[32m━━━━━━━━━━━━━━━━━━━━\u001b[0m\u001b[37m\u001b[0m \u001b[1m20s\u001b[0m 11ms/step - accuracy: 0.5743 - loss: 0.9148 - val_accuracy: 0.5849 - val_loss: 0.9131 - learning_rate: 2.5000e-04\n",
            "Epoch 39/50\n",
            "\u001b[1m1787/1787\u001b[0m \u001b[32m━━━━━━━━━━━━━━━━━━━━\u001b[0m\u001b[37m\u001b[0m \u001b[1m20s\u001b[0m 11ms/step - accuracy: 0.5746 - loss: 0.9183 - val_accuracy: 0.5820 - val_loss: 0.9231 - learning_rate: 2.5000e-04\n",
            "Epoch 40/50\n",
            "\u001b[1m1787/1787\u001b[0m \u001b[32m━━━━━━━━━━━━━━━━━━━━\u001b[0m\u001b[37m\u001b[0m \u001b[1m20s\u001b[0m 11ms/step - accuracy: 0.5770 - loss: 0.9170 - val_accuracy: 0.5815 - val_loss: 0.9136 - learning_rate: 2.5000e-04\n",
            "Epoch 41/50\n",
            "\u001b[1m1787/1787\u001b[0m \u001b[32m━━━━━━━━━━━━━━━━━━━━\u001b[0m\u001b[37m\u001b[0m \u001b[1m20s\u001b[0m 11ms/step - accuracy: 0.5772 - loss: 0.9164 - val_accuracy: 0.5825 - val_loss: 0.9102 - learning_rate: 2.5000e-04\n",
            "Epoch 42/50\n",
            "\u001b[1m1787/1787\u001b[0m \u001b[32m━━━━━━━━━━━━━━━━━━━━\u001b[0m\u001b[37m\u001b[0m \u001b[1m20s\u001b[0m 11ms/step - accuracy: 0.5740 - loss: 0.9186 - val_accuracy: 0.5822 - val_loss: 0.9195 - learning_rate: 2.5000e-04\n",
            "Epoch 43/50\n",
            "\u001b[1m1787/1787\u001b[0m \u001b[32m━━━━━━━━━━━━━━━━━━━━\u001b[0m\u001b[37m\u001b[0m \u001b[1m20s\u001b[0m 11ms/step - accuracy: 0.5708 - loss: 0.9204 - val_accuracy: 0.5833 - val_loss: 0.9253 - learning_rate: 2.5000e-04\n",
            "Epoch 44/50\n",
            "\u001b[1m1787/1787\u001b[0m \u001b[32m━━━━━━━━━━━━━━━━━━━━\u001b[0m\u001b[37m\u001b[0m \u001b[1m20s\u001b[0m 11ms/step - accuracy: 0.5733 - loss: 0.9184 - val_accuracy: 0.5829 - val_loss: 0.9094 - learning_rate: 2.5000e-04\n",
            "Epoch 45/50\n",
            "\u001b[1m1787/1787\u001b[0m \u001b[32m━━━━━━━━━━━━━━━━━━━━\u001b[0m\u001b[37m\u001b[0m \u001b[1m19s\u001b[0m 11ms/step - accuracy: 0.5747 - loss: 0.9166 - val_accuracy: 0.5818 - val_loss: 0.9157 - learning_rate: 2.5000e-04\n",
            "Epoch 46/50\n",
            "\u001b[1m1787/1787\u001b[0m \u001b[32m━━━━━━━━━━━━━━━━━━━━\u001b[0m\u001b[37m\u001b[0m \u001b[1m20s\u001b[0m 11ms/step - accuracy: 0.5736 - loss: 0.9175 - val_accuracy: 0.5826 - val_loss: 0.9178 - learning_rate: 2.5000e-04\n",
            "Epoch 47/50\n",
            "\u001b[1m1787/1787\u001b[0m \u001b[32m━━━━━━━━━━━━━━━━━━━━\u001b[0m\u001b[37m\u001b[0m \u001b[1m19s\u001b[0m 11ms/step - accuracy: 0.5750 - loss: 0.9164 - val_accuracy: 0.5840 - val_loss: 0.9178 - learning_rate: 2.5000e-04\n",
            "Epoch 48/50\n",
            "\u001b[1m1787/1787\u001b[0m \u001b[32m━━━━━━━━━━━━━━━━━━━━\u001b[0m\u001b[37m\u001b[0m \u001b[1m20s\u001b[0m 11ms/step - accuracy: 0.5785 - loss: 0.9173 - val_accuracy: 0.5831 - val_loss: 0.9188 - learning_rate: 2.5000e-04\n",
            "Epoch 49/50\n",
            "\u001b[1m1787/1787\u001b[0m \u001b[32m━━━━━━━━━━━━━━━━━━━━\u001b[0m\u001b[37m\u001b[0m \u001b[1m19s\u001b[0m 11ms/step - accuracy: 0.5735 - loss: 0.9201 - val_accuracy: 0.5826 - val_loss: 0.9264 - learning_rate: 2.5000e-04\n",
            "Epoch 50/50\n",
            "\u001b[1m1787/1787\u001b[0m \u001b[32m━━━━━━━━━━━━━━━━━━━━\u001b[0m\u001b[37m\u001b[0m \u001b[1m20s\u001b[0m 11ms/step - accuracy: 0.5762 - loss: 0.9118 - val_accuracy: 0.5854 - val_loss: 0.9078 - learning_rate: 1.2500e-04\n",
            "\u001b[1m448/448\u001b[0m \u001b[32m━━━━━━━━━━━━━━━━━━━━\u001b[0m\u001b[37m\u001b[0m \u001b[1m2s\u001b[0m 5ms/step - accuracy: 0.3563 - loss: 1.0599\n",
            "Test Accuracy: 58.54%\n"
          ]
        }
      ],
      "source": [
        "def build_transformer_model(input_shape, num_classes):\n",
        "    inputs = Input(shape=input_shape)\n",
        "\n",
        "    # Multi-Head Attention Layer\n",
        "    x = MultiHeadAttention(num_heads=4, key_dim=64)(inputs, inputs)\n",
        "    x = LayerNormalization(epsilon=1e-6)(x)\n",
        "    x = Dropout(0.3)(x)\n",
        "\n",
        "    # Additional Feedforward Layer with residual connection\n",
        "    x = Dense(128, activation='relu')(x)\n",
        "    x = GlobalAveragePooling1D()(x)\n",
        "\n",
        "    # Final dense layers for classification\n",
        "    x = Dense(64, activation='relu')(x)\n",
        "    x = Dropout(0.5)(x)\n",
        "    outputs = Dense(num_classes, activation='softmax')(x)\n",
        "\n",
        "    model = Model(inputs, outputs)\n",
        "    model.compile(optimizer=tf.keras.optimizers.Adam(learning_rate=0.0005),\n",
        "                  loss='sparse_categorical_crossentropy',\n",
        "                  metrics=['accuracy'])\n",
        "    return model\n",
        "\n",
        "\n",
        "# Instantiate and train the Transformer model\n",
        "transformer_model = build_transformer_model(input_shape=input_shape, num_classes=4)\n",
        "history = transformer_model.fit(\n",
        "    X_train, y_train,  # Note: y_train2 should be integer encoded, not one-hot for 'sparse_categorical_crossentropy'\n",
        "    epochs=50,\n",
        "    batch_size=32,\n",
        "    validation_data=(X_test, y_test),\n",
        "    callbacks=[\n",
        "        tf.keras.callbacks.EarlyStopping(monitor='val_loss', patience=10, restore_best_weights=True),\n",
        "        tf.keras.callbacks.ReduceLROnPlateau(monitor='val_loss', factor=0.5, patience=5, min_lr=1e-5)\n",
        "    ]\n",
        ")\n",
        "\n",
        "# Evaluate the model\n",
        "test_loss, test_accuracy = transformer_model.evaluate(X_test, y_test)\n",
        "print(f\"Test Accuracy: {test_accuracy * 100:.2f}%\")\n"
      ]
    },
    {
      "cell_type": "markdown",
      "metadata": {
        "id": "p7z1CE_BWnhr"
      },
      "source": [
        "# Models from papers"
      ]
    },
    {
      "cell_type": "markdown",
      "metadata": {
        "id": "TqLVc-L4Wnhs"
      },
      "source": [
        "https://ieeexplore.ieee.org/abstract/document/10331170\n",
        "\n",
        "gave up on this because their were layer shape mismatches in the model and it wasn't immediately obvious from the paper how they resolved those\n",
        "\n",
        "also haven't implemented their input optimisation"
      ]
    },
    {
      "cell_type": "code",
      "execution_count": null,
      "metadata": {
        "id": "C09ateTUWnhs"
      },
      "outputs": [],
      "source": [
        "def build_1d_cnn_model4(hp):\n",
        "    \"\"\"\n",
        "    Builds and compiles a 1D CNN model for multi-class classification.\n",
        "\n",
        "    Args:\n",
        "        input_shape (tuple): The shape of the input data (timesteps, features).\n",
        "        num_classes (int): The number of output classes.\n",
        "\n",
        "    Returns:\n",
        "        model (Sequential): Compiled 1D CNN model.\n",
        "    \"\"\"\n",
        "    model = Sequential()\n",
        "\n",
        "    # First Conv1D layer\n",
        "    # You can try experimenting with different filters, kernel_size values and activiation functions\n",
        "    model.add(Conv1D(filters=128, kernel_size=5, activation='relu', input_shape=input_shape))\n",
        "\n",
        "    #model.add(MaxPooling1D(pool_size=2))\n",
        "\n",
        "    # Second Conv1D layer\n",
        "    # You can try experimenting with different filters, kernel_size values and activiation functions\n",
        "    model.add(Conv1D(filters=128,\n",
        "                     kernel_size=5,\n",
        "                     activation='relu',\n",
        "                     kernel_regularizer=l2(hp.Choice('l2_regularization', values=[1e-4, 1e-3])),\n",
        "                     bias_regularizer=l2(hp.Choice('l2_regularization_bias', values=[1e-4, 1e-3]))\n",
        "                    ))\n",
        "\n",
        "    #model.add(MaxPooling1D(pool_size=2))\n",
        "\n",
        "    # Flatten the output from the convolutional layers\n",
        "\n",
        "    #model.add(Flatten())\n",
        "\n",
        "    # Fully connected layer\n",
        "\n",
        "    #model.add(Dense(128, activation='relu'))\n",
        "\n",
        "    # Dropout layer for regularization\n",
        "    # You can try experimenting with different dropout rates\n",
        "    model.add(Dropout(0.3))\n",
        "\n",
        "    model.add(MaxPooling1D(pool_size=2))\n",
        "\n",
        "    model.add(Dense(100,\n",
        "                    activation='softmax',\n",
        "                     kernel_regularizer=l2(hp.Choice('l2_regularization', values=[1e-4, 1e-3])),\n",
        "                     bias_regularizer=l2(hp.Choice('l2_regularization_bias', values=[1e-4, 1e-3]))\n",
        "                    ))\n",
        "\n",
        "    # Output layer with softmax for multi-class classification\n",
        "    model.add(Dense(4,\n",
        "                    activation='softmax',\n",
        "                     kernel_regularizer=l2(hp.Choice('l2_regularization', values=[1e-4, 1e-3])),\n",
        "                     bias_regularizer=l2(hp.Choice('l2_regularization_bias', values=[1e-4, 1e-3]))\n",
        "                    ))\n",
        "\n",
        "    # Compile the model\n",
        "    model.compile(\n",
        "        optimizer=tf.keras.optimizers.Adam(learning_rate=1e-3),\n",
        "        loss='categorical_crossentropy',\n",
        "        metrics=['accuracy']\n",
        "    )\n",
        "\n",
        "    #  Prints a detailed summary of the model, showing the layers, their output shapes, and the number of trainable parameters\n",
        "    model.summary()\n",
        "\n",
        "    return model"
      ]
    },
    {
      "cell_type": "code",
      "execution_count": null,
      "metadata": {
        "id": "TL1UlHuoWnhs"
      },
      "outputs": [],
      "source": [
        "from tensorflow.keras.models import Sequential\n",
        "from tensorflow.keras.layers import Conv1D, MaxPooling1D, Flatten, Dense, Dropout, BatchNormalization, LSTM\n",
        "from tensorflow.keras.regularizers import l2\n",
        "import keras_tuner as kt"
      ]
    },
    {
      "cell_type": "code",
      "execution_count": null,
      "metadata": {
        "id": "GWXrReDTWnhs",
        "outputId": "61c6814c-a054-47b9-d833-547d8ff3fe5e"
      },
      "outputs": [
        {
          "name": "stdout",
          "output_type": "stream",
          "text": [
            "Reloading Tuner from my_tuning_dir\\respiratory_activity_classification_model4\\tuner0.json\n",
            "\n",
            "Search: Running Trial #3\n",
            "\n",
            "Value             |Best Value So Far |Hyperparameter\n",
            "0.001             |0.001             |l2_regularization\n",
            "0.001             |0.001             |l2_regularization_bias\n",
            "\n"
          ]
        },
        {
          "data": {
            "text/html": [
              "<pre style=\"white-space:pre;overflow-x:auto;line-height:normal;font-family:Menlo,'DejaVu Sans Mono',consolas,'Courier New',monospace\"><span style=\"font-weight: bold\">Model: \"sequential\"</span>\n",
              "</pre>\n"
            ],
            "text/plain": [
              "\u001b[1mModel: \"sequential\"\u001b[0m\n"
            ]
          },
          "metadata": {},
          "output_type": "display_data"
        },
        {
          "data": {
            "text/html": [
              "<pre style=\"white-space:pre;overflow-x:auto;line-height:normal;font-family:Menlo,'DejaVu Sans Mono',consolas,'Courier New',monospace\">┏━━━━━━━━━━━━━━━━━━━━━━━━━━━━━━━━━┳━━━━━━━━━━━━━━━━━━━━━━━━┳━━━━━━━━━━━━━━━┓\n",
              "┃<span style=\"font-weight: bold\"> Layer (type)                    </span>┃<span style=\"font-weight: bold\"> Output Shape           </span>┃<span style=\"font-weight: bold\">       Param # </span>┃\n",
              "┡━━━━━━━━━━━━━━━━━━━━━━━━━━━━━━━━━╇━━━━━━━━━━━━━━━━━━━━━━━━╇━━━━━━━━━━━━━━━┩\n",
              "│ conv1d (<span style=\"color: #0087ff; text-decoration-color: #0087ff\">Conv1D</span>)                 │ (<span style=\"color: #00d7ff; text-decoration-color: #00d7ff\">None</span>, <span style=\"color: #00af00; text-decoration-color: #00af00\">46</span>, <span style=\"color: #00af00; text-decoration-color: #00af00\">128</span>)        │         <span style=\"color: #00af00; text-decoration-color: #00af00\">2,048</span> │\n",
              "├─────────────────────────────────┼────────────────────────┼───────────────┤\n",
              "│ conv1d_1 (<span style=\"color: #0087ff; text-decoration-color: #0087ff\">Conv1D</span>)               │ (<span style=\"color: #00d7ff; text-decoration-color: #00d7ff\">None</span>, <span style=\"color: #00af00; text-decoration-color: #00af00\">42</span>, <span style=\"color: #00af00; text-decoration-color: #00af00\">128</span>)        │        <span style=\"color: #00af00; text-decoration-color: #00af00\">82,048</span> │\n",
              "├─────────────────────────────────┼────────────────────────┼───────────────┤\n",
              "│ dropout (<span style=\"color: #0087ff; text-decoration-color: #0087ff\">Dropout</span>)               │ (<span style=\"color: #00d7ff; text-decoration-color: #00d7ff\">None</span>, <span style=\"color: #00af00; text-decoration-color: #00af00\">42</span>, <span style=\"color: #00af00; text-decoration-color: #00af00\">128</span>)        │             <span style=\"color: #00af00; text-decoration-color: #00af00\">0</span> │\n",
              "├─────────────────────────────────┼────────────────────────┼───────────────┤\n",
              "│ max_pooling1d (<span style=\"color: #0087ff; text-decoration-color: #0087ff\">MaxPooling1D</span>)    │ (<span style=\"color: #00d7ff; text-decoration-color: #00d7ff\">None</span>, <span style=\"color: #00af00; text-decoration-color: #00af00\">21</span>, <span style=\"color: #00af00; text-decoration-color: #00af00\">128</span>)        │             <span style=\"color: #00af00; text-decoration-color: #00af00\">0</span> │\n",
              "├─────────────────────────────────┼────────────────────────┼───────────────┤\n",
              "│ dense (<span style=\"color: #0087ff; text-decoration-color: #0087ff\">Dense</span>)                   │ (<span style=\"color: #00d7ff; text-decoration-color: #00d7ff\">None</span>, <span style=\"color: #00af00; text-decoration-color: #00af00\">21</span>, <span style=\"color: #00af00; text-decoration-color: #00af00\">100</span>)        │        <span style=\"color: #00af00; text-decoration-color: #00af00\">12,900</span> │\n",
              "├─────────────────────────────────┼────────────────────────┼───────────────┤\n",
              "│ dense_1 (<span style=\"color: #0087ff; text-decoration-color: #0087ff\">Dense</span>)                 │ (<span style=\"color: #00d7ff; text-decoration-color: #00d7ff\">None</span>, <span style=\"color: #00af00; text-decoration-color: #00af00\">21</span>, <span style=\"color: #00af00; text-decoration-color: #00af00\">4</span>)          │           <span style=\"color: #00af00; text-decoration-color: #00af00\">404</span> │\n",
              "└─────────────────────────────────┴────────────────────────┴───────────────┘\n",
              "</pre>\n"
            ],
            "text/plain": [
              "┏━━━━━━━━━━━━━━━━━━━━━━━━━━━━━━━━━┳━━━━━━━━━━━━━━━━━━━━━━━━┳━━━━━━━━━━━━━━━┓\n",
              "┃\u001b[1m \u001b[0m\u001b[1mLayer (type)                   \u001b[0m\u001b[1m \u001b[0m┃\u001b[1m \u001b[0m\u001b[1mOutput Shape          \u001b[0m\u001b[1m \u001b[0m┃\u001b[1m \u001b[0m\u001b[1m      Param #\u001b[0m\u001b[1m \u001b[0m┃\n",
              "┡━━━━━━━━━━━━━━━━━━━━━━━━━━━━━━━━━╇━━━━━━━━━━━━━━━━━━━━━━━━╇━━━━━━━━━━━━━━━┩\n",
              "│ conv1d (\u001b[38;5;33mConv1D\u001b[0m)                 │ (\u001b[38;5;45mNone\u001b[0m, \u001b[38;5;34m46\u001b[0m, \u001b[38;5;34m128\u001b[0m)        │         \u001b[38;5;34m2,048\u001b[0m │\n",
              "├─────────────────────────────────┼────────────────────────┼───────────────┤\n",
              "│ conv1d_1 (\u001b[38;5;33mConv1D\u001b[0m)               │ (\u001b[38;5;45mNone\u001b[0m, \u001b[38;5;34m42\u001b[0m, \u001b[38;5;34m128\u001b[0m)        │        \u001b[38;5;34m82,048\u001b[0m │\n",
              "├─────────────────────────────────┼────────────────────────┼───────────────┤\n",
              "│ dropout (\u001b[38;5;33mDropout\u001b[0m)               │ (\u001b[38;5;45mNone\u001b[0m, \u001b[38;5;34m42\u001b[0m, \u001b[38;5;34m128\u001b[0m)        │             \u001b[38;5;34m0\u001b[0m │\n",
              "├─────────────────────────────────┼────────────────────────┼───────────────┤\n",
              "│ max_pooling1d (\u001b[38;5;33mMaxPooling1D\u001b[0m)    │ (\u001b[38;5;45mNone\u001b[0m, \u001b[38;5;34m21\u001b[0m, \u001b[38;5;34m128\u001b[0m)        │             \u001b[38;5;34m0\u001b[0m │\n",
              "├─────────────────────────────────┼────────────────────────┼───────────────┤\n",
              "│ dense (\u001b[38;5;33mDense\u001b[0m)                   │ (\u001b[38;5;45mNone\u001b[0m, \u001b[38;5;34m21\u001b[0m, \u001b[38;5;34m100\u001b[0m)        │        \u001b[38;5;34m12,900\u001b[0m │\n",
              "├─────────────────────────────────┼────────────────────────┼───────────────┤\n",
              "│ dense_1 (\u001b[38;5;33mDense\u001b[0m)                 │ (\u001b[38;5;45mNone\u001b[0m, \u001b[38;5;34m21\u001b[0m, \u001b[38;5;34m4\u001b[0m)          │           \u001b[38;5;34m404\u001b[0m │\n",
              "└─────────────────────────────────┴────────────────────────┴───────────────┘\n"
            ]
          },
          "metadata": {},
          "output_type": "display_data"
        },
        {
          "data": {
            "text/html": [
              "<pre style=\"white-space:pre;overflow-x:auto;line-height:normal;font-family:Menlo,'DejaVu Sans Mono',consolas,'Courier New',monospace\"><span style=\"font-weight: bold\"> Total params: </span><span style=\"color: #00af00; text-decoration-color: #00af00\">97,400</span> (380.47 KB)\n",
              "</pre>\n"
            ],
            "text/plain": [
              "\u001b[1m Total params: \u001b[0m\u001b[38;5;34m97,400\u001b[0m (380.47 KB)\n"
            ]
          },
          "metadata": {},
          "output_type": "display_data"
        },
        {
          "data": {
            "text/html": [
              "<pre style=\"white-space:pre;overflow-x:auto;line-height:normal;font-family:Menlo,'DejaVu Sans Mono',consolas,'Courier New',monospace\"><span style=\"font-weight: bold\"> Trainable params: </span><span style=\"color: #00af00; text-decoration-color: #00af00\">97,400</span> (380.47 KB)\n",
              "</pre>\n"
            ],
            "text/plain": [
              "\u001b[1m Trainable params: \u001b[0m\u001b[38;5;34m97,400\u001b[0m (380.47 KB)\n"
            ]
          },
          "metadata": {},
          "output_type": "display_data"
        },
        {
          "data": {
            "text/html": [
              "<pre style=\"white-space:pre;overflow-x:auto;line-height:normal;font-family:Menlo,'DejaVu Sans Mono',consolas,'Courier New',monospace\"><span style=\"font-weight: bold\"> Non-trainable params: </span><span style=\"color: #00af00; text-decoration-color: #00af00\">0</span> (0.00 B)\n",
              "</pre>\n"
            ],
            "text/plain": [
              "\u001b[1m Non-trainable params: \u001b[0m\u001b[38;5;34m0\u001b[0m (0.00 B)\n"
            ]
          },
          "metadata": {},
          "output_type": "display_data"
        },
        {
          "name": "stdout",
          "output_type": "stream",
          "text": [
            "Epoch 1/20\n"
          ]
        },
        {
          "name": "stderr",
          "output_type": "stream",
          "text": [
            "Traceback (most recent call last):\n",
            "  File \"C:\\Users\\luise\\AppData\\Local\\Packages\\PythonSoftwareFoundation.Python.3.10_qbz5n2kfra8p0\\LocalCache\\local-packages\\Python310\\site-packages\\keras_tuner\\src\\engine\\base_tuner.py\", line 274, in _try_run_and_update_trial\n",
            "    self._run_and_update_trial(trial, *fit_args, **fit_kwargs)\n",
            "  File \"C:\\Users\\luise\\AppData\\Local\\Packages\\PythonSoftwareFoundation.Python.3.10_qbz5n2kfra8p0\\LocalCache\\local-packages\\Python310\\site-packages\\keras_tuner\\src\\engine\\base_tuner.py\", line 239, in _run_and_update_trial\n",
            "    results = self.run_trial(trial, *fit_args, **fit_kwargs)\n",
            "  File \"C:\\Users\\luise\\AppData\\Local\\Packages\\PythonSoftwareFoundation.Python.3.10_qbz5n2kfra8p0\\LocalCache\\local-packages\\Python310\\site-packages\\keras_tuner\\src\\engine\\tuner.py\", line 314, in run_trial\n",
            "    obj_value = self._build_and_fit_model(trial, *args, **copied_kwargs)\n",
            "  File \"C:\\Users\\luise\\AppData\\Local\\Packages\\PythonSoftwareFoundation.Python.3.10_qbz5n2kfra8p0\\LocalCache\\local-packages\\Python310\\site-packages\\keras_tuner\\src\\engine\\tuner.py\", line 233, in _build_and_fit_model\n",
            "    results = self.hypermodel.fit(hp, model, *args, **kwargs)\n",
            "  File \"C:\\Users\\luise\\AppData\\Local\\Packages\\PythonSoftwareFoundation.Python.3.10_qbz5n2kfra8p0\\LocalCache\\local-packages\\Python310\\site-packages\\keras_tuner\\src\\engine\\hypermodel.py\", line 149, in fit\n",
            "    return model.fit(*args, **kwargs)\n",
            "  File \"C:\\Users\\luise\\AppData\\Local\\Packages\\PythonSoftwareFoundation.Python.3.10_qbz5n2kfra8p0\\LocalCache\\local-packages\\Python310\\site-packages\\keras\\src\\utils\\traceback_utils.py\", line 122, in error_handler\n",
            "    raise e.with_traceback(filtered_tb) from None\n",
            "  File \"C:\\Users\\luise\\AppData\\Local\\Packages\\PythonSoftwareFoundation.Python.3.10_qbz5n2kfra8p0\\LocalCache\\local-packages\\Python310\\site-packages\\keras\\src\\backend\\tensorflow\\nn.py\", line 580, in categorical_crossentropy\n",
            "    raise ValueError(\n",
            "ValueError: Arguments `target` and `output` must have the same rank (ndim). Received: target.shape=(None, 4), output.shape=(None, 21, 4)\n"
          ]
        },
        {
          "ename": "RuntimeError",
          "evalue": "Number of consecutive failures exceeded the limit of 3.\nTraceback (most recent call last):\n  File \"C:\\Users\\luise\\AppData\\Local\\Packages\\PythonSoftwareFoundation.Python.3.10_qbz5n2kfra8p0\\LocalCache\\local-packages\\Python310\\site-packages\\keras_tuner\\src\\engine\\base_tuner.py\", line 274, in _try_run_and_update_trial\n    self._run_and_update_trial(trial, *fit_args, **fit_kwargs)\n  File \"C:\\Users\\luise\\AppData\\Local\\Packages\\PythonSoftwareFoundation.Python.3.10_qbz5n2kfra8p0\\LocalCache\\local-packages\\Python310\\site-packages\\keras_tuner\\src\\engine\\base_tuner.py\", line 239, in _run_and_update_trial\n    results = self.run_trial(trial, *fit_args, **fit_kwargs)\n  File \"C:\\Users\\luise\\AppData\\Local\\Packages\\PythonSoftwareFoundation.Python.3.10_qbz5n2kfra8p0\\LocalCache\\local-packages\\Python310\\site-packages\\keras_tuner\\src\\engine\\tuner.py\", line 314, in run_trial\n    obj_value = self._build_and_fit_model(trial, *args, **copied_kwargs)\n  File \"C:\\Users\\luise\\AppData\\Local\\Packages\\PythonSoftwareFoundation.Python.3.10_qbz5n2kfra8p0\\LocalCache\\local-packages\\Python310\\site-packages\\keras_tuner\\src\\engine\\tuner.py\", line 233, in _build_and_fit_model\n    results = self.hypermodel.fit(hp, model, *args, **kwargs)\n  File \"C:\\Users\\luise\\AppData\\Local\\Packages\\PythonSoftwareFoundation.Python.3.10_qbz5n2kfra8p0\\LocalCache\\local-packages\\Python310\\site-packages\\keras_tuner\\src\\engine\\hypermodel.py\", line 149, in fit\n    return model.fit(*args, **kwargs)\n  File \"C:\\Users\\luise\\AppData\\Local\\Packages\\PythonSoftwareFoundation.Python.3.10_qbz5n2kfra8p0\\LocalCache\\local-packages\\Python310\\site-packages\\keras\\src\\utils\\traceback_utils.py\", line 122, in error_handler\n    raise e.with_traceback(filtered_tb) from None\n  File \"C:\\Users\\luise\\AppData\\Local\\Packages\\PythonSoftwareFoundation.Python.3.10_qbz5n2kfra8p0\\LocalCache\\local-packages\\Python310\\site-packages\\keras\\src\\backend\\tensorflow\\nn.py\", line 580, in categorical_crossentropy\n    raise ValueError(\nValueError: Arguments `target` and `output` must have the same rank (ndim). Received: target.shape=(None, 4), output.shape=(None, 21, 4)\n",
          "output_type": "error",
          "traceback": [
            "\u001b[1;31m---------------------------------------------------------------------------\u001b[0m",
            "\u001b[1;31mRuntimeError\u001b[0m                              Traceback (most recent call last)",
            "Cell \u001b[1;32mIn [52], line 13\u001b[0m\n\u001b[0;32m      1\u001b[0m tuner4 \u001b[38;5;241m=\u001b[39m kt\u001b[38;5;241m.\u001b[39mRandomSearch(\n\u001b[0;32m      2\u001b[0m     build_1d_cnn_model4,\n\u001b[0;32m      3\u001b[0m     objective\u001b[38;5;241m=\u001b[39m\u001b[38;5;124m'\u001b[39m\u001b[38;5;124mval_accuracy\u001b[39m\u001b[38;5;124m'\u001b[39m,  \u001b[38;5;66;03m# Tuning for validation accuracy\u001b[39;00m\n\u001b[1;32m   (...)\u001b[0m\n\u001b[0;32m      7\u001b[0m     project_name\u001b[38;5;241m=\u001b[39m\u001b[38;5;124m'\u001b[39m\u001b[38;5;124mrespiratory_activity_classification_model4\u001b[39m\u001b[38;5;124m'\u001b[39m\n\u001b[0;32m      8\u001b[0m )\n\u001b[0;32m     10\u001b[0m \u001b[38;5;66;03m# Split your data if not already done\u001b[39;00m\n\u001b[0;32m     11\u001b[0m \u001b[38;5;66;03m# X_train, X_val, y_train, y_val = train_test_split(X, y, test_size=0.2)\u001b[39;00m\n\u001b[1;32m---> 13\u001b[0m \u001b[43mtuner4\u001b[49m\u001b[38;5;241;43m.\u001b[39;49m\u001b[43msearch\u001b[49m\u001b[43m(\u001b[49m\u001b[43mX_train\u001b[49m\u001b[43m,\u001b[49m\u001b[43m \u001b[49m\u001b[43my_train_one_hot\u001b[49m\u001b[43m,\u001b[49m\u001b[43m \u001b[49m\n\u001b[0;32m     14\u001b[0m \u001b[43m             \u001b[49m\u001b[43mepochs\u001b[49m\u001b[38;5;241;43m=\u001b[39;49m\u001b[38;5;241;43m20\u001b[39;49m\u001b[43m,\u001b[49m\u001b[43m               \u001b[49m\u001b[38;5;66;43;03m# Number of epochs for each trial\u001b[39;49;00m\n\u001b[0;32m     15\u001b[0m \u001b[43m             \u001b[49m\u001b[43mvalidation_data\u001b[49m\u001b[38;5;241;43m=\u001b[39;49m\u001b[43m(\u001b[49m\u001b[43mX_test\u001b[49m\u001b[43m,\u001b[49m\u001b[43m \u001b[49m\u001b[43my_test_one_hot\u001b[49m\u001b[43m)\u001b[49m\u001b[43m,\u001b[49m\n\u001b[0;32m     16\u001b[0m \u001b[43m             \u001b[49m\u001b[43mcallbacks\u001b[49m\u001b[38;5;241;43m=\u001b[39;49m\u001b[43m[\u001b[49m\u001b[43mtf\u001b[49m\u001b[38;5;241;43m.\u001b[39;49m\u001b[43mkeras\u001b[49m\u001b[38;5;241;43m.\u001b[39;49m\u001b[43mcallbacks\u001b[49m\u001b[38;5;241;43m.\u001b[39;49m\u001b[43mEarlyStopping\u001b[49m\u001b[43m(\u001b[49m\u001b[43mmonitor\u001b[49m\u001b[38;5;241;43m=\u001b[39;49m\u001b[38;5;124;43m'\u001b[39;49m\u001b[38;5;124;43mval_loss\u001b[39;49m\u001b[38;5;124;43m'\u001b[39;49m\u001b[43m,\u001b[49m\u001b[43m \u001b[49m\u001b[43mpatience\u001b[49m\u001b[38;5;241;43m=\u001b[39;49m\u001b[38;5;241;43m3\u001b[39;49m\u001b[43m)\u001b[49m\u001b[43m]\u001b[49m\u001b[43m)\u001b[49m\n\u001b[0;32m     18\u001b[0m model4 \u001b[38;5;241m=\u001b[39m tuner4\u001b[38;5;241m.\u001b[39mget_best_models(num_models\u001b[38;5;241m=\u001b[39m\u001b[38;5;241m1\u001b[39m)[\u001b[38;5;241m0\u001b[39m]\n",
            "File \u001b[1;32m~\\AppData\\Local\\Packages\\PythonSoftwareFoundation.Python.3.10_qbz5n2kfra8p0\\LocalCache\\local-packages\\Python310\\site-packages\\keras_tuner\\src\\engine\\base_tuner.py:235\u001b[0m, in \u001b[0;36mBaseTuner.search\u001b[1;34m(self, *fit_args, **fit_kwargs)\u001b[0m\n\u001b[0;32m    233\u001b[0m     \u001b[38;5;28mself\u001b[39m\u001b[38;5;241m.\u001b[39mon_trial_begin(trial)\n\u001b[0;32m    234\u001b[0m     \u001b[38;5;28mself\u001b[39m\u001b[38;5;241m.\u001b[39m_try_run_and_update_trial(trial, \u001b[38;5;241m*\u001b[39mfit_args, \u001b[38;5;241m*\u001b[39m\u001b[38;5;241m*\u001b[39mfit_kwargs)\n\u001b[1;32m--> 235\u001b[0m     \u001b[38;5;28;43mself\u001b[39;49m\u001b[38;5;241;43m.\u001b[39;49m\u001b[43mon_trial_end\u001b[49m\u001b[43m(\u001b[49m\u001b[43mtrial\u001b[49m\u001b[43m)\u001b[49m\n\u001b[0;32m    236\u001b[0m \u001b[38;5;28mself\u001b[39m\u001b[38;5;241m.\u001b[39mon_search_end()\n",
            "File \u001b[1;32m~\\AppData\\Local\\Packages\\PythonSoftwareFoundation.Python.3.10_qbz5n2kfra8p0\\LocalCache\\local-packages\\Python310\\site-packages\\keras_tuner\\src\\engine\\base_tuner.py:339\u001b[0m, in \u001b[0;36mBaseTuner.on_trial_end\u001b[1;34m(self, trial)\u001b[0m\n\u001b[0;32m    333\u001b[0m \u001b[38;5;28;01mdef\u001b[39;00m \u001b[38;5;21mon_trial_end\u001b[39m(\u001b[38;5;28mself\u001b[39m, trial):\n\u001b[0;32m    334\u001b[0m     \u001b[38;5;124;03m\"\"\"Called at the end of a trial.\u001b[39;00m\n\u001b[0;32m    335\u001b[0m \n\u001b[0;32m    336\u001b[0m \u001b[38;5;124;03m    Args:\u001b[39;00m\n\u001b[0;32m    337\u001b[0m \u001b[38;5;124;03m        trial: A `Trial` instance.\u001b[39;00m\n\u001b[0;32m    338\u001b[0m \u001b[38;5;124;03m    \"\"\"\u001b[39;00m\n\u001b[1;32m--> 339\u001b[0m     \u001b[38;5;28;43mself\u001b[39;49m\u001b[38;5;241;43m.\u001b[39;49m\u001b[43moracle\u001b[49m\u001b[38;5;241;43m.\u001b[39;49m\u001b[43mend_trial\u001b[49m\u001b[43m(\u001b[49m\u001b[43mtrial\u001b[49m\u001b[43m)\u001b[49m\n\u001b[0;32m    340\u001b[0m     \u001b[38;5;28mself\u001b[39m\u001b[38;5;241m.\u001b[39msave()\n",
            "File \u001b[1;32m~\\AppData\\Local\\Packages\\PythonSoftwareFoundation.Python.3.10_qbz5n2kfra8p0\\LocalCache\\local-packages\\Python310\\site-packages\\keras_tuner\\src\\engine\\oracle.py:108\u001b[0m, in \u001b[0;36msynchronized.<locals>.wrapped_func\u001b[1;34m(*args, **kwargs)\u001b[0m\n\u001b[0;32m    106\u001b[0m     LOCKS[oracle]\u001b[38;5;241m.\u001b[39macquire()\n\u001b[0;32m    107\u001b[0m     THREADS[oracle] \u001b[38;5;241m=\u001b[39m thread_name\n\u001b[1;32m--> 108\u001b[0m ret_val \u001b[38;5;241m=\u001b[39m func(\u001b[38;5;241m*\u001b[39margs, \u001b[38;5;241m*\u001b[39m\u001b[38;5;241m*\u001b[39mkwargs)\n\u001b[0;32m    109\u001b[0m \u001b[38;5;28;01mif\u001b[39;00m need_acquire:\n\u001b[0;32m    110\u001b[0m     THREADS[oracle] \u001b[38;5;241m=\u001b[39m \u001b[38;5;28;01mNone\u001b[39;00m\n",
            "File \u001b[1;32m~\\AppData\\Local\\Packages\\PythonSoftwareFoundation.Python.3.10_qbz5n2kfra8p0\\LocalCache\\local-packages\\Python310\\site-packages\\keras_tuner\\src\\engine\\oracle.py:588\u001b[0m, in \u001b[0;36mOracle.end_trial\u001b[1;34m(self, trial)\u001b[0m\n\u001b[0;32m    586\u001b[0m \u001b[38;5;28;01mif\u001b[39;00m \u001b[38;5;129;01mnot\u001b[39;00m \u001b[38;5;28mself\u001b[39m\u001b[38;5;241m.\u001b[39m_retry(trial):\n\u001b[0;32m    587\u001b[0m     \u001b[38;5;28mself\u001b[39m\u001b[38;5;241m.\u001b[39mend_order\u001b[38;5;241m.\u001b[39mappend(trial\u001b[38;5;241m.\u001b[39mtrial_id)\n\u001b[1;32m--> 588\u001b[0m     \u001b[38;5;28;43mself\u001b[39;49m\u001b[38;5;241;43m.\u001b[39;49m\u001b[43m_check_consecutive_failures\u001b[49m\u001b[43m(\u001b[49m\u001b[43m)\u001b[49m\n\u001b[0;32m    590\u001b[0m \u001b[38;5;28mself\u001b[39m\u001b[38;5;241m.\u001b[39m_save_trial(trial)\n\u001b[0;32m    591\u001b[0m \u001b[38;5;28mself\u001b[39m\u001b[38;5;241m.\u001b[39msave()\n",
            "File \u001b[1;32m~\\AppData\\Local\\Packages\\PythonSoftwareFoundation.Python.3.10_qbz5n2kfra8p0\\LocalCache\\local-packages\\Python310\\site-packages\\keras_tuner\\src\\engine\\oracle.py:545\u001b[0m, in \u001b[0;36mOracle._check_consecutive_failures\u001b[1;34m(self)\u001b[0m\n\u001b[0;32m    543\u001b[0m     consecutive_failures \u001b[38;5;241m=\u001b[39m \u001b[38;5;241m0\u001b[39m\n\u001b[0;32m    544\u001b[0m \u001b[38;5;28;01mif\u001b[39;00m consecutive_failures \u001b[38;5;241m==\u001b[39m \u001b[38;5;28mself\u001b[39m\u001b[38;5;241m.\u001b[39mmax_consecutive_failed_trials:\n\u001b[1;32m--> 545\u001b[0m     \u001b[38;5;28;01mraise\u001b[39;00m \u001b[38;5;167;01mRuntimeError\u001b[39;00m(\n\u001b[0;32m    546\u001b[0m         \u001b[38;5;124m\"\u001b[39m\u001b[38;5;124mNumber of consecutive failures exceeded the limit \u001b[39m\u001b[38;5;124m\"\u001b[39m\n\u001b[0;32m    547\u001b[0m         \u001b[38;5;124mf\u001b[39m\u001b[38;5;124m\"\u001b[39m\u001b[38;5;124mof \u001b[39m\u001b[38;5;132;01m{\u001b[39;00m\u001b[38;5;28mself\u001b[39m\u001b[38;5;241m.\u001b[39mmax_consecutive_failed_trials\u001b[38;5;132;01m}\u001b[39;00m\u001b[38;5;124m.\u001b[39m\u001b[38;5;130;01m\\n\u001b[39;00m\u001b[38;5;124m\"\u001b[39m\n\u001b[0;32m    548\u001b[0m         \u001b[38;5;241m+\u001b[39m (trial\u001b[38;5;241m.\u001b[39mmessage \u001b[38;5;129;01mor\u001b[39;00m \u001b[38;5;124m\"\u001b[39m\u001b[38;5;124m\"\u001b[39m)\n\u001b[0;32m    549\u001b[0m     )\n",
            "\u001b[1;31mRuntimeError\u001b[0m: Number of consecutive failures exceeded the limit of 3.\nTraceback (most recent call last):\n  File \"C:\\Users\\luise\\AppData\\Local\\Packages\\PythonSoftwareFoundation.Python.3.10_qbz5n2kfra8p0\\LocalCache\\local-packages\\Python310\\site-packages\\keras_tuner\\src\\engine\\base_tuner.py\", line 274, in _try_run_and_update_trial\n    self._run_and_update_trial(trial, *fit_args, **fit_kwargs)\n  File \"C:\\Users\\luise\\AppData\\Local\\Packages\\PythonSoftwareFoundation.Python.3.10_qbz5n2kfra8p0\\LocalCache\\local-packages\\Python310\\site-packages\\keras_tuner\\src\\engine\\base_tuner.py\", line 239, in _run_and_update_trial\n    results = self.run_trial(trial, *fit_args, **fit_kwargs)\n  File \"C:\\Users\\luise\\AppData\\Local\\Packages\\PythonSoftwareFoundation.Python.3.10_qbz5n2kfra8p0\\LocalCache\\local-packages\\Python310\\site-packages\\keras_tuner\\src\\engine\\tuner.py\", line 314, in run_trial\n    obj_value = self._build_and_fit_model(trial, *args, **copied_kwargs)\n  File \"C:\\Users\\luise\\AppData\\Local\\Packages\\PythonSoftwareFoundation.Python.3.10_qbz5n2kfra8p0\\LocalCache\\local-packages\\Python310\\site-packages\\keras_tuner\\src\\engine\\tuner.py\", line 233, in _build_and_fit_model\n    results = self.hypermodel.fit(hp, model, *args, **kwargs)\n  File \"C:\\Users\\luise\\AppData\\Local\\Packages\\PythonSoftwareFoundation.Python.3.10_qbz5n2kfra8p0\\LocalCache\\local-packages\\Python310\\site-packages\\keras_tuner\\src\\engine\\hypermodel.py\", line 149, in fit\n    return model.fit(*args, **kwargs)\n  File \"C:\\Users\\luise\\AppData\\Local\\Packages\\PythonSoftwareFoundation.Python.3.10_qbz5n2kfra8p0\\LocalCache\\local-packages\\Python310\\site-packages\\keras\\src\\utils\\traceback_utils.py\", line 122, in error_handler\n    raise e.with_traceback(filtered_tb) from None\n  File \"C:\\Users\\luise\\AppData\\Local\\Packages\\PythonSoftwareFoundation.Python.3.10_qbz5n2kfra8p0\\LocalCache\\local-packages\\Python310\\site-packages\\keras\\src\\backend\\tensorflow\\nn.py\", line 580, in categorical_crossentropy\n    raise ValueError(\nValueError: Arguments `target` and `output` must have the same rank (ndim). Received: target.shape=(None, 4), output.shape=(None, 21, 4)\n"
          ]
        }
      ],
      "source": [
        "tuner4 = kt.RandomSearch(\n",
        "    build_1d_cnn_model4,\n",
        "    objective='val_accuracy',  # Tuning for validation accuracy\n",
        "    max_trials=20,             # Number of different hyperparameter sets to try\n",
        "    executions_per_trial=2,    # Average results over multiple runs to reduce variance\n",
        "    directory='my_tuning_dir', # Directory to save tuning results\n",
        "    project_name='respiratory_activity_classification_model4'\n",
        ")\n",
        "\n",
        "# Split your data if not already done\n",
        "# X_train, X_val, y_train, y_val = train_test_split(X, y, test_size=0.2)\n",
        "\n",
        "tuner4.search(X_train, y_train_one_hot,\n",
        "             epochs=20,               # Number of epochs for each trial\n",
        "             validation_data=(X_test, y_test_one_hot),\n",
        "             callbacks=[tf.keras.callbacks.EarlyStopping(monitor='val_loss', patience=3)])\n",
        "\n",
        "model4 = tuner4.get_best_models(num_models=1)[0]"
      ]
    },
    {
      "cell_type": "markdown",
      "metadata": {
        "id": "nRm1brrIWnhs"
      },
      "source": [
        "window_size = 4s = 100 timesteps (untested)"
      ]
    },
    {
      "cell_type": "code",
      "execution_count": null,
      "metadata": {
        "id": "6O-zwuiqWnhs"
      },
      "outputs": [],
      "source": [
        "# Dictionary to store sliding windows and labels for both train and test sets for each activity\n",
        "# This will hold the training and test data after processing each activity.\n",
        "train_test_data3 = {}\n",
        "\n",
        "# Loop through each activity folder and process the data\n",
        "# Note, if you have large amounts of data, this step may take a while\n",
        "for activity, label in activities.items():\n",
        "    # Initialize an empty dictionary for each activity to store train and test windows and labels\n",
        "    train_test_data3[activity] = {}\n",
        "\n",
        "    # Call process_activity() to process the data for the current activity folder\n",
        "    # It loads the data, applies sliding windows, splits it into train and test sets,\n",
        "    # and returns the respective sliding windows and labels for both sets.\n",
        "    (train_test_data3[activity]['train_windows'], train_test_data3[activity]['train_labels'],\n",
        "     train_test_data3[activity]['test_windows'], train_test_data3[activity]['test_labels']) = process_activity(\n",
        "        activity, label, your_dataset_path, window_size=100, step_size=50)\n",
        "\n",
        "# Explanation:\n",
        "    # - 'train_windows' and 'train_labels' store the windows and labels from the training files.\n",
        "    # - 'test_windows' and 'test_labels' store the windows and labels from the test files.\n",
        "    # - `your_dataset_path` should be replaced with the actual path to your dataset.\n",
        "    # - `process_activity` handles all the steps of loading data, splitting it, and applying sliding windows."
      ]
    },
    {
      "cell_type": "code",
      "execution_count": null,
      "metadata": {
        "id": "kmvRnHP5Wnht"
      },
      "outputs": [],
      "source": [
        "# Combine the sliding windows and labels for the training data from all activities\n",
        "# The combine_data() function concatenates the windows and labels across activities\n",
        "X_train3, y_train3 = combine_data(train_test_data3, 'train')\n",
        "\n",
        "# Combine the sliding windows and labels for the test data from all activities\n",
        "X_test3, y_test3 = combine_data(train_test_data3, 'test')\n",
        "\n",
        "# Explanation:\n",
        "# - `combine_data()` takes in the `train_test_data` dictionary and the data type ('train' or 'test') to specify\n",
        "#   whether we are combining training or testing data.\n",
        "# - It retrieves and concatenates the windows and labels from all activities into single arrays\n",
        "#   (`X_train` and `y_train` for training, `X_test` and `y_test` for testing).\n",
        "# - `X_train` and `X_test` are 3D arrays of sliding windows (shape: num_windows, window_size, num_features).\n",
        "# - `y_train` and `y_test` are 1D arrays containing the activity labels corresponding to each window."
      ]
    },
    {
      "cell_type": "code",
      "execution_count": null,
      "metadata": {
        "id": "ikXvMGDcWnht"
      },
      "outputs": [],
      "source": [
        "# Initialize the OneHotEncoder\n",
        "encoder = OneHotEncoder(sparse_output=False)\n",
        "\n",
        "# Reshape y_train to a 2D array to meet the input format requirements of OneHotEncoder\n",
        "# - y_train is originally a 1D array of labels (shape: [num_samples]), but OneHotEncoder expects a 2D array of shape (num_samples, 1).\n",
        "# - reshape(-1, 1): The -1 means 'infer the correct size based on the other dimensions' (i.e., it adapts based on the length of y_train).\n",
        "# OneHotEncoder will then create a binary vector for each label.\n",
        "y_train_one_hot3 = encoder.fit_transform(y_train3.reshape(-1, 1))\n",
        "\n",
        "# Apply the same transformation to the test labels (y_test)\n",
        "# - Since the encoder is already fitted on the training data, we use transform() for the test set.\n",
        "# - Reshape y_test to (num_samples, 1) for compatibility with the encoder.\n",
        "y_test_one_hot3 = encoder.transform(y_test3.reshape(-1, 1))\n",
        "\n",
        "# Explanation:\n",
        "# - y_train_one_hot and y_test_one_hot are now 2D arrays where each row is a one-hot encoded binary vector corresponding to a class label.\n",
        "# - The number of columns in the one-hot encoded labels equals the number of unique classes (activities).\n",
        "# For example, if there are 6 unique activities, the encoded vector will have 6 elements, with a '1' indicating the correct class."
      ]
    },
    {
      "cell_type": "code",
      "execution_count": null,
      "metadata": {
        "id": "0aGKR02bWnht"
      },
      "outputs": [],
      "source": [
        "# Print the shapes of the training and test arrays to verify that everything has been combined correctly\n",
        "print(f\"X_train3 shape: {X_train3.shape}, y_train3 shape: {y_train3.shape}\")\n",
        "print(f\"X_test3 shape: {X_test3.shape}, y_test3 shape: {y_test3.shape}\")\n",
        "# Print the shapes of the one-hot encoded labels to verify that the transformation was successful\n",
        "print(f\"y_train_one_hot3 shape: {y_train_one_hot3.shape}, y_test_one_hot3 shape: {y_test_one_hot3.shape}\")\n",
        "\n",
        "# Explanation of shapes:\n",
        "# - The shape of y_train_one_hot will be (num_samples, num_classes), where:\n",
        "#     - num_samples is the number of training windows.\n",
        "#     - num_classes is the number of unique activities (the length of the one-hot vectors).\n",
        "# - Similarly, y_test_one_hot will have the same number of columns (num_classes) as y_train_one_hot but will have fewer rows (corresponding to the number of test windows)."
      ]
    },
    {
      "cell_type": "markdown",
      "source": [
        "## GAN\n",
        "https://project-archive.inf.ed.ac.uk/ug4/20212442/ug4_proj.pdf#page=26.16"
      ],
      "metadata": {
        "id": "CY5bCBMZWzcm"
      }
    },
    {
      "cell_type": "code",
      "source": [
        "import torch\n",
        "import torch.nn as nn\n",
        "import torch.optim as optim\n",
        "from torch.utils.data import DataLoader"
      ],
      "metadata": {
        "id": "pWxwhd08W6M5"
      },
      "execution_count": 1,
      "outputs": []
    },
    {
      "cell_type": "code",
      "source": [
        "# Define the Generator model\n",
        "class Generator(nn.Module):\n",
        "    def __init__(self, latent_dim=100, output_channels=3):\n",
        "        super(Generator, self).__init__()\n",
        "        self.latent_dim = latent_dim\n",
        "\n",
        "        self.fc1 = nn.Linear(latent_dim, 1024 * 4)\n",
        "\n",
        "        self.deconv1 = nn.Sequential(\n",
        "            nn.ConvTranspose1d(1024, 512, kernel_size=4, stride=2, padding=1),  # Output: (batch_size, 512, 8)\n",
        "            nn.LeakyReLU(0.2, inplace=True),\n",
        "            nn.Dropout(0.5)\n",
        "        )\n",
        "        self.deconv2 = nn.Sequential(\n",
        "            nn.ConvTranspose1d(512, 256, kernel_size=4, stride=2, padding=1),  # Output: (batch_size, 256, 16)\n",
        "            nn.LeakyReLU(0.2, inplace=True),\n",
        "            nn.Dropout(0.5)\n",
        "        )\n",
        "        self.deconv3 = nn.Sequential(\n",
        "            nn.ConvTranspose1d(256, 128, kernel_size=4, stride=2, padding=1),  # Output: (batch_size, 128, 32)\n",
        "            nn.LeakyReLU(0.2, inplace=True),\n",
        "            nn.Dropout(0.5)\n",
        "        )\n",
        "        self.deconv4 = nn.Sequential(\n",
        "            nn.ConvTranspose1d(128, 64, kernel_size=4, stride=2, padding=1),  # Output: (batch_size, 64, 64)\n",
        "            nn.LeakyReLU(0.2, inplace=True),\n",
        "            nn.Dropout(0.5)\n",
        "        )\n",
        "        self.deconv5 = nn.Sequential(\n",
        "            nn.ConvTranspose1d(64, output_channels, kernel_size=4, stride=2, padding=1),  # Output: (batch_size, 3, 128)\n",
        "            nn.Tanh()\n",
        "        )\n",
        "\n",
        "    def forward(self, z):\n",
        "        x = self.fc1(z)\n",
        "        x = x.view(-1, 1024, 4)\n",
        "        x = self.deconv1(x)\n",
        "        x = self.deconv2(x)\n",
        "        x = self.deconv3(x)\n",
        "        x = self.deconv4(x)\n",
        "        x = self.deconv5(x)\n",
        "        return x  # Output shape: (batch_size, 3, 128)\n",
        "\n",
        "# Define the Discriminator model\n",
        "class Discriminator(nn.Module):\n",
        "    def __init__(self, num_classes):\n",
        "        super(Discriminator, self).__init__()\n",
        "        self.num_classes = num_classes\n",
        "\n",
        "        self.conv1 = nn.Sequential(\n",
        "            nn.Conv1d(3, 512, kernel_size=4, stride=2, padding=1),  # Output: (batch_size, 512, 64)\n",
        "            nn.LeakyReLU(0.2, inplace=True),\n",
        "            nn.Dropout(0.5)\n",
        "        )\n",
        "        self.conv2 = nn.Sequential(\n",
        "            nn.Conv1d(512, 1024, kernel_size=4, stride=2, padding=1),  # Output: (batch_size, 1024, 32)\n",
        "            nn.LeakyReLU(0.2, inplace=True),\n",
        "            nn.Dropout(0.5)\n",
        "        )\n",
        "\n",
        "        self.shared_features = nn.Flatten()\n",
        "\n",
        "        self.classifier = nn.Linear(1024 * 32, num_classes)\n",
        "        self.discriminator = nn.Sequential(\n",
        "            nn.Linear(1024 * 32, 1),\n",
        "            nn.Sigmoid()\n",
        "        )\n",
        "\n",
        "    def forward(self, x):\n",
        "        x = self.conv1(x)\n",
        "        x = self.conv2(x)\n",
        "        features = self.shared_features(x)\n",
        "\n",
        "        class_output = self.classifier(features)\n",
        "        real_fake_output = self.discriminator(features)\n",
        "        return class_output, real_fake_output\n",
        "\n",
        "# Training the S-GAN\n",
        "def train_sgan(generator, discriminator, dataloader, num_classes, num_epochs=30, latent_dim=100):\n",
        "    device = torch.device('cuda' if torch.cuda.is_available() else 'cpu')\n",
        "    generator.to(device)\n",
        "    discriminator.to(device)\n",
        "\n",
        "    criterion_class = nn.CrossEntropyLoss()\n",
        "    criterion_real_fake = nn.BCELoss()\n",
        "\n",
        "    optimizer_D = optim.Adam(discriminator.parameters(), lr=0.0002, betas=(0.5, 0.999))\n",
        "    optimizer_G = optim.Adam(generator.parameters(), lr=0.0002, betas=(0.5, 0.999))\n",
        "\n",
        "    for epoch in range(num_epochs):\n",
        "        for i, (x_real, labels_real) in enumerate(dataloader):\n",
        "            x_real = x_real.to(device)\n",
        "            labels_real = labels_real.to(device)\n",
        "            batch_size = x_real.size(0)\n",
        "            half_batch = batch_size // 2\n",
        "\n",
        "            # Prepare real data\n",
        "            x_real_half = x_real[:half_batch]\n",
        "            labels_real_half = labels_real[:half_batch]\n",
        "            real_labels = torch.ones(half_batch, 1).to(device)\n",
        "            fake_labels = torch.zeros(half_batch, 1).to(device)\n",
        "\n",
        "            # Generate fake data\n",
        "            z = torch.randn(half_batch, latent_dim).to(device)\n",
        "            x_fake = generator(z)\n",
        "\n",
        "            # ====================\n",
        "            # Train Discriminator\n",
        "            # ====================\n",
        "            discriminator.train()\n",
        "            optimizer_D.zero_grad()\n",
        "\n",
        "            # Train on real data\n",
        "            class_output_real, real_fake_output_real = discriminator(x_real_half)\n",
        "            d_loss_real_class = criterion_class(class_output_real, labels_real_half)\n",
        "            d_loss_real_rf = criterion_real_fake(real_fake_output_real, real_labels)\n",
        "\n",
        "            # Train on fake data\n",
        "            class_output_fake, real_fake_output_fake = discriminator(x_fake.detach())\n",
        "            d_loss_fake_rf = criterion_real_fake(real_fake_output_fake, fake_labels)\n",
        "\n",
        "            # Total discriminator loss\n",
        "            d_loss = d_loss_real_class + d_loss_real_rf + d_loss_fake_rf\n",
        "            d_loss.backward()\n",
        "            optimizer_D.step()\n",
        "\n",
        "            # ====================\n",
        "            # Train Generator\n",
        "            # ====================\n",
        "            # Freeze discriminator parameters\n",
        "            for param in discriminator.parameters():\n",
        "                param.requires_grad = False\n",
        "\n",
        "            generator.train()\n",
        "            optimizer_G.zero_grad()\n",
        "\n",
        "            # Generate fake data\n",
        "            z = torch.randn(batch_size, latent_dim).to(device)\n",
        "            x_fake = generator(z)\n",
        "\n",
        "            # Forward pass through discriminator\n",
        "            _, real_fake_output_fake = discriminator(x_fake)\n",
        "\n",
        "            # Generator wants discriminator to classify fake data as real\n",
        "            real_labels_g = torch.ones(batch_size, 1).to(device)\n",
        "            g_loss_rf = criterion_real_fake(real_fake_output_fake, real_labels_g)\n",
        "            g_loss = g_loss_rf\n",
        "            g_loss.backward()\n",
        "            optimizer_G.step()\n",
        "\n",
        "            # Unfreeze discriminator parameters\n",
        "            for param in discriminator.parameters():\n",
        "                param.requires_grad = True\n",
        "\n",
        "            if i % 100 == 0:\n",
        "                print(f'Epoch [{epoch+1}/{num_epochs}] Batch [{i}/{len(dataloader)}] '\n",
        "                      f'D_loss: {d_loss.item():.4f}, G_loss: {g_loss.item():.4f}')\n"
      ],
      "metadata": {
        "id": "sD4PG-BFeHyU"
      },
      "execution_count": 2,
      "outputs": []
    },
    {
      "cell_type": "code",
      "source": [
        "# Example usage\n",
        "if __name__ == '__main__':\n",
        "    # Define hyperparameters\n",
        "    latent_dim = 100\n",
        "    num_classes = 4  # Replace with the actual number of activity classes\n",
        "    num_epochs = 30\n",
        "    batch_size = 128\n",
        "\n",
        "    # Initialize models\n",
        "    generator = Generator(latent_dim=latent_dim)\n",
        "    discriminator = Discriminator(num_classes=num_classes)\n",
        "\n",
        "    # Create your dataset and dataloader here\n",
        "    # Replace 'YourDataset' with your actual dataset class\n",
        "    # from your_dataset_module import YourDataset\n",
        "    # dataset = YourDataset()\n",
        "    # dataloader = DataLoader(dataset, batch_size=batch_size, shuffle=True)\n",
        "\n",
        "    # For demonstration, using random data (replace with your actual dataloader)\n",
        "    class RandomDataset(torch.utils.data.Dataset):\n",
        "        def __init__(self, num_samples):\n",
        "            self.num_samples = num_samples\n",
        "\n",
        "        def __len__(self):\n",
        "            return self.num_samples\n",
        "\n",
        "        def __getitem__(self, idx):\n",
        "            x = torch.randn(3, 128)  # Random sensor data\n",
        "            y = torch.randint(0, num_classes, (1,)).item()  # Random class label\n",
        "            return x, y\n",
        "\n",
        "    dataset = RandomDataset(10000)\n",
        "    dataloader = DataLoader(dataset, batch_size=batch_size, shuffle=True)\n",
        "\n",
        "    # Train the S-GAN\n",
        "    train_sgan(generator, discriminator, dataloader, num_classes, num_epochs, latent_dim)\n"
      ],
      "metadata": {
        "id": "kICpaZXWeVg8"
      },
      "execution_count": null,
      "outputs": []
    }
  ],
  "metadata": {
    "colab": {
      "provenance": [],
      "gpuType": "A100",
      "include_colab_link": true
    },
    "kernelspec": {
      "display_name": "Python 3",
      "name": "python3"
    },
    "language_info": {
      "codemirror_mode": {
        "name": "ipython",
        "version": 3
      },
      "file_extension": ".py",
      "mimetype": "text/x-python",
      "name": "python",
      "nbconvert_exporter": "python",
      "pygments_lexer": "ipython3",
      "version": "3.10.11"
    },
    "accelerator": "GPU"
  },
  "nbformat": 4,
  "nbformat_minor": 0
}