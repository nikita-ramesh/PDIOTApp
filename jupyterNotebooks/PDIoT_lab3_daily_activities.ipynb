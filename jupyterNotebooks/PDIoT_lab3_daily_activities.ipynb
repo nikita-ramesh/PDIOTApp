{
 "cells": [
  {
   "cell_type": "markdown",
   "metadata": {
    "id": "Rzd9Z9OZxNvd"
   },
   "source": [
    "# **Lab 3 - Activity Recognition with Machine Learning**\n",
    "\n",
    "This notebook implements a machine learning workflow to recognize different physical activities from Respeck sensor data. The dataset includes multiple 30-second recordings of various physical activities (e.g., ascending stairs, shuffle walking, sitting-standing) stored in separate CSV files for each activity.\n",
    "\n",
    "You will then use the model you develop here and deploy it inside your Android app for live classification.\n",
    "\n",
    "In this week, you will not have access to the full dataset as of yet. However, you can complete this lab by combining the data that you and your group mates have collected in Coursework 1 as proof-of-concept first for when you eventually receive the full dataset.\n"
   ]
  },
  {
   "cell_type": "markdown",
   "metadata": {
    "id": "fXyHZD1A0X7J"
   },
   "source": [
    "# Imports"
   ]
  },
  {
   "cell_type": "code",
   "execution_count": null,
   "metadata": {
    "id": "s2B8Hymdj1Sg"
   },
   "outputs": [],
   "source": [
    "# Importing libraries that will be used\n",
    "import pandas as pd\n",
    "import numpy as np\n",
    "import glob\n",
    "import os\n",
    "from sklearn.model_selection import train_test_split\n",
    "from sklearn.preprocessing import OneHotEncoder\n",
    "from sklearn.metrics import accuracy_score, classification_report\n",
    "import tensorflow as tf\n",
    "from tensorflow.keras.models import Sequential, Model\n",
    "from tensorflow.keras.layers import Conv1D, MaxPooling1D, Flatten, Dense, Dropout, LSTM, Input, concatenate\n",
    "\n"
   ]
  },
  {
   "cell_type": "markdown",
   "metadata": {
    "id": "icbrBf1Kl6vp"
   },
   "source": [
    "# Reading Files\n",
    "Reading files from your dataset"
   ]
  },
  {
   "cell_type": "code",
   "execution_count": null,
   "metadata": {
    "id": "pTsJd33Kl44J"
   },
   "outputs": [],
   "source": [
    "# Put in the path of your dataset here\n",
    "respeck_dataset_path = \"C:/Users/nikit/Documents/University/Year 4/PDIOT/CW3/dataset/Respeck/DailyActivities/\"\n",
    "thingy_dataset_path = \"C:/Users/nikit/Documents/University/Year 4/PDIOT/CW3/dataset/Thingy/\"\n"
   ]
  },
  {
   "cell_type": "markdown",
   "metadata": {
    "id": "gOTe3o9Il4ST"
   },
   "source": [
    "This line uses the glob module to find all file paths that match a specified pattern. The 'glob.glob()' function returns a list of file paths that match the given pattern. `your_dataset_path` should be the directory where your dataset files are located.\n",
    "\n",
    "The `*` is a wildcard character that matches any string of characters,  so this pattern retrieves all folders in the 'your_dataset_path' directory.\n",
    "\n",
    "Below is just an example of what your dataset folder can look like. You should refer to the Coursework 3 instructions on what classes your model(s) are expected to be able to classify. Within your dataset directory, there should be subfolders, each representing a class of activity."
   ]
  },
  {
   "cell_type": "code",
   "execution_count": null,
   "metadata": {
    "colab": {
     "base_uri": "https://localhost:8080/"
    },
    "id": "-4izGxKkllz6",
    "outputId": "49f7031e-36ae-454a-a8dc-4a7e92243315"
   },
   "outputs": [
    {
     "data": {
      "text/plain": [
       "['C:/Users/nikit/Documents/University/Year 4/PDIOT/CW3/dataset/Thingy\\\\ascending',\n",
       " 'C:/Users/nikit/Documents/University/Year 4/PDIOT/CW3/dataset/Thingy\\\\descending',\n",
       " 'C:/Users/nikit/Documents/University/Year 4/PDIOT/CW3/dataset/Thingy\\\\lyingBack',\n",
       " 'C:/Users/nikit/Documents/University/Year 4/PDIOT/CW3/dataset/Thingy\\\\lyingLeft',\n",
       " 'C:/Users/nikit/Documents/University/Year 4/PDIOT/CW3/dataset/Thingy\\\\lyingRight',\n",
       " 'C:/Users/nikit/Documents/University/Year 4/PDIOT/CW3/dataset/Thingy\\\\lyingStomach',\n",
       " 'C:/Users/nikit/Documents/University/Year 4/PDIOT/CW3/dataset/Thingy\\\\miscMovement',\n",
       " 'C:/Users/nikit/Documents/University/Year 4/PDIOT/CW3/dataset/Thingy\\\\normalWalking',\n",
       " 'C:/Users/nikit/Documents/University/Year 4/PDIOT/CW3/dataset/Thingy\\\\running',\n",
       " 'C:/Users/nikit/Documents/University/Year 4/PDIOT/CW3/dataset/Thingy\\\\shuffleWalking',\n",
       " 'C:/Users/nikit/Documents/University/Year 4/PDIOT/CW3/dataset/Thingy\\\\sittingStanding']"
      ]
     },
     "execution_count": 230,
     "metadata": {},
     "output_type": "execute_result"
    }
   ],
   "source": [
    "glob.glob(thingy_dataset_path + \"*\")"
   ]
  },
  {
   "cell_type": "code",
   "execution_count": null,
   "metadata": {},
   "outputs": [
    {
     "data": {
      "text/plain": [
       "['C:/Users/nikit/Documents/University/Year 4/PDIOT/CW3/dataset/Respeck/DailyActivities\\\\ascending',\n",
       " 'C:/Users/nikit/Documents/University/Year 4/PDIOT/CW3/dataset/Respeck/DailyActivities\\\\descending',\n",
       " 'C:/Users/nikit/Documents/University/Year 4/PDIOT/CW3/dataset/Respeck/DailyActivities\\\\lyingBack',\n",
       " 'C:/Users/nikit/Documents/University/Year 4/PDIOT/CW3/dataset/Respeck/DailyActivities\\\\lyingLeft',\n",
       " 'C:/Users/nikit/Documents/University/Year 4/PDIOT/CW3/dataset/Respeck/DailyActivities\\\\lyingRight',\n",
       " 'C:/Users/nikit/Documents/University/Year 4/PDIOT/CW3/dataset/Respeck/DailyActivities\\\\lyingStomach',\n",
       " 'C:/Users/nikit/Documents/University/Year 4/PDIOT/CW3/dataset/Respeck/DailyActivities\\\\miscMovement',\n",
       " 'C:/Users/nikit/Documents/University/Year 4/PDIOT/CW3/dataset/Respeck/DailyActivities\\\\normalWalking',\n",
       " 'C:/Users/nikit/Documents/University/Year 4/PDIOT/CW3/dataset/Respeck/DailyActivities\\\\running',\n",
       " 'C:/Users/nikit/Documents/University/Year 4/PDIOT/CW3/dataset/Respeck/DailyActivities\\\\shuffleWalking',\n",
       " 'C:/Users/nikit/Documents/University/Year 4/PDIOT/CW3/dataset/Respeck/DailyActivities\\\\sittingStanding']"
      ]
     },
     "execution_count": 231,
     "metadata": {},
     "output_type": "execute_result"
    }
   ],
   "source": [
    "glob.glob(respeck_dataset_path + \"*\")"
   ]
  },
  {
   "cell_type": "markdown",
   "metadata": {
    "id": "Z3zJiRjym7LU"
   },
   "source": [
    "To see the files in each subfolder you can similarly do:"
   ]
  },
  {
   "cell_type": "code",
   "execution_count": null,
   "metadata": {
    "colab": {
     "base_uri": "https://localhost:8080/"
    },
    "id": "TCS4lQgwnO9X",
    "outputId": "14dd9919-74f0-462f-e9a3-3122040278ce"
   },
   "outputs": [
    {
     "data": {
      "text/plain": [
       "['C:/Users/nikit/Documents/University/Year 4/PDIOT/CW3/dataset/Respeck/DailyActivities\\\\ascending',\n",
       " 'C:/Users/nikit/Documents/University/Year 4/PDIOT/CW3/dataset/Respeck/DailyActivities\\\\descending',\n",
       " 'C:/Users/nikit/Documents/University/Year 4/PDIOT/CW3/dataset/Respeck/DailyActivities\\\\lyingBack',\n",
       " 'C:/Users/nikit/Documents/University/Year 4/PDIOT/CW3/dataset/Respeck/DailyActivities\\\\lyingLeft',\n",
       " 'C:/Users/nikit/Documents/University/Year 4/PDIOT/CW3/dataset/Respeck/DailyActivities\\\\lyingRight',\n",
       " 'C:/Users/nikit/Documents/University/Year 4/PDIOT/CW3/dataset/Respeck/DailyActivities\\\\lyingStomach',\n",
       " 'C:/Users/nikit/Documents/University/Year 4/PDIOT/CW3/dataset/Respeck/DailyActivities\\\\miscMovement',\n",
       " 'C:/Users/nikit/Documents/University/Year 4/PDIOT/CW3/dataset/Respeck/DailyActivities\\\\normalWalking',\n",
       " 'C:/Users/nikit/Documents/University/Year 4/PDIOT/CW3/dataset/Respeck/DailyActivities\\\\running',\n",
       " 'C:/Users/nikit/Documents/University/Year 4/PDIOT/CW3/dataset/Respeck/DailyActivities\\\\shuffleWalking',\n",
       " 'C:/Users/nikit/Documents/University/Year 4/PDIOT/CW3/dataset/Respeck/DailyActivities\\\\sittingStanding']"
      ]
     },
     "execution_count": 232,
     "metadata": {},
     "output_type": "execute_result"
    }
   ],
   "source": [
    "activity_folder = \"\"\n",
    "glob.glob(respeck_dataset_path + \"/\"+activity_folder+\"/*\")"
   ]
  },
  {
   "cell_type": "code",
   "execution_count": null,
   "metadata": {},
   "outputs": [
    {
     "data": {
      "text/plain": [
       "['C:/Users/nikit/Documents/University/Year 4/PDIOT/CW3/dataset/Thingy\\\\ascending',\n",
       " 'C:/Users/nikit/Documents/University/Year 4/PDIOT/CW3/dataset/Thingy\\\\descending',\n",
       " 'C:/Users/nikit/Documents/University/Year 4/PDIOT/CW3/dataset/Thingy\\\\lyingBack',\n",
       " 'C:/Users/nikit/Documents/University/Year 4/PDIOT/CW3/dataset/Thingy\\\\lyingLeft',\n",
       " 'C:/Users/nikit/Documents/University/Year 4/PDIOT/CW3/dataset/Thingy\\\\lyingRight',\n",
       " 'C:/Users/nikit/Documents/University/Year 4/PDIOT/CW3/dataset/Thingy\\\\lyingStomach',\n",
       " 'C:/Users/nikit/Documents/University/Year 4/PDIOT/CW3/dataset/Thingy\\\\miscMovement',\n",
       " 'C:/Users/nikit/Documents/University/Year 4/PDIOT/CW3/dataset/Thingy\\\\normalWalking',\n",
       " 'C:/Users/nikit/Documents/University/Year 4/PDIOT/CW3/dataset/Thingy\\\\running',\n",
       " 'C:/Users/nikit/Documents/University/Year 4/PDIOT/CW3/dataset/Thingy\\\\shuffleWalking',\n",
       " 'C:/Users/nikit/Documents/University/Year 4/PDIOT/CW3/dataset/Thingy\\\\sittingStanding']"
      ]
     },
     "execution_count": 233,
     "metadata": {},
     "output_type": "execute_result"
    }
   ],
   "source": [
    "activity_folder = \"\"\n",
    "glob.glob(thingy_dataset_path + \"/\"+activity_folder+\"/*\")"
   ]
  },
  {
   "cell_type": "markdown",
   "metadata": {
    "id": "w7eNuiHKmBuT"
   },
   "source": [
    "# Functions"
   ]
  },
  {
   "cell_type": "markdown",
   "metadata": {
    "id": "9zdg12YooOJF"
   },
   "source": [
    "## Load list of files in an activity folder"
   ]
  },
  {
   "cell_type": "code",
   "execution_count": null,
   "metadata": {
    "id": "b_ZtuAb64ZsD"
   },
   "outputs": [],
   "source": [
    "def load_files_from_folder(folder_path):\n",
    "    \"\"\"\n",
    "    Load all CSV files from a folder and return a list of file paths.\n",
    "\n",
    "    Parameters:\n",
    "    folder_path (str): The path to the folder containing CSV files.\n",
    "\n",
    "    Returns:\n",
    "    list: A list of file paths for all CSV files in the folder.\n",
    "    \"\"\"\n",
    "\n",
    "    # Initialize an empty list to store the full file paths of the CSV files\n",
    "    file_paths = []\n",
    "\n",
    "    # Loop through all the files in the given folder\n",
    "    for file_name in os.listdir(folder_path):\n",
    "        # Check if the file has a .csv extension (ignores other files)\n",
    "        if file_name.endswith('.csv'):\n",
    "            # Construct the full file path by joining the folder path and the file name\n",
    "            full_file_path = os.path.join(folder_path, file_name)\n",
    "\n",
    "            # Append the full file path to the file_paths list\n",
    "            file_paths.append(full_file_path)\n",
    "\n",
    "    # Return the complete list of CSV file paths\n",
    "    return file_paths"
   ]
  },
  {
   "cell_type": "markdown",
   "metadata": {
    "id": "hAUGBeBBn_L8"
   },
   "source": [
    "## Train and test set split from list of files"
   ]
  },
  {
   "cell_type": "code",
   "execution_count": null,
   "metadata": {
    "id": "2SzHoQz2NH3v"
   },
   "outputs": [],
   "source": [
    "def split_files(file_list, test_size=0.2):\n",
    "    \"\"\"\n",
    "    Split the list of files into training and test sets.\n",
    "\n",
    "    Parameters:\n",
    "    file_list (list): List of file paths to be split into train and test sets.\n",
    "    test_size (float): The proportion of files to allocate to the test set.\n",
    "                       Default is 0.2, meaning 20% of the files will be used for testing.\n",
    "\n",
    "    Returns:\n",
    "    tuple:\n",
    "        - train_files (list): List of file paths for the training set.\n",
    "        - test_files (list): List of file paths for the test set.\n",
    "    \"\"\"\n",
    "\n",
    "    # Split the file list into training and test sets using train_test_split from scikit-learn\n",
    "    # test_size defines the proportion of the data to use as the test set (default is 20%)\n",
    "    # shuffle=True ensures that the files are shuffled randomly before splitting\n",
    "    train_files, test_files = train_test_split(file_list, test_size=test_size, shuffle=True)\n",
    "\n",
    "    # Return the train and test file lists\n",
    "    return train_files, test_files"
   ]
  },
  {
   "cell_type": "markdown",
   "metadata": {
    "id": "_J7-zQgZzP19"
   },
   "source": [
    "## Sliding Window\n",
    "\n",
    "In time series Activity Recognition, a sliding window is a commonly used technique to segment continuous sensor data (such as accelerometer readings) into smaller, fixed-length overlapping or non-overlapping time intervals, or windows. Each window contains a sequence of sensor measurements that represent a short period of time, and this segmented data is used to extract features or make predictions about the activity happening within that window.\n",
    "\n",
    "### Key Concepts of a Sliding Window\n",
    "1.   **Window Size:** This refers to the length of each segment or window, typically defined in terms of the number of time steps or the duration (e.g., 2 seconds). The window size should be chosen carefully to capture enough information about the activity without making the window too large.\n",
    "2.   **Step Size:** The step size determines how far the window moves forward after each step. If the step size is smaller than the window size, the windows will overlap. For example, if the window size is 5 seconds and the step size is 2 seconds, there will be a 3-second overlap between consecutive windows. Overlapping windows provide more data for analysis and can help smooth out predictions by capturing transitional activities.\n",
    "3.   **Non-Overlapping Windows:** If the step size is equal to the window size, the windows do not overlap. This method provides distinct segments of data but may miss transitional phases between activities.\n",
    "\n",
    "### Why Sliding Windows for Activity Recognition?\n",
    "\n",
    "* Segmentation of Continuous Data: Activity recognition systems work with continuous streams of sensor data, and the sliding window helps segment these into manageable pieces to classify activities within specific intervals.\n",
    "\n",
    "* Context Capturing: Human activities are often complex and spread across time. By using a sliding window, you can capture context across a short duration, which may include transitions or small fluctuations in the activity (e.g., a person moving from sitting to standing).\n",
    "\n",
    "* Feature Extraction: Within each window, features such as mean, variance, frequency domain features, etc., can be extracted to help classify the activity.\n",
    "\n",
    "* Real-Time Recognition: In real-time systems, the sliding window allows for continuous monitoring and updating of predictions as new data arrives.\n",
    "\n"
   ]
  },
  {
   "cell_type": "code",
   "execution_count": null,
   "metadata": {
    "id": "u3SuHww6MpEx"
   },
   "outputs": [],
   "source": [
    "def load_and_apply_sliding_windows(file_paths, window_size, step_size, label):\n",
    "    \"\"\"\n",
    "    Load the data from each file, apply sliding windows, and return the windows and labels.\n",
    "\n",
    "    Parameters:\n",
    "    file_paths (list): List of file paths to CSV files. Each file contains sensor data (e.g., accelerometer, gyroscope).\n",
    "    window_size (int): The size of each sliding window (number of time steps).\n",
    "    step_size (int): The step size (stride) between consecutive windows.\n",
    "    label (int or str): The label for the activity corresponding to the folder.\n",
    "                        This label will be assigned to each sliding window extracted from the data.\n",
    "\n",
    "    Returns:\n",
    "    tuple:\n",
    "        - windows (numpy.ndarray): A 3D array of sliding windows, where each window has the shape\n",
    "                                   (num_windows, window_size, num_features).\n",
    "        - labels (numpy.ndarray): A 1D array of labels, where each label corresponds to a sliding window.\n",
    "    \"\"\"\n",
    "    # Initialize lists to store sliding windows and their corresponding labels\n",
    "    windows = []\n",
    "    labels = []\n",
    "\n",
    "    # Loop through each file in the provided file paths\n",
    "    for file_path in file_paths:\n",
    "        # Load the CSV file into a pandas DataFrame\n",
    "        data = pd.read_csv(file_path)\n",
    "\n",
    "        # Select the columns containing the necessary sensor data (acceleration and gyroscope readings)\n",
    "        # These columns might vary depending on your dataset's structure\n",
    "        data = data[['accel_x', 'accel_y', 'accel_z']]\n",
    "\n",
    "        # Convert the DataFrame into a numpy array for faster processing in the sliding window operation\n",
    "        data = data.to_numpy()\n",
    "\n",
    "        # Get the number of samples (rows) and features (columns) in the data\n",
    "        num_samples, num_features = data.shape\n",
    "\n",
    "        # Apply sliding windows to the data\n",
    "        # The range function defines the start of each window, moving step_size increments at a time\n",
    "        for i in range(0, num_samples - window_size + 1, step_size):\n",
    "            # Extract a window of size 'window_size' from the current position 'i'\n",
    "            window = data[i:i + window_size, :]\n",
    "\n",
    "            # Append the window to the windows list\n",
    "            windows.append(window)\n",
    "\n",
    "            # Assign the activity label to the window and append it to the labels list\n",
    "            labels.append(label)\n",
    "\n",
    "    # Convert the lists of windows and labels into numpy arrays for efficient numerical operations\n",
    "    return np.array(windows), np.array(labels)"
   ]
  },
  {
   "cell_type": "markdown",
   "metadata": {
    "id": "9-Ku5P4Lm8QA"
   },
   "source": [
    "## Load and Split Train Test for Each Activity Folder\n",
    "\n",
    "This function processes the sensor data for a specific activity, such as 'walking' or 'running', stored in its respective folder. It splits the data into training and testing sets, applies sliding windows, and labels the windows with the corresponding activity. This function can be used repeatedly for each activity to process and prepare data for training and evaluation."
   ]
  },
  {
   "cell_type": "code",
   "execution_count": null,
   "metadata": {
    "id": "zBVvTBi7N_fh"
   },
   "outputs": [],
   "source": [
    "def process_activity(activity, label, respeck_path, thingy_path, window_size=50, step_size=50, test_size=0.2):\n",
    "    \"\"\"\n",
    "    Processes an activity folder by loading the file list, splitting them into\n",
    "    train and test sets, and applying sliding windows to the files.\n",
    "\n",
    "    Args:\n",
    "        activity (str): Name of the activity (folder name). This refers to the specific physical activity\n",
    "                        like 'walking', 'running', etc.\n",
    "        label (int): Numeric label corresponding to the activity, used for classification.\n",
    "        dataset_path (str): Base path where the activity folders are located.\n",
    "        window_size (int): Size of the sliding window, i.e., the number of time steps included in each window.\n",
    "                           Default is 50.\n",
    "        step_size (int): Step size for the sliding window, i.e., how far the window moves along the data.\n",
    "                         Default is 50 (no overlap between windows).\n",
    "        test_size (float): Proportion of files to use for testing. Default is 0.2, meaning 20% of files will\n",
    "                           be allocated to the test set.\n",
    "\n",
    "    Returns:\n",
    "        tuple:\n",
    "            - train_windows (numpy.ndarray): Sliding windows from the training files.\n",
    "            - train_labels (numpy.ndarray): Corresponding labels for the training windows.\n",
    "            - test_windows (numpy.ndarray): Sliding windows from the test files.\n",
    "            - test_labels (numpy.ndarray): Corresponding labels for the test windows.\n",
    "    \"\"\"\n",
    "    # Construct the full folder path where the activity files are stored\n",
    "    respeck_folder_path = os.path.join(respeck_path, activity)\n",
    "    thingy_folder_path = os.path.join(thingy_path, activity)\n",
    "\n",
    "    # Load all CSV file paths for the given activity from the folder\n",
    "    respeck_file_list = load_files_from_folder(respeck_folder_path)\n",
    "    thingy_file_list = load_files_from_folder(thingy_folder_path)\n",
    "\n",
    "    # Split the file list into training and testing sets\n",
    "    # train_files: files used for training\n",
    "    # test_files: files used for testing\n",
    "    respeck_train_files, respeck_test_files = split_files(respeck_file_list, test_size=test_size)\n",
    "    thingy_train_files, thingy_test_files = split_files(thingy_file_list, test_size=test_size)\n",
    "\n",
    "    # Apply sliding windows to the training files\n",
    "    # The function 'load_and_apply_sliding_windows' returns the sliding windows (segments) and their corresponding labels\n",
    "    # Apply sliding windows to the testing files\n",
    "    respeck_train_windows, respeck_train_labels = load_and_apply_sliding_windows(respeck_train_files, window_size, step_size, label)\n",
    "    respeck_test_windows, respeck_test_labels = load_and_apply_sliding_windows(respeck_test_files, window_size, step_size, label)\n",
    "    thingy_train_windows, thingy_train_labels = load_and_apply_sliding_windows(thingy_train_files, window_size, step_size, label)\n",
    "    thingy_test_windows, thingy_test_labels = load_and_apply_sliding_windows(thingy_test_files, window_size, step_size, label)\n",
    "\n",
    "    # Return the sliding windows and their labels for both training and testing sets\n",
    "    return (respeck_train_windows, respeck_train_labels, respeck_test_windows, respeck_test_labels,\n",
    "            thingy_train_windows, thingy_train_labels, thingy_test_windows, thingy_test_labels)"
   ]
  },
  {
   "cell_type": "markdown",
   "metadata": {
    "id": "Vv2TUL_Tnnxu"
   },
   "source": [
    "## Combine Data\n",
    "The function combines the sliding window data and their corresponding labels from multiple activities (e.g., walking, running, etc.) into single arrays."
   ]
  },
  {
   "cell_type": "code",
   "execution_count": null,
   "metadata": {
    "id": "au6dRWtmmig7"
   },
   "outputs": [],
   "source": [
    "def combine_data(train_test_data, data_type):\n",
    "    \"\"\"\n",
    "    Combines the sliding windows and labels from all activities into a single\n",
    "    array for either training or testing.\n",
    "\n",
    "    Args:\n",
    "        train_test_data (dict): Dictionary containing the sliding window data for all activities.\n",
    "                                Each key in the dictionary corresponds to an activity, and the value is another\n",
    "                                dictionary with the keys 'train_windows', 'train_labels', 'test_windows', 'test_labels'.\n",
    "        data_type (str): Either 'train' or 'test' to specify which data to combine (e.g., 'train_windows' or 'test_windows').\n",
    "\n",
    "    Returns:\n",
    "        tuple:\n",
    "            - windows (numpy.ndarray): Concatenated windows from all activities for either training or testing.\n",
    "            - labels (numpy.ndarray): Concatenated labels corresponding to the windows from all activities.\n",
    "    \"\"\"\n",
    "\n",
    "    # Extract the list of sliding windows for the specified data type (either 'train' or 'test') from each activity\n",
    "    # For example, if data_type is 'train', it extracts 'train_windows' for all activities\n",
    "    # Similarly, extract the list of labels corresponding to the windows for each activity\n",
    "    respeck_windows_list = [train_test_data[activity][f'respeck_{data_type}_windows'] for activity in train_test_data]\n",
    "    respeck_labels_list = [train_test_data[activity][f'respeck_{data_type}_labels'] for activity in train_test_data]\n",
    "    thingy_windows_list = [train_test_data[activity][f'thingy_{data_type}_windows'] for activity in train_test_data]\n",
    "    thingy_labels_list = [train_test_data[activity][f'thingy_{data_type}_labels'] for activity in train_test_data]\n",
    "\n",
    "    # Concatenate all the sliding windows into a single numpy array along the first axis (rows)\n",
    "    # This creates one large array of windows from all the activities combined\n",
    "    # Concatenate all the labels into a single numpy array along the first axis (rows)\n",
    "    # The labels are now aligned with the concatenated windows\n",
    "    respeck_windows = np.concatenate(respeck_windows_list, axis=0)\n",
    "    respeck_labels = np.concatenate(respeck_labels_list, axis=0)\n",
    "    thingy_windows = np.concatenate(thingy_windows_list, axis=0)\n",
    "    thingy_labels = np.concatenate(thingy_labels_list, axis=0)\n",
    "\n",
    "    # Return the concatenated windows and labels as a tuple\n",
    "    return respeck_windows, respeck_labels, thingy_windows, thingy_labels"
   ]
  },
  {
   "cell_type": "code",
   "execution_count": null,
   "metadata": {},
   "outputs": [],
   "source": [
    "def equalize_samples(X_respeck, y_respeck, X_thingy, y_thingy):\n",
    "    min_samples = min(X_respeck.shape[0], X_thingy.shape[0])\n",
    "    X_respeck = X_respeck[:min_samples]\n",
    "    y_respeck = y_respeck[:min_samples]\n",
    "    X_thingy = X_thingy[:min_samples]\n",
    "    y_thingy = y_thingy[:min_samples]\n",
    "    return X_respeck, y_respeck, X_thingy, y_thingy"
   ]
  },
  {
   "cell_type": "markdown",
   "metadata": {
    "id": "_Wv1PuOLgUV8"
   },
   "source": [
    "## 1D CNN Model\n",
    "\n",
    "This function, `build_1d_cnn_model`, creates and compiles a 1D Convolutional Neural Network (CNN) for multi-class classification tasks.\n",
    "\n",
    "### Function Overview\n",
    "\n",
    "Input Parameters\n",
    "* `input_shape`: Specifies the shape of the input data. It represents (timesteps, features), where timesteps refer to the length of the time series (e.g., 50 windows), and features represent the number of measurements in each time step (e.g., accelerometer readings).\n",
    "* `num_classes`: The number of output classes for the classification problem. For example, if you're classifying six different activities, num_classes would be 6.\n",
    "\n",
    "Returns\n",
    "* The function returns a compiled 1D CNN model that is ready to be trained on your data.\n",
    "\n",
    "<hr>\n",
    "\n",
    "### Function Breakdown\n",
    "1.   Model Initialization:\n",
    "    * `model = Sequential()`: Initializes a Sequential model, which means layers will be stacked on top of each other in a linear fashion.\n",
    "2.   First Convolutional Layer\n",
    "    * `Conv1D(filters=64, kernel_size=3, activation='relu', input_shape=input_shape)`\n",
    "        * This is the first 1D convolutional layer\n",
    "        * `filters=64`: The layer applies 64 filters (or kernels) over the input data.\n",
    "        * `kernel_size=3`: Each filter will cover 3 timesteps at a time (a window of 3).\n",
    "        * `activation='relu'`: The Rectified Linear Unit (ReLU) activation function introduces non-linearity and helps the model learn complex patterns.\n",
    "        * `input_shape=input_shape`: Specifies the shape of the input data.\n",
    "    * `MaxPooling1D(pool_size=2)`: This pooling layer reduces the dimensionality of the data by taking the maximum value from each 2-timestep window (`pool_size=2`). This helps reduce computational complexity and captures the most important features.\n",
    "3. Second Convolutional Layer:\n",
    "    * `Conv1D(filters=128, kernel_size=3, activation='relu')`\n",
    "        * This is the second convolutional layer, similar to the first, but with 128 filters, which allow the network to learn more complex features from the data.\n",
    "        * `kernel_size=3` and activation='relu' function in the same way as the first Conv1D layer.\n",
    "    * `MaxPooling1D(pool_size=2)`: Another pooling layer to downsample the output, further reducing the data’s dimensionality.\n",
    "4. Flattening Layer:\n",
    "    * `Flattening`: Converts the 2D output of the convolutional and pooling layers into a 1D vector. This is necessary because the next layer is fully connected, and it requires a 1D input.\n",
    "5. Fully Connected Layer:\n",
    "    * `Dense(128, activation='relu')`: This is a fully connected layer with 128 units/neurons. Each neuron is connected to every input from the flattened output. The ReLU activation function is used again to introduce non-linearity and help the model learn complex relationships.\n",
    "6. Dropout Layer:\n",
    "    * `Dropout(0.5)`: This layer randomly sets 50% of the neurons to zero during training to prevent overfitting. It helps the model generalize better to unseen data.\n",
    "7. Output Layer:\n",
    "    * `Dense(num_classes, activation='softmax')`: This is the output layer with num_classes neurons, one for each class in the classification problem. The softmax activation function ensures the output values represent probabilities that sum to 1, useful for multi-class classification.\n",
    "8. Compiling the model\n",
    "    * model.compile(optimizer='adam', loss='categorical_crossentropy', metrics=['accuracy']):\n",
    "        * Optimizer: 'adam': Adam is an optimization algorithm that adjusts the learning rate during training to improve performance.\n",
    "        * Loss: 'categorical_crossentropy': This loss function is used for multi-class classification problems where the target variable is one-hot encoded (i.e., represented as a vector of 0s and 1s).\n",
    "        * Metrics: ['accuracy']: The accuracy metric is used to evaluate the model’s performance during training and testing.\n"
   ]
  },
  {
   "cell_type": "code",
   "execution_count": null,
   "metadata": {
    "id": "sCOkh99EOg8t"
   },
   "outputs": [],
   "source": [
    "def build_1d_cnn_model(input_shape, num_classes):\n",
    "    \"\"\"\n",
    "    Builds and compiles a 1D CNN model for multi-class classification.\n",
    "\n",
    "    Args:\n",
    "        input_shape (tuple): The shape of the input data (timesteps, features).\n",
    "        num_classes (int): The number of output classes.\n",
    "\n",
    "    Returns:\n",
    "        model (Sequential): Compiled 1D CNN model.\n",
    "    \"\"\"\n",
    "    model = Sequential()\n",
    "\n",
    "    # First Conv1D layer\n",
    "    # You can try experimenting with different filters, kernel_size values and activiation functions\n",
    "    model.add(Conv1D(filters=64, kernel_size=3, activation='relu', input_shape=input_shape))\n",
    "    model.add(MaxPooling1D(pool_size=2))\n",
    "\n",
    "    # Second Conv1D layer\n",
    "    # You can try experimenting with different filters, kernel_size values and activiation functions\n",
    "    model.add(Conv1D(filters=128, kernel_size=3, activation='relu'))\n",
    "    model.add(MaxPooling1D(pool_size=2))\n",
    "\n",
    "    # Add LSTM layer\n",
    "    model.add(LSTM(64, return_sequences=True))  # Use return_sequences=True if adding more layers after LSTM\n",
    "\n",
    "    # Flatten the output from the convolutional layers\n",
    "    model.add(Flatten())\n",
    "\n",
    "    # Fully connected layer\n",
    "    model.add(Dense(128, activation='relu'))\n",
    "\n",
    "    # Dropout layer for regularization\n",
    "    # You can try experimenting with different dropout rates\n",
    "    model.add(Dropout(0.5))\n",
    "\n",
    "    # Output layer with softmax for multi-class classification\n",
    "    model.add(Dense(num_classes, activation='softmax'))\n",
    "\n",
    "    # Compile the model\n",
    "    model.compile(optimizer='adam', loss='categorical_crossentropy', metrics=['accuracy'])\n",
    "\n",
    "    #  Prints a detailed summary of the model, showing the layers, their output shapes, and the number of trainable parameters\n",
    "    model.summary()\n",
    "\n",
    "    return model"
   ]
  },
  {
   "cell_type": "code",
   "execution_count": null,
   "metadata": {},
   "outputs": [],
   "source": [
    "def build_dual_input_cnn_model(respeck_input_shape, thingy_input_shape, num_classes):\n",
    "    respeck_input = Input(shape=respeck_input_shape, name='respeck_input')\n",
    "    thingy_input = Input(shape=thingy_input_shape, name='thingy_input')\n",
    "    \n",
    "    # Respeck branch\n",
    "    x_respeck = Conv1D(64, 3, activation='relu')(respeck_input)\n",
    "    x_respeck = MaxPooling1D(2)(x_respeck)\n",
    "    x_respeck = Conv1D(128, 3, activation='relu')(x_respeck)\n",
    "    x_respeck = MaxPooling1D(2)(x_respeck)\n",
    "    x_respeck = Flatten()(x_respeck)\n",
    "    \n",
    "    # Thingy branch\n",
    "    x_thingy = Conv1D(64, 3, activation='relu')(thingy_input)\n",
    "    x_thingy = MaxPooling1D(2)(x_thingy)\n",
    "    x_thingy = Conv1D(128, 3, activation='relu')(x_thingy)\n",
    "    x_thingy = MaxPooling1D(2)(x_thingy)\n",
    "    x_thingy = Flatten()(x_thingy)\n",
    "    \n",
    "    # Combine branches\n",
    "    combined = concatenate([x_respeck, x_thingy])\n",
    "    x = Dense(128, activation='relu')(combined)\n",
    "    x = Dropout(0.5)(x)\n",
    "    output = Dense(num_classes, activation='softmax')(x)\n",
    "    \n",
    "    model = Model(inputs=[respeck_input, thingy_input], outputs=output)\n",
    "    model.compile(optimizer='adam', loss='categorical_crossentropy', metrics=['accuracy'])\n",
    "    return model"
   ]
  },
  {
   "cell_type": "markdown",
   "metadata": {
    "id": "HurfE6lmOjQT"
   },
   "source": [
    "# Classification Pipeline"
   ]
  },
  {
   "cell_type": "markdown",
   "metadata": {
    "id": "DLs1eacYoa_S"
   },
   "source": [
    "## Step 1: Prepare and Preprocess the Data"
   ]
  },
  {
   "cell_type": "code",
   "execution_count": null,
   "metadata": {
    "id": "QTzHon1EoiEK"
   },
   "outputs": [],
   "source": [
    "# Define activity folders and corresponding labels\n",
    "# Each key is the name of the physical activity, and the corresponding value is the numeric label\n",
    "# These labels will be used as the target variable for classification.\n",
    "activities = {\n",
    "    'ascending': 0,\n",
    "    'descending': 1,\n",
    "    'lyingBack': 2,\n",
    "    'lyingLeft': 3,\n",
    "    'lyingRight': 4,\n",
    "    'lyingStomach': 5,\n",
    "    'miscMovement': 6,\n",
    "    'normalWalking': 7,\n",
    "    'running': 8,\n",
    "    'shuffleWalking': 9,\n",
    "    'sittingStanding': 10,\n",
    "}"
   ]
  },
  {
   "cell_type": "code",
   "execution_count": null,
   "metadata": {
    "id": "2FqqaaX2o1YW"
   },
   "outputs": [],
   "source": [
    "# Dictionary to store sliding windows and labels for both train and test sets for each activity\n",
    "# This will hold the training and test data after processing each activity.\n",
    "train_test_data = {}\n",
    "\n",
    "# Loop through each activity folder and process the data\n",
    "# Note, if you have large amounts of data, this step may take a while\n",
    "for activity, label in activities.items():\n",
    "    train_test_data[activity] = {}\n",
    "\n",
    "     # Call process_activity() to process the data for the current activity folder\n",
    "    # It loads the data, applies sliding windows, splits it into train and test sets,\n",
    "    # and returns the respective sliding windows and labels for both sets.\n",
    "    (train_test_data[activity]['respeck_train_windows'], train_test_data[activity]['respeck_train_labels'],\n",
    "     train_test_data[activity]['respeck_test_windows'], train_test_data[activity]['respeck_test_labels'],\n",
    "     train_test_data[activity]['thingy_train_windows'], train_test_data[activity]['thingy_train_labels'],\n",
    "     train_test_data[activity]['thingy_test_windows'], train_test_data[activity]['thingy_test_labels']) = process_activity(\n",
    "        activity, label, respeck_dataset_path, thingy_dataset_path)\n",
    "\n",
    "# Explanation:\n",
    "    # - 'train_windows' and 'train_labels' store the windows and labels from the training files.\n",
    "    # - 'test_windows' and 'test_labels' store the windows and labels from the test files.\n",
    "    # - `your_dataset_path` should be replaced with the actual path to your dataset.\n",
    "    # - `process_activity` handles all the steps of loading data, splitting it, and applying sliding windows."
   ]
  },
  {
   "cell_type": "markdown",
   "metadata": {
    "id": "TdGR352hph4X"
   },
   "source": [
    "Now that each activity has been processed and stored in train_test_data, we need to combine the sliding windows and labels from all activities into unified arrays (one for training and one for testing) for model training."
   ]
  },
  {
   "cell_type": "code",
   "execution_count": null,
   "metadata": {
    "id": "OtpVBr4Fpq_8"
   },
   "outputs": [],
   "source": [
    "# Combine the sliding windows and labels for the training data from all activities\n",
    "# The combine_data() function concatenates the windows and labels across activities\n",
    "# Combine the sliding windows and labels for the test data from all activities\n",
    "X_train_respeck, y_train_respeck, X_train_thingy, y_train_thingy = combine_data(train_test_data, 'train')\n",
    "X_test_respeck, y_test_respeck, X_test_thingy, y_test_thingy = combine_data(train_test_data, 'test')\n",
    "\n",
    "# Explanation:\n",
    "# - `combine_data()` takes in the `train_test_data` dictionary and the data type ('train' or 'test') to specify\n",
    "#   whether we are combining training or testing data.\n",
    "# - It retrieves and concatenates the windows and labels from all activities into single arrays\n",
    "#   (`X_train` and `y_train` for training, `X_test` and `y_test` for testing).\n",
    "# - `X_train` and `X_test` are 3D arrays of sliding windows (shape: num_windows, window_size, num_features).\n",
    "# - `y_train` and `y_test` are 1D arrays containing the activity labels corresponding to each window."
   ]
  },
  {
   "cell_type": "code",
   "execution_count": null,
   "metadata": {},
   "outputs": [
    {
     "name": "stdout",
     "output_type": "stream",
     "text": [
      "X_train_respeck shape: (13163, 50, 3), X_train_thingy shape: (13163, 50, 3)\n",
      "X_test_respeck shape: (3391, 50, 3), X_test_thingy shape: (3391, 50, 3)\n"
     ]
    }
   ],
   "source": [
    "# Equalize samples for training data\n",
    "X_train_respeck, y_train_respeck, X_train_thingy, y_train_thingy = equalize_samples(\n",
    "    X_train_respeck, y_train_respeck, X_train_thingy, y_train_thingy\n",
    ")\n",
    "\n",
    "# Equalize samples for testing data\n",
    "X_test_respeck, y_test_respeck, X_test_thingy, y_test_thingy = equalize_samples(\n",
    "    X_test_respeck, y_test_respeck, X_test_thingy, y_test_thingy\n",
    ")\n",
    "\n",
    "# Print the new shapes to verify\n",
    "print(f\"X_train_respeck shape: {X_train_respeck.shape}, X_train_thingy shape: {X_train_thingy.shape}\")\n",
    "print(f\"X_test_respeck shape: {X_test_respeck.shape}, X_test_thingy shape: {X_test_thingy.shape}\")"
   ]
  },
  {
   "cell_type": "markdown",
   "metadata": {
    "id": "1yQGU1vwIQdz"
   },
   "source": [
    "### One-Hot Encode Labels (for multi-class classification)\n",
    "If you have more than two classes, you'll need to one-hot encode the labels, especially if your model will use categorical cross-entropy loss.\n",
    "\n",
    "One-Hot Encoding converts categorical labels into binary vectors (one-hot encoded format). Each class label is represented as a binary vector with 1 for the correct class and 0 for others. This is necessary for training models that use categorical_crossentropy as the loss function, such as a neural network."
   ]
  },
  {
   "cell_type": "code",
   "execution_count": null,
   "metadata": {},
   "outputs": [
    {
     "name": "stdout",
     "output_type": "stream",
     "text": [
      "y_train_respeck_one_hot shape: (13163, 11), y_test_respeck_one_hot shape: (3391, 11)\n",
      "y_train_thingy_one_hot shape: (13163, 11), y_test_thingy_one_hot shape: (3391, 11)\n"
     ]
    }
   ],
   "source": [
    "# Initialize the OneHotEncoder\n",
    "encoder = OneHotEncoder(sparse_output=False)\n",
    "\n",
    "# Combine labels from both sensors for fitting the encoder\n",
    "combined_labels = np.concatenate([y_train_respeck, y_train_thingy])\n",
    "encoder.fit(combined_labels.reshape(-1, 1))\n",
    "\n",
    "# One-hot encode Respeck labels\n",
    "y_train_respeck_one_hot = encoder.transform(y_train_respeck.reshape(-1, 1))\n",
    "y_test_respeck_one_hot = encoder.transform(y_test_respeck.reshape(-1, 1))\n",
    "\n",
    "# One-hot encode Thingy labels\n",
    "y_train_thingy_one_hot = encoder.transform(y_train_thingy.reshape(-1, 1))\n",
    "y_test_thingy_one_hot = encoder.transform(y_test_thingy.reshape(-1, 1))\n",
    "\n",
    "# Print the shapes of the one-hot encoded labels\n",
    "print(f\"y_train_respeck_one_hot shape: {y_train_respeck_one_hot.shape}, y_test_respeck_one_hot shape: {y_test_respeck_one_hot.shape}\")\n",
    "print(f\"y_train_thingy_one_hot shape: {y_train_thingy_one_hot.shape}, y_test_thingy_one_hot shape: {y_test_thingy_one_hot.shape}\")\n",
    "\n",
    "# Explanation of shapes:\n",
    "# - The shape of y_train_one_hot will be (num_samples, num_classes), where:\n",
    "#     - num_samples is the number of training windows.\n",
    "#     - num_classes is the number of unique activities (the length of the one-hot vectors).\n",
    "# - Similarly, y_test_one_hot will have the same number of columns (num_classes) as y_train_one_hot but will have fewer rows (corresponding to the number of test windows)."
   ]
  },
  {
   "cell_type": "markdown",
   "metadata": {
    "id": "fEhUxZzzJzzI"
   },
   "source": [
    "## Step 2: Build the 1D-CNN Model\n",
    "Call our `build_1d_cnn_model` functionto build our model"
   ]
  },
  {
   "cell_type": "code",
   "execution_count": null,
   "metadata": {
    "colab": {
     "base_uri": "https://localhost:8080/",
     "height": 441
    },
    "id": "4sDZWZH_KKBD",
    "outputId": "12cc6048-0921-414c-d2d7-b8d5268a8196"
   },
   "outputs": [],
   "source": [
    "# Determine the input shape for the model\n",
    "respeck_input_shape = (X_train_respeck.shape[1], X_train_respeck.shape[2])\n",
    "thingy_input_shape = (X_train_thingy.shape[1], X_train_thingy.shape[2])\n",
    "\n",
    "# Determine the number of output classes\n",
    "num_classes = y_train_respeck_one_hot.shape[1]  # This should be the same for both sensors\n",
    "\n",
    "# Build and compile the model\n",
    "model = build_dual_input_cnn_model(respeck_input_shape, thingy_input_shape, num_classes)"
   ]
  },
  {
   "cell_type": "markdown",
   "metadata": {
    "id": "q1-SHEmtKM0D"
   },
   "source": [
    "## Step 3: Train the CNN Model\n",
    "\n",
    "Train the 1D CNN model using the training data and validate on the test data. The model will learn to map input sliding windows to their corresponding activity labels.\n",
    "\n",
    "`model.fit()` is used to train the neural network model. It takes several parameters:\n",
    "* `X_train`: The input training data (sliding windows), with shape (num_samples, window_size, num_features).\n",
    "* `y_train_one_hot`: The corresponding one-hot encoded labels for the training data, with shape (num_samples, num_classes).\n",
    "* `epochs`: Number of times the entire training dataset is passed through the model. You can try adjusting the number of epochs and compare the difference in model performance. In this case, we are training for 20 epochs, meaning the model will see the entire training set 20 times.\n",
    "* `batch_size`: Number of samples processed before the model's weights are updated. Here, the batch size is set to 32, meaning the model will process 32 samples at a time before updating its parameters.\n",
    "* `validation_data`: This parameter allows us to evaluate the model's performance on the test data after each epoch.\n",
    "*`(X_test, y_test_one_hot)`: These are the input test data and corresponding one-hot encoded test labels."
   ]
  },
  {
   "cell_type": "code",
   "execution_count": null,
   "metadata": {
    "colab": {
     "base_uri": "https://localhost:8080/"
    },
    "id": "b4zICRasKPsT",
    "outputId": "c2c4bde2-1417-4c96-e25b-8e4f3d039bf9"
   },
   "outputs": [
    {
     "name": "stdout",
     "output_type": "stream",
     "text": [
      "Epoch 1/20\n"
     ]
    },
    {
     "name": "stderr",
     "output_type": "stream",
     "text": [
      "C:\\Users\\nikit\\AppData\\Local\\Packages\\PythonSoftwareFoundation.Python.3.10_qbz5n2kfra8p0\\LocalCache\\local-packages\\Python310\\site-packages\\keras\\src\\models\\functional.py:225: UserWarning: The structure of `inputs` doesn't match the expected structure: ['respeck_input', 'thingy_input']. Received: the structure of inputs=('*', '*')\n",
      "  warnings.warn(\n"
     ]
    },
    {
     "name": "stdout",
     "output_type": "stream",
     "text": [
      "\u001b[1m412/412\u001b[0m \u001b[32m━━━━━━━━━━━━━━━━━━━━\u001b[0m\u001b[37m\u001b[0m \u001b[1m4s\u001b[0m 5ms/step - accuracy: 0.6612 - loss: 1.0436 - val_accuracy: 0.8676 - val_loss: 0.4501\n",
      "Epoch 2/20\n",
      "\u001b[1m412/412\u001b[0m \u001b[32m━━━━━━━━━━━━━━━━━━━━\u001b[0m\u001b[37m\u001b[0m \u001b[1m2s\u001b[0m 6ms/step - accuracy: 0.8473 - loss: 0.4682 - val_accuracy: 0.9021 - val_loss: 0.3313\n",
      "Epoch 3/20\n",
      "\u001b[1m412/412\u001b[0m \u001b[32m━━━━━━━━━━━━━━━━━━━━\u001b[0m\u001b[37m\u001b[0m \u001b[1m2s\u001b[0m 5ms/step - accuracy: 0.8835 - loss: 0.3685 - val_accuracy: 0.9080 - val_loss: 0.3238\n",
      "Epoch 4/20\n",
      "\u001b[1m412/412\u001b[0m \u001b[32m━━━━━━━━━━━━━━━━━━━━\u001b[0m\u001b[37m\u001b[0m \u001b[1m2s\u001b[0m 5ms/step - accuracy: 0.9143 - loss: 0.2716 - val_accuracy: 0.9089 - val_loss: 0.3704\n",
      "Epoch 5/20\n",
      "\u001b[1m412/412\u001b[0m \u001b[32m━━━━━━━━━━━━━━━━━━━━\u001b[0m\u001b[37m\u001b[0m \u001b[1m2s\u001b[0m 5ms/step - accuracy: 0.9271 - loss: 0.2256 - val_accuracy: 0.9289 - val_loss: 0.3172\n",
      "Epoch 6/20\n",
      "\u001b[1m412/412\u001b[0m \u001b[32m━━━━━━━━━━━━━━━━━━━━\u001b[0m\u001b[37m\u001b[0m \u001b[1m2s\u001b[0m 5ms/step - accuracy: 0.9421 - loss: 0.1871 - val_accuracy: 0.9334 - val_loss: 0.2980\n",
      "Epoch 7/20\n",
      "\u001b[1m412/412\u001b[0m \u001b[32m━━━━━━━━━━━━━━━━━━━━\u001b[0m\u001b[37m\u001b[0m \u001b[1m2s\u001b[0m 5ms/step - accuracy: 0.9537 - loss: 0.1457 - val_accuracy: 0.9301 - val_loss: 0.3211\n",
      "Epoch 8/20\n",
      "\u001b[1m412/412\u001b[0m \u001b[32m━━━━━━━━━━━━━━━━━━━━\u001b[0m\u001b[37m\u001b[0m \u001b[1m2s\u001b[0m 5ms/step - accuracy: 0.9576 - loss: 0.1361 - val_accuracy: 0.9295 - val_loss: 0.3398\n",
      "Epoch 9/20\n",
      "\u001b[1m412/412\u001b[0m \u001b[32m━━━━━━━━━━━━━━━━━━━━\u001b[0m\u001b[37m\u001b[0m \u001b[1m2s\u001b[0m 5ms/step - accuracy: 0.9659 - loss: 0.1069 - val_accuracy: 0.9416 - val_loss: 0.3334\n",
      "Epoch 10/20\n",
      "\u001b[1m412/412\u001b[0m \u001b[32m━━━━━━━━━━━━━━━━━━━━\u001b[0m\u001b[37m\u001b[0m \u001b[1m2s\u001b[0m 5ms/step - accuracy: 0.9690 - loss: 0.0977 - val_accuracy: 0.9375 - val_loss: 0.3636\n",
      "Epoch 11/20\n",
      "\u001b[1m412/412\u001b[0m \u001b[32m━━━━━━━━━━━━━━━━━━━━\u001b[0m\u001b[37m\u001b[0m \u001b[1m2s\u001b[0m 5ms/step - accuracy: 0.9688 - loss: 0.0967 - val_accuracy: 0.9384 - val_loss: 0.3393\n",
      "Epoch 12/20\n",
      "\u001b[1m412/412\u001b[0m \u001b[32m━━━━━━━━━━━━━━━━━━━━\u001b[0m\u001b[37m\u001b[0m \u001b[1m2s\u001b[0m 5ms/step - accuracy: 0.9735 - loss: 0.0818 - val_accuracy: 0.9378 - val_loss: 0.3978\n",
      "Epoch 13/20\n",
      "\u001b[1m412/412\u001b[0m \u001b[32m━━━━━━━━━━━━━━━━━━━━\u001b[0m\u001b[37m\u001b[0m \u001b[1m2s\u001b[0m 5ms/step - accuracy: 0.9787 - loss: 0.0647 - val_accuracy: 0.9451 - val_loss: 0.3523\n",
      "Epoch 14/20\n",
      "\u001b[1m412/412\u001b[0m \u001b[32m━━━━━━━━━━━━━━━━━━━━\u001b[0m\u001b[37m\u001b[0m \u001b[1m2s\u001b[0m 5ms/step - accuracy: 0.9793 - loss: 0.0590 - val_accuracy: 0.9283 - val_loss: 0.4619\n",
      "Epoch 15/20\n",
      "\u001b[1m412/412\u001b[0m \u001b[32m━━━━━━━━━━━━━━━━━━━━\u001b[0m\u001b[37m\u001b[0m \u001b[1m2s\u001b[0m 5ms/step - accuracy: 0.9807 - loss: 0.0591 - val_accuracy: 0.9363 - val_loss: 0.4165\n",
      "Epoch 16/20\n",
      "\u001b[1m412/412\u001b[0m \u001b[32m━━━━━━━━━━━━━━━━━━━━\u001b[0m\u001b[37m\u001b[0m \u001b[1m2s\u001b[0m 5ms/step - accuracy: 0.9850 - loss: 0.0484 - val_accuracy: 0.9295 - val_loss: 0.4061\n",
      "Epoch 17/20\n",
      "\u001b[1m412/412\u001b[0m \u001b[32m━━━━━━━━━━━━━━━━━━━━\u001b[0m\u001b[37m\u001b[0m \u001b[1m2s\u001b[0m 6ms/step - accuracy: 0.9865 - loss: 0.0446 - val_accuracy: 0.9454 - val_loss: 0.4302\n",
      "Epoch 18/20\n",
      "\u001b[1m412/412\u001b[0m \u001b[32m━━━━━━━━━━━━━━━━━━━━\u001b[0m\u001b[37m\u001b[0m \u001b[1m2s\u001b[0m 6ms/step - accuracy: 0.9865 - loss: 0.0422 - val_accuracy: 0.9446 - val_loss: 0.4721\n",
      "Epoch 19/20\n",
      "\u001b[1m412/412\u001b[0m \u001b[32m━━━━━━━━━━━━━━━━━━━━\u001b[0m\u001b[37m\u001b[0m \u001b[1m2s\u001b[0m 6ms/step - accuracy: 0.9865 - loss: 0.0430 - val_accuracy: 0.9475 - val_loss: 0.4577\n",
      "Epoch 20/20\n",
      "\u001b[1m412/412\u001b[0m \u001b[32m━━━━━━━━━━━━━━━━━━━━\u001b[0m\u001b[37m\u001b[0m \u001b[1m2s\u001b[0m 5ms/step - accuracy: 0.9882 - loss: 0.0354 - val_accuracy: 0.9472 - val_loss: 0.4577\n"
     ]
    }
   ],
   "source": [
    "# Train the model\n",
    "history = model.fit(\n",
    "    [X_train_respeck, X_train_thingy], \n",
    "    [y_train_respeck_one_hot, y_train_thingy_one_hot],\n",
    "    epochs=20,\n",
    "    batch_size=32,\n",
    "    validation_data=([X_test_respeck, X_test_thingy], [y_test_respeck_one_hot, y_test_thingy_one_hot])  # Use one-hot encoded labels for validation too\n",
    ")"
   ]
  },
  {
   "cell_type": "markdown",
   "metadata": {
    "id": "TrSPBPh4KcBn"
   },
   "source": [
    "## Step 4: Evaluate the Model\n",
    "After training, you can evaluate the model on the test set:"
   ]
  },
  {
   "cell_type": "code",
   "execution_count": null,
   "metadata": {
    "colab": {
     "base_uri": "https://localhost:8080/"
    },
    "id": "UB2Bi7ieKelv",
    "outputId": "de615d87-81e5-45df-f50b-60b21139fdd0"
   },
   "outputs": [
    {
     "name": "stdout",
     "output_type": "stream",
     "text": [
      "\u001b[1m106/106\u001b[0m \u001b[32m━━━━━━━━━━━━━━━━━━━━\u001b[0m\u001b[37m\u001b[0m \u001b[1m0s\u001b[0m 3ms/step\n"
     ]
    },
    {
     "ename": "ValueError",
     "evalue": "Found input variables with inconsistent numbers of samples: [6782, 3391]",
     "output_type": "error",
     "traceback": [
      "\u001b[1;31m---------------------------------------------------------------------------\u001b[0m",
      "\u001b[1;31mValueError\u001b[0m                                Traceback (most recent call last)",
      "Cell \u001b[1;32mIn[249], line 15\u001b[0m\n\u001b[0;32m     12\u001b[0m y_true_classes \u001b[38;5;241m=\u001b[39m np\u001b[38;5;241m.\u001b[39mconcatenate([y_true_classes_respeck, y_true_classes_thingy])\n\u001b[0;32m     14\u001b[0m \u001b[38;5;66;03m# Generate the classification report\u001b[39;00m\n\u001b[1;32m---> 15\u001b[0m report \u001b[38;5;241m=\u001b[39m \u001b[43mclassification_report\u001b[49m\u001b[43m(\u001b[49m\u001b[43my_true_classes\u001b[49m\u001b[43m,\u001b[49m\u001b[43m \u001b[49m\u001b[43my_pred_classes\u001b[49m\u001b[43m,\u001b[49m\u001b[43m \u001b[49m\u001b[43mdigits\u001b[49m\u001b[38;5;241;43m=\u001b[39;49m\u001b[38;5;241;43m4\u001b[39;49m\u001b[43m)\u001b[49m\n\u001b[0;32m     16\u001b[0m \u001b[38;5;28mprint\u001b[39m(report)\n",
      "File \u001b[1;32m~\\AppData\\Local\\Packages\\PythonSoftwareFoundation.Python.3.10_qbz5n2kfra8p0\\LocalCache\\local-packages\\Python310\\site-packages\\sklearn\\utils\\_param_validation.py:213\u001b[0m, in \u001b[0;36mvalidate_params.<locals>.decorator.<locals>.wrapper\u001b[1;34m(*args, **kwargs)\u001b[0m\n\u001b[0;32m    207\u001b[0m \u001b[38;5;28;01mtry\u001b[39;00m:\n\u001b[0;32m    208\u001b[0m     \u001b[38;5;28;01mwith\u001b[39;00m config_context(\n\u001b[0;32m    209\u001b[0m         skip_parameter_validation\u001b[38;5;241m=\u001b[39m(\n\u001b[0;32m    210\u001b[0m             prefer_skip_nested_validation \u001b[38;5;129;01mor\u001b[39;00m global_skip_validation\n\u001b[0;32m    211\u001b[0m         )\n\u001b[0;32m    212\u001b[0m     ):\n\u001b[1;32m--> 213\u001b[0m         \u001b[38;5;28;01mreturn\u001b[39;00m func(\u001b[38;5;241m*\u001b[39margs, \u001b[38;5;241m*\u001b[39m\u001b[38;5;241m*\u001b[39mkwargs)\n\u001b[0;32m    214\u001b[0m \u001b[38;5;28;01mexcept\u001b[39;00m InvalidParameterError \u001b[38;5;28;01mas\u001b[39;00m e:\n\u001b[0;32m    215\u001b[0m     \u001b[38;5;66;03m# When the function is just a wrapper around an estimator, we allow\u001b[39;00m\n\u001b[0;32m    216\u001b[0m     \u001b[38;5;66;03m# the function to delegate validation to the estimator, but we replace\u001b[39;00m\n\u001b[0;32m    217\u001b[0m     \u001b[38;5;66;03m# the name of the estimator by the name of the function in the error\u001b[39;00m\n\u001b[0;32m    218\u001b[0m     \u001b[38;5;66;03m# message to avoid confusion.\u001b[39;00m\n\u001b[0;32m    219\u001b[0m     msg \u001b[38;5;241m=\u001b[39m re\u001b[38;5;241m.\u001b[39msub(\n\u001b[0;32m    220\u001b[0m         \u001b[38;5;124mr\u001b[39m\u001b[38;5;124m\"\u001b[39m\u001b[38;5;124mparameter of \u001b[39m\u001b[38;5;124m\\\u001b[39m\u001b[38;5;124mw+ must be\u001b[39m\u001b[38;5;124m\"\u001b[39m,\n\u001b[0;32m    221\u001b[0m         \u001b[38;5;124mf\u001b[39m\u001b[38;5;124m\"\u001b[39m\u001b[38;5;124mparameter of \u001b[39m\u001b[38;5;132;01m{\u001b[39;00mfunc\u001b[38;5;241m.\u001b[39m\u001b[38;5;18m__qualname__\u001b[39m\u001b[38;5;132;01m}\u001b[39;00m\u001b[38;5;124m must be\u001b[39m\u001b[38;5;124m\"\u001b[39m,\n\u001b[0;32m    222\u001b[0m         \u001b[38;5;28mstr\u001b[39m(e),\n\u001b[0;32m    223\u001b[0m     )\n",
      "File \u001b[1;32m~\\AppData\\Local\\Packages\\PythonSoftwareFoundation.Python.3.10_qbz5n2kfra8p0\\LocalCache\\local-packages\\Python310\\site-packages\\sklearn\\metrics\\_classification.py:2626\u001b[0m, in \u001b[0;36mclassification_report\u001b[1;34m(y_true, y_pred, labels, target_names, sample_weight, digits, output_dict, zero_division)\u001b[0m\n\u001b[0;32m   2491\u001b[0m \u001b[38;5;129m@validate_params\u001b[39m(\n\u001b[0;32m   2492\u001b[0m     {\n\u001b[0;32m   2493\u001b[0m         \u001b[38;5;124m\"\u001b[39m\u001b[38;5;124my_true\u001b[39m\u001b[38;5;124m\"\u001b[39m: [\u001b[38;5;124m\"\u001b[39m\u001b[38;5;124marray-like\u001b[39m\u001b[38;5;124m\"\u001b[39m, \u001b[38;5;124m\"\u001b[39m\u001b[38;5;124msparse matrix\u001b[39m\u001b[38;5;124m\"\u001b[39m],\n\u001b[1;32m   (...)\u001b[0m\n\u001b[0;32m   2517\u001b[0m     zero_division\u001b[38;5;241m=\u001b[39m\u001b[38;5;124m\"\u001b[39m\u001b[38;5;124mwarn\u001b[39m\u001b[38;5;124m\"\u001b[39m,\n\u001b[0;32m   2518\u001b[0m ):\n\u001b[0;32m   2519\u001b[0m \u001b[38;5;250m    \u001b[39m\u001b[38;5;124;03m\"\"\"Build a text report showing the main classification metrics.\u001b[39;00m\n\u001b[0;32m   2520\u001b[0m \n\u001b[0;32m   2521\u001b[0m \u001b[38;5;124;03m    Read more in the :ref:`User Guide <classification_report>`.\u001b[39;00m\n\u001b[1;32m   (...)\u001b[0m\n\u001b[0;32m   2623\u001b[0m \u001b[38;5;124;03m    <BLANKLINE>\u001b[39;00m\n\u001b[0;32m   2624\u001b[0m \u001b[38;5;124;03m    \"\"\"\u001b[39;00m\n\u001b[1;32m-> 2626\u001b[0m     y_type, y_true, y_pred \u001b[38;5;241m=\u001b[39m \u001b[43m_check_targets\u001b[49m\u001b[43m(\u001b[49m\u001b[43my_true\u001b[49m\u001b[43m,\u001b[49m\u001b[43m \u001b[49m\u001b[43my_pred\u001b[49m\u001b[43m)\u001b[49m\n\u001b[0;32m   2628\u001b[0m     \u001b[38;5;28;01mif\u001b[39;00m labels \u001b[38;5;129;01mis\u001b[39;00m \u001b[38;5;28;01mNone\u001b[39;00m:\n\u001b[0;32m   2629\u001b[0m         labels \u001b[38;5;241m=\u001b[39m unique_labels(y_true, y_pred)\n",
      "File \u001b[1;32m~\\AppData\\Local\\Packages\\PythonSoftwareFoundation.Python.3.10_qbz5n2kfra8p0\\LocalCache\\local-packages\\Python310\\site-packages\\sklearn\\metrics\\_classification.py:103\u001b[0m, in \u001b[0;36m_check_targets\u001b[1;34m(y_true, y_pred)\u001b[0m\n\u001b[0;32m     76\u001b[0m \u001b[38;5;250m\u001b[39m\u001b[38;5;124;03m\"\"\"Check that y_true and y_pred belong to the same classification task.\u001b[39;00m\n\u001b[0;32m     77\u001b[0m \n\u001b[0;32m     78\u001b[0m \u001b[38;5;124;03mThis converts multiclass or binary types to a common shape, and raises a\u001b[39;00m\n\u001b[1;32m   (...)\u001b[0m\n\u001b[0;32m    100\u001b[0m \u001b[38;5;124;03my_pred : array or indicator matrix\u001b[39;00m\n\u001b[0;32m    101\u001b[0m \u001b[38;5;124;03m\"\"\"\u001b[39;00m\n\u001b[0;32m    102\u001b[0m xp, _ \u001b[38;5;241m=\u001b[39m get_namespace(y_true, y_pred)\n\u001b[1;32m--> 103\u001b[0m \u001b[43mcheck_consistent_length\u001b[49m\u001b[43m(\u001b[49m\u001b[43my_true\u001b[49m\u001b[43m,\u001b[49m\u001b[43m \u001b[49m\u001b[43my_pred\u001b[49m\u001b[43m)\u001b[49m\n\u001b[0;32m    104\u001b[0m type_true \u001b[38;5;241m=\u001b[39m type_of_target(y_true, input_name\u001b[38;5;241m=\u001b[39m\u001b[38;5;124m\"\u001b[39m\u001b[38;5;124my_true\u001b[39m\u001b[38;5;124m\"\u001b[39m)\n\u001b[0;32m    105\u001b[0m type_pred \u001b[38;5;241m=\u001b[39m type_of_target(y_pred, input_name\u001b[38;5;241m=\u001b[39m\u001b[38;5;124m\"\u001b[39m\u001b[38;5;124my_pred\u001b[39m\u001b[38;5;124m\"\u001b[39m)\n",
      "File \u001b[1;32m~\\AppData\\Local\\Packages\\PythonSoftwareFoundation.Python.3.10_qbz5n2kfra8p0\\LocalCache\\local-packages\\Python310\\site-packages\\sklearn\\utils\\validation.py:457\u001b[0m, in \u001b[0;36mcheck_consistent_length\u001b[1;34m(*arrays)\u001b[0m\n\u001b[0;32m    455\u001b[0m uniques \u001b[38;5;241m=\u001b[39m np\u001b[38;5;241m.\u001b[39munique(lengths)\n\u001b[0;32m    456\u001b[0m \u001b[38;5;28;01mif\u001b[39;00m \u001b[38;5;28mlen\u001b[39m(uniques) \u001b[38;5;241m>\u001b[39m \u001b[38;5;241m1\u001b[39m:\n\u001b[1;32m--> 457\u001b[0m     \u001b[38;5;28;01mraise\u001b[39;00m \u001b[38;5;167;01mValueError\u001b[39;00m(\n\u001b[0;32m    458\u001b[0m         \u001b[38;5;124m\"\u001b[39m\u001b[38;5;124mFound input variables with inconsistent numbers of samples: \u001b[39m\u001b[38;5;132;01m%r\u001b[39;00m\u001b[38;5;124m\"\u001b[39m\n\u001b[0;32m    459\u001b[0m         \u001b[38;5;241m%\u001b[39m [\u001b[38;5;28mint\u001b[39m(l) \u001b[38;5;28;01mfor\u001b[39;00m l \u001b[38;5;129;01min\u001b[39;00m lengths]\n\u001b[0;32m    460\u001b[0m     )\n",
      "\u001b[1;31mValueError\u001b[0m: Found input variables with inconsistent numbers of samples: [6782, 3391]"
     ]
    }
   ],
   "source": [
    "# Get predicted probabilities for the test set\n",
    "y_pred_probs = model.predict([X_test_respeck, X_test_thingy])\n",
    "\n",
    "# Convert the predicted probabilities to class labels\n",
    "y_pred_classes = np.argmax(y_pred_probs, axis=1)\n",
    "\n",
    "# Convert the true test labels from one-hot encoding back to class labels\n",
    "y_true_classes_respeck = np.argmax(y_test_respeck_one_hot, axis=1)\n",
    "y_true_classes_thingy = np.argmax(y_test_thingy_one_hot, axis=1)\n",
    "\n",
    "# Combine the true classes from both sensors\n",
    "y_true_classes = np.concatenate([y_true_classes_respeck, y_true_classes_thingy])\n",
    "\n",
    "# Generate the classification report\n",
    "report = classification_report(y_true_classes, y_pred_classes, digits=4)\n",
    "print(report)"
   ]
  },
  {
   "cell_type": "markdown",
   "metadata": {
    "id": "3QXKh8ritRbw"
   },
   "source": [
    "As you can see from the model performance results, the classification performance isn't exactly impressive. For Coursework 3, your group should explore and experiment with various models, parameters, and techniques in order to improve your model's performance."
   ]
  },
  {
   "cell_type": "markdown",
   "metadata": {
    "id": "iHNzGOHDtnQ4"
   },
   "source": [
    "# Exporting your model to TFLite\n",
    "\n",
    "You can use the TFLiteConverter class provided by TensorFlow to convert your trained model into the TensorFlow Lite format. We export models to TensorFlow Lite (TFLite) for several reasons, primarily because TFLite is designed for deployment on edge devices, such as mobile phones, embedded systems, IoT devices, and microcontrollers, where computational resources and power are limited. This is necessary as you will be running your ML models on your Android devices to perform live classification."
   ]
  },
  {
   "cell_type": "code",
   "execution_count": null,
   "metadata": {
    "colab": {
     "base_uri": "https://localhost:8080/"
    },
    "id": "3_QKoJtmufDa",
    "outputId": "48d281ab-4ed3-4ee1-fd47-30f7f4c10b96"
   },
   "outputs": [],
   "source": [
    "# # Convert the trained Keras model to TensorFlow Lite format\n",
    "# converter = tf.lite.TFLiteConverter.from_keras_model(model)  # model is your trained Keras model\n",
    "# tflite_model = converter.convert()\n",
    "\n",
    "# # Save the converted model to a .tflite file\n",
    "# with open('model.tflite', 'wb') as f:\n",
    "#     f.write(tflite_model)\n",
    "\n",
    "# print(\"Model successfully exported to model.tflite\")"
   ]
  },
  {
   "cell_type": "code",
   "execution_count": null,
   "metadata": {},
   "outputs": [
    {
     "name": "stdout",
     "output_type": "stream",
     "text": [
      "INFO:tensorflow:Assets written to: C:\\Users\\nikit\\AppData\\Local\\Temp\\tmpdup5lgdv\\assets\n"
     ]
    },
    {
     "name": "stderr",
     "output_type": "stream",
     "text": [
      "INFO:tensorflow:Assets written to: C:\\Users\\nikit\\AppData\\Local\\Temp\\tmpdup5lgdv\\assets\n"
     ]
    },
    {
     "name": "stdout",
     "output_type": "stream",
     "text": [
      "Saved artifact at 'C:\\Users\\nikit\\AppData\\Local\\Temp\\tmpdup5lgdv'. The following endpoints are available:\n",
      "\n",
      "* Endpoint 'serve'\n",
      "  args_0 (POSITIONAL_ONLY): List[TensorSpec(shape=(None, 50, 3), dtype=tf.float32, name='respeck_input'), TensorSpec(shape=(None, 50, 3), dtype=tf.float32, name='thingy_input')]\n",
      "Output Type:\n",
      "  TensorSpec(shape=(None, 11), dtype=tf.float32, name=None)\n",
      "Captures:\n",
      "  2829544357408: TensorSpec(shape=(), dtype=tf.resource, name=None)\n",
      "  2829544352832: TensorSpec(shape=(), dtype=tf.resource, name=None)\n",
      "  2829667733520: TensorSpec(shape=(), dtype=tf.resource, name=None)\n",
      "  2829667744432: TensorSpec(shape=(), dtype=tf.resource, name=None)\n",
      "  2829572535072: TensorSpec(shape=(), dtype=tf.resource, name=None)\n",
      "  2829572531200: TensorSpec(shape=(), dtype=tf.resource, name=None)\n",
      "  2829503170512: TensorSpec(shape=(), dtype=tf.resource, name=None)\n",
      "  2829667731760: TensorSpec(shape=(), dtype=tf.resource, name=None)\n",
      "  2829572530320: TensorSpec(shape=(), dtype=tf.resource, name=None)\n",
      "  2829667929776: TensorSpec(shape=(), dtype=tf.resource, name=None)\n",
      "  2829667933296: TensorSpec(shape=(), dtype=tf.resource, name=None)\n",
      "  2829667931008: TensorSpec(shape=(), dtype=tf.resource, name=None)\n",
      "Model successfully exported to C:/Users/nikit/Documents/University/Year 4/PDIOT/CW3/models/breathing_model.tflite\n"
     ]
    }
   ],
   "source": [
    "# Convert the trained Keras model to TensorFlow Lite format\n",
    "try:\n",
    "    converter = tf.lite.TFLiteConverter.from_keras_model(model)  # 'model' is your trained Keras model\n",
    "    tflite_model = converter.convert()\n",
    "\n",
    "    # Specify the path where the .tflite model should be saved\n",
    "    tflite_model_path = 'C:/Users/nikit/Documents/University/Year 4/PDIOT/CW3/models/breathing_model.tflite'\n",
    "\n",
    "    # Save the converted model to the specified .tflite file\n",
    "    with open(tflite_model_path, 'wb') as f:\n",
    "        f.write(tflite_model)\n",
    "\n",
    "    print(f\"Model successfully exported to {tflite_model_path}\")\n",
    "\n",
    "except Exception as e:\n",
    "    print(f\"An error occurred during model export: {e}\")\n"
   ]
  },
  {
   "cell_type": "markdown",
   "metadata": {},
   "source": [
    "We would now like to look into the average accuraces of static and dynamic activities separately."
   ]
  },
  {
   "cell_type": "code",
   "execution_count": null,
   "metadata": {},
   "outputs": [],
   "source": [
    "static_activities = ['sittingStanding', 'lyingLeft', 'lyingRight', 'lyingBack', 'lyingStomach']\n",
    "dynamic_activities = ['normalWalking', 'ascending', 'descending', 'running', 'shuffleWalking', 'miscMovement']"
   ]
  },
  {
   "cell_type": "code",
   "execution_count": null,
   "metadata": {},
   "outputs": [
    {
     "name": "stdout",
     "output_type": "stream",
     "text": [
      "\u001b[1m107/107\u001b[0m \u001b[32m━━━━━━━━━━━━━━━━━━━━\u001b[0m\u001b[37m\u001b[0m \u001b[1m0s\u001b[0m 2ms/step\n"
     ]
    },
    {
     "ename": "IndexError",
     "evalue": "too many indices for array: array is 1-dimensional, but 2 were indexed",
     "output_type": "error",
     "traceback": [
      "\u001b[1;31m---------------------------------------------------------------------------\u001b[0m",
      "\u001b[1;31mIndexError\u001b[0m                                Traceback (most recent call last)",
      "Cell \u001b[1;32mIn[227], line 15\u001b[0m\n\u001b[0;32m     12\u001b[0m static_mask \u001b[38;5;241m=\u001b[39m np\u001b[38;5;241m.\u001b[39misin(activity_labels, static_activities)\n\u001b[0;32m     13\u001b[0m dynamic_mask \u001b[38;5;241m=\u001b[39m np\u001b[38;5;241m.\u001b[39misin(activity_labels, dynamic_activities)\n\u001b[1;32m---> 15\u001b[0m static_accuracy \u001b[38;5;241m=\u001b[39m accuracy_score(\u001b[43my_true_classes\u001b[49m\u001b[43m[\u001b[49m\u001b[43mstatic_mask\u001b[49m\u001b[43m]\u001b[49m, y_pred_classes[static_mask])\n\u001b[0;32m     16\u001b[0m dynamic_accuracy \u001b[38;5;241m=\u001b[39m accuracy_score(y_true_classes[dynamic_mask], y_pred_classes[dynamic_mask])\n\u001b[0;32m     17\u001b[0m overall_accuracy \u001b[38;5;241m=\u001b[39m accuracy_score(y_true_classes, y_pred_classes)\n",
      "\u001b[1;31mIndexError\u001b[0m: too many indices for array: array is 1-dimensional, but 2 were indexed"
     ]
    }
   ],
   "source": [
    "# Get predicted probabilities for the test set\n",
    "y_pred_probs = model.predict([X_test_respeck, X_test_thingy])\n",
    "y_pred_classes = np.argmax(y_pred_probs, axis=1)\n",
    "\n",
    "# Convert the true test labels from one-hot encoding back to class labels\n",
    "y_true_classes = np.argmax(y_test_one_hot, axis=1)  # Assuming Respeck and Thingy labels are the same\n",
    "\n",
    "# Get the original activity labels\n",
    "activity_labels = encoder.inverse_transform(y_test_one_hot)\n",
    "\n",
    "# Calculate accuracies for static and dynamic activities\n",
    "static_mask = np.isin(activity_labels, static_activities)\n",
    "dynamic_mask = np.isin(activity_labels, dynamic_activities)\n",
    "\n",
    "static_accuracy = accuracy_score(y_true_classes[static_mask], y_pred_classes[static_mask])\n",
    "dynamic_accuracy = accuracy_score(y_true_classes[dynamic_mask], y_pred_classes[dynamic_mask])\n",
    "overall_accuracy = accuracy_score(y_true_classes, y_pred_classes)\n",
    "\n",
    "# Print results\n",
    "print(f\"Overall Accuracy: {overall_accuracy:.4f}\")\n",
    "print(f\"Static Activities Accuracy: {static_accuracy:.4f}\")\n",
    "print(f\"Dynamic Activities Accuracy: {dynamic_accuracy:.4f}\")\n",
    "\n",
    "# Generate classification report\n",
    "print(\"\\nClassification Report:\")\n",
    "print(classification_report(y_true_classes, y_pred_classes, target_names=encoder.categories_[0]))\n",
    "\n",
    "# Calculate accuracies for each activity\n",
    "for activity in encoder.categories_[0]:\n",
    "    activity_mask = activity_labels == activity\n",
    "    activity_accuracy = accuracy_score(y_true_classes[activity_mask], y_pred_classes[activity_mask])\n",
    "    print(f\"{activity} Accuracy: {activity_accuracy:.4f}\")"
   ]
  },
  {
   "cell_type": "markdown",
   "metadata": {
    "id": "FGOj682D0PfS"
   },
   "source": [
    "# Good job!\n",
    "This is the end of Lab 3. In the next lab, you will focus on deploying your machine learning model onto your Android App in order to classify activities in real-time."
   ]
  }
 ],
 "metadata": {
  "colab": {
   "provenance": []
  },
  "kernelspec": {
   "display_name": "Python 3",
   "name": "python3"
  },
  "language_info": {
   "codemirror_mode": {
    "name": "ipython",
    "version": 3
   },
   "file_extension": ".py",
   "mimetype": "text/x-python",
   "name": "python",
   "nbconvert_exporter": "python",
   "pygments_lexer": "ipython3",
   "version": "3.10.11"
  }
 },
 "nbformat": 4,
 "nbformat_minor": 0
}
